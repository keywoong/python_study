{
 "cells": [
  {
   "cell_type": "markdown",
   "id": "6fd02c2d",
   "metadata": {},
   "source": [
    "### 1. 10.3과 10.7을 정수형으로 변환하고 덧셈하면 어떻게 될까?"
   ]
  },
  {
   "cell_type": "code",
   "execution_count": 2,
   "id": "3354e70d",
   "metadata": {},
   "outputs": [],
   "source": [
    "a = 10.3\n",
    "b = 10.7\n",
    "c = int(a) + int(b)"
   ]
  },
  {
   "cell_type": "code",
   "execution_count": 5,
   "id": "d1499aa6",
   "metadata": {},
   "outputs": [
    {
     "name": "stdout",
     "output_type": "stream",
     "text": [
      "20\n",
      "<class 'int'>\n"
     ]
    }
   ],
   "source": [
    "print(c)\n",
    "print(type(c))"
   ]
  },
  {
   "cell_type": "markdown",
   "id": "2ba3efff",
   "metadata": {},
   "source": [
    "### 2. 데이터형 변환 (정수형과 실수형)"
   ]
  },
  {
   "cell_type": "code",
   "execution_count": 7,
   "id": "e46e8c6e",
   "metadata": {},
   "outputs": [
    {
     "name": "stdout",
     "output_type": "stream",
     "text": [
      "76.3 <class 'str'>\n"
     ]
    },
    {
     "ename": "ValueError",
     "evalue": "invalid literal for int() with base 10: '76.3'",
     "output_type": "error",
     "traceback": [
      "\u001b[1;31m---------------------------------------------------------------------------\u001b[0m",
      "\u001b[1;31mValueError\u001b[0m                                Traceback (most recent call last)",
      "Input \u001b[1;32mIn [7]\u001b[0m, in \u001b[0;36m<cell line: 4>\u001b[1;34m()\u001b[0m\n\u001b[0;32m      2\u001b[0m b \u001b[38;5;241m=\u001b[39m \u001b[38;5;28mfloat\u001b[39m(a)\n\u001b[0;32m      3\u001b[0m \u001b[38;5;28mprint\u001b[39m(a,\u001b[38;5;28mtype\u001b[39m(a))\n\u001b[1;32m----> 4\u001b[0m c \u001b[38;5;241m=\u001b[39m \u001b[38;5;28;43mint\u001b[39;49m\u001b[43m(\u001b[49m\u001b[43ma\u001b[49m\u001b[43m)\u001b[49m\n\u001b[0;32m      5\u001b[0m \u001b[38;5;28mprint\u001b[39m(c,\u001b[38;5;28mtype\u001b[39m(c))\n",
      "\u001b[1;31mValueError\u001b[0m: invalid literal for int() with base 10: '76.3'"
     ]
    }
   ],
   "source": [
    "a = \"76.3\"\n",
    "b = float(a)\n",
    "print(a,type(a))\n",
    "c = int(a)\n",
    "print(c,type(c))"
   ]
  },
  {
   "cell_type": "code",
   "execution_count": 8,
   "id": "994419a7",
   "metadata": {},
   "outputs": [
    {
     "name": "stdout",
     "output_type": "stream",
     "text": [
      "76.3 <class 'str'>\n",
      "76.3 <class 'float'>\n"
     ]
    }
   ],
   "source": [
    "print(a,type(a))\n",
    "print(b, type(b))"
   ]
  },
  {
   "cell_type": "markdown",
   "id": "a3a63396",
   "metadata": {},
   "source": [
    "### 3. '/' 연산은 정수끼리 연산해도 실수로 나온다."
   ]
  },
  {
   "cell_type": "code",
   "execution_count": 9,
   "id": "972b1ad3",
   "metadata": {},
   "outputs": [
    {
     "name": "stdout",
     "output_type": "stream",
     "text": [
      "<class 'int'> <class 'int'> <class 'int'> <class 'float'>\n",
      "2.3333333333333335\n"
     ]
    }
   ],
   "source": [
    "a = int(7)\n",
    "b = int(3)\n",
    "\n",
    "c1 = a+b\n",
    "c2 = a-b\n",
    "c3 = a*b\n",
    "c4 = a/b\n",
    "\n",
    "print(type(c1),type(c2),type(c3),type(c4))\n",
    "print(c4)"
   ]
  },
  {
   "cell_type": "markdown",
   "id": "ebf524b7",
   "metadata": {},
   "source": [
    "### `4. %-format`\n",
    "데이터타입 부분 다시 체크\n",
    "<br>\n",
    "\"%datatype\" % (varable) 형태로 출력 양식으로 표현"
   ]
  },
  {
   "cell_type": "code",
   "execution_count": 11,
   "id": "6792f97f",
   "metadata": {},
   "outputs": [
    {
     "name": "stdout",
     "output_type": "stream",
     "text": [
      "I eat 3 apples.\n",
      "I eat five apples.\n",
      "I ate 3 apples. I was sick for three days\n",
      "Product : Apples, Price per unit : 5.243000.\n"
     ]
    }
   ],
   "source": [
    "print(\"I eat %d apples.\" %3)\n",
    "print(\"I eat %s apples.\" %\"five\")\n",
    "\n",
    "number = 3\n",
    "day = \"three\"\n",
    "print(\"I ate %d apples. I was sick for %s days\" %(number, day))\n",
    "print(\"Product : %s, Price per unit : %f.\" %(\"Apples\", 5.243))"
   ]
  },
  {
   "cell_type": "markdown",
   "id": "4f133be8",
   "metadata": {},
   "source": [
    "### 5. Slicing\n",
    "<br>\n",
    "- List의 값들을 잘라서 쓰는 것이 슬라이싱\n",
    "- List의 주소 값을 기반으로 부분 값을 반환"
   ]
  },
  {
   "cell_type": "code",
   "execution_count": 12,
   "id": "2b411aef",
   "metadata": {},
   "outputs": [
    {
     "name": "stdout",
     "output_type": "stream",
     "text": [
      "['서울', '부산', '인천', '대구', '대전', '광주']\n",
      "['서울', '부산', '인천', '대구', '대전', '광주', '울산', '수원']\n",
      "['서울', '부산', '인천', '대구', '대전', '광주', '울산', '수원']\n",
      "['서울', '인천', '대전', '울산']\n"
     ]
    }
   ],
   "source": [
    "cities = [\"서울\",\"부산\",\"인천\",\"대구\",\"대전\",\"광주\",\"울산\",\"수원\"]\n",
    "print(cities[0:6]) #서울, 부산, 인천, 대구, 대전\n",
    "print(cities[:]) #전체 다\n",
    "print(cities[-50:50]) # 전 범위 다\n",
    "print(cities[::2]) #처음부터 2칸씩, 서울, 인천, 대전, 울산"
   ]
  },
  {
   "cell_type": "markdown",
   "id": "c5a07f29",
   "metadata": {},
   "source": [
    "### `6. 리스트의 정렬`"
   ]
  },
  {
   "cell_type": "code",
   "execution_count": 13,
   "id": "c4805001",
   "metadata": {},
   "outputs": [
    {
     "name": "stdout",
     "output_type": "stream",
     "text": [
      "[1, 1, 3, 4, 5, 5, 6, 8, 8] [1, 1, 3, 4, 5, 5, 6, 8, 8]\n"
     ]
    }
   ],
   "source": [
    "unordered_list = [5,4,6,1,8,3,5,8,1] # 정렬되지 않은 리스트\n",
    "ordered_list = unordered_list\n",
    "ordered_list.sort()\n",
    "print(ordered_list, unordered_list)"
   ]
  },
  {
   "cell_type": "markdown",
   "id": "1fcd0f4d",
   "metadata": {},
   "source": [
    "왜인가?"
   ]
  },
  {
   "cell_type": "markdown",
   "id": "cf96c3b7",
   "metadata": {},
   "source": [
    "### 7. 다양한 Data type이 하나의 list에 들어감."
   ]
  },
  {
   "cell_type": "code",
   "execution_count": 15,
   "id": "9fb7fd2e",
   "metadata": {},
   "outputs": [
    {
     "name": "stdout",
     "output_type": "stream",
     "text": [
      "[['yellow', 'blue', 'green', 'black'], 'color', 1, 0.2]\n"
     ]
    }
   ],
   "source": [
    "a = [\"color\", 1, 0.2]\n",
    "color = [\"yellow\", \"blue\",\"green\",\"black\"]\n",
    "a.insert(0,color)\n",
    "print(a) # [[\"yellow\",\"blue\",\"green\",\"black\"],\"color\",1,0.2]"
   ]
  },
  {
   "cell_type": "code",
   "execution_count": 21,
   "id": "80e5ab15",
   "metadata": {},
   "outputs": [
    {
     "name": "stdout",
     "output_type": "stream",
     "text": [
      "['F', 'F', 'F', 'F', 'D', 'D', 'D', 'F', 'F', 'D', 'F']\n"
     ]
    }
   ],
   "source": [
    "score_ = [38,37,7,16,95,71,63,48,49,66,37]\n",
    "def grading(score):\n",
    "    if score >= 90:\n",
    "        grade = \"A\"\n",
    "    if score >= 80:\n",
    "        grade = \"B\"\n",
    "    if score >= 70:\n",
    "        grade = \"C\"\n",
    "    if score >= 60:\n",
    "        grade = \"D\"\n",
    "    if score < 60:\n",
    "        grade = \"F\"\n",
    "    return grade\n",
    "\n",
    "grade_ = []\n",
    "for i in score:\n",
    "    grade_.append(grading(i))\n",
    "print(grade_)"
   ]
  },
  {
   "cell_type": "markdown",
   "id": "46b5355d",
   "metadata": {},
   "source": [
    "### 8. break- 특정 조건에서 멈춤, continue- 특정 조건에서 남은 반복 명령 skip"
   ]
  },
  {
   "cell_type": "code",
   "execution_count": 22,
   "id": "3e19f99c",
   "metadata": {},
   "outputs": [
    {
     "name": "stdout",
     "output_type": "stream",
     "text": [
      "0\n",
      "1\n",
      "2\n",
      "3\n",
      "4\n",
      "EOP\n"
     ]
    }
   ],
   "source": [
    "for i in range(10):\n",
    "    if i==5:\n",
    "        break\n",
    "    print(i)\n",
    "print(\"EOP\")\n",
    "# 0,1,2,3,4,\"EOP\""
   ]
  },
  {
   "cell_type": "code",
   "execution_count": 23,
   "id": "86e2125a",
   "metadata": {},
   "outputs": [
    {
     "name": "stdout",
     "output_type": "stream",
     "text": [
      "0\n",
      "1\n",
      "2\n",
      "3\n",
      "4\n",
      "6\n",
      "7\n",
      "8\n",
      "9\n",
      "EOP\n"
     ]
    }
   ],
   "source": [
    "for i in range(10):\n",
    "    if i==5:\n",
    "        continue\n",
    "    print(i)\n",
    "print(\"EOP\")\n",
    "# 0,1,2,3,4,6,7,8,9,\"EOP\""
   ]
  },
  {
   "cell_type": "markdown",
   "id": "c1fe4bb5",
   "metadata": {},
   "source": [
    "### 9. Debugging\n",
    "- 코드의 오류를 발견하여 수정하는 과정\n",
    "- 오류의 원인을 알고 해결책을 찾아야 함.\n",
    "- <b> 문법적 에러</b>를 찾기 위한 에러 메시지 분석\n",
    "- <b> 논리적 에러</b>를 찾기 위한 테스트도 중요"
   ]
  },
  {
   "cell_type": "markdown",
   "id": "0b78ff2c",
   "metadata": {},
   "source": [
    "### 10. Parameter와 Return value\n",
    "\n",
    "| |파라미터 값 없음|파라미터 값 있음|\n",
    "|---|---|---|\n",
    "|리턴값 없음|함수 내의 수행문만 수행| 파라미터값을 사용해서 수행문만 수행|\n",
    "|리턴값 있음|파라미터값 없이 수행문 수행후 리턴값 반환|파라미터값을 이용해서 수행문 수행후 리턴값 반환|"
   ]
  },
  {
   "cell_type": "markdown",
   "id": "28d3ceb8",
   "metadata": {},
   "source": [
    "### `11. Passing arguments`"
   ]
  },
  {
   "cell_type": "code",
   "execution_count": 29,
   "id": "961b0d31",
   "metadata": {},
   "outputs": [
    {
     "name": "stdout",
     "output_type": "stream",
     "text": [
      "Hello Tom, My name is David\n"
     ]
    }
   ],
   "source": [
    "# Keyword arguments\n",
    "def keyword_arguments(my_name, your_name):\n",
    "    print(\"Hello {0}, My name is {1}\".format(your_name, my_name))\n",
    "keyword_arguments(\"David\",\"Tom\")"
   ]
  },
  {
   "cell_type": "code",
   "execution_count": 30,
   "id": "ed376a28",
   "metadata": {},
   "outputs": [
    {
     "name": "stdout",
     "output_type": "stream",
     "text": [
      "Hello kate, My name is David\n"
     ]
    }
   ],
   "source": [
    "# Default arguments\n",
    "def default_arguments(my_name, your_name = \"kate\"):\n",
    "    print(\"Hello {0}, My name is {1}\".format(your_name, my_name))\n",
    "default_arguments(\"David\")"
   ]
  },
  {
   "cell_type": "code",
   "execution_count": 31,
   "id": "1a968b40",
   "metadata": {},
   "outputs": [
    {
     "name": "stdout",
     "output_type": "stream",
     "text": [
      "15\n"
     ]
    }
   ],
   "source": [
    "#Variable-length arguments, 가변인자 using asterisk\n",
    "def variable_length_arguments(a,b,*args):\n",
    "    return a+b+sum(args)\n",
    "print(variable_length_arguments(1,2,3,4,5))"
   ]
  },
  {
   "cell_type": "markdown",
   "id": "944dd01c",
   "metadata": {},
   "source": [
    "### 12. PEP8 및 함수 작성 가이드라인 중에서 3가지 이상 작성\n",
    "<br>\n",
    "\n",
    "<b>PEP8 </b>\n",
    "- 들여쓰기 공백 4칸을 권장\n",
    "- 한 줄의 문자 길이는 최대 79자 까지\n",
    "- 불필요한 공백은 필요하는게 좋다\n",
    "- 소문자 l, 대문자 I, 대문자 O 사용금지\n",
    "- 함수명은 소문자로 구성\n",
    "<br>\n",
    "\n",
    "<b>함수 작성 가이드라인</b>\n",
    "- 함수는 가능하면 짧게 작성할 것\n",
    "- 함수 이름에 함수의 역할, 의도를 명확히 들어낼 것\n",
    "- 하나의 함수에는 유사한 역할을 하는 코드만 포함\n",
    "- 공통코드, 복잡한 수식은 함수로 작성"
   ]
  },
  {
   "cell_type": "markdown",
   "id": "42e0f3e8",
   "metadata": {},
   "source": [
    "### 13. String 특징\n",
    "- 문자열 연산 및 포함 여부 검사\n",
    "- 덧셈과 곱셈 연산 가능\n",
    "- in 명령으로 포함 여부 확인 가능"
   ]
  },
  {
   "cell_type": "code",
   "execution_count": 32,
   "id": "9abba64e",
   "metadata": {},
   "outputs": [
    {
     "name": "stdout",
     "output_type": "stream",
     "text": [
      "TEAM INCHEON\n",
      "TEAMTEAM INCHEONINCHEON\n",
      "TEAM\n"
     ]
    }
   ],
   "source": [
    "a = 'TEAM'\n",
    "b = 'INCHEON'\n",
    "print(a+' '+b) # 덧셈으로 a와 b의 변수 연결\n",
    "print(a*2 + ' '+ b*2) # 곱셈으로 반복 연산 가능\n",
    "\n",
    "if 'A' in a:\n",
    "    print(a)\n",
    "if 'B' in b:\n",
    "    print(b)"
   ]
  },
  {
   "cell_type": "markdown",
   "id": "740ea1fa",
   "metadata": {},
   "source": [
    "### 14. String 함수 : strip\n",
    "인수로 '$_-+'를 입력해서 이에 해당하는 문자열을 모두 삭제하라"
   ]
  },
  {
   "cell_type": "code",
   "execution_count": 33,
   "id": "c70b4bd4",
   "metadata": {},
   "outputs": [
    {
     "data": {
      "text/plain": [
       "'Here is another string that has unwanted characters.'"
      ]
     },
     "execution_count": 33,
     "metadata": {},
     "output_type": "execute_result"
    }
   ],
   "source": [
    "string4= \"$$Here is another string that has unwanted characters.__---++\"\n",
    "string4.strip('$_-+')"
   ]
  },
  {
   "cell_type": "markdown",
   "id": "a8c3d774",
   "metadata": {},
   "source": [
    "### 15. Pythonic Code\n",
    "- list comprehension\n",
    "<br>\n",
    "0부터 9까지의 숫자를 result라는 리스트로 만들고 싶음"
   ]
  },
  {
   "cell_type": "code",
   "execution_count": 34,
   "id": "4780596c",
   "metadata": {},
   "outputs": [
    {
     "data": {
      "text/plain": [
       "[0, 1, 2, 3, 4, 5, 6, 7, 8, 9]"
      ]
     },
     "execution_count": 34,
     "metadata": {},
     "output_type": "execute_result"
    }
   ],
   "source": [
    "result = []\n",
    "for i in range(10):\n",
    "    result.append(i)\n",
    "result"
   ]
  },
  {
   "cell_type": "code",
   "execution_count": 35,
   "id": "bfb91c9f",
   "metadata": {},
   "outputs": [
    {
     "data": {
      "text/plain": [
       "[0, 1, 2, 3, 4, 5, 6, 7, 8, 9]"
      ]
     },
     "execution_count": 35,
     "metadata": {},
     "output_type": "execute_result"
    }
   ],
   "source": [
    "result1 = [i for i in range(10)]\n",
    "result1"
   ]
  },
  {
   "cell_type": "code",
   "execution_count": 36,
   "id": "18a03ab7",
   "metadata": {},
   "outputs": [
    {
     "data": {
      "text/plain": [
       "['AD', 'AE', 'BD', 'BE', 'BA', 'CD', 'CE', 'CA']"
      ]
     },
     "execution_count": 36,
     "metadata": {},
     "output_type": "execute_result"
    }
   ],
   "source": [
    "case_1 = [\"A\",\"B\",\"C\"]\n",
    "case_2 = [\"D\",\"E\",\"A\"]\n",
    "result = []\n",
    "for i in case_1:\n",
    "    for j in case_2:\n",
    "        if not i == j:\n",
    "            result.append(i+j)\n",
    "result # [\"AD\",\"AE\",\"BD\",\"BE\",\"BA\",\"CD\",\"CE\",\"CA\"]"
   ]
  },
  {
   "cell_type": "code",
   "execution_count": 37,
   "id": "bfa503ba",
   "metadata": {},
   "outputs": [
    {
     "data": {
      "text/plain": [
       "['AD', 'AE', 'BD', 'BE', 'BA', 'CD', 'CE', 'CA']"
      ]
     },
     "execution_count": 37,
     "metadata": {},
     "output_type": "execute_result"
    }
   ],
   "source": [
    "case_1 = [\"A\",\"B\",\"C\"]\n",
    "case_2 = [\"D\",\"E\",\"A\"]\n",
    "result = [i+j for i in case_1 for j in case_2 if not i==j]\n",
    "result # [\"AD\",\"AE\",\"BD\",\"BE\",\"BA\",\"CD\",\"CE\",\"CA\"]"
   ]
  },
  {
   "cell_type": "markdown",
   "id": "dd78a00a",
   "metadata": {},
   "source": [
    "### `16. Exception Handling`\n",
    "- Built in Exception : 기본적으로 제공하는 예외\n",
    "\n",
    "|Exception 이름|내용|\n",
    "|---|---|\n",
    "|IndexError|List의 index 범위를 넘어갈 때|\n",
    "|NameError|존재하지 않은 변수를 호출할 때|\n",
    "|ZeroDivisionError|0으로 숫자를 나눌 때|\n",
    "|ValueError|변환할 수 없는 문자/숫자를 변환할 때|\n",
    "|FileNotFoundError|존재하지 않는 파일을 호출할 때|"
   ]
  },
  {
   "cell_type": "markdown",
   "id": "449b0e08",
   "metadata": {},
   "source": [
    "### 17. OOP(Object Oriented Programming)\n",
    "- 프로그램을 여러 명이 개발할 경우, 코드를 어떻게 작성해야 할까?\n",
    "- 만들어 놓은 코드를 재사용하고 싶을 땐 어떡할까?\n",
    "<br>\n",
    "\n",
    "- 프로그램을 기능 별로 나누어 재사용하는 방법\n",
    "1. 함수\n",
    "2. 객체\n",
    "3. 모듈"
   ]
  },
  {
   "cell_type": "markdown",
   "id": "fc4c4f0d",
   "metadata": {},
   "source": [
    "### 18. 상속\n",
    "- 부모 클래스로부터 Attribute와 Method를 물려받은 자식 클래스를 생성하는 것"
   ]
  },
  {
   "cell_type": "code",
   "execution_count": 40,
   "id": "79b98dbd",
   "metadata": {},
   "outputs": [],
   "source": [
    "class Person(object):\n",
    "    def __init__ (self, name, age):\n",
    "        self.name = name\n",
    "        self.age = age\n",
    "    def about_me(self):\n",
    "        print(f'저의 이름은 {self.name}이고, 제 나이는 {self.age}살 입니다.')"
   ]
  },
  {
   "cell_type": "code",
   "execution_count": 43,
   "id": "5e5c5013",
   "metadata": {},
   "outputs": [],
   "source": [
    "class Employee(Person):\n",
    "    def __init__(self, name, age, salary, hire_date):\n",
    "        super().__init__(name, age)\n",
    "        self.salary = salary\n",
    "        self.hire_data = hire_data\n",
    "    def do_work(self):\n",
    "        print('뽑아주셔서 감사합니다. 열심히 일하겠습니다.')\n",
    "    \n",
    "    def about_me(self):\n",
    "        super().about_me()\n",
    "        print(f'제 급여는 {self.salary}원 이고, 제 입사일은 {self.hire_date}입니다.')"
   ]
  },
  {
   "cell_type": "markdown",
   "id": "f873a74e",
   "metadata": {},
   "source": [
    "### 19. 선형대수\n",
    "- 앞 matrix의 행과 뒤  matrix의 열을 dot product\n",
    "- 이때, 앞 matrix의 열의 수와 뒤 matrix의 행의 수가 동일해야 함."
   ]
  },
  {
   "cell_type": "code",
   "execution_count": 45,
   "id": "2245d1c8",
   "metadata": {},
   "outputs": [
    {
     "data": {
      "text/plain": [
       "array([[ 58,  64],\n",
       "       [139, 154]])"
      ]
     },
     "execution_count": 45,
     "metadata": {},
     "output_type": "execute_result"
    }
   ],
   "source": [
    "import numpy as np\n",
    "a = np.array([\n",
    "    [1,2,3],\n",
    "    [4,5,6]\n",
    "])\n",
    "b = np.array([\n",
    "    [7,9,11],\n",
    "    [8,10,12]\n",
    "])\n",
    "\n",
    "c = np.dot(a,b.T)\n",
    "c"
   ]
  },
  {
   "cell_type": "code",
   "execution_count": 46,
   "id": "b1f26564",
   "metadata": {},
   "outputs": [
    {
     "data": {
      "text/plain": [
       "array([[ 1.],\n",
       "       [-1.],\n",
       "       [ 2.]])"
      ]
     },
     "execution_count": 46,
     "metadata": {},
     "output_type": "execute_result"
    }
   ],
   "source": [
    "matrix_a = np.array([\n",
    "    [1,2,3],\n",
    "    [2,5,3],\n",
    "    [1,0,8]\n",
    "])\n",
    "\n",
    "matrix_a_inverse = np.linalg.inv(matrix_a)\n",
    "\n",
    "matrix_b = np.array([\n",
    "    [5],[3],[17]\n",
    "])\n",
    "\n",
    "x = np.dot(matrix_a_inverse, matrix_b)\n",
    "x"
   ]
  },
  {
   "cell_type": "code",
   "execution_count": 47,
   "id": "5038bc02",
   "metadata": {},
   "outputs": [
    {
     "data": {
      "text/plain": [
       "array([[ 1.],\n",
       "       [-1.],\n",
       "       [ 2.]])"
      ]
     },
     "execution_count": 47,
     "metadata": {},
     "output_type": "execute_result"
    }
   ],
   "source": [
    "matrix_a = np.array([\n",
    "    [1,2,3],\n",
    "    [2,5,3],\n",
    "    [1,0,8]\n",
    "])\n",
    "\n",
    "matrix_b = np.array([\n",
    "    [5],[3],[17]\n",
    "])\n",
    "\n",
    "x = np.linalg.solve(matrix_a, matrix_b)\n",
    "x"
   ]
  },
  {
   "cell_type": "markdown",
   "id": "946302da",
   "metadata": {},
   "source": [
    "### `20. Numpy를 이용한 동력계 문제 해결`"
   ]
  },
  {
   "cell_type": "code",
   "execution_count": 72,
   "id": "009bc9f4",
   "metadata": {},
   "outputs": [],
   "source": [
    "# t년후\n",
    "def x(t):\n",
    "    matrix_a = np.array([\n",
    "        [0.8,0.1],\n",
    "        [0.2,0.9]\n",
    "    ])\n",
    "    \n",
    "    init_vector = np.array([0.5,0.5])\n",
    "    if t ==0:\n",
    "        return init_vector\n",
    "    else:\n",
    "        x = init_vector\n",
    "        for i in range(t):\n",
    "            x = matrix_a.dot(x) ## x = np.dot()하면 안됨.\n",
    "            result = x\n",
    "        return result"
   ]
  },
  {
   "cell_type": "code",
   "execution_count": 73,
   "id": "7a162066",
   "metadata": {},
   "outputs": [
    {
     "name": "stdout",
     "output_type": "stream",
     "text": [
      "초기의 각 채널의 점유율 :  [0.5 0.5]\n",
      "1년 후 각 채널의 점유율 :  [0.45 0.55]\n",
      "2년 후 각 채널의 점유율 :  [0.415 0.585]\n",
      "5년 후 각 채널의 점유율 :  [0.361345 0.638655]\n",
      "100년 후 각 채널의 점유율 :  [0.33333333 0.66666667]\n"
     ]
    }
   ],
   "source": [
    "print('초기의 각 채널의 점유율 : ', x(0))\n",
    "print('1년 후 각 채널의 점유율 : ', x(1))\n",
    "print('2년 후 각 채널의 점유율 : ', x(2))\n",
    "print('5년 후 각 채널의 점유율 : ', x(5))\n",
    "print('100년 후 각 채널의 점유율 : ', x(100))"
   ]
  },
  {
   "cell_type": "markdown",
   "id": "7e31c824",
   "metadata": {},
   "source": [
    "### `21. 특정 UnitNumber의 요약정보를 보고 싶을 땐 어떡할까?`"
   ]
  },
  {
   "cell_type": "code",
   "execution_count": 94,
   "id": "6dbead0b",
   "metadata": {},
   "outputs": [
    {
     "data": {
      "text/html": [
       "<div>\n",
       "<style scoped>\n",
       "    .dataframe tbody tr th:only-of-type {\n",
       "        vertical-align: middle;\n",
       "    }\n",
       "\n",
       "    .dataframe tbody tr th {\n",
       "        vertical-align: top;\n",
       "    }\n",
       "\n",
       "    .dataframe thead th {\n",
       "        text-align: right;\n",
       "    }\n",
       "</style>\n",
       "<table border=\"1\" class=\"dataframe\">\n",
       "  <thead>\n",
       "    <tr style=\"text-align: right;\">\n",
       "      <th></th>\n",
       "      <th>0</th>\n",
       "      <th>1</th>\n",
       "      <th>2</th>\n",
       "      <th>3</th>\n",
       "      <th>4</th>\n",
       "      <th>5</th>\n",
       "      <th>6</th>\n",
       "      <th>7</th>\n",
       "      <th>8</th>\n",
       "      <th>9</th>\n",
       "      <th>...</th>\n",
       "      <th>18</th>\n",
       "      <th>19</th>\n",
       "      <th>20</th>\n",
       "      <th>21</th>\n",
       "      <th>22</th>\n",
       "      <th>23</th>\n",
       "      <th>24</th>\n",
       "      <th>25</th>\n",
       "      <th>26</th>\n",
       "      <th>27</th>\n",
       "    </tr>\n",
       "  </thead>\n",
       "  <tbody>\n",
       "    <tr>\n",
       "      <th>0</th>\n",
       "      <td>1</td>\n",
       "      <td>1</td>\n",
       "      <td>0.0023</td>\n",
       "      <td>0.0003</td>\n",
       "      <td>100.0</td>\n",
       "      <td>518.67</td>\n",
       "      <td>643.02</td>\n",
       "      <td>1585.29</td>\n",
       "      <td>1398.21</td>\n",
       "      <td>14.62</td>\n",
       "      <td>...</td>\n",
       "      <td>8125.55</td>\n",
       "      <td>8.4052</td>\n",
       "      <td>0.03</td>\n",
       "      <td>392</td>\n",
       "      <td>2388</td>\n",
       "      <td>100.0</td>\n",
       "      <td>38.86</td>\n",
       "      <td>23.3735</td>\n",
       "      <td>NaN</td>\n",
       "      <td>NaN</td>\n",
       "    </tr>\n",
       "    <tr>\n",
       "      <th>1</th>\n",
       "      <td>1</td>\n",
       "      <td>2</td>\n",
       "      <td>-0.0027</td>\n",
       "      <td>-0.0003</td>\n",
       "      <td>100.0</td>\n",
       "      <td>518.67</td>\n",
       "      <td>641.71</td>\n",
       "      <td>1588.45</td>\n",
       "      <td>1395.42</td>\n",
       "      <td>14.62</td>\n",
       "      <td>...</td>\n",
       "      <td>8139.62</td>\n",
       "      <td>8.3803</td>\n",
       "      <td>0.03</td>\n",
       "      <td>393</td>\n",
       "      <td>2388</td>\n",
       "      <td>100.0</td>\n",
       "      <td>39.02</td>\n",
       "      <td>23.3916</td>\n",
       "      <td>NaN</td>\n",
       "      <td>NaN</td>\n",
       "    </tr>\n",
       "    <tr>\n",
       "      <th>2</th>\n",
       "      <td>1</td>\n",
       "      <td>3</td>\n",
       "      <td>0.0003</td>\n",
       "      <td>0.0001</td>\n",
       "      <td>100.0</td>\n",
       "      <td>518.67</td>\n",
       "      <td>642.46</td>\n",
       "      <td>1586.94</td>\n",
       "      <td>1401.34</td>\n",
       "      <td>14.62</td>\n",
       "      <td>...</td>\n",
       "      <td>8130.10</td>\n",
       "      <td>8.4441</td>\n",
       "      <td>0.03</td>\n",
       "      <td>393</td>\n",
       "      <td>2388</td>\n",
       "      <td>100.0</td>\n",
       "      <td>39.08</td>\n",
       "      <td>23.4166</td>\n",
       "      <td>NaN</td>\n",
       "      <td>NaN</td>\n",
       "    </tr>\n",
       "    <tr>\n",
       "      <th>3</th>\n",
       "      <td>1</td>\n",
       "      <td>4</td>\n",
       "      <td>0.0042</td>\n",
       "      <td>0.0000</td>\n",
       "      <td>100.0</td>\n",
       "      <td>518.67</td>\n",
       "      <td>642.44</td>\n",
       "      <td>1584.12</td>\n",
       "      <td>1406.42</td>\n",
       "      <td>14.62</td>\n",
       "      <td>...</td>\n",
       "      <td>8132.90</td>\n",
       "      <td>8.3917</td>\n",
       "      <td>0.03</td>\n",
       "      <td>391</td>\n",
       "      <td>2388</td>\n",
       "      <td>100.0</td>\n",
       "      <td>39.00</td>\n",
       "      <td>23.3737</td>\n",
       "      <td>NaN</td>\n",
       "      <td>NaN</td>\n",
       "    </tr>\n",
       "    <tr>\n",
       "      <th>4</th>\n",
       "      <td>1</td>\n",
       "      <td>5</td>\n",
       "      <td>0.0014</td>\n",
       "      <td>0.0000</td>\n",
       "      <td>100.0</td>\n",
       "      <td>518.67</td>\n",
       "      <td>642.51</td>\n",
       "      <td>1587.19</td>\n",
       "      <td>1401.92</td>\n",
       "      <td>14.62</td>\n",
       "      <td>...</td>\n",
       "      <td>8129.54</td>\n",
       "      <td>8.4031</td>\n",
       "      <td>0.03</td>\n",
       "      <td>390</td>\n",
       "      <td>2388</td>\n",
       "      <td>100.0</td>\n",
       "      <td>38.99</td>\n",
       "      <td>23.4130</td>\n",
       "      <td>NaN</td>\n",
       "      <td>NaN</td>\n",
       "    </tr>\n",
       "  </tbody>\n",
       "</table>\n",
       "<p>5 rows × 28 columns</p>\n",
       "</div>"
      ],
      "text/plain": [
       "   0   1       2       3      4       5       6        7        8      9   \\\n",
       "0   1   1  0.0023  0.0003  100.0  518.67  643.02  1585.29  1398.21  14.62   \n",
       "1   1   2 -0.0027 -0.0003  100.0  518.67  641.71  1588.45  1395.42  14.62   \n",
       "2   1   3  0.0003  0.0001  100.0  518.67  642.46  1586.94  1401.34  14.62   \n",
       "3   1   4  0.0042  0.0000  100.0  518.67  642.44  1584.12  1406.42  14.62   \n",
       "4   1   5  0.0014  0.0000  100.0  518.67  642.51  1587.19  1401.92  14.62   \n",
       "\n",
       "   ...       18      19    20   21    22     23     24       25  26  27  \n",
       "0  ...  8125.55  8.4052  0.03  392  2388  100.0  38.86  23.3735 NaN NaN  \n",
       "1  ...  8139.62  8.3803  0.03  393  2388  100.0  39.02  23.3916 NaN NaN  \n",
       "2  ...  8130.10  8.4441  0.03  393  2388  100.0  39.08  23.4166 NaN NaN  \n",
       "3  ...  8132.90  8.3917  0.03  391  2388  100.0  39.00  23.3737 NaN NaN  \n",
       "4  ...  8129.54  8.4031  0.03  390  2388  100.0  38.99  23.4130 NaN NaN  \n",
       "\n",
       "[5 rows x 28 columns]"
      ]
     },
     "execution_count": 94,
     "metadata": {},
     "output_type": "execute_result"
    }
   ],
   "source": [
    "import pandas as pd\n",
    "\n",
    "data = pd.read_csv('pandas/datasets/CMAPSS.txt', sep = ' ', header = None, encoding = 'cp949')\n",
    "data.head()"
   ]
  },
  {
   "cell_type": "code",
   "execution_count": 95,
   "id": "403959d1",
   "metadata": {},
   "outputs": [
    {
     "data": {
      "text/html": [
       "<div>\n",
       "<style scoped>\n",
       "    .dataframe tbody tr th:only-of-type {\n",
       "        vertical-align: middle;\n",
       "    }\n",
       "\n",
       "    .dataframe tbody tr th {\n",
       "        vertical-align: top;\n",
       "    }\n",
       "\n",
       "    .dataframe thead th {\n",
       "        text-align: right;\n",
       "    }\n",
       "</style>\n",
       "<table border=\"1\" class=\"dataframe\">\n",
       "  <thead>\n",
       "    <tr style=\"text-align: right;\">\n",
       "      <th></th>\n",
       "      <th>0</th>\n",
       "      <th>1</th>\n",
       "      <th>2</th>\n",
       "      <th>3</th>\n",
       "      <th>4</th>\n",
       "      <th>5</th>\n",
       "      <th>6</th>\n",
       "      <th>7</th>\n",
       "      <th>8</th>\n",
       "      <th>9</th>\n",
       "      <th>...</th>\n",
       "      <th>16</th>\n",
       "      <th>17</th>\n",
       "      <th>18</th>\n",
       "      <th>19</th>\n",
       "      <th>20</th>\n",
       "      <th>21</th>\n",
       "      <th>22</th>\n",
       "      <th>23</th>\n",
       "      <th>24</th>\n",
       "      <th>25</th>\n",
       "    </tr>\n",
       "  </thead>\n",
       "  <tbody>\n",
       "    <tr>\n",
       "      <th>0</th>\n",
       "      <td>1</td>\n",
       "      <td>1</td>\n",
       "      <td>0.0023</td>\n",
       "      <td>0.0003</td>\n",
       "      <td>100.0</td>\n",
       "      <td>518.67</td>\n",
       "      <td>643.02</td>\n",
       "      <td>1585.29</td>\n",
       "      <td>1398.21</td>\n",
       "      <td>14.62</td>\n",
       "      <td>...</td>\n",
       "      <td>521.72</td>\n",
       "      <td>2388.03</td>\n",
       "      <td>8125.55</td>\n",
       "      <td>8.4052</td>\n",
       "      <td>0.03</td>\n",
       "      <td>392</td>\n",
       "      <td>2388</td>\n",
       "      <td>100.0</td>\n",
       "      <td>38.86</td>\n",
       "      <td>23.3735</td>\n",
       "    </tr>\n",
       "    <tr>\n",
       "      <th>1</th>\n",
       "      <td>1</td>\n",
       "      <td>2</td>\n",
       "      <td>-0.0027</td>\n",
       "      <td>-0.0003</td>\n",
       "      <td>100.0</td>\n",
       "      <td>518.67</td>\n",
       "      <td>641.71</td>\n",
       "      <td>1588.45</td>\n",
       "      <td>1395.42</td>\n",
       "      <td>14.62</td>\n",
       "      <td>...</td>\n",
       "      <td>522.16</td>\n",
       "      <td>2388.06</td>\n",
       "      <td>8139.62</td>\n",
       "      <td>8.3803</td>\n",
       "      <td>0.03</td>\n",
       "      <td>393</td>\n",
       "      <td>2388</td>\n",
       "      <td>100.0</td>\n",
       "      <td>39.02</td>\n",
       "      <td>23.3916</td>\n",
       "    </tr>\n",
       "    <tr>\n",
       "      <th>2</th>\n",
       "      <td>1</td>\n",
       "      <td>3</td>\n",
       "      <td>0.0003</td>\n",
       "      <td>0.0001</td>\n",
       "      <td>100.0</td>\n",
       "      <td>518.67</td>\n",
       "      <td>642.46</td>\n",
       "      <td>1586.94</td>\n",
       "      <td>1401.34</td>\n",
       "      <td>14.62</td>\n",
       "      <td>...</td>\n",
       "      <td>521.97</td>\n",
       "      <td>2388.03</td>\n",
       "      <td>8130.10</td>\n",
       "      <td>8.4441</td>\n",
       "      <td>0.03</td>\n",
       "      <td>393</td>\n",
       "      <td>2388</td>\n",
       "      <td>100.0</td>\n",
       "      <td>39.08</td>\n",
       "      <td>23.4166</td>\n",
       "    </tr>\n",
       "    <tr>\n",
       "      <th>3</th>\n",
       "      <td>1</td>\n",
       "      <td>4</td>\n",
       "      <td>0.0042</td>\n",
       "      <td>0.0000</td>\n",
       "      <td>100.0</td>\n",
       "      <td>518.67</td>\n",
       "      <td>642.44</td>\n",
       "      <td>1584.12</td>\n",
       "      <td>1406.42</td>\n",
       "      <td>14.62</td>\n",
       "      <td>...</td>\n",
       "      <td>521.38</td>\n",
       "      <td>2388.05</td>\n",
       "      <td>8132.90</td>\n",
       "      <td>8.3917</td>\n",
       "      <td>0.03</td>\n",
       "      <td>391</td>\n",
       "      <td>2388</td>\n",
       "      <td>100.0</td>\n",
       "      <td>39.00</td>\n",
       "      <td>23.3737</td>\n",
       "    </tr>\n",
       "    <tr>\n",
       "      <th>4</th>\n",
       "      <td>1</td>\n",
       "      <td>5</td>\n",
       "      <td>0.0014</td>\n",
       "      <td>0.0000</td>\n",
       "      <td>100.0</td>\n",
       "      <td>518.67</td>\n",
       "      <td>642.51</td>\n",
       "      <td>1587.19</td>\n",
       "      <td>1401.92</td>\n",
       "      <td>14.62</td>\n",
       "      <td>...</td>\n",
       "      <td>522.15</td>\n",
       "      <td>2388.03</td>\n",
       "      <td>8129.54</td>\n",
       "      <td>8.4031</td>\n",
       "      <td>0.03</td>\n",
       "      <td>390</td>\n",
       "      <td>2388</td>\n",
       "      <td>100.0</td>\n",
       "      <td>38.99</td>\n",
       "      <td>23.4130</td>\n",
       "    </tr>\n",
       "  </tbody>\n",
       "</table>\n",
       "<p>5 rows × 26 columns</p>\n",
       "</div>"
      ],
      "text/plain": [
       "   0   1       2       3      4       5       6        7        8      9   \\\n",
       "0   1   1  0.0023  0.0003  100.0  518.67  643.02  1585.29  1398.21  14.62   \n",
       "1   1   2 -0.0027 -0.0003  100.0  518.67  641.71  1588.45  1395.42  14.62   \n",
       "2   1   3  0.0003  0.0001  100.0  518.67  642.46  1586.94  1401.34  14.62   \n",
       "3   1   4  0.0042  0.0000  100.0  518.67  642.44  1584.12  1406.42  14.62   \n",
       "4   1   5  0.0014  0.0000  100.0  518.67  642.51  1587.19  1401.92  14.62   \n",
       "\n",
       "   ...      16       17       18      19    20   21    22     23     24  \\\n",
       "0  ...  521.72  2388.03  8125.55  8.4052  0.03  392  2388  100.0  38.86   \n",
       "1  ...  522.16  2388.06  8139.62  8.3803  0.03  393  2388  100.0  39.02   \n",
       "2  ...  521.97  2388.03  8130.10  8.4441  0.03  393  2388  100.0  39.08   \n",
       "3  ...  521.38  2388.05  8132.90  8.3917  0.03  391  2388  100.0  39.00   \n",
       "4  ...  522.15  2388.03  8129.54  8.4031  0.03  390  2388  100.0  38.99   \n",
       "\n",
       "        25  \n",
       "0  23.3735  \n",
       "1  23.3916  \n",
       "2  23.4166  \n",
       "3  23.3737  \n",
       "4  23.4130  \n",
       "\n",
       "[5 rows x 26 columns]"
      ]
     },
     "execution_count": 95,
     "metadata": {},
     "output_type": "execute_result"
    }
   ],
   "source": [
    "data.drop([26,27], axis = 1, inplace = True)\n",
    "data.head()"
   ]
  },
  {
   "cell_type": "code",
   "execution_count": 96,
   "id": "e06f37b8",
   "metadata": {},
   "outputs": [
    {
     "data": {
      "text/html": [
       "<div>\n",
       "<style scoped>\n",
       "    .dataframe tbody tr th:only-of-type {\n",
       "        vertical-align: middle;\n",
       "    }\n",
       "\n",
       "    .dataframe tbody tr th {\n",
       "        vertical-align: top;\n",
       "    }\n",
       "\n",
       "    .dataframe thead th {\n",
       "        text-align: right;\n",
       "    }\n",
       "</style>\n",
       "<table border=\"1\" class=\"dataframe\">\n",
       "  <thead>\n",
       "    <tr style=\"text-align: right;\">\n",
       "      <th></th>\n",
       "      <th>UnitNumber</th>\n",
       "      <th>Cycle</th>\n",
       "      <th>Op_Setting_1</th>\n",
       "      <th>Op_Setting_2</th>\n",
       "      <th>Op_Setting_3</th>\n",
       "      <th>Sensor_1</th>\n",
       "      <th>Sensor_2</th>\n",
       "      <th>Sensor_3</th>\n",
       "      <th>Sensor_4</th>\n",
       "      <th>Sensor_5</th>\n",
       "      <th>...</th>\n",
       "      <th>Sensor_12</th>\n",
       "      <th>Sensor_13</th>\n",
       "      <th>Sensor_14</th>\n",
       "      <th>Sensor_15</th>\n",
       "      <th>Sensor_16</th>\n",
       "      <th>Sensor_17</th>\n",
       "      <th>Sensor_18</th>\n",
       "      <th>Sensor_19</th>\n",
       "      <th>Sensor_20</th>\n",
       "      <th>Sensor_21</th>\n",
       "    </tr>\n",
       "  </thead>\n",
       "  <tbody>\n",
       "    <tr>\n",
       "      <th>0</th>\n",
       "      <td>1</td>\n",
       "      <td>1</td>\n",
       "      <td>0.0023</td>\n",
       "      <td>0.0003</td>\n",
       "      <td>100.0</td>\n",
       "      <td>518.67</td>\n",
       "      <td>643.02</td>\n",
       "      <td>1585.29</td>\n",
       "      <td>1398.21</td>\n",
       "      <td>14.62</td>\n",
       "      <td>...</td>\n",
       "      <td>521.72</td>\n",
       "      <td>2388.03</td>\n",
       "      <td>8125.55</td>\n",
       "      <td>8.4052</td>\n",
       "      <td>0.03</td>\n",
       "      <td>392</td>\n",
       "      <td>2388</td>\n",
       "      <td>100.0</td>\n",
       "      <td>38.86</td>\n",
       "      <td>23.3735</td>\n",
       "    </tr>\n",
       "    <tr>\n",
       "      <th>1</th>\n",
       "      <td>1</td>\n",
       "      <td>2</td>\n",
       "      <td>-0.0027</td>\n",
       "      <td>-0.0003</td>\n",
       "      <td>100.0</td>\n",
       "      <td>518.67</td>\n",
       "      <td>641.71</td>\n",
       "      <td>1588.45</td>\n",
       "      <td>1395.42</td>\n",
       "      <td>14.62</td>\n",
       "      <td>...</td>\n",
       "      <td>522.16</td>\n",
       "      <td>2388.06</td>\n",
       "      <td>8139.62</td>\n",
       "      <td>8.3803</td>\n",
       "      <td>0.03</td>\n",
       "      <td>393</td>\n",
       "      <td>2388</td>\n",
       "      <td>100.0</td>\n",
       "      <td>39.02</td>\n",
       "      <td>23.3916</td>\n",
       "    </tr>\n",
       "    <tr>\n",
       "      <th>2</th>\n",
       "      <td>1</td>\n",
       "      <td>3</td>\n",
       "      <td>0.0003</td>\n",
       "      <td>0.0001</td>\n",
       "      <td>100.0</td>\n",
       "      <td>518.67</td>\n",
       "      <td>642.46</td>\n",
       "      <td>1586.94</td>\n",
       "      <td>1401.34</td>\n",
       "      <td>14.62</td>\n",
       "      <td>...</td>\n",
       "      <td>521.97</td>\n",
       "      <td>2388.03</td>\n",
       "      <td>8130.10</td>\n",
       "      <td>8.4441</td>\n",
       "      <td>0.03</td>\n",
       "      <td>393</td>\n",
       "      <td>2388</td>\n",
       "      <td>100.0</td>\n",
       "      <td>39.08</td>\n",
       "      <td>23.4166</td>\n",
       "    </tr>\n",
       "    <tr>\n",
       "      <th>3</th>\n",
       "      <td>1</td>\n",
       "      <td>4</td>\n",
       "      <td>0.0042</td>\n",
       "      <td>0.0000</td>\n",
       "      <td>100.0</td>\n",
       "      <td>518.67</td>\n",
       "      <td>642.44</td>\n",
       "      <td>1584.12</td>\n",
       "      <td>1406.42</td>\n",
       "      <td>14.62</td>\n",
       "      <td>...</td>\n",
       "      <td>521.38</td>\n",
       "      <td>2388.05</td>\n",
       "      <td>8132.90</td>\n",
       "      <td>8.3917</td>\n",
       "      <td>0.03</td>\n",
       "      <td>391</td>\n",
       "      <td>2388</td>\n",
       "      <td>100.0</td>\n",
       "      <td>39.00</td>\n",
       "      <td>23.3737</td>\n",
       "    </tr>\n",
       "    <tr>\n",
       "      <th>4</th>\n",
       "      <td>1</td>\n",
       "      <td>5</td>\n",
       "      <td>0.0014</td>\n",
       "      <td>0.0000</td>\n",
       "      <td>100.0</td>\n",
       "      <td>518.67</td>\n",
       "      <td>642.51</td>\n",
       "      <td>1587.19</td>\n",
       "      <td>1401.92</td>\n",
       "      <td>14.62</td>\n",
       "      <td>...</td>\n",
       "      <td>522.15</td>\n",
       "      <td>2388.03</td>\n",
       "      <td>8129.54</td>\n",
       "      <td>8.4031</td>\n",
       "      <td>0.03</td>\n",
       "      <td>390</td>\n",
       "      <td>2388</td>\n",
       "      <td>100.0</td>\n",
       "      <td>38.99</td>\n",
       "      <td>23.4130</td>\n",
       "    </tr>\n",
       "  </tbody>\n",
       "</table>\n",
       "<p>5 rows × 26 columns</p>\n",
       "</div>"
      ],
      "text/plain": [
       "   UnitNumber  Cycle  Op_Setting_1  Op_Setting_2  Op_Setting_3  Sensor_1  \\\n",
       "0           1      1        0.0023        0.0003         100.0    518.67   \n",
       "1           1      2       -0.0027       -0.0003         100.0    518.67   \n",
       "2           1      3        0.0003        0.0001         100.0    518.67   \n",
       "3           1      4        0.0042        0.0000         100.0    518.67   \n",
       "4           1      5        0.0014        0.0000         100.0    518.67   \n",
       "\n",
       "   Sensor_2  Sensor_3  Sensor_4  Sensor_5  ...  Sensor_12  Sensor_13  \\\n",
       "0    643.02   1585.29   1398.21     14.62  ...     521.72    2388.03   \n",
       "1    641.71   1588.45   1395.42     14.62  ...     522.16    2388.06   \n",
       "2    642.46   1586.94   1401.34     14.62  ...     521.97    2388.03   \n",
       "3    642.44   1584.12   1406.42     14.62  ...     521.38    2388.05   \n",
       "4    642.51   1587.19   1401.92     14.62  ...     522.15    2388.03   \n",
       "\n",
       "   Sensor_14  Sensor_15  Sensor_16  Sensor_17  Sensor_18  Sensor_19  \\\n",
       "0    8125.55     8.4052       0.03        392       2388      100.0   \n",
       "1    8139.62     8.3803       0.03        393       2388      100.0   \n",
       "2    8130.10     8.4441       0.03        393       2388      100.0   \n",
       "3    8132.90     8.3917       0.03        391       2388      100.0   \n",
       "4    8129.54     8.4031       0.03        390       2388      100.0   \n",
       "\n",
       "   Sensor_20  Sensor_21  \n",
       "0      38.86    23.3735  \n",
       "1      39.02    23.3916  \n",
       "2      39.08    23.4166  \n",
       "3      39.00    23.3737  \n",
       "4      38.99    23.4130  \n",
       "\n",
       "[5 rows x 26 columns]"
      ]
     },
     "execution_count": 96,
     "metadata": {},
     "output_type": "execute_result"
    }
   ],
   "source": [
    "index_columns = ['UnitNumber', 'Cycle']\n",
    "op_setting_columns = ['Op_Setting_' + str(i) for i in range(1,4)]\n",
    "sensor_columns = ['Sensor_' + str(i) for i in range(1,22)]\n",
    "\n",
    "columns = index_columns + op_setting_columns + sensor_columns\n",
    "data.columns = columns\n",
    "data.head()"
   ]
  },
  {
   "cell_type": "code",
   "execution_count": 97,
   "id": "849b6c43",
   "metadata": {},
   "outputs": [
    {
     "data": {
      "text/html": [
       "<div>\n",
       "<style scoped>\n",
       "    .dataframe tbody tr th:only-of-type {\n",
       "        vertical-align: middle;\n",
       "    }\n",
       "\n",
       "    .dataframe tbody tr th {\n",
       "        vertical-align: top;\n",
       "    }\n",
       "\n",
       "    .dataframe thead th {\n",
       "        text-align: right;\n",
       "    }\n",
       "</style>\n",
       "<table border=\"1\" class=\"dataframe\">\n",
       "  <thead>\n",
       "    <tr style=\"text-align: right;\">\n",
       "      <th></th>\n",
       "      <th>UnitNumber</th>\n",
       "      <th>Cycle</th>\n",
       "      <th>Op_Setting_1</th>\n",
       "      <th>Op_Setting_2</th>\n",
       "      <th>Op_Setting_3</th>\n",
       "      <th>Sensor_1</th>\n",
       "      <th>Sensor_2</th>\n",
       "      <th>Sensor_3</th>\n",
       "      <th>Sensor_4</th>\n",
       "      <th>Sensor_5</th>\n",
       "      <th>...</th>\n",
       "      <th>Sensor_12</th>\n",
       "      <th>Sensor_13</th>\n",
       "      <th>Sensor_14</th>\n",
       "      <th>Sensor_15</th>\n",
       "      <th>Sensor_16</th>\n",
       "      <th>Sensor_17</th>\n",
       "      <th>Sensor_18</th>\n",
       "      <th>Sensor_19</th>\n",
       "      <th>Sensor_20</th>\n",
       "      <th>Sensor_21</th>\n",
       "    </tr>\n",
       "  </thead>\n",
       "  <tbody>\n",
       "    <tr>\n",
       "      <th>count</th>\n",
       "      <td>162.0</td>\n",
       "      <td>162.000000</td>\n",
       "      <td>162.000000</td>\n",
       "      <td>162.000000</td>\n",
       "      <td>162.0</td>\n",
       "      <td>1.620000e+02</td>\n",
       "      <td>162.000000</td>\n",
       "      <td>162.000000</td>\n",
       "      <td>162.000000</td>\n",
       "      <td>1.620000e+02</td>\n",
       "      <td>...</td>\n",
       "      <td>162.000000</td>\n",
       "      <td>162.000000</td>\n",
       "      <td>162.000000</td>\n",
       "      <td>162.000000</td>\n",
       "      <td>1.620000e+02</td>\n",
       "      <td>162.000000</td>\n",
       "      <td>162.0</td>\n",
       "      <td>162.0</td>\n",
       "      <td>162.000000</td>\n",
       "      <td>162.000000</td>\n",
       "    </tr>\n",
       "    <tr>\n",
       "      <th>mean</th>\n",
       "      <td>77.0</td>\n",
       "      <td>81.500000</td>\n",
       "      <td>0.000163</td>\n",
       "      <td>-0.000061</td>\n",
       "      <td>100.0</td>\n",
       "      <td>5.186700e+02</td>\n",
       "      <td>642.494444</td>\n",
       "      <td>1587.483025</td>\n",
       "      <td>1405.063889</td>\n",
       "      <td>1.462000e+01</td>\n",
       "      <td>...</td>\n",
       "      <td>521.682099</td>\n",
       "      <td>2388.087531</td>\n",
       "      <td>8131.132160</td>\n",
       "      <td>8.425622</td>\n",
       "      <td>3.000000e-02</td>\n",
       "      <td>392.617284</td>\n",
       "      <td>2388.0</td>\n",
       "      <td>100.0</td>\n",
       "      <td>38.877901</td>\n",
       "      <td>23.335781</td>\n",
       "    </tr>\n",
       "    <tr>\n",
       "      <th>std</th>\n",
       "      <td>0.0</td>\n",
       "      <td>46.909487</td>\n",
       "      <td>0.002246</td>\n",
       "      <td>0.000278</td>\n",
       "      <td>0.0</td>\n",
       "      <td>1.368472e-12</td>\n",
       "      <td>0.354043</td>\n",
       "      <td>4.424731</td>\n",
       "      <td>6.066297</td>\n",
       "      <td>5.880154e-14</td>\n",
       "      <td>...</td>\n",
       "      <td>0.471057</td>\n",
       "      <td>0.051645</td>\n",
       "      <td>3.509906</td>\n",
       "      <td>0.027305</td>\n",
       "      <td>2.436143e-17</td>\n",
       "      <td>1.137371</td>\n",
       "      <td>0.0</td>\n",
       "      <td>0.0</td>\n",
       "      <td>0.127515</td>\n",
       "      <td>0.075753</td>\n",
       "    </tr>\n",
       "    <tr>\n",
       "      <th>min</th>\n",
       "      <td>77.0</td>\n",
       "      <td>1.000000</td>\n",
       "      <td>-0.005300</td>\n",
       "      <td>-0.000500</td>\n",
       "      <td>100.0</td>\n",
       "      <td>5.186700e+02</td>\n",
       "      <td>641.550000</td>\n",
       "      <td>1576.410000</td>\n",
       "      <td>1392.610000</td>\n",
       "      <td>1.462000e+01</td>\n",
       "      <td>...</td>\n",
       "      <td>520.160000</td>\n",
       "      <td>2387.980000</td>\n",
       "      <td>8122.130000</td>\n",
       "      <td>8.371700</td>\n",
       "      <td>3.000000e-02</td>\n",
       "      <td>390.000000</td>\n",
       "      <td>2388.0</td>\n",
       "      <td>100.0</td>\n",
       "      <td>38.560000</td>\n",
       "      <td>23.078100</td>\n",
       "    </tr>\n",
       "    <tr>\n",
       "      <th>25%</th>\n",
       "      <td>77.0</td>\n",
       "      <td>41.250000</td>\n",
       "      <td>-0.001575</td>\n",
       "      <td>-0.000300</td>\n",
       "      <td>100.0</td>\n",
       "      <td>5.186700e+02</td>\n",
       "      <td>642.230000</td>\n",
       "      <td>1584.185000</td>\n",
       "      <td>1400.092500</td>\n",
       "      <td>1.462000e+01</td>\n",
       "      <td>...</td>\n",
       "      <td>521.415000</td>\n",
       "      <td>2388.050000</td>\n",
       "      <td>8129.185000</td>\n",
       "      <td>8.404350</td>\n",
       "      <td>3.000000e-02</td>\n",
       "      <td>392.000000</td>\n",
       "      <td>2388.0</td>\n",
       "      <td>100.0</td>\n",
       "      <td>38.782500</td>\n",
       "      <td>23.286250</td>\n",
       "    </tr>\n",
       "    <tr>\n",
       "      <th>50%</th>\n",
       "      <td>77.0</td>\n",
       "      <td>81.500000</td>\n",
       "      <td>0.000100</td>\n",
       "      <td>-0.000100</td>\n",
       "      <td>100.0</td>\n",
       "      <td>5.186700e+02</td>\n",
       "      <td>642.505000</td>\n",
       "      <td>1587.655000</td>\n",
       "      <td>1404.940000</td>\n",
       "      <td>1.462000e+01</td>\n",
       "      <td>...</td>\n",
       "      <td>521.740000</td>\n",
       "      <td>2388.080000</td>\n",
       "      <td>8131.380000</td>\n",
       "      <td>8.425600</td>\n",
       "      <td>3.000000e-02</td>\n",
       "      <td>393.000000</td>\n",
       "      <td>2388.0</td>\n",
       "      <td>100.0</td>\n",
       "      <td>38.880000</td>\n",
       "      <td>23.331650</td>\n",
       "    </tr>\n",
       "    <tr>\n",
       "      <th>75%</th>\n",
       "      <td>77.0</td>\n",
       "      <td>121.750000</td>\n",
       "      <td>0.001600</td>\n",
       "      <td>0.000200</td>\n",
       "      <td>100.0</td>\n",
       "      <td>5.186700e+02</td>\n",
       "      <td>642.737500</td>\n",
       "      <td>1590.360000</td>\n",
       "      <td>1409.550000</td>\n",
       "      <td>1.462000e+01</td>\n",
       "      <td>...</td>\n",
       "      <td>522.040000</td>\n",
       "      <td>2388.120000</td>\n",
       "      <td>8133.200000</td>\n",
       "      <td>8.443175</td>\n",
       "      <td>3.000000e-02</td>\n",
       "      <td>393.000000</td>\n",
       "      <td>2388.0</td>\n",
       "      <td>100.0</td>\n",
       "      <td>38.977500</td>\n",
       "      <td>23.381200</td>\n",
       "    </tr>\n",
       "    <tr>\n",
       "      <th>max</th>\n",
       "      <td>77.0</td>\n",
       "      <td>162.000000</td>\n",
       "      <td>0.007200</td>\n",
       "      <td>0.000500</td>\n",
       "      <td>100.0</td>\n",
       "      <td>5.186700e+02</td>\n",
       "      <td>643.500000</td>\n",
       "      <td>1600.200000</td>\n",
       "      <td>1420.710000</td>\n",
       "      <td>1.462000e+01</td>\n",
       "      <td>...</td>\n",
       "      <td>522.790000</td>\n",
       "      <td>2388.240000</td>\n",
       "      <td>8139.140000</td>\n",
       "      <td>8.505600</td>\n",
       "      <td>3.000000e-02</td>\n",
       "      <td>396.000000</td>\n",
       "      <td>2388.0</td>\n",
       "      <td>100.0</td>\n",
       "      <td>39.180000</td>\n",
       "      <td>23.558500</td>\n",
       "    </tr>\n",
       "  </tbody>\n",
       "</table>\n",
       "<p>8 rows × 26 columns</p>\n",
       "</div>"
      ],
      "text/plain": [
       "       UnitNumber       Cycle  Op_Setting_1  Op_Setting_2  Op_Setting_3  \\\n",
       "count       162.0  162.000000    162.000000    162.000000         162.0   \n",
       "mean         77.0   81.500000      0.000163     -0.000061         100.0   \n",
       "std           0.0   46.909487      0.002246      0.000278           0.0   \n",
       "min          77.0    1.000000     -0.005300     -0.000500         100.0   \n",
       "25%          77.0   41.250000     -0.001575     -0.000300         100.0   \n",
       "50%          77.0   81.500000      0.000100     -0.000100         100.0   \n",
       "75%          77.0  121.750000      0.001600      0.000200         100.0   \n",
       "max          77.0  162.000000      0.007200      0.000500         100.0   \n",
       "\n",
       "           Sensor_1    Sensor_2     Sensor_3     Sensor_4      Sensor_5  ...  \\\n",
       "count  1.620000e+02  162.000000   162.000000   162.000000  1.620000e+02  ...   \n",
       "mean   5.186700e+02  642.494444  1587.483025  1405.063889  1.462000e+01  ...   \n",
       "std    1.368472e-12    0.354043     4.424731     6.066297  5.880154e-14  ...   \n",
       "min    5.186700e+02  641.550000  1576.410000  1392.610000  1.462000e+01  ...   \n",
       "25%    5.186700e+02  642.230000  1584.185000  1400.092500  1.462000e+01  ...   \n",
       "50%    5.186700e+02  642.505000  1587.655000  1404.940000  1.462000e+01  ...   \n",
       "75%    5.186700e+02  642.737500  1590.360000  1409.550000  1.462000e+01  ...   \n",
       "max    5.186700e+02  643.500000  1600.200000  1420.710000  1.462000e+01  ...   \n",
       "\n",
       "        Sensor_12    Sensor_13    Sensor_14   Sensor_15     Sensor_16  \\\n",
       "count  162.000000   162.000000   162.000000  162.000000  1.620000e+02   \n",
       "mean   521.682099  2388.087531  8131.132160    8.425622  3.000000e-02   \n",
       "std      0.471057     0.051645     3.509906    0.027305  2.436143e-17   \n",
       "min    520.160000  2387.980000  8122.130000    8.371700  3.000000e-02   \n",
       "25%    521.415000  2388.050000  8129.185000    8.404350  3.000000e-02   \n",
       "50%    521.740000  2388.080000  8131.380000    8.425600  3.000000e-02   \n",
       "75%    522.040000  2388.120000  8133.200000    8.443175  3.000000e-02   \n",
       "max    522.790000  2388.240000  8139.140000    8.505600  3.000000e-02   \n",
       "\n",
       "        Sensor_17  Sensor_18  Sensor_19   Sensor_20   Sensor_21  \n",
       "count  162.000000      162.0      162.0  162.000000  162.000000  \n",
       "mean   392.617284     2388.0      100.0   38.877901   23.335781  \n",
       "std      1.137371        0.0        0.0    0.127515    0.075753  \n",
       "min    390.000000     2388.0      100.0   38.560000   23.078100  \n",
       "25%    392.000000     2388.0      100.0   38.782500   23.286250  \n",
       "50%    393.000000     2388.0      100.0   38.880000   23.331650  \n",
       "75%    393.000000     2388.0      100.0   38.977500   23.381200  \n",
       "max    396.000000     2388.0      100.0   39.180000   23.558500  \n",
       "\n",
       "[8 rows x 26 columns]"
      ]
     },
     "execution_count": 97,
     "metadata": {},
     "output_type": "execute_result"
    }
   ],
   "source": [
    "data[data['UnitNumber']==77].describe()"
   ]
  },
  {
   "cell_type": "markdown",
   "id": "08851bd7",
   "metadata": {},
   "source": [
    "### `22. 각 Unit 별로 남은 Cycle 횟수를 알고자 한다. RemainingCycle이라는 Column을 추가하고 남은 Cycle 횟수를 나타내어라`"
   ]
  },
  {
   "cell_type": "code",
   "execution_count": 99,
   "id": "767f0d35",
   "metadata": {},
   "outputs": [
    {
     "data": {
      "text/html": [
       "<div>\n",
       "<style scoped>\n",
       "    .dataframe tbody tr th:only-of-type {\n",
       "        vertical-align: middle;\n",
       "    }\n",
       "\n",
       "    .dataframe tbody tr th {\n",
       "        vertical-align: top;\n",
       "    }\n",
       "\n",
       "    .dataframe thead th {\n",
       "        text-align: right;\n",
       "    }\n",
       "</style>\n",
       "<table border=\"1\" class=\"dataframe\">\n",
       "  <thead>\n",
       "    <tr style=\"text-align: right;\">\n",
       "      <th></th>\n",
       "      <th>UnitNumber</th>\n",
       "      <th>MaxCycle</th>\n",
       "    </tr>\n",
       "  </thead>\n",
       "  <tbody>\n",
       "    <tr>\n",
       "      <th>0</th>\n",
       "      <td>1</td>\n",
       "      <td>31</td>\n",
       "    </tr>\n",
       "    <tr>\n",
       "      <th>1</th>\n",
       "      <td>2</td>\n",
       "      <td>49</td>\n",
       "    </tr>\n",
       "    <tr>\n",
       "      <th>2</th>\n",
       "      <td>3</td>\n",
       "      <td>126</td>\n",
       "    </tr>\n",
       "    <tr>\n",
       "      <th>3</th>\n",
       "      <td>4</td>\n",
       "      <td>106</td>\n",
       "    </tr>\n",
       "    <tr>\n",
       "      <th>4</th>\n",
       "      <td>5</td>\n",
       "      <td>98</td>\n",
       "    </tr>\n",
       "    <tr>\n",
       "      <th>...</th>\n",
       "      <td>...</td>\n",
       "      <td>...</td>\n",
       "    </tr>\n",
       "    <tr>\n",
       "      <th>95</th>\n",
       "      <td>96</td>\n",
       "      <td>97</td>\n",
       "    </tr>\n",
       "    <tr>\n",
       "      <th>96</th>\n",
       "      <td>97</td>\n",
       "      <td>134</td>\n",
       "    </tr>\n",
       "    <tr>\n",
       "      <th>97</th>\n",
       "      <td>98</td>\n",
       "      <td>121</td>\n",
       "    </tr>\n",
       "    <tr>\n",
       "      <th>98</th>\n",
       "      <td>99</td>\n",
       "      <td>97</td>\n",
       "    </tr>\n",
       "    <tr>\n",
       "      <th>99</th>\n",
       "      <td>100</td>\n",
       "      <td>198</td>\n",
       "    </tr>\n",
       "  </tbody>\n",
       "</table>\n",
       "<p>100 rows × 2 columns</p>\n",
       "</div>"
      ],
      "text/plain": [
       "    UnitNumber  MaxCycle\n",
       "0            1        31\n",
       "1            2        49\n",
       "2            3       126\n",
       "3            4       106\n",
       "4            5        98\n",
       "..         ...       ...\n",
       "95          96        97\n",
       "96          97       134\n",
       "97          98       121\n",
       "98          99        97\n",
       "99         100       198\n",
       "\n",
       "[100 rows x 2 columns]"
      ]
     },
     "execution_count": 99,
     "metadata": {},
     "output_type": "execute_result"
    }
   ],
   "source": [
    "max_cycle = data.groupby('UnitNumber')['Cycle'].max().reset_index()\n",
    "# max_cycle을 DataFrame으로 만들기 위해 reset_index() 사용\n",
    "max_cycle.rename(columns = {'Cycle':'MaxCycle'}, inplace = True)\n",
    "# rename()함수를 이용하여 column명 변경 가능\n",
    "max_cycle"
   ]
  },
  {
   "cell_type": "code",
   "execution_count": 100,
   "id": "eb9a60b9",
   "metadata": {},
   "outputs": [
    {
     "data": {
      "text/html": [
       "<div>\n",
       "<style scoped>\n",
       "    .dataframe tbody tr th:only-of-type {\n",
       "        vertical-align: middle;\n",
       "    }\n",
       "\n",
       "    .dataframe tbody tr th {\n",
       "        vertical-align: top;\n",
       "    }\n",
       "\n",
       "    .dataframe thead th {\n",
       "        text-align: right;\n",
       "    }\n",
       "</style>\n",
       "<table border=\"1\" class=\"dataframe\">\n",
       "  <thead>\n",
       "    <tr style=\"text-align: right;\">\n",
       "      <th></th>\n",
       "      <th>UnitNumber</th>\n",
       "      <th>Cycle</th>\n",
       "      <th>Op_Setting_1</th>\n",
       "      <th>Op_Setting_2</th>\n",
       "      <th>Op_Setting_3</th>\n",
       "      <th>Sensor_1</th>\n",
       "      <th>Sensor_2</th>\n",
       "      <th>Sensor_3</th>\n",
       "      <th>Sensor_4</th>\n",
       "      <th>Sensor_5</th>\n",
       "      <th>...</th>\n",
       "      <th>Sensor_13</th>\n",
       "      <th>Sensor_14</th>\n",
       "      <th>Sensor_15</th>\n",
       "      <th>Sensor_16</th>\n",
       "      <th>Sensor_17</th>\n",
       "      <th>Sensor_18</th>\n",
       "      <th>Sensor_19</th>\n",
       "      <th>Sensor_20</th>\n",
       "      <th>Sensor_21</th>\n",
       "      <th>RemainingCycle</th>\n",
       "    </tr>\n",
       "  </thead>\n",
       "  <tbody>\n",
       "    <tr>\n",
       "      <th>0</th>\n",
       "      <td>1</td>\n",
       "      <td>1</td>\n",
       "      <td>0.0023</td>\n",
       "      <td>0.0003</td>\n",
       "      <td>100.0</td>\n",
       "      <td>518.67</td>\n",
       "      <td>643.02</td>\n",
       "      <td>1585.29</td>\n",
       "      <td>1398.21</td>\n",
       "      <td>14.62</td>\n",
       "      <td>...</td>\n",
       "      <td>2388.03</td>\n",
       "      <td>8125.55</td>\n",
       "      <td>8.4052</td>\n",
       "      <td>0.03</td>\n",
       "      <td>392</td>\n",
       "      <td>2388</td>\n",
       "      <td>100.0</td>\n",
       "      <td>38.86</td>\n",
       "      <td>23.3735</td>\n",
       "      <td>30</td>\n",
       "    </tr>\n",
       "    <tr>\n",
       "      <th>1</th>\n",
       "      <td>1</td>\n",
       "      <td>2</td>\n",
       "      <td>-0.0027</td>\n",
       "      <td>-0.0003</td>\n",
       "      <td>100.0</td>\n",
       "      <td>518.67</td>\n",
       "      <td>641.71</td>\n",
       "      <td>1588.45</td>\n",
       "      <td>1395.42</td>\n",
       "      <td>14.62</td>\n",
       "      <td>...</td>\n",
       "      <td>2388.06</td>\n",
       "      <td>8139.62</td>\n",
       "      <td>8.3803</td>\n",
       "      <td>0.03</td>\n",
       "      <td>393</td>\n",
       "      <td>2388</td>\n",
       "      <td>100.0</td>\n",
       "      <td>39.02</td>\n",
       "      <td>23.3916</td>\n",
       "      <td>29</td>\n",
       "    </tr>\n",
       "    <tr>\n",
       "      <th>2</th>\n",
       "      <td>1</td>\n",
       "      <td>3</td>\n",
       "      <td>0.0003</td>\n",
       "      <td>0.0001</td>\n",
       "      <td>100.0</td>\n",
       "      <td>518.67</td>\n",
       "      <td>642.46</td>\n",
       "      <td>1586.94</td>\n",
       "      <td>1401.34</td>\n",
       "      <td>14.62</td>\n",
       "      <td>...</td>\n",
       "      <td>2388.03</td>\n",
       "      <td>8130.10</td>\n",
       "      <td>8.4441</td>\n",
       "      <td>0.03</td>\n",
       "      <td>393</td>\n",
       "      <td>2388</td>\n",
       "      <td>100.0</td>\n",
       "      <td>39.08</td>\n",
       "      <td>23.4166</td>\n",
       "      <td>28</td>\n",
       "    </tr>\n",
       "    <tr>\n",
       "      <th>3</th>\n",
       "      <td>1</td>\n",
       "      <td>4</td>\n",
       "      <td>0.0042</td>\n",
       "      <td>0.0000</td>\n",
       "      <td>100.0</td>\n",
       "      <td>518.67</td>\n",
       "      <td>642.44</td>\n",
       "      <td>1584.12</td>\n",
       "      <td>1406.42</td>\n",
       "      <td>14.62</td>\n",
       "      <td>...</td>\n",
       "      <td>2388.05</td>\n",
       "      <td>8132.90</td>\n",
       "      <td>8.3917</td>\n",
       "      <td>0.03</td>\n",
       "      <td>391</td>\n",
       "      <td>2388</td>\n",
       "      <td>100.0</td>\n",
       "      <td>39.00</td>\n",
       "      <td>23.3737</td>\n",
       "      <td>27</td>\n",
       "    </tr>\n",
       "    <tr>\n",
       "      <th>4</th>\n",
       "      <td>1</td>\n",
       "      <td>5</td>\n",
       "      <td>0.0014</td>\n",
       "      <td>0.0000</td>\n",
       "      <td>100.0</td>\n",
       "      <td>518.67</td>\n",
       "      <td>642.51</td>\n",
       "      <td>1587.19</td>\n",
       "      <td>1401.92</td>\n",
       "      <td>14.62</td>\n",
       "      <td>...</td>\n",
       "      <td>2388.03</td>\n",
       "      <td>8129.54</td>\n",
       "      <td>8.4031</td>\n",
       "      <td>0.03</td>\n",
       "      <td>390</td>\n",
       "      <td>2388</td>\n",
       "      <td>100.0</td>\n",
       "      <td>38.99</td>\n",
       "      <td>23.4130</td>\n",
       "      <td>26</td>\n",
       "    </tr>\n",
       "  </tbody>\n",
       "</table>\n",
       "<p>5 rows × 27 columns</p>\n",
       "</div>"
      ],
      "text/plain": [
       "   UnitNumber  Cycle  Op_Setting_1  Op_Setting_2  Op_Setting_3  Sensor_1  \\\n",
       "0           1      1        0.0023        0.0003         100.0    518.67   \n",
       "1           1      2       -0.0027       -0.0003         100.0    518.67   \n",
       "2           1      3        0.0003        0.0001         100.0    518.67   \n",
       "3           1      4        0.0042        0.0000         100.0    518.67   \n",
       "4           1      5        0.0014        0.0000         100.0    518.67   \n",
       "\n",
       "   Sensor_2  Sensor_3  Sensor_4  Sensor_5  ...  Sensor_13  Sensor_14  \\\n",
       "0    643.02   1585.29   1398.21     14.62  ...    2388.03    8125.55   \n",
       "1    641.71   1588.45   1395.42     14.62  ...    2388.06    8139.62   \n",
       "2    642.46   1586.94   1401.34     14.62  ...    2388.03    8130.10   \n",
       "3    642.44   1584.12   1406.42     14.62  ...    2388.05    8132.90   \n",
       "4    642.51   1587.19   1401.92     14.62  ...    2388.03    8129.54   \n",
       "\n",
       "   Sensor_15  Sensor_16  Sensor_17  Sensor_18  Sensor_19  Sensor_20  \\\n",
       "0     8.4052       0.03        392       2388      100.0      38.86   \n",
       "1     8.3803       0.03        393       2388      100.0      39.02   \n",
       "2     8.4441       0.03        393       2388      100.0      39.08   \n",
       "3     8.3917       0.03        391       2388      100.0      39.00   \n",
       "4     8.4031       0.03        390       2388      100.0      38.99   \n",
       "\n",
       "   Sensor_21  RemainingCycle  \n",
       "0    23.3735              30  \n",
       "1    23.3916              29  \n",
       "2    23.4166              28  \n",
       "3    23.3737              27  \n",
       "4    23.4130              26  \n",
       "\n",
       "[5 rows x 27 columns]"
      ]
     },
     "execution_count": 100,
     "metadata": {},
     "output_type": "execute_result"
    }
   ],
   "source": [
    "# pd.merge() 함수를 이용하여 DataFrame을 합칠 수 있다.\n",
    "temp_df = pd.merge(data, max_cycle,on='UnitNumber', how = 'left')\n",
    "# temp란 임의로 만든 변수이다.\n",
    "# merge() 속 on은 기준이 되는 column을 의미\n",
    "# merge() 속 how는 기준이 되는 DataFrame을 의미\n",
    "data['RemainingCycle'] = temp_df['MaxCycle'] - data['Cycle']\n",
    "data.head()"
   ]
  },
  {
   "cell_type": "markdown",
   "id": "259ac475",
   "metadata": {},
   "source": [
    "### `23. pyplot`"
   ]
  },
  {
   "cell_type": "code",
   "execution_count": 101,
   "id": "226cd95f",
   "metadata": {},
   "outputs": [
    {
     "data": {
      "image/png": "[encoded data removed]",
      "text/plain": [
       "<Figure size 432x288 with 1 Axes>"
      ]
     },
     "metadata": {
      "needs_background": "light"
     },
     "output_type": "display_data"
    }
   ],
   "source": [
    "import matplotlib.pyplot as plt\n",
    "\n",
    "X = np.arange(100)\n",
    "\n",
    "Y_1 = np.arange(100) + 100\n",
    "Y_2 = np.arange(100) \n",
    "\n",
    "plt.plot(X, Y_1, color = 'r', label = 'line_1', linestyle = 'dashed')\n",
    "plt.plot(X, Y_2, color = 'g', label = 'line_2', ls = 'dotted')\n",
    "\n",
    "plt.title('Two Lines')\n",
    "plt.xlabel = ('x_line')\n",
    "plt.ylabel = ('y_line')\n",
    "\n",
    "plt.legend(loc = 'upper left')\n",
    "\n",
    "plt.xlim(-300,300)\n",
    "plt.ylim(-300,300)\n",
    "\n",
    "plt.show()"
   ]
  },
  {
   "cell_type": "markdown",
   "id": "d7eea602",
   "metadata": {},
   "source": [
    "### `24. Data Processing`<br>\n",
    "Crowd Flower Survey(2016)에 따르면 <br>\n",
    "데이터 과학에 사용하는 시간 중 80%는 데이터를 모으고 정제하는데 사용\n",
    "<br>\n",
    "\n",
    "Data Preprocessing을 위해 데이터의 특징 Feature를 알아야 함."
   ]
  },
  {
   "cell_type": "markdown",
   "id": "fe0c9a88",
   "metadata": {},
   "source": [
    "### 25. Regression VS Classification\n",
    "<br>\n",
    "- Regression : y값으로 연속적인 값을 갖는다.\n",
    "\n",
    "|독립변수(x)|종속변수(y)|\n",
    "|---|---|\n",
    "|공부시간|시험점수|\n",
    "|온도|음료수나 아이스크림 판매량|\n",
    "|역세권, 조망|집 값|\n",
    "|온실 기체량|기온 변화량|\n",
    "|자동차 속도|충돌 시 사망 확률|\n",
    "|나이|키|"
   ]
  },
  {
   "cell_type": "markdown",
   "id": "50a75d9a",
   "metadata": {},
   "source": [
    "- Classification : y값으로 이산적인 값을 갖는다.\n",
    "<br>\n",
    "\n",
    "|독립변수(x)|종속변수(y)|\n",
    "|---|---|\n",
    "|공부시간|합격 여부(합/불)|\n",
    "|X-ray 사진과 종양의 크기, 두께|악성 종양 여부(양성/음성)|\n",
    "|키,몸무게,시력,지병|신체검사(1급,2급,3급,4급)|\n",
    "|메일 발신인, 제목, 본문 내용|스팸 메일 여부(스팸/정상)|\n",
    "|고기의 지방함량, 지방색, 성숙도|소고기 등급(1++,1+,1)|\n",
    "|카드 이용 금액|회원 등급|"
   ]
  },
  {
   "cell_type": "markdown",
   "id": "845c3b46",
   "metadata": {},
   "source": [
    "### 26. Linear Regression with GD\n",
    "\n",
    "Linear Regression은 <br>\n",
    "Cost Function을 세워두고 <br>\n",
    "Gradient Descent을 통해서 <br>\n",
    "Parameter를 업데이트하는 것이다. <br>\n",
    "<br>\n",
    "이때 Hyperparameter로 learning rate와 epoch을 사용한다."
   ]
  },
  {
   "attachments": {
    "image.png": {
     "image/png": "[encoded data removed]"
    }
   },
   "cell_type": "markdown",
   "id": "04f68f09",
   "metadata": {},
   "source": [
    "### 27. Decision Tree\n",
    "\n",
    "![image.png](attachment:image.png)"
   ]
  },
  {
   "cell_type": "markdown",
   "id": "c629933f",
   "metadata": {},
   "source": [
    "### 28. Random Forest\n",
    "\n",
    "Decision Tree의 단점\n",
    "- 과적합(Overfitting) 발생 확률이 크다.\n",
    "- Feature가 많고 다양한 데이터일수록 Tree의 길이가 길어지고 커지며 복잡해진다.\n",
    "- 조건을 나누고 추가하면서 모델 일반화가 어렵다.\n",
    "\n",
    "<br>\n",
    "Random Forest\n",
    "- Decision Tree보다 작은 Tree를 여러 개 모아 값을 투표하여 결정함."
   ]
  },
  {
   "cell_type": "markdown",
   "id": "d1638103",
   "metadata": {},
   "source": [
    "### 29. SVM (Support Vector Machine)"
   ]
  },
  {
   "attachments": {
    "image.png": {
     "image/png": "[encoded data removed]"
    }
   },
   "cell_type": "markdown",
   "id": "0cbeace3",
   "metadata": {},
   "source": [
    "![image.png](attachment:image.png)"
   ]
  }
 ],
 "metadata": {
  "kernelspec": {
   "display_name": "Python 3 (ipykernel)",
   "language": "python",
   "name": "python3"
  },
  "language_info": {
   "codemirror_mode": {
    "name": "ipython",
    "version": 3
   },
   "file_extension": ".py",
   "mimetype": "text/x-python",
   "name": "python",
   "nbconvert_exporter": "python",
   "pygments_lexer": "ipython3",
   "version": "3.9.12"
  }
 },
 "nbformat": 4,
 "nbformat_minor": 5
}
