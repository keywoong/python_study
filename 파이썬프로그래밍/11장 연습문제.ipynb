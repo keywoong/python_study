{
 "cells": [
  {
   "cell_type": "markdown",
   "id": "5d9cb86e",
   "metadata": {},
   "source": [
    "1. 적법한 삼각형이라면 세 각의 합이 180도가 되어야 한다. 삼각형이 적법한지 아닌지 판단하는 프로그램을 객체지향프로그램으로 구현해라. 즉, 삼각형 Triangle객체는 세 각을 속성으로 가져야 하며, 세각의 합이 180도인지 판별해 참/거짓을 결과로 반환하는 메소드를 가져야 한다. 90도 30도 60도를 세 각으로 갖는 Triangle 클래스의 인스턴스를 생성하여 메소드가 제대로 작동하는지 확인"
   ]
  },
  {
   "cell_type": "code",
   "execution_count": 2,
   "id": "7b3bc59f",
   "metadata": {},
   "outputs": [
    {
     "data": {
      "text/plain": [
       "True"
      ]
     },
     "execution_count": 2,
     "metadata": {},
     "output_type": "execute_result"
    }
   ],
   "source": [
    "class Triangle():\n",
    "    def __init__(self, angle1, angle2, angle3):\n",
    "        self.angle1 = angle1\n",
    "        self.angle2 = angle2\n",
    "        self.angle3 = angle3\n",
    "    def check(self):\n",
    "        sum = self.angle1+self.angle2+self.angle3\n",
    "        if sum == 180:\n",
    "            return True\n",
    "        else:\n",
    "            return False\n",
    "        \n",
    "tri = Triangle(90,30,60)\n",
    "tri.check()"
   ]
  },
  {
   "cell_type": "markdown",
   "id": "cbbd5129",
   "metadata": {},
   "source": [
    "2, Song 클래스를 만들어라. song 클래스 안에는 노래가사가 lyrics라는 문자열 리스트 형시그이 속성에 저장되어 있고, lyrics의 각 요소로 저장된 문자열 리스트를 출력해주는 메소드인 sing_a_song이 있다. 이 sing_a_song메소드를 다음 song인스턴스에 대해 적용해보아라."
   ]
  },
  {
   "cell_type": "code",
   "execution_count": 4,
   "id": "3b498875",
   "metadata": {},
   "outputs": [],
   "source": [
    "class Song():\n",
    "    def __init__(self, lyrics):\n",
    "        self.lyrics = lyrics\n",
    "    def sing_a_song(self):\n",
    "        for t in self.lyrics:\n",
    "            print(t)\n",
    "s = Song([\"salvation is coming is coming in the morning\",\"wait patiently, aiming straight for it\", \"but now what we need is a little rain on our face from you\"])"
   ]
  },
  {
   "cell_type": "code",
   "execution_count": 5,
   "id": "079a3dac",
   "metadata": {},
   "outputs": [
    {
     "name": "stdout",
     "output_type": "stream",
     "text": [
      "salvation is coming is coming in the morning\n",
      "wait patiently, aiming straight for it\n",
      "but now what we need is a little rain on our face from you\n"
     ]
    }
   ],
   "source": [
    "s.sing_a_song()"
   ]
  },
  {
   "cell_type": "markdown",
   "id": "f241bbc6",
   "metadata": {},
   "source": [
    "3. 어느 사내식당은  A코스와 B코스 두 가지 중 하나를 고르는 식으로 운영되고 있음. 두 코스의 음식 메뉴, 가격, 칼로리가 아래와 같을 때, 두 코스 중 하나를 선택하면 메뉴 가격, 칼로리 정보를 출력해주는 프로그램을 oop로 구현"
   ]
  },
  {
   "cell_type": "code",
   "execution_count": 20,
   "id": "a594b924",
   "metadata": {},
   "outputs": [],
   "source": [
    "class Course():\n",
    "    def __init__(self, name,menu, price, cal):\n",
    "        self.name = name\n",
    "        self.menu = menu\n",
    "        self.price = price\n",
    "        self.cal = cal\n",
    "    def print_infom(self):\n",
    "        print(\"{}:{} ({}kcal) - 가격{}원\".format(self.name, self.menu, self.cal, self.price))"
   ]
  },
  {
   "cell_type": "code",
   "execution_count": 21,
   "id": "f9fc55cb",
   "metadata": {},
   "outputs": [],
   "source": [
    "a = Course(\"A코스\",\"삼계탕\",5000,698)\n",
    "b = Course(\"B코스\",\"부대찌개\",4500,570)"
   ]
  },
  {
   "cell_type": "code",
   "execution_count": 22,
   "id": "ff9d74fa",
   "metadata": {},
   "outputs": [
    {
     "name": "stdout",
     "output_type": "stream",
     "text": [
      "A코스와 B코스 중 원하시는 코스를 입력해주세요 (예:A코스):\n",
      "B코스\n",
      "B코스:부대찌개 (570kcal) - 가격4500원\n"
     ]
    }
   ],
   "source": [
    "print(\"A코스와 B코스 중 원하시는 코스를 입력해주세요 (예:A코스):\")\n",
    "course = input()\n",
    "if course == \"A코스\":\n",
    "    a.print_infom()\n",
    "elif course == \"B코스\":\n",
    "    b.print_infom()\n",
    "else:\n",
    "    print(\"에러 : 없는 코스입니다.\")"
   ]
  },
  {
   "cell_type": "markdown",
   "id": "1d43472a",
   "metadata": {},
   "source": [
    "Calculator클래스\n",
    "<br>\n",
    "위 클래스를 상속하는 upgrade calculator 클래스를 만들고, value에서 매개변수로 받은 수 만큼의 값을 빼는 메소드를 추가해보세요"
   ]
  },
  {
   "cell_type": "code",
   "execution_count": 23,
   "id": "ff4ffa63",
   "metadata": {},
   "outputs": [],
   "source": [
    "class Calculator:\n",
    "    def __init__(self):\n",
    "        self.value = 0\n",
    "    def add(self, val):\n",
    "        self.value +=val"
   ]
  },
  {
   "cell_type": "code",
   "execution_count": 24,
   "id": "57484fab",
   "metadata": {},
   "outputs": [],
   "source": [
    "class UpgradeCalculator(Calculator):\n",
    "    def __init__(self):\n",
    "        super().__init__(self)\n",
    "    def minus(self,val):\n",
    "        self.value-=val"
   ]
  },
  {
   "cell_type": "code",
   "execution_count": 27,
   "id": "fa3e5201",
   "metadata": {},
   "outputs": [
    {
     "ename": "TypeError",
     "evalue": "__init__() takes 1 positional argument but 2 were given",
     "output_type": "error",
     "traceback": [
      "\u001b[1;31m---------------------------------------------------------------------------\u001b[0m",
      "\u001b[1;31mTypeError\u001b[0m                                 Traceback (most recent call last)",
      "Input \u001b[1;32mIn [27]\u001b[0m, in \u001b[0;36m<cell line: 1>\u001b[1;34m()\u001b[0m\n\u001b[1;32m----> 1\u001b[0m a \u001b[38;5;241m=\u001b[39m \u001b[43mUpgradeCalculator\u001b[49m\u001b[43m(\u001b[49m\u001b[43m)\u001b[49m\n\u001b[0;32m      2\u001b[0m a\u001b[38;5;241m.\u001b[39mminus(\u001b[38;5;241m3\u001b[39m)\n",
      "Input \u001b[1;32mIn [24]\u001b[0m, in \u001b[0;36mUpgradeCalculator.__init__\u001b[1;34m(self)\u001b[0m\n\u001b[0;32m      2\u001b[0m \u001b[38;5;28;01mdef\u001b[39;00m \u001b[38;5;21m__init__\u001b[39m(\u001b[38;5;28mself\u001b[39m):\n\u001b[1;32m----> 3\u001b[0m     \u001b[38;5;28;43msuper\u001b[39;49m\u001b[43m(\u001b[49m\u001b[43m)\u001b[49m\u001b[38;5;241;43m.\u001b[39;49m\u001b[38;5;21;43m__init__\u001b[39;49m\u001b[43m(\u001b[49m\u001b[38;5;28;43mself\u001b[39;49m\u001b[43m)\u001b[49m\n",
      "\u001b[1;31mTypeError\u001b[0m: __init__() takes 1 positional argument but 2 were given"
     ]
    }
   ],
   "source": [
    "a = UpgradeCalculator()\n",
    "a.minus(3)"
   ]
  },
  {
   "cell_type": "markdown",
   "id": "1b18be01",
   "metadata": {},
   "source": [
    "5. ft로 측정된 키를 m로 변환하는 프로그램을 oop방식으로 구현하기 위해 클래스 Ft_to_M을 작성한다. \n",
    "즉, 클래스 Ft_to_M은 ft로 측정된 키에 대한 속성을 가지고 있으며, 이를 m로 변환하는 메소드인 transform을 멤버로 갖고 있다. 이때 5.6을 속성값으로 가지는 Ft_to_M 인스턴스를 정의하고 여기에 transform메소드를 적용해서 그 결과를 출력해라.\n"
   ]
  }
 ],
 "metadata": {
  "kernelspec": {
   "display_name": "Python 3 (ipykernel)",
   "language": "python",
   "name": "python3"
  },
  "language_info": {
   "codemirror_mode": {
    "name": "ipython",
    "version": 3
   },
   "file_extension": ".py",
   "mimetype": "text/x-python",
   "name": "python",
   "nbconvert_exporter": "python",
   "pygments_lexer": "ipython3",
   "version": "3.9.12"
  }
 },
 "nbformat": 4,
 "nbformat_minor": 5
}
