{
 "cells": [
  {
   "cell_type": "markdown",
   "id": "e853d96c",
   "metadata": {},
   "source": [
    "## 1.\n",
    "사칙 연산을 계산하는 함수를 만들어 실행하세요. 이 함수는 숫자 2개를 매개변수로 입력받아 덧셈, 뺄셈, 곱셈, 나눗셈의 결과를 모두 계산해 한번에 반환해주는 함수입니다."
   ]
  },
  {
   "cell_type": "code",
   "execution_count": 11,
   "id": "a8b12927",
   "metadata": {},
   "outputs": [],
   "source": [
    "def function():\n",
    "    a = input(\"첫 번째 숫자를 입력하세요:\")\n",
    "    if a.isdecimal == True:\n",
    "        a = int(a)\n",
    "    else:\n",
    "        a = float(a)\n",
    "    print(\"입력한 숫자는 {}입니다.\".format(a))\n",
    "    \n",
    "    b = input(\"첫 번째 숫자를 입력하세요:\")\n",
    "    if b.isdecimal == True:\n",
    "        b = int(b)\n",
    "    else:\n",
    "        b = float(b)\n",
    "    print(\"입력한 숫자는 {}입니다.\".format(b))\n",
    "    \n",
    "    print(\"{}와 {}의 덧셈, 뺄셈, 곱셈, 나눗셈 결과는 {:.2f},{:.2f},{:.2f},{:.2f}입니다.\".format(a,b,a+b,a-b,a*b,a/b))"
   ]
  },
  {
   "cell_type": "code",
   "execution_count": 12,
   "id": "0ee58780",
   "metadata": {},
   "outputs": [
    {
     "name": "stdout",
     "output_type": "stream",
     "text": [
      "첫 번째 숫자를 입력하세요:3.5\n",
      "입력한 숫자는 3.5입니다.\n",
      "첫 번째 숫자를 입력하세요:4.2\n",
      "입력한 숫자는 4.2입니다.\n",
      "3.5와 4.2의 덧셈, 뺄셈, 곱셈, 나눗셈 결과는 7.70,-0.70,14.70,0.83입니다.\n"
     ]
    }
   ],
   "source": [
    "function()"
   ]
  },
  {
   "cell_type": "markdown",
   "id": "6b152dd8",
   "metadata": {},
   "source": [
    "## 2.\n",
    "리스트를 매개변수로 입력받아 각 요소의 제곱근을 계산해 리스트로 반환해주는 함수를 작성하세요. "
   ]
  },
  {
   "cell_type": "code",
   "execution_count": 13,
   "id": "63af401a",
   "metadata": {},
   "outputs": [
    {
     "name": "stdout",
     "output_type": "stream",
     "text": [
      "[1.0, 3.0, 4.0, 1.7320508075688772, 2.23606797749979, 1.4142135623730951, 2.8284271247461903, 2.6457513110645907]\n"
     ]
    }
   ],
   "source": [
    "import math\n",
    "def f(list1):\n",
    "    result = [math.sqrt(i) for i in list1]\n",
    "    return result\n",
    "list1 = [1,9,16,3,5,2,8,7]\n",
    "print(f(list1))"
   ]
  },
  {
   "cell_type": "markdown",
   "id": "b8c51016",
   "metadata": {},
   "source": [
    "## 3.\n",
    "평균 중간고사 점수를 구하는 함수를 작성하세요. 이때 각 학생들의 중간고사 점수를 반드시 가변 매개변수로 입력받아야 합니다. 함수 실행시 다음 학생 20명의 점수를 대입해서 실행해보세요"
   ]
  },
  {
   "cell_type": "code",
   "execution_count": 15,
   "id": "22665332",
   "metadata": {},
   "outputs": [
    {
     "data": {
      "text/plain": [
       "71.95"
      ]
     },
     "execution_count": 15,
     "metadata": {},
     "output_type": "execute_result"
    }
   ],
   "source": [
    "def get_average(*args):\n",
    "    return sum(args)/len(args)\n",
    "get_average(82, 39, 90, 40, 20, 89, 69, 79, 89, 98,79, 88, 38, 58, 68, 80, 78, 73, 89, 93)"
   ]
  },
  {
   "cell_type": "markdown",
   "id": "5146c873",
   "metadata": {},
   "source": [
    "## 4.\n",
    "리스트 내의 중복되는 요소를 제거하는 함수를 작성하세요. 이 함수를 다음 리스트에 대해 실행해보세요"
   ]
  },
  {
   "cell_type": "code",
   "execution_count": 16,
   "id": "0e7f8a56",
   "metadata": {},
   "outputs": [
    {
     "name": "stdout",
     "output_type": "stream",
     "text": [
      "[1, 2, 3, 5, 4, 6]\n"
     ]
    }
   ],
   "source": [
    "list1 = [1,2,3,5,4,3,6,5,4,3,2,3,4,4,1,1,3]\n",
    "def remove_f(list1):\n",
    "    result = []\n",
    "    for i in list1:\n",
    "        if not i in result:\n",
    "            result.append(i)\n",
    "    return result\n",
    "print(remove_f(list1))"
   ]
  },
  {
   "cell_type": "markdown",
   "id": "030e46a9",
   "metadata": {},
   "source": [
    "## 5.\n",
    "구구단의 단수를 입력받아서 출력하는 함수르 작성하세요"
   ]
  },
  {
   "cell_type": "code",
   "execution_count": 20,
   "id": "92f2c167",
   "metadata": {
    "scrolled": true
   },
   "outputs": [
    {
     "name": "stdout",
     "output_type": "stream",
     "text": [
      "1부터 9 사이의 숫자를 입력하세요:0\n",
      "입력받은 숫자는 0입니다.\n",
      "1부터 9 사이의 숫자를 입력하세요:-1\n",
      "입력받은 숫자는 -1입니다.\n",
      "1부터 9 사이의 숫자를 입력하세요:5\n",
      "입력받은 숫자는 5입니다.\n",
      "5*1=5\n",
      "5*2=10\n",
      "5*3=15\n",
      "5*4=20\n",
      "5*5=25\n",
      "5*6=30\n",
      "5*7=35\n",
      "5*8=40\n",
      "5*9=45\n"
     ]
    }
   ],
   "source": [
    "def gugudan():\n",
    "    while 1:\n",
    "        num = int(input(\"1부터 9 사이의 숫자를 입력하세요:\"))\n",
    "        print(\"입력받은 숫자는 {}입니다.\".format(num))\n",
    "        if num>=1 and num<=9:\n",
    "            break\n",
    "    for i in range(1,10):\n",
    "        print(\"{}*{}={}\".format(num,i,num*i))\n",
    "gugudan()"
   ]
  },
  {
   "cell_type": "code",
   "execution_count": 24,
   "id": "5178a565",
   "metadata": {},
   "outputs": [
    {
     "name": "stdout",
     "output_type": "stream",
     "text": [
      "숫자를 입력하세요2.3\n",
      "입력받은 숫자는 2.3입니다.\n",
      "정수가 아닙니다.\n",
      "숫자를 입력하세요r\n",
      "입력받은 숫자는 r입니다.\n",
      "정수가 아닙니다.\n",
      "숫자를 입력하세요2\n",
      "입력받은 숫자는 2입니다.\n",
      "2*1 = 2\n",
      "2*2 = 4\n",
      "2*3 = 6\n",
      "2*4 = 8\n",
      "2*5 = 10\n",
      "2*6 = 12\n",
      "2*7 = 14\n",
      "2*8 = 16\n",
      "2*9 = 18\n"
     ]
    }
   ],
   "source": [
    "def gugudan2():\n",
    "    \n",
    "    while 1:\n",
    "        n = input(\"숫자를 입력하세요\")\n",
    "        print(\"입력받은 숫자는 {}입니다.\".format(n))\n",
    "        if n.isdecimal() == False:\n",
    "            print(\"정수가 아닙니다.\")\n",
    "        else:\n",
    "            n = int(n)\n",
    "            if n>=1 and n<=9:\n",
    "                break\n",
    "    for i in range(1,10):\n",
    "        print(\"{}*{} = {}\".format(n,i,n*i))\n",
    "        \n",
    "gugudan2()"
   ]
  },
  {
   "cell_type": "markdown",
   "id": "c2243e74",
   "metadata": {},
   "source": [
    "7. n차 조화수열의 합(=1+1/2+...+1/n) 을 구하는 함수를 작성하세요. 이 함수를  n=5에 대해 실행하세요\n",
    "<br> 재귀함수 사용"
   ]
  },
  {
   "cell_type": "code",
   "execution_count": 21,
   "id": "511dc4e4",
   "metadata": {},
   "outputs": [
    {
     "data": {
      "text/plain": [
       "2.283333333333333"
      ]
     },
     "execution_count": 21,
     "metadata": {},
     "output_type": "execute_result"
    }
   ],
   "source": [
    "def func(n):\n",
    "    if n==1:\n",
    "        return 1\n",
    "    else:\n",
    "        return 1/n + func(n-1)\n",
    "func(5)"
   ]
  },
  {
   "cell_type": "code",
   "execution_count": null,
   "id": "3800ff9c",
   "metadata": {},
   "outputs": [],
   "source": []
  }
 ],
 "metadata": {
  "kernelspec": {
   "display_name": "Python 3 (ipykernel)",
   "language": "python",
   "name": "python3"
  },
  "language_info": {
   "codemirror_mode": {
    "name": "ipython",
    "version": 3
   },
   "file_extension": ".py",
   "mimetype": "text/x-python",
   "name": "python",
   "nbconvert_exporter": "python",
   "pygments_lexer": "ipython3",
   "version": "3.9.12"
  }
 },
 "nbformat": 4,
 "nbformat_minor": 5
}
