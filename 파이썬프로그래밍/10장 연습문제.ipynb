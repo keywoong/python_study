{
 "cells": [
  {
   "cell_type": "markdown",
   "id": "4e7590fc",
   "metadata": {},
   "source": [
    "1. 리스트 [1,-2,3,-5,8,-3]에서 음수인 요소를 제거하세요. 이때 반드시 filter함수와 람다를 사용한다."
   ]
  },
  {
   "cell_type": "code",
   "execution_count": 1,
   "id": "7c31f817",
   "metadata": {},
   "outputs": [
    {
     "name": "stdout",
     "output_type": "stream",
     "text": [
      "[1, 3, 8]\n"
     ]
    }
   ],
   "source": [
    "list1 = [1,-2,3,-5,8,-3]\n",
    "\n",
    "list2 = filter(lambda x:x>0, list1)\n",
    "print(list(list2))"
   ]
  },
  {
   "cell_type": "markdown",
   "id": "99df5aec",
   "metadata": {},
   "source": [
    "2. 리스트 [1,2,3,5,7,8,9,10]의 요소 중 짝수의 개수와 홀수의 개수를 세서 출력하세요. 이때 반드시 filter함수와 람다를 사용하세요"
   ]
  },
  {
   "cell_type": "code",
   "execution_count": 4,
   "id": "1928c818",
   "metadata": {},
   "outputs": [
    {
     "name": "stdout",
     "output_type": "stream",
     "text": [
      "짝수:3개, 홀수:5개\n"
     ]
    }
   ],
   "source": [
    "list1 = [1,2,3,5,7,8,9,10]\n",
    "\n",
    "cnt1 = len(list(filter(lambda x:x%2==0, list1)))\n",
    "cnt2 = len(list(filter(lambda x:x%2!=0, list1)))\n",
    "print(\"짝수:{}개, 홀수:{}개\".format(cnt1, cnt2))"
   ]
  },
  {
   "cell_type": "markdown",
   "id": "2800b1e0",
   "metadata": {},
   "source": [
    "3. 리스트~~ 의 각각의 요소에서 a가 나타나는 횟수를 리스트로 만들어 출력하세요. 이때 반드시 map 함수와 람다를 사용하세요"
   ]
  },
  {
   "cell_type": "code",
   "execution_count": 6,
   "id": "5b064b30",
   "metadata": {},
   "outputs": [
    {
     "name": "stdout",
     "output_type": "stream",
     "text": [
      "[2, 3, 1, 2, 1, 2, 2]\n"
     ]
    }
   ],
   "source": [
    "list1 = [\"Alaska\", \"Alabama\", \"Arizona\", \"Arkansas\",\"Colorado\", \"Montana\", \"Nevada\"]\n",
    "\n",
    "cnt = list(map(lambda x:x.count('a'), list1))\n",
    "print(cnt)"
   ]
  },
  {
   "cell_type": "markdown",
   "id": "997c7d3b",
   "metadata": {},
   "source": [
    "4. random모듈을 사용해서 로또번호 1부터 45사이의 숫자 6개 를 생성하세요. 중복된 숫자가 나오면 안됩니다.\n"
   ]
  },
  {
   "cell_type": "code",
   "execution_count": 13,
   "id": "e63c8304",
   "metadata": {},
   "outputs": [
    {
     "name": "stdout",
     "output_type": "stream",
     "text": [
      "[22, 6, 37, 44, 31, 20, 43]\n"
     ]
    }
   ],
   "source": [
    "import random\n",
    "result = []\n",
    "while len(result)<=6:\n",
    "    n = random.randrange(1,45)\n",
    "    if not n in result:\n",
    "        result.append(n)\n",
    "    \n",
    "print(result)"
   ]
  },
  {
   "cell_type": "code",
   "execution_count": 27,
   "id": "69df0b2b",
   "metadata": {},
   "outputs": [
    {
     "name": "stdout",
     "output_type": "stream",
     "text": [
      "[7, 12, 28, 23, 5, 38]\n"
     ]
    }
   ],
   "source": [
    "import random\n",
    "\n",
    "list1 = range(1,46)\n",
    "result = random.sample(list1, k=6)\n",
    "print(result)"
   ]
  },
  {
   "cell_type": "markdown",
   "id": "a83cef0d",
   "metadata": {},
   "source": [
    "5. 계산기 모듈인 calculator.py를 구현하세요. 계산기 모듈 안에는 다음과 같은 기능이 있어야 합니다."
   ]
  },
  {
   "cell_type": "code",
   "execution_count": 14,
   "id": "20075680",
   "metadata": {},
   "outputs": [
    {
     "name": "stdout",
     "output_type": "stream",
     "text": [
      "Writing calculator.py\n"
     ]
    }
   ],
   "source": [
    "%%writefile calculator.py\n",
    "def add(a,b):\n",
    "    return a+b\n",
    "def sub(a,b):\n",
    "    return a-b\n",
    "def mul(a,b):\n",
    "    return a*b\n",
    "def div(a,b):\n",
    "    return a/b\n",
    "def pow(a,b):\n",
    "    return a**b\n",
    "def mod(a,b):\n",
    "    return a//b"
   ]
  },
  {
   "cell_type": "code",
   "execution_count": 16,
   "id": "c58f2ba0",
   "metadata": {},
   "outputs": [
    {
     "name": "stdout",
     "output_type": "stream",
     "text": [
      "7\n",
      "-3\n",
      "10\n",
      "0.4\n",
      "32\n",
      "0\n"
     ]
    }
   ],
   "source": [
    "import calculator as c\n",
    "print(c.add(2,5))\n",
    "print(c.sub(2,5))\n",
    "print(c.mul(2,5))\n",
    "print(c.div(2,5))\n",
    "print(c.pow(2,5))\n",
    "print(c.mod(2,5))"
   ]
  },
  {
   "cell_type": "code",
   "execution_count": 28,
   "id": "3b4297df",
   "metadata": {},
   "outputs": [
    {
     "name": "stdout",
     "output_type": "stream",
     "text": [
      "Overwriting calculator_package/basic.py\n"
     ]
    }
   ],
   "source": [
    "%%writefile calculator_package/basic.py\n",
    "def add(a,b):\n",
    "    return a+b\n",
    "def sub(a,b):\n",
    "    return a-b\n",
    "def mul(a,b):\n",
    "    return a*b\n",
    "def div(a,b):\n",
    "    return a/b"
   ]
  },
  {
   "cell_type": "code",
   "execution_count": 29,
   "id": "379057da",
   "metadata": {},
   "outputs": [
    {
     "name": "stdout",
     "output_type": "stream",
     "text": [
      "Overwriting calculator_package/advanced.py\n"
     ]
    }
   ],
   "source": [
    "%%writefile calculator_package/advanced.py\n",
    "def pow(a,b):\n",
    "    return a**b\n",
    "def mod(a,b):\n",
    "    return a//b"
   ]
  },
  {
   "cell_type": "code",
   "execution_count": 30,
   "id": "4610369f",
   "metadata": {},
   "outputs": [
    {
     "name": "stdout",
     "output_type": "stream",
     "text": [
      "Overwriting calculator_package/__init__.py\n"
     ]
    }
   ],
   "source": [
    "%%writefile calculator_package/__init__.py\n",
    "__all__ = [\"basic\",\"advanced\"]"
   ]
  },
  {
   "cell_type": "code",
   "execution_count": 31,
   "id": "dcb6dfa1",
   "metadata": {},
   "outputs": [
    {
     "name": "stdout",
     "output_type": "stream",
     "text": [
      "7\n",
      "-3\n",
      "10\n",
      "0.4\n"
     ]
    },
    {
     "ename": "NameError",
     "evalue": "name 'advanced' is not defined",
     "output_type": "error",
     "traceback": [
      "\u001b[1;31m---------------------------------------------------------------------------\u001b[0m",
      "\u001b[1;31mNameError\u001b[0m                                 Traceback (most recent call last)",
      "Input \u001b[1;32mIn [31]\u001b[0m, in \u001b[0;36m<cell line: 7>\u001b[1;34m()\u001b[0m\n\u001b[0;32m      5\u001b[0m \u001b[38;5;28mprint\u001b[39m(basic\u001b[38;5;241m.\u001b[39mmul(\u001b[38;5;241m2\u001b[39m,\u001b[38;5;241m5\u001b[39m))\n\u001b[0;32m      6\u001b[0m \u001b[38;5;28mprint\u001b[39m(basic\u001b[38;5;241m.\u001b[39mdiv(\u001b[38;5;241m2\u001b[39m,\u001b[38;5;241m5\u001b[39m))\n\u001b[1;32m----> 7\u001b[0m \u001b[38;5;28mprint\u001b[39m(\u001b[43madvanced\u001b[49m\u001b[38;5;241m.\u001b[39mpow(\u001b[38;5;241m2\u001b[39m,\u001b[38;5;241m5\u001b[39m))\n\u001b[0;32m      8\u001b[0m \u001b[38;5;28mprint\u001b[39m(advanced\u001b[38;5;241m.\u001b[39mmod(\u001b[38;5;241m2\u001b[39m,\u001b[38;5;241m5\u001b[39m))\n",
      "\u001b[1;31mNameError\u001b[0m: name 'advanced' is not defined"
     ]
    }
   ],
   "source": [
    "from calculator_package import *\n",
    "\n",
    "print(basic.add(2,5))\n",
    "print(basic.sub(2,5))\n",
    "print(basic.mul(2,5))\n",
    "print(basic.div(2,5))\n",
    "print(advanced.pow(2,5))\n",
    "print(advanced.mod(2,5))"
   ]
  },
  {
   "cell_type": "code",
   "execution_count": null,
   "id": "9b8e2915",
   "metadata": {},
   "outputs": [],
   "source": []
  }
 ],
 "metadata": {
  "kernelspec": {
   "display_name": "Python 3 (ipykernel)",
   "language": "python",
   "name": "python3"
  },
  "language_info": {
   "codemirror_mode": {
    "name": "ipython",
    "version": 3
   },
   "file_extension": ".py",
   "mimetype": "text/x-python",
   "name": "python",
   "nbconvert_exporter": "python",
   "pygments_lexer": "ipython3",
   "version": "3.9.12"
  }
 },
 "nbformat": 4,
 "nbformat_minor": 5
}
