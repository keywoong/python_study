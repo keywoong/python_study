{
 "cells": [
  {
   "cell_type": "markdown",
   "metadata": {
    "id": "OFLl2jyaEx0A"
   },
   "source": [
    "## 1. 함수란?\n",
    "함수는 하나의 특정 작업을 수행하는 코드들의 집합이다. <br>\n",
    "함수는 필요한 매개값(매개변수)를 입력받고, 작업한 후, 결과값을 반환한다.\n",
    "- 반복적인 수행을 1회만 작성 후 호출\n",
    "- 코드를 논리적인 단위로 분리\n",
    "- 캡슐화 : 인터페이스만 알면 타인의 코드 사용\n",
    "\n",
    "<hr>"
   ]
  },
  {
   "cell_type": "markdown",
   "metadata": {
    "id": "dMAdbzG3E9w0"
   },
   "source": [
    "## 2. 파이썬 함수 종류\n",
    "\n",
    "함수는 총 3 종류가 있다. \n",
    "<br>\n",
    "기본함수, 파이썬 패키지에 기본적으로 내장되어 있는 내장함수, 그리고 사용자가 직접 정의하는 정의함수이다.\n",
    "\n",
    "### 2.1 기본함수\n",
    "- Built in 함수라고도 불림.\n",
    "- 파이썬 인터프리터 내에서 기본으로 내장된 함수이다. \n",
    "- `input()`, `print()`, `len()`, `del()`, `type()` 등이 있다."
   ]
  },
  {
   "cell_type": "markdown",
   "metadata": {
    "id": "cv4AD7sRFKy8"
   },
   "source": [
    "### 2.2 패키지 내장 함수\n",
    "- 특정 패키지나 모듈에 포함된 함수를 말한다.\n",
    "- math 모듈에 포함된 함수"
   ]
  },
  {
   "cell_type": "markdown",
   "metadata": {
    "id": "LhBTlhMyGrqz"
   },
   "source": [
    "### 2.3 사용자 정의 함수\n",
    "- 사용자가 필요에 따라 특정 기능의 함수를 직접 작성"
   ]
  },
  {
   "cell_type": "code",
   "execution_count": 2,
   "metadata": {
    "colab": {
     "base_uri": "https://localhost:8080/"
    },
    "executionInfo": {
     "elapsed": 45,
     "status": "ok",
     "timestamp": 1652927784195,
     "user": {
      "displayName": "Keywoong Bae",
      "userId": "10101473300544846909"
     },
     "user_tz": -540
    },
    "id": "lCWiVloOEspI",
    "outputId": "f7e7414b-10a2-49a9-a517-9c8c9a2994c1"
   },
   "outputs": [
    {
     "name": "stdout",
     "output_type": "stream",
     "text": [
      "5\n"
     ]
    }
   ],
   "source": [
    "def my_abs(value):\n",
    "    if value <0:\n",
    "        result = value * (-1)\n",
    "    else:\n",
    "        result = value\n",
    "    return result\n",
    "\n",
    "a = my_abs(-5)\n",
    "print(a)"
   ]
  },
  {
   "cell_type": "markdown",
   "metadata": {},
   "source": [
    "> 예제 3<br>\n",
    "문자열을 숫자만큼 반복 출력하는 함수\n",
    "매개변수가 2개이고 반환값이 없는 함수"
   ]
  },
  {
   "cell_type": "code",
   "execution_count": 4,
   "metadata": {
    "colab": {
     "base_uri": "https://localhost:8080/"
    },
    "executionInfo": {
     "elapsed": 36,
     "status": "ok",
     "timestamp": 1652927784197,
     "user": {
      "displayName": "Keywoong Bae",
      "userId": "10101473300544846909"
     },
     "user_tz": -540
    },
    "id": "XQYtserqHxbC",
    "outputId": "f26c7416-a879-4f5a-db6d-a1a8459a25b4"
   },
   "outputs": [
    {
     "name": "stdout",
     "output_type": "stream",
     "text": [
      "파이썬 수업입니다\n",
      "파이썬 수업입니다\n",
      "파이썬 수업입니다\n",
      "파이썬 수업입니다\n",
      "파이썬 수업입니다\n",
      "파이썬 수업입니다\n"
     ]
    }
   ],
   "source": [
    "def print_string(text,count):\n",
    "  for i in range(count):\n",
    "    print(text)\n",
    "\n",
    "print_string(\"파이썬 수업입니다\", 6)"
   ]
  },
  {
   "cell_type": "markdown",
   "metadata": {
    "id": "BrjuCYmjK178"
   },
   "source": [
    "<hr>"
   ]
  },
  {
   "cell_type": "markdown",
   "metadata": {
    "id": "i33YOogrKFac"
   },
   "source": [
    "## 3. 매개변수\n",
    "### 3.1 Return값이 있는 함수와 없는 함수\n",
    "- parameter : 함수의 입력값 인터페이스\n",
    "- argument : 실제 parameter에 대입된 값\n"
   ]
  },
  {
   "cell_type": "code",
   "execution_count": 2,
   "metadata": {
    "colab": {
     "base_uri": "https://localhost:8080/"
    },
    "executionInfo": {
     "elapsed": 21,
     "status": "ok",
     "timestamp": 1653581865937,
     "user": {
      "displayName": "Keywoong Bae",
      "userId": "10101473300544846909"
     },
     "user_tz": -540
    },
    "id": "hX5O1phLKHCp",
    "outputId": "06e063e1-ef03-463b-a72d-bd9efacd0d9d"
   },
   "outputs": [
    {
     "name": "stdout",
     "output_type": "stream",
     "text": [
      "11\n"
     ]
    }
   ],
   "source": [
    "def f(x): #x : Parameter\n",
    "    return 2*x + 7\n",
    "print(f(2)) # 2 : Argument"
   ]
  },
  {
   "cell_type": "markdown",
   "metadata": {},
   "source": [
    "위에서 f(x)에 넣는 `x`값이 `parameter`이고, 실제값이 `2`가 `argument`이다."
   ]
  },
  {
   "cell_type": "markdown",
   "metadata": {
    "id": "-bPzf1M5KPjA"
   },
   "source": [
    "Parameter(input)와 Return Value(output)의 유무에 따라 함수의 형태가 다르다.<br>\n",
    "\n",
    "||파라미터 존재|파라미터 존재X|\n",
    "|----|----|----|\n",
    "|리턴값 존재|(a)<br>인자를 사용하여 수행문 수행 후, 결과값 반환|(b)<br>인자 없이 수행문 수행 후, 결과값 반환|\n",
    "|리턴값 존재X|(c)<br>파라미터 이용해서 그냥 수행문만 수행|(d)<br>수행문만 수행|"
   ]
  },
  {
   "cell_type": "code",
   "execution_count": 6,
   "metadata": {},
   "outputs": [
    {
     "name": "stdout",
     "output_type": "stream",
     "text": [
      "9\n"
     ]
    }
   ],
   "source": [
    "def a(param): \n",
    "    # 파라미터랑 리턴값 둘 다 존재\n",
    "    return param*3\n",
    "print(a(3))"
   ]
  },
  {
   "cell_type": "code",
   "execution_count": 7,
   "metadata": {},
   "outputs": [
    {
     "name": "stdout",
     "output_type": "stream",
     "text": [
      "3\n"
     ]
    }
   ],
   "source": [
    "def b():\n",
    "    # 파라미터 존재하지 않음. 리턴값만 존재\n",
    "    return 3\n",
    "print(b())"
   ]
  },
  {
   "cell_type": "markdown",
   "metadata": {},
   "source": [
    "함수에 return값이 있는 경우 print를 했을 때 return 값이 출력된다."
   ]
  },
  {
   "cell_type": "code",
   "execution_count": 10,
   "metadata": {},
   "outputs": [
    {
     "name": "stdout",
     "output_type": "stream",
     "text": [
      "9\n",
      "None\n"
     ]
    }
   ],
   "source": [
    "def c(param):\n",
    "    # 파라미터는 존재하고, 리턴값은 존재하지 않음.\n",
    "    param = param*3\n",
    "    print(param)\n",
    "print(c(3))"
   ]
  },
  {
   "cell_type": "code",
   "execution_count": 11,
   "metadata": {},
   "outputs": [
    {
     "name": "stdout",
     "output_type": "stream",
     "text": [
      "3\n",
      "None\n"
     ]
    }
   ],
   "source": [
    "def d():\n",
    "    # 파라미터도 없고 리턴값도 없음\n",
    "    a =3 \n",
    "    print(a)\n",
    "print(d())"
   ]
  },
  {
   "cell_type": "markdown",
   "metadata": {},
   "source": [
    "반면 리턴값이 없는 경우에는 매개변수의 여부 상관 없이 <br>\n",
    "1. 먼저 함수 안의 수행문이 먼저 실행된다. 예를 들면 `print()`문이 먼저 실행\n",
    "2. 그 다음은 None이 출력된다. Return값이 없기 때문"
   ]
  },
  {
   "cell_type": "markdown",
   "metadata": {
    "id": "5byogD3ANKvh"
   },
   "source": [
    "### 3.2 기본 매개변수\n",
    "함수를 정의할 때, 매개변수의 기본값(default값)을 설정할 수 있다.<br>\n",
    "기본값이 설정된 매개변수를 기본 매개변수라고 하며,<br>\n",
    "함수를 호출할 때 함수 내 매개변수를 입력하지 않으면 기본값(default 값)이 자동설정된다. "
   ]
  },
  {
   "cell_type": "code",
   "execution_count": 12,
   "metadata": {
    "colab": {
     "base_uri": "https://localhost:8080/"
    },
    "executionInfo": {
     "elapsed": 33,
     "status": "ok",
     "timestamp": 1652927784199,
     "user": {
      "displayName": "Keywoong Bae",
      "userId": "10101473300544846909"
     },
     "user_tz": -540
    },
    "id": "EtqUbqEgIBeB",
    "outputId": "aa5e93ca-1058-4079-d6e3-705da94d6b8c"
   },
   "outputs": [
    {
     "name": "stdout",
     "output_type": "stream",
     "text": [
      "파이썬 수업입니다\n"
     ]
    }
   ],
   "source": [
    "# 예제3\n",
    "def print_string(text,count=1):\n",
    "    # text는 매개변수, 기본값이 설정된 count는 기본 매개변수\n",
    "  for i in range(count):\n",
    "    print(text)\n",
    "\n",
    "print_string(\"파이썬 수업입니다\")"
   ]
  },
  {
   "cell_type": "markdown",
   "metadata": {},
   "source": [
    "이렇게 count의 값을 따로 지정해주지 않으면 기본 매개변수 값인 1이 입력된다."
   ]
  },
  {
   "cell_type": "markdown",
   "metadata": {
    "id": "So-qv7ZjOIoJ"
   },
   "source": [
    "### 3.2 가변 매개변수\n",
    "1. 함수를 정의할 때 매개변수를 크기가 정해지지 않은 순서열 데이터로 정의 가능 <br>(여기서 &#42; 는 튜플, &#42; &#42;는 딕셔너리, 그리고 &#42;는 <b>asterisk</b>라고 한다.)\n",
    "2. 함수를 호출할 때 매개변수 값을 원하는 만큼 입력 가능\n",
    "3. 가변 매개변수는 함수 당 하나만 정의 가능\n",
    "4. 일반 매개변수를 항상 먼저 정의해야 함.\n",
    "5. 가변 매개변수는 오직 한개만 맨 마지막 parameter 위치에 사용가능하다."
   ]
  },
  {
   "cell_type": "code",
   "execution_count": 14,
   "metadata": {
    "colab": {
     "base_uri": "https://localhost:8080/"
    },
    "executionInfo": {
     "elapsed": 29,
     "status": "ok",
     "timestamp": 1652927784200,
     "user": {
      "displayName": "Keywoong Bae",
      "userId": "10101473300544846909"
     },
     "user_tz": -540
    },
    "id": "aZtvPAUYNgOS",
    "outputId": "19cc069c-0611-4c10-ffa6-f43ef5f4adcb"
   },
   "outputs": [
    {
     "name": "stdout",
     "output_type": "stream",
     "text": [
      "('파이썬', '수업', '입니다.')\n",
      "('파이썬', '수업', '입니다.')\n",
      "('파이썬', '수업', '입니다.')\n"
     ]
    }
   ],
   "source": [
    "# 예제4 예제2에서 출력 문자열을 가변 매개변수로 지정\n",
    "def print_string(count,*text):\n",
    "  for i in range(count):\n",
    "    print(text)\n",
    "\n",
    "print_string(3, \"파이썬\", \"수업\",\"입니다.\") # 매개변수 값을 원하는 만큼 입력 가능."
   ]
  },
  {
   "cell_type": "code",
   "execution_count": 21,
   "metadata": {},
   "outputs": [
    {
     "name": "stdout",
     "output_type": "stream",
     "text": [
      "count입니다 :  3\n",
      "*text입니다 :  파이썬 수업 입니다.\n",
      "text입니다 :  ('파이썬', '수업', '입니다.') <class 'tuple'>\n"
     ]
    }
   ],
   "source": [
    "def print_string_check(count,*text):\n",
    "    print('count입니다 : ',count)\n",
    "    print('*text입니다 : ',*text)\n",
    "    print('text입니다 : ',text, type(text)) \n",
    "\n",
    "print_string_check(3, \"파이썬\", \"수업\",\"입니다.\")"
   ]
  },
  {
   "cell_type": "markdown",
   "metadata": {},
   "source": [
    "&#42; text로 하면 string값이 나오고<br>\n",
    "text로 하면 tuple로 나온다."
   ]
  },
  {
   "cell_type": "code",
   "execution_count": 22,
   "metadata": {
    "colab": {
     "base_uri": "https://localhost:8080/"
    },
    "executionInfo": {
     "elapsed": 11,
     "status": "ok",
     "timestamp": 1653582893005,
     "user": {
      "displayName": "Keywoong Bae",
      "userId": "10101473300544846909"
     },
     "user_tz": -540
    },
    "id": "sofEqSB8OAIj",
    "outputId": "83f467ef-4e13-45ad-98a4-7f34c899837c"
   },
   "outputs": [
    {
     "name": "stdout",
     "output_type": "stream",
     "text": [
      "14\n"
     ]
    }
   ],
   "source": [
    "def asterisk_test(a,b,*args):\n",
    "    return a*b+sum(args)\n",
    "print(asterisk_test(1,2,3,4,5))"
   ]
  },
  {
   "cell_type": "code",
   "execution_count": 25,
   "metadata": {
    "colab": {
     "base_uri": "https://localhost:8080/"
    },
    "executionInfo": {
     "elapsed": 320,
     "status": "ok",
     "timestamp": 1653582972050,
     "user": {
      "displayName": "Keywoong Bae",
      "userId": "10101473300544846909"
     },
     "user_tz": -540
    },
    "id": "x-TbeLCZOMD3",
    "outputId": "5d7f548b-5c93-4331-d50b-4556b6f4e99d"
   },
   "outputs": [
    {
     "name": "stdout",
     "output_type": "stream",
     "text": [
      "(3, 4, 5)\n",
      "<class 'tuple'>\n"
     ]
    }
   ],
   "source": [
    "def asterisk_test1(a,b,*args):\n",
    "    return args\n",
    "print(asterisk_test1(1,2,3,4,5))\n",
    "print(type(asterisk_test1(1,2,3,4,5)))"
   ]
  },
  {
   "cell_type": "code",
   "execution_count": 19,
   "metadata": {
    "colab": {
     "base_uri": "https://localhost:8080/"
    },
    "executionInfo": {
     "elapsed": 14,
     "status": "ok",
     "timestamp": 1653582972051,
     "user": {
      "displayName": "Keywoong Bae",
      "userId": "10101473300544846909"
     },
     "user_tz": -540
    },
    "id": "ZHtFssTVOVKx",
    "outputId": "8b0c8e7e-c964-4dda-e673-f15d30b04e21"
   },
   "outputs": [
    {
     "name": "stdout",
     "output_type": "stream",
     "text": [
      "3\n",
      "<class 'int'>\n"
     ]
    }
   ],
   "source": [
    "def asterisk_test2(a,b,*args):\n",
    "  return args[0]\n",
    "print(asterisk_test2(1,2,3,4,5))\n",
    "print(type(asterisk_test2(1,2,3,4,5)))"
   ]
  },
  {
   "cell_type": "code",
   "execution_count": 27,
   "metadata": {
    "colab": {
     "base_uri": "https://localhost:8080/"
    },
    "executionInfo": {
     "elapsed": 9,
     "status": "ok",
     "timestamp": 1653583030413,
     "user": {
      "displayName": "Keywoong Bae",
      "userId": "10101473300544846909"
     },
     "user_tz": -540
    },
    "id": "7kogeJztOhlh",
    "outputId": "0c8ce981-6305-4932-866e-8084a5f32bb3"
   },
   "outputs": [
    {
     "name": "stdout",
     "output_type": "stream",
     "text": [
      "(1, 2, 3)\n"
     ]
    }
   ],
   "source": [
    "def asterisk_test3(*args):\n",
    "    x,y,z = args #unpacking\n",
    "    return x,y,z\n",
    "print(asterisk_test3(1,2,3))"
   ]
  },
  {
   "cell_type": "code",
   "execution_count": 28,
   "metadata": {
    "colab": {
     "base_uri": "https://localhost:8080/",
     "height": 325
    },
    "executionInfo": {
     "elapsed": 24,
     "status": "error",
     "timestamp": 1653583069567,
     "user": {
      "displayName": "Keywoong Bae",
      "userId": "10101473300544846909"
     },
     "user_tz": -540
    },
    "id": "NVfuG9RrOtK6",
    "outputId": "62405bb5-2ef6-4f68-b4b6-3965af0ca5d9"
   },
   "outputs": [
    {
     "ename": "ValueError",
     "evalue": "too many values to unpack (expected 3)",
     "output_type": "error",
     "traceback": [
      "\u001b[1;31m---------------------------------------------------------------------------\u001b[0m",
      "\u001b[1;31mValueError\u001b[0m                                Traceback (most recent call last)",
      "Input \u001b[1;32mIn [28]\u001b[0m, in \u001b[0;36m<cell line: 4>\u001b[1;34m()\u001b[0m\n\u001b[0;32m      2\u001b[0m     x,y,z \u001b[38;5;241m=\u001b[39m args\n\u001b[0;32m      3\u001b[0m     \u001b[38;5;28;01mreturn\u001b[39;00m args\n\u001b[1;32m----> 4\u001b[0m \u001b[38;5;28mprint\u001b[39m(\u001b[43mf\u001b[49m\u001b[43m(\u001b[49m\u001b[38;5;241;43m1\u001b[39;49m\u001b[43m,\u001b[49m\u001b[38;5;241;43m2\u001b[39;49m\u001b[43m,\u001b[49m\u001b[38;5;241;43m3\u001b[39;49m\u001b[43m,\u001b[49m\u001b[38;5;241;43m4\u001b[39;49m\u001b[43m)\u001b[49m)\n",
      "Input \u001b[1;32mIn [28]\u001b[0m, in \u001b[0;36mf\u001b[1;34m(*args)\u001b[0m\n\u001b[0;32m      1\u001b[0m \u001b[38;5;28;01mdef\u001b[39;00m \u001b[38;5;21mf\u001b[39m(\u001b[38;5;241m*\u001b[39margs):\n\u001b[1;32m----> 2\u001b[0m     x,y,z \u001b[38;5;241m=\u001b[39m args\n\u001b[0;32m      3\u001b[0m     \u001b[38;5;28;01mreturn\u001b[39;00m args\n",
      "\u001b[1;31mValueError\u001b[0m: too many values to unpack (expected 3)"
     ]
    }
   ],
   "source": [
    "def f(*args):\n",
    "    x,y,z = args\n",
    "    return args\n",
    "print(f(1,2,3,4))"
   ]
  },
  {
   "cell_type": "markdown",
   "metadata": {
    "id": "-wUdsQSFO2no"
   },
   "source": [
    "#### 키워드 가변인자 (Keyword variable-length)\n",
    "- parameter 이름을 따로 지정하지 않고 입력하는 방법\n",
    "- Asterisk(&#42;) 2개를 사용하여 함수의 parameter를 표시한다.\n",
    "- 입력된 값은 dict type로 사용할 수 있다.\n",
    "- 키워드 가변인자는 오직 한 개만 기존 가변인자 다음에 사용한다."
   ]
  },
  {
   "cell_type": "code",
   "execution_count": null,
   "metadata": {
    "colab": {
     "base_uri": "https://localhost:8080/"
    },
    "executionInfo": {
     "elapsed": 25,
     "status": "ok",
     "timestamp": 1652927784202,
     "user": {
      "displayName": "Keywoong Bae",
      "userId": "10101473300544846909"
     },
     "user_tz": -540
    },
    "id": "_ZHC7nGFPE0Z",
    "outputId": "603cbb21-d2f9-47ad-dfae-cf4cb63285ea"
   },
   "outputs": [
    {
     "name": "stdout",
     "output_type": "stream",
     "text": [
      "name:홍길동\n",
      "age:30\n",
      "address:인천광역시 미추홀구 용현동\n"
     ]
    }
   ],
   "source": [
    "# 예제5 가변 매개변수를 딕셔너리로 저장한 예시\n",
    "def personal_info(**person):\n",
    "  for key in person.keys():\n",
    "    print(\"{}:{}\".format(key, person[key]))\n",
    "\n",
    "personal_info(name = \"홍길동\", age = 30, address = \"인천광역시 미추홀구 용현동\")"
   ]
  },
  {
   "cell_type": "code",
   "execution_count": 24,
   "metadata": {
    "executionInfo": {
     "elapsed": 8,
     "status": "ok",
     "timestamp": 1653583348787,
     "user": {
      "displayName": "Keywoong Bae",
      "userId": "10101473300544846909"
     },
     "user_tz": -540
    },
    "id": "n_1E6ScUPRxq"
   },
   "outputs": [],
   "source": [
    "def kwargs_test1(**kwargs):\n",
    "  print(kwargs)\n",
    "def kwargs_test2(**kwargs):\n",
    "  print(kwargs)\n",
    "  print('First value is {first}'.format(**kwargs))\n",
    "  print('Second value is {second}'.format(**kwargs))\n",
    "  print('Third value is {third}'.format(**kwargs))"
   ]
  },
  {
   "cell_type": "code",
   "execution_count": 25,
   "metadata": {
    "colab": {
     "base_uri": "https://localhost:8080/"
    },
    "executionInfo": {
     "elapsed": 359,
     "status": "ok",
     "timestamp": 1653583358412,
     "user": {
      "displayName": "Keywoong Bae",
      "userId": "10101473300544846909"
     },
     "user_tz": -540
    },
    "id": "P2LZmmswP4x6",
    "outputId": "f2e90cd1-0715-4a54-b5fd-a6bf08572082"
   },
   "outputs": [
    {
     "name": "stdout",
     "output_type": "stream",
     "text": [
      "{'first': 3, 'second': 4, 'third': 5}\n"
     ]
    }
   ],
   "source": [
    "kwargs_test1(first = 3, second = 4, third=  5)"
   ]
  },
  {
   "cell_type": "code",
   "execution_count": 26,
   "metadata": {
    "colab": {
     "base_uri": "https://localhost:8080/"
    },
    "executionInfo": {
     "elapsed": 9,
     "status": "ok",
     "timestamp": 1653583358690,
     "user": {
      "displayName": "Keywoong Bae",
      "userId": "10101473300544846909"
     },
     "user_tz": -540
    },
    "id": "sN6F9hw5P4vl",
    "outputId": "61123bdf-3b1d-42cf-eae5-dd0656710878"
   },
   "outputs": [
    {
     "name": "stdout",
     "output_type": "stream",
     "text": [
      "{'first': 3, 'second': 4, 'third': 5}\n",
      "First value is 3\n",
      "Second value is 4\n",
      "Third value is 5\n"
     ]
    }
   ],
   "source": [
    "kwargs_test2(first = 3, second = 4, third=  5)"
   ]
  },
  {
   "cell_type": "markdown",
   "metadata": {
    "id": "TgSVoXeGRoyV"
   },
   "source": [
    "모든 arguments를 사용한 예"
   ]
  },
  {
   "cell_type": "code",
   "execution_count": 27,
   "metadata": {
    "colab": {
     "base_uri": "https://localhost:8080/"
    },
    "executionInfo": {
     "elapsed": 17,
     "status": "ok",
     "timestamp": 1653583867998,
     "user": {
      "displayName": "Keywoong Bae",
      "userId": "10101473300544846909"
     },
     "user_tz": -540
    },
    "id": "LmSm9YmZRq3X",
    "outputId": "0003fe6f-fa62-4b78-e14c-bedd98b0925a"
   },
   "outputs": [
    {
     "name": "stdout",
     "output_type": "stream",
     "text": [
      "42\n",
      "{'first': 3, 'second': 4, 'thrid': 5}\n"
     ]
    }
   ],
   "source": [
    "def all_arguments(one, two, *args, **kwargs):\n",
    "  print(one+two+sum(args))\n",
    "  print(kwargs)\n",
    "all_arguments(3,4,5,6,7,8,9, first = 3, second = 4, thrid = 5)"
   ]
  },
  {
   "cell_type": "markdown",
   "metadata": {
    "id": "vKC8-ikSbM8t"
   },
   "source": [
    "## 3.3 키워드 매개변수\n",
    "함수를 호출할 때, 매개변수의 이름을 직접 지정해서 값을 입력하는 방식<br>\n",
    "1) 기본 매개변수와 가변 매개변수를 같이 사용하고 싶을 때\n",
    "- 기본 매개변수를 가변 매개변수보다 나중에 정의해야 한다.\n",
    "- 함수 호출 시, 기본 매개변수의 값을 입력할 때 키워드 매개변수로 입력"
   ]
  },
  {
   "cell_type": "code",
   "execution_count": null,
   "metadata": {
    "colab": {
     "base_uri": "https://localhost:8080/",
     "height": 344
    },
    "executionInfo": {
     "elapsed": 515,
     "status": "error",
     "timestamp": 1652927784698,
     "user": {
      "displayName": "Keywoong Bae",
      "userId": "10101473300544846909"
     },
     "user_tz": -540
    },
    "id": "hjqO5a0OPJPw",
    "outputId": "be0d31ff-a8bc-4d0e-f0e5-ab362b49b109"
   },
   "outputs": [
    {
     "ename": "TypeError",
     "evalue": "ignored",
     "output_type": "error",
     "traceback": [
      "\u001b[0;31m---------------------------------------------------------------------------\u001b[0m",
      "\u001b[0;31mTypeError\u001b[0m                                 Traceback (most recent call last)",
      "\u001b[0;32m<ipython-input-6-5439497bbe26>\u001b[0m in \u001b[0;36m<module>\u001b[0;34m()\u001b[0m\n\u001b[1;32m      6\u001b[0m     \u001b[0mprint\u001b[0m\u001b[0;34m(\u001b[0m\u001b[0;34m)\u001b[0m\u001b[0;34m\u001b[0m\u001b[0;34m\u001b[0m\u001b[0m\n\u001b[1;32m      7\u001b[0m \u001b[0;34m\u001b[0m\u001b[0m\n\u001b[0;32m----> 8\u001b[0;31m \u001b[0mprint_string\u001b[0m\u001b[0;34m(\u001b[0m\u001b[0;34m\"파이썬\"\u001b[0m\u001b[0;34m,\u001b[0m \u001b[0;34m\"프로그래밍\"\u001b[0m\u001b[0;34m,\u001b[0m \u001b[0;34m\"수업입니다.\"\u001b[0m\u001b[0;34m)\u001b[0m\u001b[0;34m\u001b[0m\u001b[0;34m\u001b[0m\u001b[0m\n\u001b[0m",
      "\u001b[0;32m<ipython-input-6-5439497bbe26>\u001b[0m in \u001b[0;36mprint_string\u001b[0;34m(count, *text)\u001b[0m\n\u001b[1;32m      1\u001b[0m \u001b[0;31m# 1-1. 기본 매개변수를 먼저 선언한 경우\u001b[0m\u001b[0;34m\u001b[0m\u001b[0;34m\u001b[0m\u001b[0;34m\u001b[0m\u001b[0m\n\u001b[1;32m      2\u001b[0m \u001b[0;32mdef\u001b[0m \u001b[0mprint_string\u001b[0m\u001b[0;34m(\u001b[0m\u001b[0mcount\u001b[0m \u001b[0;34m=\u001b[0m \u001b[0;36m3\u001b[0m\u001b[0;34m,\u001b[0m \u001b[0;34m*\u001b[0m\u001b[0mtext\u001b[0m\u001b[0;34m)\u001b[0m\u001b[0;34m:\u001b[0m\u001b[0;34m\u001b[0m\u001b[0;34m\u001b[0m\u001b[0m\n\u001b[0;32m----> 3\u001b[0;31m   \u001b[0;32mfor\u001b[0m \u001b[0mi\u001b[0m \u001b[0;32min\u001b[0m \u001b[0mrange\u001b[0m\u001b[0;34m(\u001b[0m\u001b[0mcount\u001b[0m\u001b[0;34m)\u001b[0m\u001b[0;34m:\u001b[0m\u001b[0;34m\u001b[0m\u001b[0;34m\u001b[0m\u001b[0m\n\u001b[0m\u001b[1;32m      4\u001b[0m     \u001b[0;32mfor\u001b[0m \u001b[0mt\u001b[0m \u001b[0;32min\u001b[0m \u001b[0mtext\u001b[0m\u001b[0;34m:\u001b[0m\u001b[0;34m\u001b[0m\u001b[0;34m\u001b[0m\u001b[0m\n\u001b[1;32m      5\u001b[0m       \u001b[0mprint\u001b[0m\u001b[0;34m(\u001b[0m\u001b[0mt\u001b[0m\u001b[0;34m)\u001b[0m\u001b[0;34m\u001b[0m\u001b[0;34m\u001b[0m\u001b[0m\n",
      "\u001b[0;31mTypeError\u001b[0m: 'str' object cannot be interpreted as an integer"
     ]
    }
   ],
   "source": [
    "# 1-1. 기본 매개변수를 먼저 선언한 경우\n",
    "def print_string(count = 3, *text):\n",
    "  for i in range(count):\n",
    "    for t in text:\n",
    "      print(t)\n",
    "    print()\n",
    "\n",
    "print_string(\"파이썬\", \"프로그래밍\", \"수업입니다.\")"
   ]
  },
  {
   "cell_type": "markdown",
   "metadata": {
    "id": "gfQnll2_gKbX"
   },
   "source": [
    "기본매개변수와 가변매개변수 중 기본 매개변수를 먼저 정의한 경우에는 함수를 불러올 때, 기본 매개변수의 값을 입력할 때 키워드 매개변수로 입력해야한다."
   ]
  },
  {
   "cell_type": "code",
   "execution_count": null,
   "metadata": {
    "colab": {
     "base_uri": "https://localhost:8080/"
    },
    "executionInfo": {
     "elapsed": 286,
     "status": "ok",
     "timestamp": 1652927790187,
     "user": {
      "displayName": "Keywoong Bae",
      "userId": "10101473300544846909"
     },
     "user_tz": -540
    },
    "id": "eFKtOfx0e_uw",
    "outputId": "68259d72-13d3-460f-c803-bf6d65f6e353"
   },
   "outputs": [
    {
     "name": "stdout",
     "output_type": "stream",
     "text": [
      "파이썬\n",
      "프로그래밍\n",
      "수업입니다.\n",
      "\n",
      "파이썬\n",
      "프로그래밍\n",
      "수업입니다.\n",
      "\n",
      "파이썬\n",
      "프로그래밍\n",
      "수업입니다.\n",
      "\n"
     ]
    }
   ],
   "source": [
    "# 1-2. 가변매개변수를 먼저 선언한 경우\n",
    "def print_string(*text,count = 3):\n",
    "  for i in range(count):\n",
    "    for t in text:\n",
    "      print(t)\n",
    "    print()\n",
    "\n",
    "print_string(\"파이썬\", \"프로그래밍\", \"수업입니다.\")"
   ]
  },
  {
   "cell_type": "code",
   "execution_count": null,
   "metadata": {
    "colab": {
     "base_uri": "https://localhost:8080/"
    },
    "executionInfo": {
     "elapsed": 14,
     "status": "ok",
     "timestamp": 1652927791258,
     "user": {
      "displayName": "Keywoong Bae",
      "userId": "10101473300544846909"
     },
     "user_tz": -540
    },
    "id": "zLoAZtuhfEFt",
    "outputId": "51a813d2-3bab-4bdc-ea66-e8ee58564f15"
   },
   "outputs": [
    {
     "name": "stdout",
     "output_type": "stream",
     "text": [
      ">>count 키워드 사용\n",
      "파이썬\n",
      "프로그래밍\n",
      "수업입니다\n",
      "\n",
      ">>count 키워드 사용x\n",
      "파이썬\n",
      "프로그래밍\n",
      "수업입니다\n",
      "2\n",
      "\n"
     ]
    }
   ],
   "source": [
    "# 1-3. 함수 호출 시, 키워드 매개변수를 사용해서 기본 매개변수의 값 입력\n",
    "\n",
    "def print_string(*text, count = 1):\n",
    "  for i in range(count):\n",
    "    for t in text:\n",
    "      print(t)\n",
    "    print()\n",
    "\n",
    "print(\">>count 키워드 사용\")\n",
    "print_string(\"파이썬\",\"프로그래밍\",\"수업입니다\",count=1)\n",
    "print(\">>count 키워드 사용x\")\n",
    "print_string(\"파이썬\",\"프로그래밍\",\"수업입니다\",2)"
   ]
  },
  {
   "cell_type": "code",
   "execution_count": null,
   "metadata": {
    "colab": {
     "base_uri": "https://localhost:8080/"
    },
    "executionInfo": {
     "elapsed": 10,
     "status": "ok",
     "timestamp": 1652927791259,
     "user": {
      "displayName": "Keywoong Bae",
      "userId": "10101473300544846909"
     },
     "user_tz": -540
    },
    "id": "VHsDeN4hhZ4n",
    "outputId": "2f7d050d-d027-4699-d257-eca2c7528752"
   },
   "outputs": [
    {
     "name": "stdout",
     "output_type": "stream",
     "text": [
      "341\n",
      "261\n",
      "341\n",
      "321\n"
     ]
    }
   ],
   "source": [
    "# 1-4. 기본 매개변수 중 필요한 값만 입력하거나 순서 상관없이 입력하기\n",
    "def sum(a,b = 10, c = 100):\n",
    "  return a+2*b+3*c\n",
    "\n",
    "print(sum(1,20,100)) #(1,20,100)\n",
    "print(sum(1,c = 20,b = 100)) #(1,100,20)\n",
    "print(sum(1,20)) #(1,20,100)\n",
    "print(sum(1,c = 100)) #(1,10,100)"
   ]
  },
  {
   "cell_type": "code",
   "execution_count": null,
   "metadata": {
    "colab": {
     "base_uri": "https://localhost:8080/"
    },
    "executionInfo": {
     "elapsed": 4193,
     "status": "ok",
     "timestamp": 1652927796217,
     "user": {
      "displayName": "Keywoong Bae",
      "userId": "10101473300544846909"
     },
     "user_tz": -540
    },
    "id": "1zpR4iI2hw2w",
    "outputId": "fbe89e91-1b8e-46f8-e017-ffccdfd1bd96"
   },
   "outputs": [
    {
     "name": "stdout",
     "output_type": "stream",
     "text": [
      "정수를 입력하세요\n",
      "3.2\n",
      "입력받은 숫자3.2\n",
      "정수를 입력하세요\n",
      "3\n",
      "입력받은 숫자3\n",
      "변수 a = 3\n"
     ]
    }
   ],
   "source": [
    "# 1-5. 매개변수 없이 반환값만 있는 함수\n",
    "def get_init():\n",
    "  while 1:\n",
    "    print(\"정수를 입력하세요\")\n",
    "    n = input()\n",
    "    print(\"입력받은 숫자\" +n)\n",
    "    if n.isdecimal():\n",
    "        break\n",
    "  return int(n)\n",
    "\n",
    "a = get_init()\n",
    "print(\"변수 a = {}\".format(a))"
   ]
  },
  {
   "cell_type": "code",
   "execution_count": null,
   "metadata": {
    "colab": {
     "base_uri": "https://localhost:8080/"
    },
    "executionInfo": {
     "elapsed": 71,
     "status": "ok",
     "timestamp": 1652927796218,
     "user": {
      "displayName": "Keywoong Bae",
      "userId": "10101473300544846909"
     },
     "user_tz": -540
    },
    "id": "MDdJ0nnsiQal",
    "outputId": "8d249947-290b-422a-c40c-7ded4780ce81"
   },
   "outputs": [
    {
     "name": "stdout",
     "output_type": "stream",
     "text": [
      "파이썬\n",
      "\n",
      "프로그래밍\n",
      "\n",
      "프로그래밍\n",
      "\n"
     ]
    }
   ],
   "source": [
    "# 1-6. 문구 2회 이하만 출력하기\n",
    "def print_string(count, *text):\n",
    "  for i in range(1,count+1):\n",
    "    for t in text:\n",
    "      print(t)\n",
    "    print()\n",
    "    if i ==2:\n",
    "      return\n",
    "\n",
    "print_string(1, \"파이썬\")\n",
    "print_string(4, \"프로그래밍\")"
   ]
  },
  {
   "cell_type": "markdown",
   "metadata": {
    "id": "fi1g9L5Vixp6"
   },
   "source": [
    "i가 2가 되면 return을 하도록 한다. 이때 return에 빈 값을 넣어서 반환한다. >> return을 프로그램을 종료시키는 용도로 사용"
   ]
  },
  {
   "cell_type": "markdown",
   "metadata": {
    "id": "pMo18FiCi_uU"
   },
   "source": [
    "## 3.4 함수의 필요성\n",
    "- 프로그램이 크고 복잡한 경우, 이를 함수로 만들어 부분으로 분해할 수 있다.\n",
    "- 한번 작성된 함수는 여러번 호출해서 사용할 수 있다.\n",
    "- 한번 작성된 함수를 다른 프로그램에서 사용할 수 있다.\n",
    "- 코드의 안전성이 좋아지고 에러 수정하기 쉬워짐.\n",
    "\n",
    "<hr>"
   ]
  },
  {
   "cell_type": "markdown",
   "metadata": {
    "id": "OirLBI8Yi-Bl"
   },
   "source": [
    "# 4. 함수 응용\n",
    "(둘 이상의 값 반환, 팩토리알, 피보나치)"
   ]
  },
  {
   "cell_type": "markdown",
   "metadata": {
    "id": "aPgQPU_wjqvT"
   },
   "source": [
    "## 4.1 함수에서 둘 이상의 값 반환하기\n",
    "2개 이상의 값을 콤마로 구분해서 반환, 이는 튜플로 묶어서 반환하는 것과 동일"
   ]
  },
  {
   "cell_type": "code",
   "execution_count": null,
   "metadata": {
    "colab": {
     "base_uri": "https://localhost:8080/"
    },
    "executionInfo": {
     "elapsed": 66,
     "status": "ok",
     "timestamp": 1652927796219,
     "user": {
      "displayName": "Keywoong Bae",
      "userId": "10101473300544846909"
     },
     "user_tz": -540
    },
    "id": "avD86f-Virex",
    "outputId": "368c98cb-b6be-464f-9512-30fdbfc5f7a4"
   },
   "outputs": [
    {
     "name": "stdout",
     "output_type": "stream",
     "text": [
      "30\n",
      "-10\n"
     ]
    }
   ],
   "source": [
    "# 둘 이상의 값 반환하기\n",
    "def add_sub(a,b):\n",
    "  return a+b, a-b\n",
    "\n",
    "x, y = add_sub(10,20)\n",
    "print(x)\n",
    "print(y)"
   ]
  },
  {
   "cell_type": "code",
   "execution_count": null,
   "metadata": {
    "colab": {
     "base_uri": "https://localhost:8080/"
    },
    "executionInfo": {
     "elapsed": 57,
     "status": "ok",
     "timestamp": 1652927796220,
     "user": {
      "displayName": "Keywoong Bae",
      "userId": "10101473300544846909"
     },
     "user_tz": -540
    },
    "id": "jEL7rSXpj8o1",
    "outputId": "3a61b489-f44c-48a2-8de5-140b0de236c4"
   },
   "outputs": [
    {
     "name": "stdout",
     "output_type": "stream",
     "text": [
      "[2, 6, 10, 14, 18]\n"
     ]
    }
   ],
   "source": [
    "# 둘 이상의 값 반환하기 (리스트)\n",
    "def return_list(list_):\n",
    "  return [2*i for i in list_]\n",
    "\n",
    "list1 = [1,3,5,7,9]\n",
    "list2 = return_list(list1)\n",
    "print(list2)"
   ]
  },
  {
   "cell_type": "markdown",
   "metadata": {
    "id": "EsDeg4HTkXDa"
   },
   "source": [
    "### 4.2 팩토리알\n"
   ]
  },
  {
   "cell_type": "code",
   "execution_count": null,
   "metadata": {
    "colab": {
     "base_uri": "https://localhost:8080/"
    },
    "executionInfo": {
     "elapsed": 50,
     "status": "ok",
     "timestamp": 1652927796221,
     "user": {
      "displayName": "Keywoong Bae",
      "userId": "10101473300544846909"
     },
     "user_tz": -540
    },
    "id": "7e2G3j7mkR-h",
    "outputId": "a42f2c5e-36a1-4fa5-e5d5-70b464fb24d5"
   },
   "outputs": [
    {
     "name": "stdout",
     "output_type": "stream",
     "text": [
      "4의 팩토리알은 24\n",
      "5의 팩토리알은 120\n"
     ]
    }
   ],
   "source": [
    "# 반복문으로 구하기\n",
    "\n",
    "def factorial1(n):\n",
    "  result = 1\n",
    "  for i in range(1,n+1):\n",
    "    result *=i\n",
    "  return result\n",
    "\n",
    "print(\"4의 팩토리알은 {}\".format(factorial1(4)))\n",
    "print(\"5의 팩토리알은 {}\".format(factorial1(5)))"
   ]
  },
  {
   "cell_type": "code",
   "execution_count": null,
   "metadata": {
    "colab": {
     "base_uri": "https://localhost:8080/"
    },
    "executionInfo": {
     "elapsed": 42,
     "status": "ok",
     "timestamp": 1652927796221,
     "user": {
      "displayName": "Keywoong Bae",
      "userId": "10101473300544846909"
     },
     "user_tz": -540
    },
    "id": "lJ6UPcxFklMc",
    "outputId": "01273f43-224c-4dcd-e826-11e9a2aecb38"
   },
   "outputs": [
    {
     "name": "stdout",
     "output_type": "stream",
     "text": [
      "4의 팩토리알은 24\n",
      "5의 팩토리알은 120\n"
     ]
    }
   ],
   "source": [
    "# 재귀함수로 구하기\n",
    "\n",
    "def factorial2(n):\n",
    "  if n == 0:\n",
    "    return 1\n",
    "  else:\n",
    "    return n*factorial2(n-1)\n",
    "\n",
    "print(\"4의 팩토리알은 {}\".format(factorial2(4)))\n",
    "print(\"5의 팩토리알은 {}\".format(factorial2(5)))"
   ]
  },
  {
   "cell_type": "markdown",
   "metadata": {
    "id": "PcFF0KirlOPU"
   },
   "source": [
    "`재귀함수`는 함수 안에서 함수 자기 자신을 호출하는 함수로, 언제까지 재귀함수 호출을 할 것인지 **종료조건**을 만들어줘야 한다."
   ]
  },
  {
   "cell_type": "code",
   "execution_count": null,
   "metadata": {
    "colab": {
     "base_uri": "https://localhost:8080/"
    },
    "executionInfo": {
     "elapsed": 35,
     "status": "ok",
     "timestamp": 1652927796222,
     "user": {
      "displayName": "Keywoong Bae",
      "userId": "10101473300544846909"
     },
     "user_tz": -540
    },
    "id": "mzrnJZ66k4H5",
    "outputId": "e60d2b20-26ac-449b-ae74-71ebed3e6da2"
   },
   "outputs": [
    {
     "data": {
      "text/plain": [
       "40320"
      ]
     },
     "execution_count": 16,
     "metadata": {},
     "output_type": "execute_result"
    }
   ],
   "source": [
    "def factorial(n):\n",
    "  if n==0:\n",
    "    return 1\n",
    "  else:\n",
    "    return n*factorial(n-1)\n",
    "factorial(8)"
   ]
  },
  {
   "cell_type": "markdown",
   "metadata": {
    "id": "0ffTFdj4lzxA"
   },
   "source": [
    "### 4.3 피보나치 수열\n",
    "앞의 두 수를 더하면 다음 수가 나오는 수열 <br>\n",
    "1, 1, 2, 3, 5, 8, 13,..."
   ]
  },
  {
   "cell_type": "code",
   "execution_count": null,
   "metadata": {
    "colab": {
     "base_uri": "https://localhost:8080/"
    },
    "executionInfo": {
     "elapsed": 28,
     "status": "ok",
     "timestamp": 1652927796223,
     "user": {
      "displayName": "Keywoong Bae",
      "userId": "10101473300544846909"
     },
     "user_tz": -540
    },
    "id": "rviktmzplwVJ",
    "outputId": "8326a397-70d4-4c44-893c-0f36d19b7df8"
   },
   "outputs": [
    {
     "name": "stdout",
     "output_type": "stream",
     "text": [
      "1\n",
      "1\n",
      "2\n",
      "3\n",
      "5\n",
      "8\n",
      "13\n",
      "21\n",
      "34\n"
     ]
    }
   ],
   "source": [
    "def fibo(n):\n",
    "  if n==1:\n",
    "    return 1\n",
    "  elif n==2:\n",
    "    return 1\n",
    "  else:\n",
    "    return fibo(n-1) + fibo(n-2)\n",
    "\n",
    "for i in range(1,10):\n",
    "  print(fibo(i))"
   ]
  }
 ],
 "metadata": {
  "colab": {
   "authorship_tag": "ABX9TyOQQ2YjIyBPjDfrVZ+97NOr",
   "collapsed_sections": [],
   "name": "09_function.ipynb",
   "provenance": []
  },
  "kernelspec": {
   "display_name": "Python 3 (ipykernel)",
   "language": "python",
   "name": "python3"
  },
  "language_info": {
   "codemirror_mode": {
    "name": "ipython",
    "version": 3
   },
   "file_extension": ".py",
   "mimetype": "text/x-python",
   "name": "python",
   "nbconvert_exporter": "python",
   "pygments_lexer": "ipython3",
   "version": "3.9.12"
  }
 },
 "nbformat": 4,
 "nbformat_minor": 1
}
