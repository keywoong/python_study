{
 "cells": [
  {
   "cell_type": "markdown",
   "metadata": {},
   "source": [
    "프로그램을 기능 별로 나누어 재사용하고 싶을 때는 아래 세가지 방법을 사용한다.\n",
    "- 함수\n",
    "- 객체\n",
    "- 모듈\n",
    "<br>\n",
    "\n",
    "본 편에서는 객체(Object Oriented Programming)에 대해서 다룰 예정."
   ]
  },
  {
   "cell_type": "markdown",
   "metadata": {
    "id": "MKKLhbIyc7uY"
   },
   "source": [
    "## 1. 객체지향 프로그래밍(Object Oriented Programming)이란?\n",
    "프로그램의 구성요소들을 독립된 객체로 정의하는 프로그래밍 방식이다. <br><br>\n",
    "객체는 속성과 기능으로 구성되며, 속성은 변수, 행동은 함수(메소드)로 표현함.<br><br>\n",
    "\n",
    "`속성`(attribute)은 관심대상의 특징 및 데이터를 저장한 `변수`,<br>\n",
    "- 선수 : 선수 이름, 포지션, 소속팀\n",
    "- 팀 : 팀이름, 팀연고지, 팀 소속선수<br>\n",
    "\n",
    "`기능`(method)은 관심대상의 행위를 묘사한 `함수`<br>\n",
    "- 선수 : 공을 차다, 패스하다.\n",
    "- 심판 : 휘슬을 불다, 경고하다."
   ]
  },
  {
   "cell_type": "markdown",
   "metadata": {
    "id": "CO5nwCAQijXF"
   },
   "source": [
    "객체지향 프로그래밍은\n",
    "- 프로그램 내부 요소들의 독립성을 확보할 수 있다.\n",
    "- 간단하고 지속적으로 수정 및 업그레이드에 편리하다.\n",
    "- 분업에 적합하다."
   ]
  },
  {
   "cell_type": "markdown",
   "metadata": {
    "id": "vg-0-CSli1QO"
   },
   "source": [
    "## 2. Class 정의하기\n",
    "Class란, 파이썬에서 객체를 어떻게 구성할 것인가에 대한 설계도이며, 파이썬의 자료형 중 하나이다. 클래스라는 설계도를 바탕으로 실제로 구현된 객체를 인스턴스라고 한다.<br>"
   ]
  },
  {
   "cell_type": "markdown",
   "metadata": {},
   "source": [
    "<b> Attribute 추가 </b>\n",
    "- \\__ init \\__ 과 self를 통해 속성을 추가한다.\n",
    "\n",
    "<b>Action 추가</b>\n",
    "- 기존 메서드 선언 방식과 동일하지만, 반드시 class 내에서 매개변수로 self를 받아야 한다.\n",
    "\n",
    "<hr>"
   ]
  },
  {
   "cell_type": "markdown",
   "metadata": {},
   "source": [
    "\n",
    "<b> 번외1) 이름 짓는 방법</b>\n",
    "- Snake_case : 띄어쓰기 부분에 \"\\_\" 를 추가. \n",
    "- CamelCase : 띄어쓰기 부분에 대문자\n",
    "<br>"
   ]
  },
  {
   "cell_type": "markdown",
   "metadata": {
    "id": "MrXIlKzk-L0x"
   },
   "source": [
    "<b> 번외 2) f-string formatting</b> <br>\n",
    "\n",
    "문자열 포매팅, 문자열 안에 어떤 값이나 변수를 삽입하는 방법"
   ]
  },
  {
   "cell_type": "code",
   "execution_count": null,
   "metadata": {
    "colab": {
     "base_uri": "https://localhost:8080/"
    },
    "executionInfo": {
     "elapsed": 27,
     "status": "ok",
     "timestamp": 1653241198881,
     "user": {
      "displayName": "Keywoong Bae",
      "userId": "10101473300544846909"
     },
     "user_tz": -540
    },
    "id": "P4l2BTei-YX0",
    "outputId": "b7ad62db-38e6-4edb-c547-cc8e4dd7e192",
    "scrolled": true
   },
   "outputs": [
    {
     "name": "stdout",
     "output_type": "stream",
     "text": [
      "left      \n",
      "  center  \n",
      "     right\n",
      "3.1415926536\n",
      "    3.1416\n",
      "3.1416\n"
     ]
    }
   ],
   "source": [
    "# 정렬\n",
    "left = 'left'\n",
    "print(f'{left:<10}')\n",
    "#정렬\n",
    "center = 'center'\n",
    "print(f'{center:^10}')\n",
    "#정렬\n",
    "right = 'right'\n",
    "print(f'{right:>10}')\n",
    "#소수점\n",
    "pi = 3.141592653589\n",
    "print(f'{pi:10.10f}')\n",
    "print(f'{pi:10.4f}')\n",
    "print(f'{pi:.4f}')"
   ]
  },
  {
   "cell_type": "markdown",
   "metadata": {},
   "source": [
    "<hr>\n",
    "\n",
    "이제 클래스를 만들어본다."
   ]
  },
  {
   "cell_type": "code",
   "execution_count": 2,
   "metadata": {
    "id": "AeG_AlYsc5Tb"
   },
   "outputs": [],
   "source": [
    "class Student:\n",
    "  def __init__(self, name, korean, math, english, science):\n",
    "    self.name = name\n",
    "    self.korean = korean\n",
    "    self.math = math\n",
    "    self.english = english\n",
    "    self.science = science\n",
    "    \n",
    "  def change_english(self, new_english):\n",
    "    print(\"영어점수를 변경합니다. {}점에서 {}으로\".format(self.english, new_english))\n",
    "    self.english = new_english\n",
    "    \n",
    "  def get_sum(self):\n",
    "    return self.korean + self.math + self.english + self.science\n",
    "  \n",
    "  def get_average(self):\n",
    "    return self.get_sum()/4\n",
    "  \n",
    "  def get_string(self):\n",
    "    return \"{}\\t{}\\t{}\".format(self.name, self.get_sum(), self.get_average())"
   ]
  },
  {
   "cell_type": "code",
   "execution_count": 3,
   "metadata": {
    "colab": {
     "base_uri": "https://localhost:8080/"
    },
    "executionInfo": {
     "elapsed": 28,
     "status": "ok",
     "timestamp": 1653241198880,
     "user": {
      "displayName": "Keywoong Bae",
      "userId": "10101473300544846909"
     },
     "user_tz": -540
    },
    "id": "lQILN1A8CoVb",
    "outputId": "ccd12211-2a31-44bc-bdd8-4b87cd93a804"
   },
   "outputs": [
    {
     "name": "stdout",
     "output_type": "stream",
     "text": [
      "<class '__main__.Student'>\n"
     ]
    }
   ],
   "source": [
    "print(Student)"
   ]
  },
  {
   "cell_type": "markdown",
   "metadata": {
    "id": "GZwzXCMjji_d"
   },
   "source": [
    "위의 클래스를 통해 볼 수 있다. <br>\n",
    "클래스는 (1) <u>Attribute를 추가하는 부분</u> 과 (2) <u>Action을 추가하는 부분 </u> 으로 이루어져있다. <br>\n",
    "\n",
    "<b>(1) Attribute는 \\__ init \\__  , self와 함께</b> <br>\n",
    "- \\__ init \\__ 은 객체를 초기화하는 예약 함수이다. \n",
    "- \" \\__ \"은 특수한 예약함수나 변수에 사용된다. \n",
    "- \" \\__ \" 은 <u>파이썬이 자동으로 호출해주는 메서드</u> 로, 스페셜 메서드 또는 매직 메서드라고 부른다. 대표적으로 \\__ main \\__ , \\__ add \\__ ,\\__ str \\__ 등이 있다.\n",
    "- \\__ str \\__ 메서드는 클래스 자체의 내용을 출력하고 싶을 때 형식을 지정한다.\n",
    "<br>\n",
    "\n",
    "위의 클래스에서는 `name`, `korean`, `math`, `english`, `science` 총 5개의 attribute를 선언한다."
   ]
  },
  {
   "cell_type": "markdown",
   "metadata": {},
   "source": [
    "<b>(2) Action은 self와 함께</b> <br>\n",
    "- 함수는 하나의 기능을 구현하도록 구성한 것이다.\n",
    "- 그 함수 중에서 클래스 내부에 정의한 함수를 메서드라고 부르며, self를 매개변수로 받는다.\n",
    "- 독립적으로 존재하면 함수(function), 클래스 내부에 종속되어 있으면 메서드(method)\n",
    "<br>\n",
    "\n",
    "위의 클래스에서 선언된 메서드 `change_english()` , `get_sum()`, `get_average()`, `get_string()`은 self를 매개변수도 받고 있으며, 클래스 내부에 종속되어 있으므로 메서드(method)이다."
   ]
  },
  {
   "cell_type": "markdown",
   "metadata": {
    "id": "9Rl2e-YGkEIN"
   },
   "source": [
    "### 2.1 생성자란?\n",
    "객체 생성 시, 변수 선언 및 초기화를 담당하는 메소드이다. 객체 자기 자신을 의미하는 self를 매개변수로 받는다."
   ]
  },
  {
   "cell_type": "code",
   "execution_count": null,
   "metadata": {
    "colab": {
     "base_uri": "https://localhost:8080/"
    },
    "executionInfo": {
     "elapsed": 26,
     "status": "ok",
     "timestamp": 1653241198882,
     "user": {
      "displayName": "Keywoong Bae",
      "userId": "10101473300544846909"
     },
     "user_tz": -540
    },
    "id": "Z5U3U-n-4gIx",
    "outputId": "369a8ff6-d6b8-49be-aa27-8fdae53bf2fb"
   },
   "outputs": [
    {
     "name": "stdout",
     "output_type": "stream",
     "text": [
      "안녕하세요\n"
     ]
    }
   ],
   "source": [
    "# Attribute 추가 예시\n",
    "class Person(object):\n",
    "  def __init__(self): # __init__의 매개변수 self에는 Person()이 들어감.\n",
    "    self.hello = '안녕하세요'\n",
    "  def greeting(self):\n",
    "    print(self.hello)\n",
    "james = Person() #james가 자동으로 매개변수 self에 들어옴.\n",
    "james.greeting()"
   ]
  },
  {
   "cell_type": "markdown",
   "metadata": {
    "id": "fVHP-s70oQHE"
   },
   "source": [
    "### 2.2 메소드 정의하기\n",
    "일반적인 함수를 선언하는 방법과 동일하며, 메소드마다 self를 반드시 첫 번째 매개변수로 선언해야 한다."
   ]
  },
  {
   "cell_type": "markdown",
   "metadata": {
    "id": "tpTnh9id5CNS"
   },
   "source": [
    "Action 추가는 기존 함수 선언과 같으나, 반드시 self를 추가해야만 class 메서드로 인정된다."
   ]
  },
  {
   "cell_type": "code",
   "execution_count": null,
   "metadata": {
    "colab": {
     "base_uri": "https://localhost:8080/"
    },
    "executionInfo": {
     "elapsed": 21,
     "status": "ok",
     "timestamp": 1653241198883,
     "user": {
      "displayName": "Keywoong Bae",
      "userId": "10101473300544846909"
     },
     "user_tz": -540
    },
    "id": "MY2LKs3y5J5E",
    "outputId": "f8c00832-fd4e-4726-99dc-ead057845cff"
   },
   "outputs": [
    {
     "name": "stdout",
     "output_type": "stream",
     "text": [
      "점수를 변경합니다: From 9 to 10\n"
     ]
    },
    {
     "data": {
      "text/plain": [
       "10"
      ]
     },
     "execution_count": 5,
     "metadata": {},
     "output_type": "execute_result"
    }
   ],
   "source": [
    "class Student(object):\n",
    "  def __init__(self, name, class_, grade):\n",
    "    self.name = name\n",
    "    self.class_ = class_\n",
    "    self.grade = grade\n",
    "  def __str__(self):\n",
    "    return f'Hello, My name is {self.name}. Im in class {self.class_}'\n",
    "  def change_grade(self, new_grade):\n",
    "    print(f'점수를 변경합니다: From {self.grade} to {new_grade}')\n",
    "    self.grade = new_grade\n",
    "\n",
    "james = Student('james', 10,9)\n",
    "james.change_grade(10)\n",
    "james.grade"
   ]
  },
  {
   "cell_type": "markdown",
   "metadata": {
    "id": "7xOv-7dVoYm4"
   },
   "source": [
    "### 2.3 객체 생성하기\n",
    "클래스 이름과 똑같은 생성자를 사용해서 인스턴스를 생성한다."
   ]
  },
  {
   "cell_type": "code",
   "execution_count": 4,
   "metadata": {
    "id": "U2jKJTLm2wiJ"
   },
   "outputs": [],
   "source": [
    "class Student:\n",
    "  def __init__(self, name, korean, math, english, science):\n",
    "    self.name = name\n",
    "    self.korean = korean\n",
    "    self.math = math\n",
    "    self.english = english\n",
    "    self.science = science\n",
    "    \n",
    "  def change_english(self, new_english):\n",
    "    print(\"영어점수를 변경합니다. {}점에서 {}으로\".format(self.english, new_english))\n",
    "    self.english = new_english\n",
    "    \n",
    "  def get_sum(self):\n",
    "    return self.korean + self.math + self.english + self.science\n",
    "  \n",
    "  def get_average(self):\n",
    "    return self.get_sum()/4\n",
    "  \n",
    "  def get_string(self):\n",
    "    return \"{}\\t{}\\t{}\".format(self.name, self.get_sum(), self.get_average())"
   ]
  },
  {
   "cell_type": "code",
   "execution_count": 5,
   "metadata": {
    "colab": {
     "base_uri": "https://localhost:8080/"
    },
    "executionInfo": {
     "elapsed": 7,
     "status": "ok",
     "timestamp": 1653241221789,
     "user": {
      "displayName": "Keywoong Bae",
      "userId": "10101473300544846909"
     },
     "user_tz": -540
    },
    "id": "bKal1SM8jiTl",
    "outputId": "785bdc6c-668b-4f72-8cfe-b66ea8842cf4"
   },
   "outputs": [
    {
     "data": {
      "text/plain": [
       "368"
      ]
     },
     "execution_count": 5,
     "metadata": {},
     "output_type": "execute_result"
    }
   ],
   "source": [
    "students = [\n",
    "            Student(\"Andrea\", 87, 98, 88, 95),\n",
    "            Student(\"Betty\", 37, 48, 28, 55),\n",
    "            Student(\"Charlie\", 73, 52, 74, 53),\n",
    "            Student(\"Dorothy\", 85, 99, 96, 97),\n",
    "            Student(\"Gerhard\", 68, 86, 65, 66),\n",
    "            Student(\"Homns\", 82, 95, 83, 95),\n",
    "]\n",
    "students[0].get_sum()"
   ]
  },
  {
   "cell_type": "code",
   "execution_count": 6,
   "metadata": {
    "colab": {
     "base_uri": "https://localhost:8080/"
    },
    "executionInfo": {
     "elapsed": 4,
     "status": "ok",
     "timestamp": 1653241222100,
     "user": {
      "displayName": "Keywoong Bae",
      "userId": "10101473300544846909"
     },
     "user_tz": -540
    },
    "id": "4TIfIhaVo5my",
    "outputId": "9479ef57-f6b2-4bb5-9787-14b4ee51614a"
   },
   "outputs": [
    {
     "name": "stdout",
     "output_type": "stream",
     "text": [
      "Name   Total   Average\n",
      "Andrea\t368\t92.0\n",
      "Betty\t168\t42.0\n",
      "Charlie\t252\t63.0\n",
      "Dorothy\t377\t94.25\n",
      "Gerhard\t285\t71.25\n",
      "Homns\t355\t88.75\n"
     ]
    }
   ],
   "source": [
    "print(\"Name\",\"  Total\",\"  Average\")\n",
    "for s in students:\n",
    "  print(s.get_string())"
   ]
  },
  {
   "cell_type": "markdown",
   "metadata": {
    "id": "oS1t6HzpoJe1"
   },
   "source": [
    "<hr>\n",
    "본격적으로 Notebook 예제를 통해 Class를 구현해본다.<br>\n",
    "<br>\n",
    "<b> Notebook 예제 </b><br>\n",
    "\n",
    "- 사용자는 Note에 무언가를 적을 수 있다. $\\rightarrow$ `write_content()` <br>\n",
    "- Note에 Content가 있고, 내용을 제거할 수 있다. $\\rightarrow$ `remove_all()`<br>\n",
    "- Note는 Notebook에 삽입된다. $\\rightarrow$ `add_note()`<br>\n",
    "- Notebook은 Note가 삽입될 때 페이지를 생성하며, 최대 300페이지까지 저장할 수 있다. $\\rightarrow$ `page_number`<br>\n",
    "- 300페이지가 넘으면 더 이상 노트를 삽입하지 못한다. $\\rightarrow$ `get_number_of_pages()`<br>"
   ]
  },
  {
   "cell_type": "code",
   "execution_count": 7,
   "metadata": {
    "id": "Oelx1kOMoNj6"
   },
   "outputs": [],
   "source": [
    "class Note(object):\n",
    "    def __init__ (self, content = None):\n",
    "    # 디폴트 매개변수, 객체를 만들 때 생성자에게 아무런 값을 넘기지 않아도 자동으로 None넣어줌\n",
    "    # 생성자에게 값을 넘기면 해당하는 값을넣어준다.\n",
    "        self.content = content # Note에 내용을 적을 content 변수 선언\n",
    "\n",
    "    def write_content(self, content):\n",
    "        self.content = content\n",
    "    \n",
    "    def remove_all(self):\n",
    "        self.content = ' '\n",
    "    \n",
    "    def __str__(self):\n",
    "        return self.content"
   ]
  },
  {
   "cell_type": "code",
   "execution_count": 9,
   "metadata": {
    "colab": {
     "base_uri": "https://localhost:8080/"
    },
    "executionInfo": {
     "elapsed": 4,
     "status": "ok",
     "timestamp": 1653241222776,
     "user": {
      "displayName": "Keywoong Bae",
      "userId": "10101473300544846909"
     },
     "user_tz": -540
    },
    "id": "7SXxKJjGqInh",
    "outputId": "ee261a82-d3f1-4cc3-f6ce-fc68ec98c0db"
   },
   "outputs": [
    {
     "name": "stdout",
     "output_type": "stream",
     "text": [
      "first note :  hello world\n",
      "second note :  my major is industral engineering\n",
      "before delete :  im gonna delete this\n",
      "after delete :   \n"
     ]
    }
   ],
   "source": [
    "first_note = Note('hello world') \n",
    "# 'hello world'가 쓰여있는 first_note라는 객체를 선언한다.\n",
    "print('first note : ',first_note)\n",
    "\n",
    "second_note = Note()\n",
    "# content에 아무것도 쓰여있지 않은 second_note를 선언\n",
    "second_note.write_content('my major is industral engineering')\n",
    "# second_note에 내용을 적는다.\n",
    "print('second note : ',second_note)\n",
    "\n",
    "third_note = Note()\n",
    "# content에 아무것도 쓰여있지 않은 third_note를 선언\n",
    "third_note.write_content('im gonna delete this')\n",
    "# third_note에 내요응ㄹ 적는다.\n",
    "print('before delete : ', third_note)\n",
    "third_note.remove_all()\n",
    "# third_note의 content를 없앤다.\n",
    "print('after delete : ',third_note)"
   ]
  },
  {
   "cell_type": "code",
   "execution_count": 11,
   "metadata": {
    "id": "7FVDcLfEoNh9"
   },
   "outputs": [],
   "source": [
    "class NoteBook(object):\n",
    "    def __init__(self, title):\n",
    "        self.title = title # 노트북의 제목, 객체 선언할 때 무조건 넣어주어야 함.\n",
    "        self.page_number = 1\n",
    "        self.notes = {}\n",
    "  \n",
    "    def add_note(self, note, page = 0):\n",
    "        if self.page_number < 100:\n",
    "            if page ==0:\n",
    "                self.notes[self.page_number] = note\n",
    "                self.page_number +=1\n",
    "            else:\n",
    "                self.notes = {page:note}\n",
    "                self.page_number+=1\n",
    "        else:\n",
    "            print('page가 모두 채워졌습니다.')\n",
    "    \n",
    "    def remove_note(self,page_number):\n",
    "        if page_number in self.notes.keys():\n",
    "            return self.notes.pop(page_number)\n",
    "        else:\n",
    "            print('해당 페이지는 존재하지 않습니다.')\n",
    "    \n",
    "    def get_number_of_pages(self):\n",
    "        return len(self.notes.keys())"
   ]
  },
  {
   "cell_type": "code",
   "execution_count": null,
   "metadata": {
    "colab": {
     "base_uri": "https://localhost:8080/"
    },
    "executionInfo": {
     "elapsed": 5,
     "status": "ok",
     "timestamp": 1653241223275,
     "user": {
      "displayName": "Keywoong Bae",
      "userId": "10101473300544846909"
     },
     "user_tz": -540
    },
    "id": "8D9-Xf07qt35",
    "outputId": "32304893-f217-4e23-8857-239ddd5c3a93"
   },
   "outputs": [
    {
     "name": "stdout",
     "output_type": "stream",
     "text": [
      "해당 페이지는 존재하지 않습니다.\n",
      "page가 모두 채워졌습니다.\n",
      "page가 모두 채워졌습니다.\n",
      "page가 모두 채워졌습니다.\n"
     ]
    }
   ],
   "source": [
    "example_notebook = NoteBook('example_notebook')\n",
    "example_notebook.get_number_of_pages()\n",
    "\n",
    "example_notebook.add_note(first_note)\n",
    "example_notebook.add_note(second_note)\n",
    "example_notebook.get_number_of_pages()\n",
    "\n",
    "example_notebook.remove_note(1)\n",
    "example_notebook.get_number_of_pages()\n",
    "example_notebook.remove_note(1)\n",
    "\n",
    "for _ in range(100):\n",
    "  example_notebook.add_note(first_note)"
   ]
  },
  {
   "cell_type": "markdown",
   "metadata": {
    "id": "ReXWlTGupZPz"
   },
   "source": [
    "## 3. 클래스의 고급사용\n",
    "### 3.1 어떤 클래스의 인스턴스인지 확인하기\n",
    "객체가 어떤 클래스인지 확인하고 싶을 땐 `isinstance(인스턴스, 클래스)`를 이용한다.<br>\n",
    "해당 클래스로 객체가 만들어졌으면 True, 아니면 False를 반환한다."
   ]
  },
  {
   "cell_type": "code",
   "execution_count": null,
   "metadata": {
    "colab": {
     "base_uri": "https://localhost:8080/"
    },
    "executionInfo": {
     "elapsed": 8,
     "status": "ok",
     "timestamp": 1653241223692,
     "user": {
      "displayName": "Keywoong Bae",
      "userId": "10101473300544846909"
     },
     "user_tz": -540
    },
    "id": "TGCalzN7o7zS",
    "outputId": "72efab69-5a3a-4bd1-a395-a36346f6f2cf"
   },
   "outputs": [
    {
     "name": "stdout",
     "output_type": "stream",
     "text": [
      "True\n"
     ]
    }
   ],
   "source": [
    "student = Student(\"A\", 35,225,15,6) # 객체 생성\n",
    "print(isinstance(student, Student))"
   ]
  },
  {
   "cell_type": "code",
   "execution_count": null,
   "metadata": {
    "colab": {
     "base_uri": "https://localhost:8080/"
    },
    "executionInfo": {
     "elapsed": 5,
     "status": "ok",
     "timestamp": 1653241223693,
     "user": {
      "displayName": "Keywoong Bae",
      "userId": "10101473300544846909"
     },
     "user_tz": -540
    },
    "id": "u8KRR0OCpyrr",
    "outputId": "80a4e310-18cd-460a-c9b0-7fc815ff842a"
   },
   "outputs": [
    {
     "name": "stdout",
     "output_type": "stream",
     "text": [
      "Student 공부를 합니다.\n",
      "Student 공부를 합니다.\n",
      "Teacher 학생을 가르칩니다.\n",
      "Student 공부를 합니다.\n",
      "Student 공부를 합니다.\n"
     ]
    }
   ],
   "source": [
    "class Student:\n",
    "  def study(self):\n",
    "    print(\"공부를 합니다.\")\n",
    "\n",
    "class Teacher:\n",
    "  def teach(self):\n",
    "    print(\"학생을 가르칩니다.\")\n",
    "\n",
    "lectureroom = [\n",
    "               Student(), Student(), Teacher(), Student(), Student()\n",
    "]\n",
    "\n",
    "for i in lectureroom:\n",
    "  if isinstance(i, Student):\n",
    "    print(\"Student\", end = ' ')\n",
    "    i.study()\n",
    "  elif isinstance(i, Teacher):\n",
    "    print(\"Teacher\", end = ' ')\n",
    "    i.teach()"
   ]
  },
  {
   "cell_type": "markdown",
   "metadata": {
    "id": "zORxIrN5rxQ7"
   },
   "source": [
    "### 3.2 클래스 상속하기\n",
    "상속은 기존 클래스의 큰 변경 없이 기능을 추가하거나 수정하고 싶거나, 기존 클래스가 패키지 형태로만 제공하거나 수정을 할 수 가 없는 상황일 때 사용한다."
   ]
  },
  {
   "cell_type": "code",
   "execution_count": null,
   "metadata": {
    "id": "mc_cD-C7rnyj"
   },
   "outputs": [],
   "source": [
    "# 부모클래스\n",
    "class Calculator:\n",
    "  def __init__(self, a,b):\n",
    "    self.a = a\n",
    "    self.b = b\n",
    "  def add(self):\n",
    "    return self.a + self.b\n",
    "  def sub(self):\n",
    "    return self.a - self.b\n",
    "  def mult(self):\n",
    "    return self.a * self.b\n",
    "  def div(self):\n",
    "    return self.a / self.b"
   ]
  },
  {
   "cell_type": "code",
   "execution_count": null,
   "metadata": {
    "colab": {
     "base_uri": "https://localhost:8080/"
    },
    "executionInfo": {
     "elapsed": 8,
     "status": "ok",
     "timestamp": 1653241224326,
     "user": {
      "displayName": "Keywoong Bae",
      "userId": "10101473300544846909"
     },
     "user_tz": -540
    },
    "id": "R2_3T0ioyOc4",
    "outputId": "263515de-b080-4ae7-b77e-1e83c838ac67"
   },
   "outputs": [
    {
     "name": "stdout",
     "output_type": "stream",
     "text": [
      "6\n",
      "16\n"
     ]
    }
   ],
   "source": [
    "# 자식클래스\n",
    "class MoreCalculator(Calculator):\n",
    "  def pow(self):\n",
    "    return self.a ** self.b\n",
    "\n",
    "a = MoreCalculator(4,2)\n",
    "\n",
    "print(a.add())\n",
    "print(a.pow())"
   ]
  },
  {
   "cell_type": "markdown",
   "metadata": {
    "id": "HVX_8wWu2WCX"
   },
   "source": [
    "아래 예시처럼 부모클래스의 메소드를 자식클래스 메소드에서 수정할 수도 있다."
   ]
  },
  {
   "cell_type": "code",
   "execution_count": null,
   "metadata": {
    "colab": {
     "base_uri": "https://localhost:8080/"
    },
    "executionInfo": {
     "elapsed": 6,
     "status": "ok",
     "timestamp": 1653241224327,
     "user": {
      "displayName": "Keywoong Bae",
      "userId": "10101473300544846909"
     },
     "user_tz": -540
    },
    "id": "ZAfaYC6g2NKY",
    "outputId": "030a46db-434d-45c3-9973-ae9c80c22ea4"
   },
   "outputs": [
    {
     "name": "stdout",
     "output_type": "stream",
     "text": [
      "0\n"
     ]
    }
   ],
   "source": [
    "class MoreCalculator(Calculator):\n",
    "  def div(self):\n",
    "    if self.b == 0:\n",
    "      return 0\n",
    "    else:\n",
    "      return self.a / self.b\n",
    "a = MoreCalculator(4,0)\n",
    "print(a.div())"
   ]
  },
  {
   "cell_type": "markdown",
   "metadata": {
    "id": "hRYqHgH82mQf"
   },
   "source": [
    "`super()`를 써서 자식클래스레서 부모 클래스 객체를 사용할 수도 있다.<br>\n",
    "`super()`는 부모 클래스에 접근할 수 있도록 하는 함수로, 자식클래스에서 부모클래스의 속성에 일부 속성을 추가 및 자식클래스에서 부모클래스의 메소드에 일부 기능을 덧댈 수 있다."
   ]
  },
  {
   "cell_type": "code",
   "execution_count": null,
   "metadata": {
    "colab": {
     "base_uri": "https://localhost:8080/"
    },
    "executionInfo": {
     "elapsed": 3,
     "status": "ok",
     "timestamp": 1653241225345,
     "user": {
      "displayName": "Keywoong Bae",
      "userId": "10101473300544846909"
     },
     "user_tz": -540
    },
    "id": "woTobkIc2kxv",
    "outputId": "f8d8fb03-d25e-4490-cacd-d6ce720bb138"
   },
   "outputs": [
    {
     "name": "stdout",
     "output_type": "stream",
     "text": [
      "덧셈입니다.\n",
      "10\n"
     ]
    }
   ],
   "source": [
    "class MoreCalculator(Calculator):\n",
    "  def __init__(self, a,b,c):\n",
    "    super().__init__(a,b)\n",
    "    self.c = c\n",
    "  \n",
    "  def add(self):\n",
    "    print(\"덧셈입니다.\")\n",
    "    return super().add() + self.c\n",
    "\n",
    "a = MoreCalculator(4,1,5)\n",
    "print(a.add())"
   ]
  },
  {
   "cell_type": "markdown",
   "metadata": {
    "id": "HIsDb6YZ5D82"
   },
   "source": [
    "### 3.3 프라이빗 변수 사용하기\n",
    "프라이빗 변수를 통해 객체 중 일부 변수를 남이 볼 수 없도록 보호한다.<br>\n",
    "프라이빗 변수를 통해\n",
    "- 다른 사람에게 코드를 전달할 경우, 본래 의도대로 프로그램이 잘 작동할 수 있게 제한을 걸어 오용을 방지하고,\n",
    "- 필요없는 정보를 숨길 수 있으며,\n",
    "- 제품 판매 시 소스코드를 보호할 수 있다."
   ]
  },
  {
   "cell_type": "markdown",
   "metadata": {
    "id": "_s1f8ZHO5ZiP"
   },
   "source": [
    "프라이빗 변수는 `__변수이름` 이렇게 선언할 수 있다.\n",
    "이렇게 지정하면 클래스 외부에서 접근할 때 접근을 막을 수 있다."
   ]
  },
  {
   "cell_type": "code",
   "execution_count": null,
   "metadata": {
    "colab": {
     "base_uri": "https://localhost:8080/",
     "height": 251
    },
    "executionInfo": {
     "elapsed": 7,
     "status": "error",
     "timestamp": 1653241226508,
     "user": {
      "displayName": "Keywoong Bae",
      "userId": "10101473300544846909"
     },
     "user_tz": -540
    },
    "id": "4mpkEwKE5CP3",
    "outputId": "da2c3bf6-272f-4d4c-8e5a-c04d82547c47"
   },
   "outputs": [
    {
     "name": "stdout",
     "output_type": "stream",
     "text": [
      "둘레: 62.83185307179586\n",
      "넓이: 314.1592653589793\n"
     ]
    },
    {
     "ename": "AttributeError",
     "evalue": "ignored",
     "output_type": "error",
     "traceback": [
      "\u001b[0;31m---------------------------------------------------------------------------\u001b[0m",
      "\u001b[0;31mAttributeError\u001b[0m                            Traceback (most recent call last)",
      "\u001b[0;32m<ipython-input-20-56459f98ebb3>\u001b[0m in \u001b[0;36m<module>\u001b[0;34m()\u001b[0m\n\u001b[1;32m     17\u001b[0m \u001b[0mprint\u001b[0m\u001b[0;34m(\u001b[0m\u001b[0;34m\"넓이:\"\u001b[0m\u001b[0;34m,\u001b[0m \u001b[0mcircle\u001b[0m\u001b[0;34m.\u001b[0m\u001b[0mget_area\u001b[0m\u001b[0;34m(\u001b[0m\u001b[0;34m)\u001b[0m\u001b[0;34m)\u001b[0m\u001b[0;34m\u001b[0m\u001b[0;34m\u001b[0m\u001b[0m\n\u001b[1;32m     18\u001b[0m \u001b[0;34m\u001b[0m\u001b[0m\n\u001b[0;32m---> 19\u001b[0;31m \u001b[0mprint\u001b[0m\u001b[0;34m(\u001b[0m\u001b[0;34m\"반지름:\"\u001b[0m\u001b[0;34m,\u001b[0m \u001b[0mcircle\u001b[0m\u001b[0;34m.\u001b[0m\u001b[0m__radius\u001b[0m\u001b[0;34m)\u001b[0m\u001b[0;31m# 오류 발생\u001b[0m\u001b[0;34m\u001b[0m\u001b[0;34m\u001b[0m\u001b[0m\n\u001b[0m",
      "\u001b[0;31mAttributeError\u001b[0m: 'Circle' object has no attribute '__radius'"
     ]
    }
   ],
   "source": [
    "# 프라이빗 변수로 원의 넓이 구하기\n",
    "import math\n",
    "\n",
    "class Circle:\n",
    "  def __init__(self, radius):\n",
    "    self.__radius = radius # 클래스내부의 프라이빗 변수인 __radius에 넣어준다.\n",
    "\n",
    "  def get_length(self):\n",
    "    return 2*math.pi*self.__radius\n",
    "  \n",
    "  def get_area(self):\n",
    "    return math.pi*(self.__radius**2)\n",
    "\n",
    "circle = Circle(10)\n",
    "\n",
    "print(\"둘레:\", circle.get_length())\n",
    "print(\"넓이:\", circle.get_area())\n",
    "\n",
    "print(\"반지름:\", circle.__radius)# 오류 발생"
   ]
  },
  {
   "cell_type": "markdown",
   "metadata": {
    "id": "Xh4EA1TG8SAu"
   },
   "source": [
    "#### getter와 setter\n",
    "getter : 프라이빗 변수에 접근할 수 있도록 해주는 함수"
   ]
  },
  {
   "cell_type": "code",
   "execution_count": null,
   "metadata": {
    "id": "7taJJNK-6DWp"
   },
   "outputs": [],
   "source": [
    "@property\n",
    "def radius(self):\n",
    "  return self.__radius"
   ]
  },
  {
   "cell_type": "markdown",
   "metadata": {
    "id": "if4T7jN68eBZ"
   },
   "source": [
    "setter : 프라이빗 변수의 값을 설정해주는 함수"
   ]
  },
  {
   "cell_type": "code",
   "execution_count": null,
   "metadata": {
    "id": "wnlIU6AH8dL1"
   },
   "outputs": [],
   "source": [
    "@radius.setter\n",
    "def radius(self, value):\n",
    "  self.__radius = value"
   ]
  },
  {
   "cell_type": "code",
   "execution_count": null,
   "metadata": {
    "colab": {
     "base_uri": "https://localhost:8080/"
    },
    "executionInfo": {
     "elapsed": 5,
     "status": "ok",
     "timestamp": 1653241227708,
     "user": {
      "displayName": "Keywoong Bae",
      "userId": "10101473300544846909"
     },
     "user_tz": -540
    },
    "id": "DDkqxECI8mHt",
    "outputId": "f4e19b33-1960-4c35-986e-1fcc92a4ea32"
   },
   "outputs": [
    {
     "name": "stdout",
     "output_type": "stream",
     "text": [
      "둘레: 62.83185307179586\n",
      "넓이: 314.1592653589793\n",
      "반지름: 10\n",
      "둘레: 12.566370614359172\n"
     ]
    }
   ],
   "source": [
    "import math\n",
    "\n",
    "class Circle:\n",
    "  def __init__(self, radius):\n",
    "    self.__radius = radius\n",
    "  def get_length(self):\n",
    "    return 2*math.pi*self.__radius\n",
    "  def get_area(self):\n",
    "    return math.pi*(self.__radius**2)\n",
    "\n",
    "  @property\n",
    "  def radius(self):\n",
    "    return self.__radius\n",
    "\n",
    "  @radius.setter\n",
    "  def radius(self, value):\n",
    "    self.__radius = value\n",
    "\n",
    "\n",
    "\n",
    "circle = Circle(10)\n",
    "print(\"둘레:\", circle.get_length())\n",
    "print(\"넓이:\", circle.get_area())\n",
    "print(\"반지름:\", circle.radius)\n",
    "circle.radius = 2\n",
    "print(\"둘레:\", circle.get_length())"
   ]
  }
 ],
 "metadata": {
  "colab": {
   "authorship_tag": "ABX9TyMp9ZQpo9q7mjNOUV3pl50+",
   "collapsed_sections": [],
   "name": "11_Class.ipynb",
   "provenance": []
  },
  "kernelspec": {
   "display_name": "Python 3 (ipykernel)",
   "language": "python",
   "name": "python3"
  },
  "language_info": {
   "codemirror_mode": {
    "name": "ipython",
    "version": 3
   },
   "file_extension": ".py",
   "mimetype": "text/x-python",
   "name": "python",
   "nbconvert_exporter": "python",
   "pygments_lexer": "ipython3",
   "version": "3.9.7"
  }
 },
 "nbformat": 4,
 "nbformat_minor": 1
}
