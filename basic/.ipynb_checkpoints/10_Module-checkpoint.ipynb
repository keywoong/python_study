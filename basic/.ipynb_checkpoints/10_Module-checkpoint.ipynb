{
 "cells": [
  {
   "cell_type": "markdown",
   "metadata": {
    "id": "eFdZuMHgsx0R"
   },
   "source": [
    "## 1. 모듈\n",
    "모듈이란 함수나 변수들을 모아놓은 파일을 말한다. <br>\n",
    "다른 파이썬 프로그램에서 불러와 사용할 수 있도록 만들어진 파이썬 파일.<br>\n",
    "여러 소스파일(.py)들을 모듈이라고 하며, 여러 개의 모듈이 모인 것을 패키지라고 함.<br>\n",
    "  소스파일(.py) $\\rightarrow$ 모듈 $\\rightarrow$ 패키기"
   ]
  },
  {
   "cell_type": "markdown",
   "metadata": {
    "id": "bafApfg0vHF3"
   },
   "source": [
    "### 1.1 모듈의 종류\n",
    "- 표준 모듈 : 파이썬에 기본적으로 내장되어 있는 모듈\n",
    "- 외부 모듈 : 다른 프로그래머 혹은 업체가 만들어서 공개한 모듈\n",
    "- 사용자 생성 모듈 : 사용자가 직접 작성한 모듈"
   ]
  },
  {
   "cell_type": "code",
   "execution_count": 1,
   "metadata": {
    "colab": {
     "base_uri": "https://localhost:8080/"
    },
    "executionInfo": {
     "elapsed": 9,
     "status": "ok",
     "timestamp": 1652853467352,
     "user": {
      "displayName": "Keywoong Bae",
      "userId": "10101473300544846909"
     },
     "user_tz": -540
    },
    "id": "L51480T4o2wH",
    "outputId": "da262e0a-590d-40f3-8631-59c61e22be17"
   },
   "outputs": [
    {
     "name": "stdout",
     "output_type": "stream",
     "text": [
      "Writing cal.py\n"
     ]
    }
   ],
   "source": [
    "# colab에서 모듈 생성\n",
    "\n",
    "%%writefile cal.py\n",
    "\n",
    "def add(a,b):\n",
    "  return a+b\n",
    "\n",
    "def sub(a,b):\n",
    "  return a-b"
   ]
  },
  {
   "cell_type": "markdown",
   "metadata": {
    "id": "usGolCf8vlBX"
   },
   "source": [
    "위는 add함수와 sub함수로 구성된 cal이라는 모듈이다."
   ]
  },
  {
   "cell_type": "markdown",
   "metadata": {
    "id": "D4_IvWGO1Ki0"
   },
   "source": [
    "### 1.2 모듈 사용하기"
   ]
  },
  {
   "cell_type": "code",
   "execution_count": 2,
   "metadata": {
    "colab": {
     "base_uri": "https://localhost:8080/"
    },
    "executionInfo": {
     "elapsed": 4,
     "status": "ok",
     "timestamp": 1652854954290,
     "user": {
      "displayName": "Keywoong Bae",
      "userId": "10101473300544846909"
     },
     "user_tz": -540
    },
    "id": "tNq7ewjWvkmf",
    "outputId": "1b070826-c17e-49cf-d5a1-54799ba98775"
   },
   "outputs": [
    {
     "name": "stdout",
     "output_type": "stream",
     "text": [
      "4\n",
      "-2\n"
     ]
    }
   ],
   "source": [
    "import cal\n",
    "\n",
    "print(cal.add(1,3))\n",
    "print(cal.sub(1,3))"
   ]
  },
  {
   "cell_type": "code",
   "execution_count": 3,
   "metadata": {
    "colab": {
     "base_uri": "https://localhost:8080/"
    },
    "executionInfo": {
     "elapsed": 9,
     "status": "ok",
     "timestamp": 1652854972931,
     "user": {
      "displayName": "Keywoong Bae",
      "userId": "10101473300544846909"
     },
     "user_tz": -540
    },
    "id": "dU_J5CXd1RXV",
    "outputId": "2a1bfd8d-4009-4193-ad00-a85f47bc3e78"
   },
   "outputs": [
    {
     "name": "stdout",
     "output_type": "stream",
     "text": [
      "4\n",
      "-2\n"
     ]
    }
   ],
   "source": [
    "from cal import add\n",
    "from cal import sub\n",
    "\n",
    "print(add(1,3))\n",
    "print(sub(1,3))"
   ]
  },
  {
   "cell_type": "markdown",
   "metadata": {
    "id": "e6HGMQbP1WsE"
   },
   "source": [
    "이렇게 하면 모듈 내 필요한 함수 혹은 변수를 따로 import해서 호출시에 함수이름만 사용한다."
   ]
  },
  {
   "cell_type": "markdown",
   "metadata": {
    "id": "RuGuk1Sc6lnb"
   },
   "source": [
    "와일드카드도 사용할 수 있지만, 이는 함수 및 변수들끼리 이름 충돌이 발생할 수 있으므로 가급적 사용 안하는 것이 좋다."
   ]
  },
  {
   "cell_type": "code",
   "execution_count": 4,
   "metadata": {
    "colab": {
     "base_uri": "https://localhost:8080/"
    },
    "executionInfo": {
     "elapsed": 5,
     "status": "ok",
     "timestamp": 1652856394976,
     "user": {
      "displayName": "Keywoong Bae",
      "userId": "10101473300544846909"
     },
     "user_tz": -540
    },
    "id": "UOTQgU0-1V0E",
    "outputId": "c61a5ade-43bf-4afd-af02-55ff90fc0b5a"
   },
   "outputs": [
    {
     "name": "stdout",
     "output_type": "stream",
     "text": [
      "4\n",
      "-2\n"
     ]
    }
   ],
   "source": [
    "# 모듈 별명 짓기\n",
    "import cal as c\n",
    "print(c.add(1,3))\n",
    "print(c.sub(1,3))"
   ]
  },
  {
   "cell_type": "markdown",
   "metadata": {
    "id": "5pHSLL6W6zOr"
   },
   "source": [
    "### 1.2 메인모듈과 하위모듈\n",
    "메인모듈 : 파이썬에서 제일 먼저 실행되는 파일<br>\n",
    "하위모듈 : 메인모듈에 import되어 실행되는 소스파일<br>\n",
    "메인 모듈은 \\__name\\__변수를 통해 확인가능하다. <br>\n",
    "#### \\__ name \\__\n",
    "- 실행 모듈의 이름을 저장하는 전역변수\n",
    "- 메인 모듈의 경우, \\__ main\\__이 저장됨.\n",
    "- 하위 모듈은 모듈명이 저장됨. "
   ]
  },
  {
   "cell_type": "code",
   "execution_count": 5,
   "metadata": {
    "colab": {
     "base_uri": "https://localhost:8080/"
    },
    "executionInfo": {
     "elapsed": 4,
     "status": "ok",
     "timestamp": 1652856573575,
     "user": {
      "displayName": "Keywoong Bae",
      "userId": "10101473300544846909"
     },
     "user_tz": -540
    },
    "id": "axtDX2AE6wfU",
    "outputId": "e7bf1ebe-779a-432e-d069-425e6425b522"
   },
   "outputs": [
    {
     "name": "stdout",
     "output_type": "stream",
     "text": [
      "Writing test_module.py\n"
     ]
    }
   ],
   "source": [
    "%%writefile test_module.py\n",
    "\n",
    "print(\"모듈의 __name__ 출력하기\")\n",
    "print(__name__)\n",
    "print()"
   ]
  },
  {
   "cell_type": "code",
   "execution_count": 6,
   "metadata": {
    "colab": {
     "base_uri": "https://localhost:8080/"
    },
    "executionInfo": {
     "elapsed": 7,
     "status": "ok",
     "timestamp": 1652856600742,
     "user": {
      "displayName": "Keywoong Bae",
      "userId": "10101473300544846909"
     },
     "user_tz": -540
    },
    "id": "FCFzCaXr7co7",
    "outputId": "c159bf5c-b3da-433b-aa79-02283acb5544"
   },
   "outputs": [
    {
     "name": "stdout",
     "output_type": "stream",
     "text": [
      "모듈의 __name__ 출력하기\n",
      "test_module\n",
      "\n",
      "메인의 __name__ 출력하기\n",
      "__main__\n",
      "\n"
     ]
    }
   ],
   "source": [
    "# 요게 메인모듈. \n",
    "import test_module\n",
    "\n",
    "print(\"메인의 __name__ 출력하기\")\n",
    "print(__name__)\n",
    "print()"
   ]
  },
  {
   "cell_type": "code",
   "execution_count": 7,
   "metadata": {
    "colab": {
     "base_uri": "https://localhost:8080/"
    },
    "executionInfo": {
     "elapsed": 4,
     "status": "ok",
     "timestamp": 1652856686614,
     "user": {
      "displayName": "Keywoong Bae",
      "userId": "10101473300544846909"
     },
     "user_tz": -540
    },
    "id": "KZw_s2cL7jUq",
    "outputId": "8e84516f-5acc-4e85-f62a-cb8e3efe8318"
   },
   "outputs": [
    {
     "name": "stdout",
     "output_type": "stream",
     "text": [
      "메인의 __name__ 출력하기\n",
      "__main__\n",
      "\n"
     ]
    }
   ],
   "source": [
    "print(\"메인의 __name__ 출력하기\")\n",
    "print(__name__)\n",
    "print()"
   ]
  },
  {
   "cell_type": "markdown",
   "metadata": {
    "id": "XUX-Wi_D8T2M"
   },
   "source": [
    "위의 예시를 보면, test_module을 import하는 모듈이 바로 \\__name\\__을 \\__main\\__으로 갖는 메인모듈이고,<br>\n",
    "test_module이 하위모듈로, 모듈명인 test_module이 \\__name\\__으로 저장됨을 알 수 있다."
   ]
  },
  {
   "cell_type": "markdown",
   "metadata": {
    "id": "FGnhkxMj8-WS"
   },
   "source": [
    "\\__name\\__변수를 메인모듈인지 확인해서 분기점 만드는데 활용이 가능하다."
   ]
  },
  {
   "cell_type": "code",
   "execution_count": 16,
   "metadata": {
    "colab": {
     "base_uri": "https://localhost:8080/"
    },
    "executionInfo": {
     "elapsed": 338,
     "status": "ok",
     "timestamp": 1652857296685,
     "user": {
      "displayName": "Keywoong Bae",
      "userId": "10101473300544846909"
     },
     "user_tz": -540
    },
    "id": "Lbca3jF774PT",
    "outputId": "2e5bc567-87b6-44bf-b31d-eb7b031a44bd"
   },
   "outputs": [
    {
     "name": "stdout",
     "output_type": "stream",
     "text": [
      "Writing cal1.py\n"
     ]
    }
   ],
   "source": [
    "%%writefile cal1.py\n",
    "def add(a,b):\n",
    "  return a+b\n",
    "def sub(a,b):\n",
    "  return a-b\n",
    "\n",
    "print(\" add(1,3): {}\".format(add(1,3)))\n",
    "print(\"sub(1,3): {}\".format(sub(1,3)))"
   ]
  },
  {
   "cell_type": "code",
   "execution_count": 17,
   "metadata": {
    "colab": {
     "base_uri": "https://localhost:8080/"
    },
    "executionInfo": {
     "elapsed": 441,
     "status": "ok",
     "timestamp": 1652857307918,
     "user": {
      "displayName": "Keywoong Bae",
      "userId": "10101473300544846909"
     },
     "user_tz": -540
    },
    "id": "zixosrQG9Mmb",
    "outputId": "d63d15a6-c3d5-4a86-c74f-2d450a1cde17"
   },
   "outputs": [
    {
     "name": "stdout",
     "output_type": "stream",
     "text": [
      "3\n",
      "-1\n"
     ]
    }
   ],
   "source": [
    "import cal1 as c1\n",
    "print(c1.add(1,2))\n",
    "print(c1.sub(1,2))"
   ]
  },
  {
   "cell_type": "markdown",
   "metadata": {
    "id": "pLInIOPw-T86"
   },
   "source": [
    "## 1.3 모듈 사례\n",
    "#### 1.3.1 대표적인 표준모듈 : random 모듈"
   ]
  },
  {
   "cell_type": "code",
   "execution_count": 32,
   "metadata": {
    "colab": {
     "base_uri": "https://localhost:8080/"
    },
    "executionInfo": {
     "elapsed": 4,
     "status": "ok",
     "timestamp": 1652858945492,
     "user": {
      "displayName": "Keywoong Bae",
      "userId": "10101473300544846909"
     },
     "user_tz": -540
    },
    "id": "kiLTXBs69RPy",
    "outputId": "1fbb5888-e99d-44cd-f2f8-7c33185b6569"
   },
   "outputs": [
    {
     "name": "stdout",
     "output_type": "stream",
     "text": [
      "random()은 0과 1사이의 임의의 float 반환합니다\n",
      "random() :  0.9324567409888461\n",
      "\n",
      "uniform(a,b)은 a와 b 사이의 임의의 float 반환합니다.\n",
      "uniform(1,5) :  4.087556903458001\n",
      "\n",
      "randrange(a)는 0과 a 사이의 임의의 정수값을 반환합니다.\n",
      "randrange(10) :  0\n",
      "\n",
      "randrange(a,b)는 a와 b사이의 임의의 int 반환\n",
      "randrange(15,20) :  19\n",
      "\n",
      "choice(list)는 list 내부의 요소 하나를 랜덤하게 선택합니다.\n",
      "choice(list1) :  3\n",
      "\n",
      "shuffle(list)는 리스트의 요소를 랜덤하게 섞습니다.\n",
      "shuffle하기 전 list1 :  [1, 3, 5, 7, 9, 11, 13, 15, 17, 19]\n",
      "shuffle된 list1 :  [13, 15, 9, 11, 7, 5, 19, 1, 17, 3]\n",
      "\n",
      "sample(list, k=n)은 리스트의 요소 중 n개를 임의로 뽑습니다\n",
      "sample(list1, k = 3) :  [5, 1, 13]\n"
     ]
    }
   ],
   "source": [
    "import random as r\n",
    "\n",
    "print(\"random()은 0과 1사이의 임의의 float 반환합니다\")\n",
    "print(\"random() : \",r.random()) \n",
    "print()\n",
    "\n",
    "print(\"uniform(a,b)은 a와 b 사이의 임의의 float 반환합니다.\")\n",
    "print(\"uniform(1,5) : \",r.uniform(1,5))\n",
    "print()\n",
    "\n",
    "print(\"randrange(a)는 0과 a 사이의 임의의 정수값을 반환합니다.\")\n",
    "print(\"randrange(10) : \",r.randrange(10))\n",
    "print()\n",
    "print(\"randrange(a,b)는 a와 b사이의 임의의 int 반환\")\n",
    "print(\"randrange(15,20) : \",r.randrange(15,20))\n",
    "print()\n",
    "print(\"choice(list)는 list 내부의 요소 하나를 랜덤하게 선택합니다.\")\n",
    "list1 = [1,3,5,7,9,11,13,15,17,19]\n",
    "print(\"choice(list1) : \",r.choice(list1))\n",
    "print()\n",
    "print(\"shuffle(list)는 리스트의 요소를 랜덤하게 섞습니다.\")\n",
    "print(\"shuffle하기 전 list1 : \",list1)\n",
    "r.shuffle(list1)\n",
    "print(\"shuffle된 list1 : \",list1)\n",
    "print()\n",
    "print(\"sample(list, k=n)은 리스트의 요소 중 n개를 임의로 뽑습니다\")\n",
    "print(\"sample(list1, k = 3) : \",r.sample(list1, k = 3))"
   ]
  },
  {
   "cell_type": "markdown",
   "metadata": {
    "id": "zujnq_yw_7f5"
   },
   "source": [
    "#### 1.3.2 대표적인 외부모듈 : Numpy\n",
    "고차원 배열 계산에 특화되어 있다."
   ]
  },
  {
   "cell_type": "markdown",
   "metadata": {
    "id": "dA9ePlvgACxB"
   },
   "source": [
    "## 2. 패키지\n",
    "파이썬의 패키지는 모듈이 폴더에 정리되어 계층적으로 모여있는 구조이다. <br>\n",
    "패키지명.모듈명으로 구성"
   ]
  },
  {
   "cell_type": "markdown",
   "metadata": {
    "id": "ppunoSI1Ayo5"
   },
   "source": [
    "### 2.1 패키지 만들기"
   ]
  },
  {
   "cell_type": "code",
   "execution_count": 24,
   "metadata": {
    "colab": {
     "base_uri": "https://localhost:8080/"
    },
    "executionInfo": {
     "elapsed": 347,
     "status": "ok",
     "timestamp": 1652857901181,
     "user": {
      "displayName": "Keywoong Bae",
      "userId": "10101473300544846909"
     },
     "user_tz": -540
    },
    "id": "OPOqTJOR_NMs",
    "outputId": "866079b0-b1bc-43fb-c24d-236f37ba02a7"
   },
   "outputs": [
    {
     "name": "stdout",
     "output_type": "stream",
     "text": [
      "Writing test_package/module_a.py\n"
     ]
    }
   ],
   "source": [
    "%%writefile test_package/module_a.py\n",
    "variable_a = \"a 모듈의 변수\""
   ]
  },
  {
   "cell_type": "code",
   "execution_count": 25,
   "metadata": {
    "colab": {
     "base_uri": "https://localhost:8080/"
    },
    "executionInfo": {
     "elapsed": 4,
     "status": "ok",
     "timestamp": 1652857912104,
     "user": {
      "displayName": "Keywoong Bae",
      "userId": "10101473300544846909"
     },
     "user_tz": -540
    },
    "id": "MOKg5BD-AcBr",
    "outputId": "f7f6b65b-3eb3-41c6-9d27-358177a55eaa"
   },
   "outputs": [
    {
     "name": "stdout",
     "output_type": "stream",
     "text": [
      "Writing test_package/module_b.py\n"
     ]
    }
   ],
   "source": [
    "%%writefile test_package/module_b.py\n",
    "variable_b = \"b 모듈의 변수\""
   ]
  },
  {
   "cell_type": "code",
   "execution_count": 26,
   "metadata": {
    "colab": {
     "base_uri": "https://localhost:8080/"
    },
    "executionInfo": {
     "elapsed": 3,
     "status": "ok",
     "timestamp": 1652857963739,
     "user": {
      "displayName": "Keywoong Bae",
      "userId": "10101473300544846909"
     },
     "user_tz": -540
    },
    "id": "67WdfC5DAfih",
    "outputId": "9e43c3d1-a4e1-4418-8636-06e22395ffe3"
   },
   "outputs": [
    {
     "name": "stdout",
     "output_type": "stream",
     "text": [
      "a 모듈의 변수\n",
      "b 모듈의 변수\n"
     ]
    }
   ],
   "source": [
    "import test_package.module_a as a\n",
    "import test_package.module_b as b\n",
    "\n",
    "print(a.variable_a)\n",
    "print(b.variable_b)"
   ]
  },
  {
   "cell_type": "markdown",
   "metadata": {
    "id": "bOdgoEuTA0uZ"
   },
   "source": [
    "### 2.2 패키지 내부의 모듈 한꺼번에 가져오기\n",
    "\\__init\\__.py 은 \\__all\\__을 가지고 있으며, \\__all\\__에는 import를 할 때 사용될 모듈들의 목록을 선언한다."
   ]
  },
  {
   "cell_type": "code",
   "execution_count": 27,
   "metadata": {
    "colab": {
     "base_uri": "https://localhost:8080/"
    },
    "executionInfo": {
     "elapsed": 3,
     "status": "ok",
     "timestamp": 1652858326102,
     "user": {
      "displayName": "Keywoong Bae",
      "userId": "10101473300544846909"
     },
     "user_tz": -540
    },
    "id": "EjtzRjVkAv9R",
    "outputId": "e4f5b20b-7229-46a1-d59e-1958ceabcfed"
   },
   "outputs": [
    {
     "name": "stdout",
     "output_type": "stream",
     "text": [
      "Writing test_package/__init__.py\n"
     ]
    }
   ],
   "source": [
    "%%writefile test_package/__init__.py\n",
    "__all__ = [\"modeul_a\", \"module_b\"]"
   ]
  },
  {
   "cell_type": "code",
   "execution_count": 28,
   "metadata": {
    "colab": {
     "base_uri": "https://localhost:8080/"
    },
    "executionInfo": {
     "elapsed": 5,
     "status": "ok",
     "timestamp": 1652858352365,
     "user": {
      "displayName": "Keywoong Bae",
      "userId": "10101473300544846909"
     },
     "user_tz": -540
    },
    "id": "acOSle5hCIjh",
    "outputId": "67722262-21e6-4050-ac94-13e2af25e1d2"
   },
   "outputs": [
    {
     "name": "stdout",
     "output_type": "stream",
     "text": [
      "a 모듈의 변수\n",
      "b 모듈의 변수\n"
     ]
    }
   ],
   "source": [
    "from test_package import *\n",
    "\n",
    "print(module_a.variable_a)\n",
    "print(module_b.variable_b)"
   ]
  }
 ],
 "metadata": {
  "colab": {
   "authorship_tag": "ABX9TyMgezeBXjkxEQWsCc/09vr3",
   "collapsed_sections": [],
   "name": "10_Module.ipynb",
   "provenance": []
  },
  "kernelspec": {
   "display_name": "Python 3 (ipykernel)",
   "language": "python",
   "name": "python3"
  },
  "language_info": {
   "codemirror_mode": {
    "name": "ipython",
    "version": 3
   },
   "file_extension": ".py",
   "mimetype": "text/x-python",
   "name": "python",
   "nbconvert_exporter": "python",
   "pygments_lexer": "ipython3",
   "version": "3.9.7"
  }
 },
 "nbformat": 4,
 "nbformat_minor": 1
}
