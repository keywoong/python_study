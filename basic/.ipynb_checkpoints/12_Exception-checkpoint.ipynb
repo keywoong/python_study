{
 "cells": [
  {
   "cell_type": "markdown",
   "metadata": {},
   "source": [
    "코랩을 위한 깜짝파티"
   ]
  },
  {
   "cell_type": "markdown",
   "metadata": {
    "id": "cT7JGWhWC4xU"
   },
   "source": [
    "## 1. 오류\n",
    "오류란, 프로그램이 올바르게 동작하지 않는 현상을 말한다.<br>\n",
    "오류는\n",
    "- 구문오류(syntax Error)\n",
    "- 예외 혹은 런타임 오류 (Exception or Runtime Error)\n",
    "- 논리오류 (logical Error)\n",
    "<br>\n",
    "\n",
    "가 있다."
   ]
  },
  {
   "cell_type": "markdown",
   "metadata": {
    "id": "SjmBh5ZnDJ20"
   },
   "source": [
    "### 1.1 구문오류 (syntax Error)\n",
    "프로그램 실행 전에 발생하는 오류(vs code기준, colab은 아님) 이며, 괄호 개수, 들여쓰기, 오타 등 `문법 상의 오류`이다. "
   ]
  },
  {
   "cell_type": "code",
   "execution_count": null,
   "metadata": {
    "colab": {
     "base_uri": "https://localhost:8080/",
     "height": 138
    },
    "executionInfo": {
     "elapsed": 14,
     "status": "error",
     "timestamp": 1653020499650,
     "user": {
      "displayName": "Keywoong Bae",
      "userId": "10101473300544846909"
     },
     "user_tz": -540
    },
    "id": "Zq9tXHe7C0Hw",
    "outputId": "362dc099-2960-4c8c-f366-3061d85fdfce"
   },
   "outputs": [
    {
     "ename": "SyntaxError",
     "evalue": "ignored",
     "output_type": "error",
     "traceback": [
      "\u001b[0;36m  File \u001b[0;32m\"<ipython-input-1-2813dc1bab8a>\"\u001b[0;36m, line \u001b[0;32m1\u001b[0m\n\u001b[0;31m    print(\"구문 오류를 강제로 발생시켰음!)\u001b[0m\n\u001b[0m                             ^\u001b[0m\n\u001b[0;31mSyntaxError\u001b[0m\u001b[0;31m:\u001b[0m EOL while scanning string literal\n"
     ]
    }
   ],
   "source": [
    "print(\"구문 오류를 강제로 발생시켰음!)"
   ]
  },
  {
   "cell_type": "markdown",
   "metadata": {
    "id": "Z3QEWffQEJQ6"
   },
   "source": [
    "### 1.2 예외 혹은 런타임 오류 (Exception or runtime Error)\n",
    "프로그램 실행 중에 발생하는 오류이다. <br>\n",
    "실행 중, 비정상적인 값이 발생되어 더 이상 진행이 불가능할 경우 발생한다. <br>\n",
    "ex) 존재하지 않는 변수, 함수 객체에 접근할 때 / 0으로 나눌 때 / 변수 타입이 안 맞을 때"
   ]
  },
  {
   "cell_type": "code",
   "execution_count": null,
   "metadata": {
    "colab": {
     "base_uri": "https://localhost:8080/",
     "height": 232
    },
    "executionInfo": {
     "elapsed": 16,
     "status": "error",
     "timestamp": 1653020501473,
     "user": {
      "displayName": "Keywoong Bae",
      "userId": "10101473300544846909"
     },
     "user_tz": -540
    },
    "id": "pJSnE0MMEHvq",
    "outputId": "ac17aec5-a55e-4eed-c169-20c2be526c8f"
   },
   "outputs": [
    {
     "name": "stdout",
     "output_type": "stream",
     "text": [
      "프로그램을 시작합니다.\n"
     ]
    },
    {
     "ename": "NameError",
     "evalue": "ignored",
     "output_type": "error",
     "traceback": [
      "\u001b[0;31m---------------------------------------------------------------------------\u001b[0m",
      "\u001b[0;31mNameError\u001b[0m                                 Traceback (most recent call last)",
      "\u001b[0;32m<ipython-input-2-552ca1fd9f9f>\u001b[0m in \u001b[0;36m<module>\u001b[0;34m()\u001b[0m\n\u001b[1;32m      1\u001b[0m \u001b[0;31m# 존재하지 않는 값에 접근\u001b[0m\u001b[0;34m\u001b[0m\u001b[0;34m\u001b[0m\u001b[0;34m\u001b[0m\u001b[0m\n\u001b[1;32m      2\u001b[0m \u001b[0mprint\u001b[0m\u001b[0;34m(\u001b[0m\u001b[0;34m\"프로그램을 시작합니다.\"\u001b[0m\u001b[0;34m)\u001b[0m\u001b[0;34m\u001b[0m\u001b[0;34m\u001b[0m\u001b[0m\n\u001b[0;32m----> 3\u001b[0;31m \u001b[0mprint\u001b[0m\u001b[0;34m(\u001b[0m\u001b[0mvar\u001b[0m\u001b[0;34m)\u001b[0m\u001b[0;34m\u001b[0m\u001b[0;34m\u001b[0m\u001b[0m\n\u001b[0m",
      "\u001b[0;31mNameError\u001b[0m: name 'var' is not defined"
     ]
    }
   ],
   "source": [
    "# 존재하지 않는 값에 접근\n",
    "print(\"프로그램을 시작합니다.\")\n",
    "print(var)"
   ]
  },
  {
   "cell_type": "code",
   "execution_count": null,
   "metadata": {
    "colab": {
     "base_uri": "https://localhost:8080/",
     "height": 194
    },
    "executionInfo": {
     "elapsed": 13,
     "status": "error",
     "timestamp": 1653020502341,
     "user": {
      "displayName": "Keywoong Bae",
      "userId": "10101473300544846909"
     },
     "user_tz": -540
    },
    "id": "5WQPm4BLEpaL",
    "outputId": "8eff028d-cf4b-43bf-f4dc-c2c06c243538"
   },
   "outputs": [
    {
     "ename": "ZeroDivisionError",
     "evalue": "ignored",
     "output_type": "error",
     "traceback": [
      "\u001b[0;31m---------------------------------------------------------------------------\u001b[0m",
      "\u001b[0;31mZeroDivisionError\u001b[0m                         Traceback (most recent call last)",
      "\u001b[0;32m<ipython-input-3-819550a2f912>\u001b[0m in \u001b[0;36m<module>\u001b[0;34m()\u001b[0m\n\u001b[1;32m      1\u001b[0m \u001b[0;31m# 0으로 나눌 때\u001b[0m\u001b[0;34m\u001b[0m\u001b[0;34m\u001b[0m\u001b[0;34m\u001b[0m\u001b[0m\n\u001b[0;32m----> 2\u001b[0;31m \u001b[0mprint\u001b[0m\u001b[0;34m(\u001b[0m\u001b[0;36m2\u001b[0m\u001b[0;34m/\u001b[0m\u001b[0;36m0\u001b[0m\u001b[0;34m)\u001b[0m\u001b[0;34m\u001b[0m\u001b[0;34m\u001b[0m\u001b[0m\n\u001b[0m",
      "\u001b[0;31mZeroDivisionError\u001b[0m: division by zero"
     ]
    }
   ],
   "source": [
    "# 0으로 나눌 때\n",
    "print(2/0)"
   ]
  },
  {
   "cell_type": "code",
   "execution_count": null,
   "metadata": {
    "colab": {
     "base_uri": "https://localhost:8080/",
     "height": 194
    },
    "executionInfo": {
     "elapsed": 15,
     "status": "error",
     "timestamp": 1653020503136,
     "user": {
      "displayName": "Keywoong Bae",
      "userId": "10101473300544846909"
     },
     "user_tz": -540
    },
    "id": "P5BHbnttEsWy",
    "outputId": "824c56b2-4a0b-4a0e-d888-e2daf816cf49"
   },
   "outputs": [
    {
     "ename": "ValueError",
     "evalue": "ignored",
     "output_type": "error",
     "traceback": [
      "\u001b[0;31m---------------------------------------------------------------------------\u001b[0m",
      "\u001b[0;31mValueError\u001b[0m                                Traceback (most recent call last)",
      "\u001b[0;32m<ipython-input-4-d545c31517db>\u001b[0m in \u001b[0;36m<module>\u001b[0;34m()\u001b[0m\n\u001b[1;32m      1\u001b[0m \u001b[0;31m# 변수 타입이 안 맞을 때\u001b[0m\u001b[0;34m\u001b[0m\u001b[0;34m\u001b[0m\u001b[0;34m\u001b[0m\u001b[0m\n\u001b[0;32m----> 2\u001b[0;31m \u001b[0mprint\u001b[0m\u001b[0;34m(\u001b[0m\u001b[0mint\u001b[0m\u001b[0;34m(\u001b[0m\u001b[0;34m\"안녕하세요\"\u001b[0m\u001b[0;34m)\u001b[0m\u001b[0;34m)\u001b[0m\u001b[0;34m\u001b[0m\u001b[0;34m\u001b[0m\u001b[0m\n\u001b[0m",
      "\u001b[0;31mValueError\u001b[0m: invalid literal for int() with base 10: '안녕하세요'"
     ]
    }
   ],
   "source": [
    "# 변수 타입이 안 맞을 때\n",
    "print(int(\"안녕하세요\"))"
   ]
  },
  {
   "cell_type": "markdown",
   "metadata": {
    "id": "9OZbhFZKEy6y"
   },
   "source": [
    "## 1.3 논리오류 (logical Error)\n",
    "구문 오류나 예외가 발생하진 않았지만 그릇된 결과가 발생한 것이다.<br>\n",
    "알고리즘 설계가 잘못되거나 연산자, 수, 변수 이름 표기 실수가 원인이다."
   ]
  },
  {
   "cell_type": "code",
   "execution_count": null,
   "metadata": {
    "colab": {
     "base_uri": "https://localhost:8080/"
    },
    "executionInfo": {
     "elapsed": 7,
     "status": "ok",
     "timestamp": 1653020504259,
     "user": {
      "displayName": "Keywoong Bae",
      "userId": "10101473300544846909"
     },
     "user_tz": -540
    },
    "id": "GeYsA-RNExL7",
    "outputId": "649c9785-93b2-4f11-b730-d18e18a12255"
   },
   "outputs": [
    {
     "name": "stdout",
     "output_type": "stream",
     "text": [
      "0은 홀수이다 False\n",
      "1은 홀수이다 True\n",
      "2는 홀수이다 True\n"
     ]
    }
   ],
   "source": [
    "def is_odd(n):\n",
    "  return n/2 !=0\n",
    "\n",
    "print(\"0은 홀수이다\", is_odd(0))\n",
    "print(\"1은 홀수이다\", is_odd(1))\n",
    "print(\"2는 홀수이다\", is_odd(2))"
   ]
  },
  {
   "cell_type": "markdown",
   "metadata": {
    "id": "Yd6Wu1t7FQDK"
   },
   "source": [
    "위의 예시는 홀,짝 판별 소스코드이다. 그런데 2가 홀수라고 출력된다.<br>\n",
    "이는 나머지를 구하는 `%`연산자 대신 단순 나눗셈을 하는 `/`연산자를 사용했기 때문이다. <br>\n",
    "`/`를 `%`로 변경하면 의도대로 출력된다."
   ]
  },
  {
   "cell_type": "code",
   "execution_count": null,
   "metadata": {
    "colab": {
     "base_uri": "https://localhost:8080/"
    },
    "executionInfo": {
     "elapsed": 364,
     "status": "ok",
     "timestamp": 1653020506038,
     "user": {
      "displayName": "Keywoong Bae",
      "userId": "10101473300544846909"
     },
     "user_tz": -540
    },
    "id": "BpPcmIxtFPVU",
    "outputId": "e3612272-5f31-4908-f103-9e9ba58d4beb"
   },
   "outputs": [
    {
     "name": "stdout",
     "output_type": "stream",
     "text": [
      "0은 홀수이다 False\n",
      "1은 홀수이다 True\n",
      "2는 홀수이다 False\n"
     ]
    }
   ],
   "source": [
    "def is_odd(n):\n",
    "  return n%2 !=0\n",
    "\n",
    "print(\"0은 홀수이다\", is_odd(0))\n",
    "print(\"1은 홀수이다\", is_odd(1))\n",
    "print(\"2는 홀수이다\", is_odd(2))"
   ]
  },
  {
   "cell_type": "markdown",
   "metadata": {
    "id": "JATt-elNGCuh"
   },
   "source": [
    "이렇게 오류가 발생하진 않지만 원하는 결과가 나오지 않는 경우를 \"논리오류\" 라고 한다."
   ]
  },
  {
   "cell_type": "markdown",
   "metadata": {
    "id": "dIJy_nHKGM96"
   },
   "source": [
    "## 2. 예외 처리하기"
   ]
  },
  {
   "cell_type": "markdown",
   "metadata": {
    "id": "E2dZjNsfGRCj"
   },
   "source": [
    "아래와 같은 예외가 발생했다."
   ]
  },
  {
   "cell_type": "code",
   "execution_count": null,
   "metadata": {
    "colab": {
     "base_uri": "https://localhost:8080/",
     "height": 269
    },
    "executionInfo": {
     "elapsed": 7286,
     "status": "error",
     "timestamp": 1653020515189,
     "user": {
      "displayName": "Keywoong Bae",
      "userId": "10101473300544846909"
     },
     "user_tz": -540
    },
    "id": "AXnpvw17GBiq",
    "outputId": "60d987ec-3b86-4697-8cf8-8690c2ce82c5"
   },
   "outputs": [
    {
     "name": "stdout",
     "output_type": "stream",
     "text": [
      "정수를 입력하세요: 3.2\n"
     ]
    },
    {
     "ename": "ValueError",
     "evalue": "ignored",
     "output_type": "error",
     "traceback": [
      "\u001b[0;31m---------------------------------------------------------------------------\u001b[0m",
      "\u001b[0;31mValueError\u001b[0m                                Traceback (most recent call last)",
      "\u001b[0;32m<ipython-input-7-24a27d73d471>\u001b[0m in \u001b[0;36m<module>\u001b[0;34m()\u001b[0m\n\u001b[1;32m      1\u001b[0m \u001b[0;32mimport\u001b[0m \u001b[0mmath\u001b[0m\u001b[0;34m\u001b[0m\u001b[0;34m\u001b[0m\u001b[0m\n\u001b[0;32m----> 2\u001b[0;31m \u001b[0ma\u001b[0m \u001b[0;34m=\u001b[0m \u001b[0mint\u001b[0m\u001b[0;34m(\u001b[0m\u001b[0minput\u001b[0m\u001b[0;34m(\u001b[0m\u001b[0;34m\"정수를 입력하세요: \"\u001b[0m\u001b[0;34m)\u001b[0m\u001b[0;34m)\u001b[0m\u001b[0;34m\u001b[0m\u001b[0;34m\u001b[0m\u001b[0m\n\u001b[0m\u001b[1;32m      3\u001b[0m \u001b[0mprint\u001b[0m\u001b[0;34m(\u001b[0m\u001b[0;34m\"원의 반지름:{}\"\u001b[0m\u001b[0;34m.\u001b[0m\u001b[0mformat\u001b[0m\u001b[0;34m(\u001b[0m\u001b[0ma\u001b[0m\u001b[0;34m)\u001b[0m\u001b[0;34m)\u001b[0m\u001b[0;34m\u001b[0m\u001b[0;34m\u001b[0m\u001b[0m\n\u001b[1;32m      4\u001b[0m \u001b[0mprint\u001b[0m\u001b[0;34m(\u001b[0m\u001b[0;34m\"원의 둘레:{:.2f}\"\u001b[0m\u001b[0;34m.\u001b[0m\u001b[0mformat\u001b[0m\u001b[0;34m(\u001b[0m\u001b[0;36m2\u001b[0m\u001b[0;34m*\u001b[0m\u001b[0ma\u001b[0m\u001b[0;34m*\u001b[0m\u001b[0mmath\u001b[0m\u001b[0;34m.\u001b[0m\u001b[0mpi\u001b[0m\u001b[0;34m)\u001b[0m\u001b[0;34m)\u001b[0m\u001b[0;34m\u001b[0m\u001b[0;34m\u001b[0m\u001b[0m\n\u001b[1;32m      5\u001b[0m \u001b[0mprint\u001b[0m\u001b[0;34m(\u001b[0m\u001b[0;34m\"원의 넓이:{:.2f}\"\u001b[0m\u001b[0;34m.\u001b[0m\u001b[0mformat\u001b[0m\u001b[0;34m(\u001b[0m\u001b[0ma\u001b[0m\u001b[0;34m*\u001b[0m\u001b[0mmath\u001b[0m\u001b[0;34m.\u001b[0m\u001b[0mpi\u001b[0m\u001b[0;34m**\u001b[0m\u001b[0;36m2\u001b[0m\u001b[0;34m)\u001b[0m\u001b[0;34m)\u001b[0m\u001b[0;34m\u001b[0m\u001b[0;34m\u001b[0m\u001b[0m\n",
      "\u001b[0;31mValueError\u001b[0m: invalid literal for int() with base 10: '3.2'"
     ]
    }
   ],
   "source": [
    "import math\n",
    "a = int(input(\"정수를 입력하세요: \"))\n",
    "print(\"원의 반지름:{}\".format(a))\n",
    "print(\"원의 둘레:{:.2f}\".format(2*a*math.pi))\n",
    "print(\"원의 넓이:{:.2f}\".format(a*math.pi**2))"
   ]
  },
  {
   "cell_type": "markdown",
   "metadata": {
    "id": "SGMno6-MGoEq"
   },
   "source": [
    "사용자가 정수를 입력해야 하는데 실수를 입력해서 발생한 예외이다.<br>\n",
    "프로그램은 예외가 발생해도 정상적으로 돌아가야 한다. 이러한 예외를 처리하는 방법은 \n",
    "- 조건문 사용하기\n",
    "- try~except구문 사용하기<br>\n",
    "\n",
    "가 있다. "
   ]
  },
  {
   "cell_type": "markdown",
   "metadata": {
    "id": "6S3cO5a2HAva"
   },
   "source": [
    "### 2.1 조건문 사용해서 예외 처리하기"
   ]
  },
  {
   "cell_type": "markdown",
   "metadata": {
    "id": "sl8e-7xHILXK"
   },
   "source": [
    "ex1) 정수를 입력한 경우"
   ]
  },
  {
   "cell_type": "code",
   "execution_count": null,
   "metadata": {
    "colab": {
     "base_uri": "https://localhost:8080/"
    },
    "executionInfo": {
     "elapsed": 3543,
     "status": "ok",
     "timestamp": 1653020521728,
     "user": {
      "displayName": "Keywoong Bae",
      "userId": "10101473300544846909"
     },
     "user_tz": -540
    },
    "id": "75npNFm2GkXz",
    "outputId": "a415a390-0c4f-4795-cc89-d6e855d5cf3e"
   },
   "outputs": [
    {
     "name": "stdout",
     "output_type": "stream",
     "text": [
      "정수를 입력하세요: 7\n",
      "원의 반지름:7\n",
      "원의 둘레:43.982297150257104\n",
      "원의 넓이:69.0872308076255\n"
     ]
    }
   ],
   "source": [
    "import math\n",
    "a = input(\"정수를 입력하세요: \")\n",
    "\n",
    "if a.isdigit(): # 정수인 경우\n",
    "  int_a = int(a)\n",
    "  print(\"원의 반지름:{}\".format(int_a))\n",
    "  print(\"원의 둘레:{}\".format(2*int_a*math.pi))\n",
    "  print(\"원의 넓이:{}\".format(int_a*math.pi**2))\n",
    "else: # 정수가 아닌 경우\n",
    "  print(\"정수를 입력하지 않았습니다.\")"
   ]
  },
  {
   "cell_type": "markdown",
   "metadata": {
    "id": "2QH7PYTBIPah"
   },
   "source": [
    "ex2) 정수를 입력하지 않은 경우 (예외 발생)"
   ]
  },
  {
   "cell_type": "code",
   "execution_count": null,
   "metadata": {
    "colab": {
     "base_uri": "https://localhost:8080/"
    },
    "executionInfo": {
     "elapsed": 4423,
     "status": "ok",
     "timestamp": 1653020527391,
     "user": {
      "displayName": "Keywoong Bae",
      "userId": "10101473300544846909"
     },
     "user_tz": -540
    },
    "id": "AXTnAub1HqxS",
    "outputId": "cecbe1df-18db-485a-a5ca-ca65b4e29e20"
   },
   "outputs": [
    {
     "name": "stdout",
     "output_type": "stream",
     "text": [
      "정수를 입력하세요: abc\n",
      "정수를 입력하지 않았습니다.\n"
     ]
    }
   ],
   "source": [
    "import math\n",
    "a = input(\"정수를 입력하세요: \")\n",
    "\n",
    "if a.isdigit(): # 정수인 경우\n",
    "  int_a = int(a)\n",
    "  print(\"원의 반지름:{}\".format(int_a))\n",
    "  print(\"원의 둘레:{}\".format(2*int_a*math.pi))\n",
    "  print(\"원의 넓이:{}\".format(int_a*math.pi**2))\n",
    "else: # 정수가 아닌 경우\n",
    "  print(\"정수를 입력하지 않았습니다.\")"
   ]
  },
  {
   "cell_type": "markdown",
   "metadata": {
    "id": "BZ7Hma1XH3_R"
   },
   "source": [
    "### 2.2 try ~ except 구문 사용하기\n",
    "어떤 상황에서 예외가 발생할지 일일히 다 예상할 수 없기 때문에 조건문으로 모든 예외를 다 처리할 수는 없다. <br>\n",
    "try ~ except 구문을 통해 강제종료되는 일 없이 예외처리가 가능하다."
   ]
  },
  {
   "cell_type": "code",
   "execution_count": null,
   "metadata": {
    "colab": {
     "base_uri": "https://localhost:8080/"
    },
    "executionInfo": {
     "elapsed": 5241,
     "status": "ok",
     "timestamp": 1653020534110,
     "user": {
      "displayName": "Keywoong Bae",
      "userId": "10101473300544846909"
     },
     "user_tz": -540
    },
    "id": "SM0O3_roH1uR",
    "outputId": "42e57ae7-af9e-4d7c-d359-6904eab694e2"
   },
   "outputs": [
    {
     "name": "stdout",
     "output_type": "stream",
     "text": [
      "정수를 입력하세요 : 7\n",
      "원의 반지름:7\n",
      "원의 둘레:43.982297150257104\n",
      "원의 넓이:153.93804002589985\n"
     ]
    }
   ],
   "source": [
    "import math\n",
    "\n",
    "try:\n",
    "  a = int(input(\"정수를 입력하세요 : \"))\n",
    "  print(\"원의 반지름:{}\".format(a))\n",
    "  print(\"원의 둘레:{}\".format(2*a*math.pi))\n",
    "  print(\"원의 넓이:{}\".format(a*a*math.pi))\n",
    "except:\n",
    "  print(\"예외가 발생했습니다!\")"
   ]
  },
  {
   "cell_type": "code",
   "execution_count": null,
   "metadata": {
    "colab": {
     "base_uri": "https://localhost:8080/"
    },
    "executionInfo": {
     "elapsed": 1756,
     "status": "ok",
     "timestamp": 1653020537435,
     "user": {
      "displayName": "Keywoong Bae",
      "userId": "10101473300544846909"
     },
     "user_tz": -540
    },
    "id": "xCM7x0fVdN97",
    "outputId": "a8c795b9-caad-479f-8427-70d7f450e2ce"
   },
   "outputs": [
    {
     "name": "stdout",
     "output_type": "stream",
     "text": [
      "정수를 입력하세요 : abc\n",
      "예외가 발생했습니다!\n"
     ]
    }
   ],
   "source": [
    "import math\n",
    "\n",
    "try:\n",
    "  a = int(input(\"정수를 입력하세요 : \"))\n",
    "  print(\"원의 반지름:{}\".format(a))\n",
    "  print(\"원의 둘레:{}\".format(2*a*math.pi))\n",
    "  print(\"원의 넓이:{}\".format(a*a*math.pi))\n",
    "except:\n",
    "  print(\"예외가 발생했습니다!\")"
   ]
  },
  {
   "cell_type": "markdown",
   "metadata": {
    "id": "WyvZ0P0ZdUJS"
   },
   "source": [
    "### 2.3 try\\~except\\~else 구문 사용하기"
   ]
  },
  {
   "cell_type": "markdown",
   "metadata": {
    "id": "5WbGlNoLekFJ"
   },
   "source": [
    "문제가 없을 때 실행할 코드르 else에 작성한다.<br>\n",
    "예외가 발생할 가능성이 있는 코드를 확실히 두 줄로 좁힐 수 있을 때, 그 부분을 분리해서 try에 작성한다."
   ]
  },
  {
   "cell_type": "code",
   "execution_count": null,
   "metadata": {
    "colab": {
     "base_uri": "https://localhost:8080/"
    },
    "executionInfo": {
     "elapsed": 5189,
     "status": "ok",
     "timestamp": 1653020543989,
     "user": {
      "displayName": "Keywoong Bae",
      "userId": "10101473300544846909"
     },
     "user_tz": -540
    },
    "id": "bA5wf1pJdR1q",
    "outputId": "9bce5c91-34ae-4066-d9f1-1914203720f1"
   },
   "outputs": [
    {
     "name": "stdout",
     "output_type": "stream",
     "text": [
      "정수를 입력하세요: 7\n",
      "원의 반지름:7\n",
      "원의 둘레:43.98\n",
      "원의 넓이:153.94\n"
     ]
    }
   ],
   "source": [
    "import math\n",
    "\n",
    "try: #예외가 발생할 법한 구문을 try에 넣고\n",
    "  a = int(input(\"정수를 입력하세요: \"))\n",
    "except: # try에서 예외가 발생하면 except로\n",
    "  print(\"예외가 발생했습니다!\")\n",
    "else: # 아니면 else로 이동\n",
    "  print(\"원의 반지름:{}\".format(a))\n",
    "  print(\"원의 둘레:{:.2f}\".format(2*a*math.pi))\n",
    "  print(\"원의 넓이:{:.2f}\".format(a*a*math.pi))"
   ]
  },
  {
   "cell_type": "code",
   "execution_count": null,
   "metadata": {
    "colab": {
     "base_uri": "https://localhost:8080/"
    },
    "executionInfo": {
     "elapsed": 1751,
     "status": "ok",
     "timestamp": 1653020546136,
     "user": {
      "displayName": "Keywoong Bae",
      "userId": "10101473300544846909"
     },
     "user_tz": -540
    },
    "id": "YL2Eb9BmhzZz",
    "outputId": "0a03ba5c-4c7e-42f6-eee1-15c6c5e978a8"
   },
   "outputs": [
    {
     "name": "stdout",
     "output_type": "stream",
     "text": [
      "정수를 입력하세요: abc\n",
      "예외가 발생했습니다!\n"
     ]
    }
   ],
   "source": [
    "import math\n",
    "\n",
    "try: #예외가 발생할 법한 구문을 try에 넣고\n",
    "  a = int(input(\"정수를 입력하세요: \"))\n",
    "except: # try에서 예외가 발생하면 except로\n",
    "  print(\"예외가 발생했습니다!\")\n",
    "else: # 아니면 else로 이동\n",
    "  print(\"원의 반지름:{}\".format(a))\n",
    "  print(\"원의 둘레:{:.2f}\".format(2*a*math.pi))\n",
    "  print(\"원의 넓이:{:.2f}\".format(a*a*math.pi))"
   ]
  },
  {
   "cell_type": "markdown",
   "metadata": {
    "id": "I1uLsz-fiJoh"
   },
   "source": [
    "### 2.4 finally 구문 사용하기"
   ]
  },
  {
   "cell_type": "markdown",
   "metadata": {
    "id": "xdlSdXdJiMaU"
   },
   "source": [
    "예외가 있든 없든 무조건 마지막에 공통적으로 실행되는 구문"
   ]
  },
  {
   "cell_type": "code",
   "execution_count": null,
   "metadata": {
    "colab": {
     "base_uri": "https://localhost:8080/"
    },
    "executionInfo": {
     "elapsed": 5855,
     "status": "ok",
     "timestamp": 1653020553416,
     "user": {
      "displayName": "Keywoong Bae",
      "userId": "10101473300544846909"
     },
     "user_tz": -540
    },
    "id": "hoyi7T3Uh1iW",
    "outputId": "c327ce5f-27ca-4054-865a-3d633a0ce223"
   },
   "outputs": [
    {
     "name": "stdout",
     "output_type": "stream",
     "text": [
      "정수를 입력하세요 : 7\n",
      "원의 반지름:7\n",
      "원의 둘레:43.98\n",
      "원의 넓이:153.94\n",
      "프로그램이 종료됩니다.\n"
     ]
    }
   ],
   "source": [
    "import math\n",
    "try:\n",
    "  a = int(input(\"정수를 입력하세요 : \"))\n",
    "except:\n",
    "  print(\"예외가 발생했습니다.\")\n",
    "else:\n",
    "  print(\"원의 반지름:{}\".format(a))\n",
    "  print(\"원의 둘레:{:.2f}\".format(2*a*math.pi))\n",
    "  print(\"원의 넓이:{:.2f}\".format(a*a*math.pi))\n",
    "finally: # 예외가 있든 없든 무조건 실행되는 구문\n",
    "  print(\"프로그램이 종료됩니다.\")"
   ]
  },
  {
   "cell_type": "code",
   "execution_count": null,
   "metadata": {
    "colab": {
     "base_uri": "https://localhost:8080/"
    },
    "executionInfo": {
     "elapsed": 3160,
     "status": "ok",
     "timestamp": 1653020557711,
     "user": {
      "displayName": "Keywoong Bae",
      "userId": "10101473300544846909"
     },
     "user_tz": -540
    },
    "id": "6yFrKj86ijsc",
    "outputId": "c59b1045-1dba-42f5-b98c-12a28319bddc"
   },
   "outputs": [
    {
     "name": "stdout",
     "output_type": "stream",
     "text": [
      "정수를 입력하세요 : abc\n",
      "예외가 발생했습니다.\n",
      "프로그램이 종료됩니다.\n"
     ]
    }
   ],
   "source": [
    "import math\n",
    "try:\n",
    "  a = int(input(\"정수를 입력하세요 : \"))\n",
    "except:\n",
    "  print(\"예외가 발생했습니다.\")\n",
    "else:\n",
    "  print(\"원의 반지름:{}\".format(a))\n",
    "  print(\"원의 둘레:{:.2f}\".format(2*a*math.pi))\n",
    "  print(\"원의 넓이:{:.2f}\".format(a*a*math.pi))\n",
    "finally: # 예외가 있든 없든 무조건 실행되는 구문\n",
    "  print(\"프로그램이 종료됩니다.\")"
   ]
  },
  {
   "cell_type": "code",
   "execution_count": null,
   "metadata": {
    "colab": {
     "base_uri": "https://localhost:8080/"
    },
    "executionInfo": {
     "elapsed": 9,
     "status": "ok",
     "timestamp": 1653020558143,
     "user": {
      "displayName": "Keywoong Bae",
      "userId": "10101473300544846909"
     },
     "user_tz": -540
    },
    "id": "xRD451KwilQa",
    "outputId": "4996def4-e724-41d6-daff-4c6f8a8556e3"
   },
   "outputs": [
    {
     "name": "stdout",
     "output_type": "stream",
     "text": [
      "프로그램이 시작되었습니다.\n",
      "try 구문이 시작되었습니다.\n",
      "finally 구문이 실행되었습니다.\n",
      "프로그램이 종료되었습니다.\n"
     ]
    }
   ],
   "source": [
    "# while문과 finally 구문\n",
    "print(\"프로그램이 시작되었습니다.\")\n",
    "\n",
    "while True:\n",
    "  try:\n",
    "    print(\"try 구문이 시작되었습니다.\")\n",
    "    break # 바로 finally 구문으로 넘어감\n",
    "    print(\"try의 break 다음입니다.\") \n",
    "  except:\n",
    "    print(\"예외 상황입니다.\")\n",
    "  finally:\n",
    "    print(\"finally 구문이 실행되었습니다.\")\n",
    "  print(\"while 반복문의 마지막 줄입니다.\")\n",
    "print(\"프로그램이 종료되었습니다.\")"
   ]
  },
  {
   "cell_type": "markdown",
   "metadata": {
    "id": "KrzKPiYlqoFy"
   },
   "source": [
    "## 3. 예외의 고급 처리하기\n",
    "### 3.1 예외 객체란?\n",
    "예외 상황 발생시 관련 정보가 객체에 저장된다. \n",
    "- 관련 정보 예: 예외 상황의 종류, 관련 오류 메시지, 오류 발생 위치 등\n",
    "\n",
    "모든 예외 클래스는 Exception클래스로부터 상속받는다.\n",
    "<br>\n",
    "#### 기본적으로 제공하는 예외\n",
    "<ul>\n",
    "  <li>IndexError : List의 Index범위를 넘어갈 때</li>\n",
    "  <li>NameError : 존재하지 않은 변수를 호출할 때</li>\n",
    "  <li>ZeroDivisionError : 0으로 숫자를 나눌 때</li>\n",
    "  <li>ValueError : 변환할 수 없는 문자/숫자를 변환할 때</li>\n",
    "  <li>FileNotFoundError : 존재하지 않는 파일을 호출할 떄</li>\n",
    "</ul>"
   ]
  },
  {
   "cell_type": "code",
   "execution_count": null,
   "metadata": {
    "colab": {
     "base_uri": "https://localhost:8080/"
    },
    "executionInfo": {
     "elapsed": 3961,
     "status": "ok",
     "timestamp": 1653020563811,
     "user": {
      "displayName": "Keywoong Bae",
      "userId": "10101473300544846909"
     },
     "user_tz": -540
    },
    "id": "RlT62ypAqeSL",
    "outputId": "dbedaa99-ce96-4461-c9c6-84e5e64c4c91"
   },
   "outputs": [
    {
     "name": "stdout",
     "output_type": "stream",
     "text": [
      "7\n",
      "type(err):  <class 'IndexError'>\n",
      "err:  list index out of range\n"
     ]
    }
   ],
   "source": [
    "# 리스트 인덱스 범위가 벗어난 예외 상황에 대한 객체 생성\n",
    "list1 = [2,3]\n",
    "try:\n",
    "  i = int(input())\n",
    "  print(list1[i])\n",
    "except IndexError as err:\n",
    "  print(\"type(err): \", type(err))\n",
    "  print(\"err: \",err)"
   ]
  },
  {
   "cell_type": "code",
   "execution_count": null,
   "metadata": {
    "colab": {
     "base_uri": "https://localhost:8080/"
    },
    "executionInfo": {
     "elapsed": 3404,
     "status": "ok",
     "timestamp": 1653020568280,
     "user": {
      "displayName": "Keywoong Bae",
      "userId": "10101473300544846909"
     },
     "user_tz": -540
    },
    "id": "-9mx8jt-rJQR",
    "outputId": "9206db62-f24e-4b81-d08d-bee070de6423"
   },
   "outputs": [
    {
     "name": "stdout",
     "output_type": "stream",
     "text": [
      "정수를 입력하세요 : 3.2\n",
      "Value error입니다. 정수를 입력하지 않으셨군요\n",
      "err:  invalid literal for int() with base 10: '3.2'\n"
     ]
    }
   ],
   "source": [
    "list1 = [1,2,3]\n",
    "try:\n",
    "  i = int(input(\"정수를 입력하세요 : \"))\n",
    "  print(list1[i])\n",
    "except IndexError as err:\n",
    "  print(\"Index error입니다. 리스트의 인덱스가 벗어났습니다.\")\n",
    "  print(\"err:\", err)\n",
    "except ValueError as err:\n",
    "  print(\"Value error입니다. 정수를 입력하지 않으셨군요\")\n",
    "  print(\"err: \",err)"
   ]
  },
  {
   "cell_type": "code",
   "execution_count": null,
   "metadata": {
    "colab": {
     "base_uri": "https://localhost:8080/"
    },
    "executionInfo": {
     "elapsed": 16979,
     "status": "ok",
     "timestamp": 1653020586183,
     "user": {
      "displayName": "Keywoong Bae",
      "userId": "10101473300544846909"
     },
     "user_tz": -540
    },
    "id": "zjF8x4ozrrXm",
    "outputId": "88040d91-73f6-4196-8f18-ea31e4c2f275"
   },
   "outputs": [
    {
     "name": "stdout",
     "output_type": "stream",
     "text": [
      "정수를 입력하세요 : 5\n",
      "Index error입니다. 리스트의 인덱스가 벗어났습니다.\n",
      "err: list index out of range\n"
     ]
    }
   ],
   "source": [
    "list1 = [1,2,3]\n",
    "try:\n",
    "  i = int(input(\"정수를 입력하세요 : \"))\n",
    "  print(list1[i])\n",
    "except IndexError as err:\n",
    "  print(\"Index error입니다. 리스트의 인덱스가 벗어났습니다.\")\n",
    "  print(\"err:\", err)\n",
    "except ValueError as err:\n",
    "  print(\"Value error입니다. 정수를 입력하지 않으셨군요\")\n",
    "  print(\"err: \",err)"
   ]
  },
  {
   "cell_type": "code",
   "execution_count": null,
   "metadata": {
    "colab": {
     "base_uri": "https://localhost:8080/"
    },
    "executionInfo": {
     "elapsed": 1786,
     "status": "ok",
     "timestamp": 1653020590417,
     "user": {
      "displayName": "Keywoong Bae",
      "userId": "10101473300544846909"
     },
     "user_tz": -540
    },
    "id": "4V-8Y46ErtPX",
    "outputId": "14c004a9-512c-4ed8-a4bc-a67f3a071467"
   },
   "outputs": [
    {
     "name": "stdout",
     "output_type": "stream",
     "text": [
      "정수를 입력하세요 : 2\n",
      "3\n",
      "그 외 미리 파악못한 예외가 있습니다.\n",
      "type(err):  name 'k' is not defined\n",
      "err:  name 'k' is not defined\n"
     ]
    }
   ],
   "source": [
    "# 모든 예외 다 포함하기\n",
    "list1 = [1,2,3]\n",
    "\n",
    "try:\n",
    "  i = int(input(\"정수를 입력하세요 : \"))\n",
    "  print(list1[i])\n",
    "  print(k)\n",
    "except IndexError as err:\n",
    "  print(\"Index error입니다. 리스트의 인덱스가 벗어났습니다.\")\n",
    "  print(\"err:\", err)\n",
    "except ValueError as err:\n",
    "  print(\"Value error입니다. 정수를 입력하지 않으셨군요\")\n",
    "  print(\"err: \",err)\n",
    "except Exception as err:\n",
    "  print(\"그 외 미리 파악못한 예외가 있습니다.\")\n",
    "  print(\"type(err): \", err)\n",
    "  print(\"err: \",err)"
   ]
  },
  {
   "cell_type": "markdown",
   "metadata": {
    "id": "ejCTrt3bsP8C"
   },
   "source": [
    "예외를 강제로 발생시킬 수도 있다. 아직 구현되지 않은 부분이라 강제로 예외를 발생시켜 종료시키고 싶을 때 아래 소스코드로 구현하면 된다."
   ]
  },
  {
   "cell_type": "code",
   "execution_count": 1,
   "metadata": {
    "colab": {
     "base_uri": "https://localhost:8080/",
     "height": 288
    },
    "executionInfo": {
     "elapsed": 6983,
     "status": "error",
     "timestamp": 1653706077023,
     "user": {
      "displayName": "Keywoong Bae",
      "userId": "10101473300544846909"
     },
     "user_tz": -540
    },
    "id": "v95BZpOIjwyA",
    "outputId": "1b833de1-700e-493a-b7d1-ac35f41ff6c5"
   },
   "outputs": [
    {
     "name": "stdout",
     "output_type": "stream",
     "text": [
      "변환할 정수 값을 입력해주세요 : 10\n",
      "정수값으로 변환된 숫자 - 10\n",
      "변환할 정수 값을 입력해주세요 : 글자\n"
     ]
    },
    {
     "ename": "ValueError",
     "evalue": "ignored",
     "output_type": "error",
     "traceback": [
      "\u001b[0;31m---------------------------------------------------------------------------\u001b[0m",
      "\u001b[0;31mValueError\u001b[0m                                Traceback (most recent call last)",
      "\u001b[0;32m<ipython-input-1-93e087e0835b>\u001b[0m in \u001b[0;36m<module>\u001b[0;34m()\u001b[0m\n\u001b[1;32m      3\u001b[0m   \u001b[0;32mfor\u001b[0m \u001b[0mdigit\u001b[0m \u001b[0;32min\u001b[0m \u001b[0mvalue\u001b[0m\u001b[0;34m:\u001b[0m\u001b[0;34m\u001b[0m\u001b[0;34m\u001b[0m\u001b[0m\n\u001b[1;32m      4\u001b[0m     \u001b[0;32mif\u001b[0m \u001b[0mdigit\u001b[0m \u001b[0;32mnot\u001b[0m \u001b[0;32min\u001b[0m \u001b[0;34m\"0123456789\"\u001b[0m\u001b[0;34m:\u001b[0m\u001b[0;34m\u001b[0m\u001b[0;34m\u001b[0m\u001b[0m\n\u001b[0;32m----> 5\u001b[0;31m       \u001b[0;32mraise\u001b[0m \u001b[0mValueError\u001b[0m\u001b[0;34m(\u001b[0m\u001b[0;34m\"숫자값을 입력하지 않으셨습니다.\"\u001b[0m\u001b[0;34m)\u001b[0m\u001b[0;34m\u001b[0m\u001b[0;34m\u001b[0m\u001b[0m\n\u001b[0m\u001b[1;32m      6\u001b[0m   \u001b[0mprint\u001b[0m\u001b[0;34m(\u001b[0m\u001b[0;34m\"정수값으로 변환된 숫자 -\"\u001b[0m\u001b[0;34m,\u001b[0m\u001b[0mint\u001b[0m\u001b[0;34m(\u001b[0m\u001b[0mvalue\u001b[0m\u001b[0;34m)\u001b[0m\u001b[0;34m)\u001b[0m\u001b[0;34m\u001b[0m\u001b[0;34m\u001b[0m\u001b[0m\n",
      "\u001b[0;31mValueError\u001b[0m: 숫자값을 입력하지 않으셨습니다."
     ]
    }
   ],
   "source": [
    "while True:\n",
    "  value = input(\"변환할 정수 값을 입력해주세요 : \")\n",
    "  for digit in value:\n",
    "    if digit not in \"0123456789\":\n",
    "      raise ValueError(\"숫자값을 입력하지 않으셨습니다.\")\n",
    "  print(\"정수값으로 변환된 숫자 -\",int(value))"
   ]
  },
  {
   "cell_type": "code",
   "execution_count": null,
   "metadata": {
    "colab": {
     "base_uri": "https://localhost:8080/",
     "height": 269
    },
    "executionInfo": {
     "elapsed": 1586,
     "status": "error",
     "timestamp": 1653020594401,
     "user": {
      "displayName": "Keywoong Bae",
      "userId": "10101473300544846909"
     },
     "user_tz": -540
    },
    "id": "UWLkvieFsIPG",
    "outputId": "6cea7bf3-9609-490d-8a6b-2d39437ac24f"
   },
   "outputs": [
    {
     "name": "stdout",
     "output_type": "stream",
     "text": [
      "정수 입력!1\n"
     ]
    },
    {
     "ename": "NotImplementedError",
     "evalue": "ignored",
     "output_type": "error",
     "traceback": [
      "\u001b[0;31m---------------------------------------------------------------------------\u001b[0m",
      "\u001b[0;31mNotImplementedError\u001b[0m                       Traceback (most recent call last)",
      "\u001b[0;32m<ipython-input-21-eb474e248153>\u001b[0m in \u001b[0;36m<module>\u001b[0;34m()\u001b[0m\n\u001b[1;32m      3\u001b[0m \u001b[0;32mif\u001b[0m \u001b[0ma\u001b[0m\u001b[0;34m>\u001b[0m\u001b[0;36m0\u001b[0m\u001b[0;34m:\u001b[0m\u001b[0;34m\u001b[0m\u001b[0;34m\u001b[0m\u001b[0m\n\u001b[1;32m      4\u001b[0m   \u001b[0;31m# 아직 구현되지 않아서 예외를 발생시키고 싶어요\u001b[0m\u001b[0;34m\u001b[0m\u001b[0;34m\u001b[0m\u001b[0;34m\u001b[0m\u001b[0m\n\u001b[0;32m----> 5\u001b[0;31m   \u001b[0;32mraise\u001b[0m \u001b[0mNotImplementedError\u001b[0m\u001b[0;34m\u001b[0m\u001b[0;34m\u001b[0m\u001b[0m\n\u001b[0m\u001b[1;32m      6\u001b[0m \u001b[0;32melse\u001b[0m\u001b[0;34m:\u001b[0m\u001b[0;34m\u001b[0m\u001b[0;34m\u001b[0m\u001b[0m\n\u001b[1;32m      7\u001b[0m   \u001b[0;32mraise\u001b[0m \u001b[0mNotImplementedError\u001b[0m\u001b[0;34m\u001b[0m\u001b[0;34m\u001b[0m\u001b[0m\n",
      "\u001b[0;31mNotImplementedError\u001b[0m: "
     ]
    }
   ],
   "source": [
    "a = int(input(\"정수 입력!\"))\n",
    "\n",
    "if a>0:\n",
    "  # 아직 구현되지 않아서 예외를 발생시키고 싶어요\n",
    "  raise NotImplementedError\n",
    "else:\n",
    "  raise NotImplementedError"
   ]
  }
 ],
 "metadata": {
  "colab": {
   "authorship_tag": "ABX9TyM3UX1NnvNv4I3ZW9BWCUuX",
   "collapsed_sections": [],
   "name": "12_Exception.ipynb",
   "provenance": []
  },
  "kernelspec": {
   "display_name": "Python 3 (ipykernel)",
   "language": "python",
   "name": "python3"
  },
  "language_info": {
   "codemirror_mode": {
    "name": "ipython",
    "version": 3
   },
   "file_extension": ".py",
   "mimetype": "text/x-python",
   "name": "python",
   "nbconvert_exporter": "python",
   "pygments_lexer": "ipython3",
   "version": "3.9.7"
  }
 },
 "nbformat": 4,
 "nbformat_minor": 1
}
