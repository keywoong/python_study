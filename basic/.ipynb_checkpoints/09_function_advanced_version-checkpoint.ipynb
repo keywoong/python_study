{
 "cells": [
  {
   "cell_type": "markdown",
   "metadata": {
    "id": "_D8XKmG4F4no"
   },
   "source": [
    "## 1. 고급 함수 사용하기\n",
    "### 1.1 지역변수와 전역변수"
   ]
  },
  {
   "cell_type": "code",
   "execution_count": null,
   "metadata": {
    "colab": {
     "base_uri": "https://localhost:8080/"
    },
    "executionInfo": {
     "elapsed": 10,
     "status": "ok",
     "timestamp": 1653275915162,
     "user": {
      "displayName": "Keywoong Bae",
      "userId": "10101473300544846909"
     },
     "user_tz": -540
    },
    "id": "DxOAxOhaFzO2",
    "outputId": "22bb7811-1aa5-4d3d-f756-73f5e999ffc7"
   },
   "outputs": [
    {
     "name": "stdout",
     "output_type": "stream",
     "text": [
      "1\n"
     ]
    }
   ],
   "source": [
    "a = 1\n",
    "def var_test(a):\n",
    "  a = a+1\n",
    "var_test(a)\n",
    "print(a)"
   ]
  },
  {
   "cell_type": "markdown",
   "metadata": {
    "id": "gh5m6HLwICt_"
   },
   "source": [
    "위의 코드를 실행하면 a는 1로 출력된다.<br>\n",
    "var_test()함수를 사용했음에도 a의 값에 변화가 없는 이유는 바로 함수 내에서 다루는 a와 출력하는 a가 서로 다르기 때문이다. <br>\n",
    "위의 코드에서 함수 내에 있는 a는 지역변수(local variable)이고, 함수 밖 변수 a는 전역변수(global variable)이다."
   ]
  },
  {
   "cell_type": "markdown",
   "metadata": {
    "id": "NrHa5WmbKFFO"
   },
   "source": [
    "#### 지역변수\n",
    "- 함수, 반복문, 분기문 등의 내부에서 사용\n",
    "- 생성된 범위 안에서만 유효하며 코드 블록이 끝나면 소멸\n",
    "\n",
    "#### 전역변수\n",
    "- 모든 함수, 반복문, 분기문 어디에서든지 사용가능"
   ]
  },
  {
   "cell_type": "code",
   "execution_count": null,
   "metadata": {
    "colab": {
     "base_uri": "https://localhost:8080/"
    },
    "executionInfo": {
     "elapsed": 18,
     "status": "ok",
     "timestamp": 1653275915477,
     "user": {
      "displayName": "Keywoong Bae",
      "userId": "10101473300544846909"
     },
     "user_tz": -540
    },
    "id": "EPbpukoWGCJX",
    "outputId": "f30d0286-d4e3-414d-cdbd-633ddfcc4c15"
   },
   "outputs": [
    {
     "name": "stdout",
     "output_type": "stream",
     "text": [
      "200\n"
     ]
    }
   ],
   "source": [
    "# 사각형의 넓이를 구하는 함수\n",
    "width = 10\n",
    "height = 20\n",
    "\n",
    "def area(w,h):\n",
    "  result = w*h\n",
    "  return result\n",
    "\n",
    "print(area(width, height))"
   ]
  },
  {
   "cell_type": "markdown",
   "metadata": {
    "id": "e_8ucTnCK3Fu"
   },
   "source": [
    "위의 예시에서 width와 height는 함수 밖에서 선언되었으므로<br> 전역변수(global variable)이며, w와 h는 함수 안에서 선언되었으므로 함수 코드블럭에서만 유효한 지역변수(local variable)이다."
   ]
  },
  {
   "cell_type": "code",
   "execution_count": null,
   "metadata": {
    "colab": {
     "base_uri": "https://localhost:8080/"
    },
    "executionInfo": {
     "elapsed": 17,
     "status": "ok",
     "timestamp": 1653275915478,
     "user": {
      "displayName": "Keywoong Bae",
      "userId": "10101473300544846909"
     },
     "user_tz": -540
    },
    "id": "__NT33EzK1Ue",
    "outputId": "f98944cf-2c98-4c2f-a126-cbe7694e820b"
   },
   "outputs": [
    {
     "name": "stdout",
     "output_type": "stream",
     "text": [
      "2\n"
     ]
    }
   ],
   "source": [
    "# 함수 내에서 전역변수 사용\n",
    "a = 1\n",
    "def var_test():\n",
    "  global a # 함수 밖 전역변수 a를 불러옴\n",
    "  a = a+1\n",
    "var_test() # a에 1을 더하는 연산 실행\n",
    "print(a)"
   ]
  },
  {
   "cell_type": "markdown",
   "metadata": {
    "id": "TAJiaWeoLWTu"
   },
   "source": [
    "### 1.2 함수를 리스트에 할당하여 사용하기"
   ]
  },
  {
   "cell_type": "code",
   "execution_count": null,
   "metadata": {
    "colab": {
     "base_uri": "https://localhost:8080/"
    },
    "executionInfo": {
     "elapsed": 16,
     "status": "ok",
     "timestamp": 1653275915478,
     "user": {
      "displayName": "Keywoong Bae",
      "userId": "10101473300544846909"
     },
     "user_tz": -540
    },
    "id": "8JU3zaqOLRH2",
    "outputId": "ff601b18-c728-40b0-859e-951d335acc3c"
   },
   "outputs": [
    {
     "name": "stdout",
     "output_type": "stream",
     "text": [
      "3\n",
      "-1\n"
     ]
    }
   ],
   "source": [
    "def plus(a,b):\n",
    "  return a+b\n",
    "\n",
    "def minus(a,b):\n",
    "  return a-b\n",
    "\n",
    "whole = [plus, minus] # 함수로 구성된 whole이라는 리스트\n",
    "\n",
    "print(whole[0](1,2)) #plus\n",
    "print(whole[1](1,2)) #minus"
   ]
  },
  {
   "cell_type": "markdown",
   "metadata": {
    "id": "aYMrneZqZ2wI"
   },
   "source": [
    "### 1.3 함수를 매개변수로 전달하기\n",
    "#### 1.3.1 map() 함수\n",
    "map()함수를 이용해서 함수를 매개변수로 전달할 수 있다. <br>\n",
    "리스트의 각 요소에 함수를 적용한 반환값으로 새 리스트를 구성한다."
   ]
  },
  {
   "cell_type": "code",
   "execution_count": null,
   "metadata": {
    "colab": {
     "base_uri": "https://localhost:8080/"
    },
    "executionInfo": {
     "elapsed": 13,
     "status": "ok",
     "timestamp": 1653275915479,
     "user": {
      "displayName": "Keywoong Bae",
      "userId": "10101473300544846909"
     },
     "user_tz": -540
    },
    "id": "BKK6Wd1EZ1mx",
    "outputId": "11aa3889-5d45-40cb-aa55-e10662bc73bb"
   },
   "outputs": [
    {
     "name": "stdout",
     "output_type": "stream",
     "text": [
      "<map object at 0x7f5c3361d410>\n",
      "[1, 4, 9, 16, 25]\n"
     ]
    }
   ],
   "source": [
    "def power(item):\n",
    "  return item*item\n",
    "\n",
    "list1 = [1,2,3,4,5]\n",
    "list2 = map(power, list1) # power란 함수에 list1을 넣는다.\n",
    "print(list2)\n",
    "print(list(list2))"
   ]
  },
  {
   "cell_type": "markdown",
   "metadata": {
    "id": "tynz_EWTau9X"
   },
   "source": [
    "#### 1.3.2 filter()함수\n",
    "리스트의 각 요소에 함수를 적용한 반환값이 True인 요소로 새 리스트 구성"
   ]
  },
  {
   "cell_type": "code",
   "execution_count": null,
   "metadata": {
    "colab": {
     "base_uri": "https://localhost:8080/"
    },
    "executionInfo": {
     "elapsed": 12,
     "status": "ok",
     "timestamp": 1653275915479,
     "user": {
      "displayName": "Keywoong Bae",
      "userId": "10101473300544846909"
     },
     "user_tz": -540
    },
    "id": "1ZozA44EapnB",
    "outputId": "a8a7a169-db55-4a4b-f298-ed16ae680664"
   },
   "outputs": [
    {
     "name": "stdout",
     "output_type": "stream",
     "text": [
      "<filter object at 0x7f5c31399290>\n",
      "[1, 2]\n"
     ]
    }
   ],
   "source": [
    "def under_3(item):\n",
    "  return item<3\n",
    "list1 = [1,2,3,4,5]\n",
    "list2 = filter(under_3, list1)\n",
    "print(list2)\n",
    "print(list(list2))"
   ]
  },
  {
   "cell_type": "markdown",
   "metadata": {
    "id": "79jVvGuPbH9f"
   },
   "source": [
    "#### 1.3.3 lambda\n",
    "이름없는 함수라고 불리며, 함수를 한 줄로 간결하게 생성할 때 사용한다. "
   ]
  },
  {
   "cell_type": "code",
   "execution_count": null,
   "metadata": {
    "colab": {
     "base_uri": "https://localhost:8080/"
    },
    "executionInfo": {
     "elapsed": 12,
     "status": "ok",
     "timestamp": 1653275915480,
     "user": {
      "displayName": "Keywoong Bae",
      "userId": "10101473300544846909"
     },
     "user_tz": -540
    },
    "id": "vqWcKcSGbFc4",
    "outputId": "f6f16b47-864d-4f2f-b354-37bf32d79be6"
   },
   "outputs": [
    {
     "name": "stdout",
     "output_type": "stream",
     "text": [
      "<map object at 0x7f5c33609550>\n",
      "[1, 4, 9, 16, 25]\n"
     ]
    }
   ],
   "source": [
    "# 함수를 따로 선언해서 하는 경우\n",
    "def power(item):\n",
    "  return item*item\n",
    "list1 = [1,2,3,4,5]\n",
    "list2 = map(power, list1)\n",
    "print(list2)\n",
    "print(list(list2))"
   ]
  },
  {
   "cell_type": "code",
   "execution_count": null,
   "metadata": {
    "colab": {
     "base_uri": "https://localhost:8080/"
    },
    "executionInfo": {
     "elapsed": 11,
     "status": "ok",
     "timestamp": 1653275915481,
     "user": {
      "displayName": "Keywoong Bae",
      "userId": "10101473300544846909"
     },
     "user_tz": -540
    },
    "id": "Py-2aY12bgIo",
    "outputId": "a740d648-80a6-4733-a96c-abb7f9651da7"
   },
   "outputs": [
    {
     "name": "stdout",
     "output_type": "stream",
     "text": [
      "[1, 4, 9, 16, 25]\n"
     ]
    }
   ],
   "source": [
    "# 람다를 사용하는 경우1\n",
    "power = lambda item: item*item\n",
    "\n",
    "list1 = [1,2,3,4,5]\n",
    "list2 = map(power, list1)\n",
    "print(list(list2))"
   ]
  },
  {
   "cell_type": "code",
   "execution_count": null,
   "metadata": {
    "colab": {
     "base_uri": "https://localhost:8080/"
    },
    "executionInfo": {
     "elapsed": 9,
     "status": "ok",
     "timestamp": 1653275915481,
     "user": {
      "displayName": "Keywoong Bae",
      "userId": "10101473300544846909"
     },
     "user_tz": -540
    },
    "id": "T4fIN1HQbpoo",
    "outputId": "7d61cca6-1e67-4ecd-9b7f-26ce6b3067fb"
   },
   "outputs": [
    {
     "name": "stdout",
     "output_type": "stream",
     "text": [
      "[1, 4, 9, 16, 25]\n"
     ]
    }
   ],
   "source": [
    "#람다를 사용하는 경우2\n",
    "list1 = [1,2,3,4,5]\n",
    "list2 = map(lambda item: item*item, list1)\n",
    "print(list(list2))"
   ]
  }
 ],
 "metadata": {
  "colab": {
   "authorship_tag": "ABX9TyMi3qfh9l/pHVNYWzlYWR/F",
   "collapsed_sections": [],
   "name": "09_function_advanced_version.ipynb",
   "provenance": []
  },
  "kernelspec": {
   "display_name": "Python 3 (ipykernel)",
   "language": "python",
   "name": "python3"
  },
  "language_info": {
   "codemirror_mode": {
    "name": "ipython",
    "version": 3
   },
   "file_extension": ".py",
   "mimetype": "text/x-python",
   "name": "python",
   "nbconvert_exporter": "python",
   "pygments_lexer": "ipython3",
   "version": "3.9.12"
  }
 },
 "nbformat": 4,
 "nbformat_minor": 1
}
