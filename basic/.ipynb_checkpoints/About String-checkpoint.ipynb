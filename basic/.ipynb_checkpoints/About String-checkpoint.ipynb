{
 "cells": [
  {
   "cell_type": "markdown",
   "metadata": {
    "id": "R0-l5zXl7KIJ"
   },
   "source": [
    "## 1. String이란?\n",
    "- 숫자와 마찬가지로 파이썬에서 기본이 되는 자료형.\n",
    "- 사람이 읽을 수 있는 텍스트를 의미\n",
    "- integer처럼 보이는 자료도 문자열일 수 있다."
   ]
  },
  {
   "cell_type": "code",
   "execution_count": null,
   "metadata": {
    "colab": {
     "base_uri": "https://localhost:8080/"
    },
    "executionInfo": {
     "elapsed": 12,
     "status": "ok",
     "timestamp": 1653275774640,
     "user": {
      "displayName": "Keywoong Bae",
      "userId": "10101473300544846909"
     },
     "user_tz": -540
    },
    "id": "jwZAG9A17HNS",
    "outputId": "772a4737-5617-4254-b043-5f15e869cb82"
   },
   "outputs": [
    {
     "name": "stdout",
     "output_type": "stream",
     "text": [
      "50 51 52\n"
     ]
    }
   ],
   "source": [
    "import sys\n",
    "\n",
    "# sys.getsizeof()는 메모리에 실제로 올라가는 크기를 나타냄\n",
    "print(sys.getsizeof('a'), sys.getsizeof('ab'), sys.getsizeof('abc'))"
   ]
  },
  {
   "cell_type": "markdown",
   "metadata": {
    "id": "q6Xy3Xcf8NO1"
   },
   "source": [
    "string은 1byte 크기로, 한 글자씩 메모리에 공간이 할당된다.<br>\n",
    "- 컴퓨터는 2진수로 데이터 저장\n",
    "- 1 bit는 0또는 1\n",
    "- 1byte는 8bit. 따라서 총 $2^8$의 경우의 수 저장 가능<br>\n",
    "\n",
    "컴퓨터는 모든 데이터를 2진수로 인식하기 때문에 규칙에 따라 문자를 2진수로 변환하여 저장하거나 저장된 2진수를 숫자로 변환하여 표시한다.<br>\n",
    "\n",
    "파일을 읽어올 때는 그 파일의 인코딩 방식과 함께 불러와야 한글을 읽을 때 오류가 발생하지 않는다."
   ]
  },
  {
   "cell_type": "markdown",
   "metadata": {
    "id": "9NgwXW82UDzj"
   },
   "source": [
    "### String 문자열 인코딩\n",
    "1. ASCII (American Standard Code for Information Interchange)\n",
    "2. ANSI (American National Standard Institute)\n",
    "3. EUC-KR \n",
    "4. CP949\n",
    "5. UTF-8"
   ]
  },
  {
   "cell_type": "markdown",
   "metadata": {
    "id": "pvq7F6GwURqf"
   },
   "source": [
    "파일을 읽어올 때는 그 파일의 인코딩 방식과 함께 불러와야 한글을 읽을 때 오류가 발생하지 않음."
   ]
  },
  {
   "cell_type": "markdown",
   "metadata": {
    "id": "1dXnKLsr9x3O"
   },
   "source": [
    "## 2. String 특징\n",
    "#### 2.1 인덱싱\n",
    "- 문자열의 각 문자는 개별 주소(offset)를 가진다.\n",
    "- 이 주소를 사용해 할당된 값을 가져오는 것을 indexing 이라고 한다.\n",
    "- List와 같은 형태로 데이터를 처리한다."
   ]
  },
  {
   "cell_type": "code",
   "execution_count": null,
   "metadata": {
    "colab": {
     "base_uri": "https://localhost:8080/"
    },
    "executionInfo": {
     "elapsed": 10,
     "status": "ok",
     "timestamp": 1653275774641,
     "user": {
      "displayName": "Keywoong Bae",
      "userId": "10101473300544846909"
     },
     "user_tz": -540
    },
    "id": "XcfyU5D57eT3",
    "outputId": "d046b3fe-0cbb-475d-ece6-2383f4078e38"
   },
   "outputs": [
    {
     "name": "stdout",
     "output_type": "stream",
     "text": [
      "a e\n",
      "e a\n"
     ]
    }
   ],
   "source": [
    "a = 'abcde'\n",
    "print(a[0], a[4])\n",
    "print(a[-1], a[-5])"
   ]
  },
  {
   "cell_type": "markdown",
   "metadata": {
    "id": "HU70htyz-FtC"
   },
   "source": [
    "#### 2.2 슬라이싱\n",
    "문자열의 주소값을 기반으로 문자열의 부분값을 반환한다."
   ]
  },
  {
   "cell_type": "code",
   "execution_count": null,
   "metadata": {
    "colab": {
     "base_uri": "https://localhost:8080/"
    },
    "executionInfo": {
     "elapsed": 722,
     "status": "ok",
     "timestamp": 1653275775356,
     "user": {
      "displayName": "Keywoong Bae",
      "userId": "10101473300544846909"
     },
     "user_tz": -540
    },
    "id": "Bh9SwZWl-CJr",
    "outputId": "a363fbc4-d7a0-48e7-dd8e-52aed3218310"
   },
   "outputs": [
    {
     "name": "stdout",
     "output_type": "stream",
     "text": [
      "Inha AND U\n",
      "Inha University\n",
      "Inha University\n",
      "Ih nvriy AND ytisrevinU ahnI\n"
     ]
    }
   ],
   "source": [
    "a = \"Inha University\"\n",
    "\n",
    "print(a[0:4], 'AND',a[-10])\n",
    "print(a[:])# 전체 다\n",
    "print(a[-50:50])# 범위를 넘어갈 경우 자동으로 최대 범위 지정\n",
    "print(a[::2], 'AND',a[::-1])# 2칸 단위로, 역으로 슬라이싱"
   ]
  },
  {
   "cell_type": "markdown",
   "metadata": {
    "id": "vBp4ukRL-swZ"
   },
   "source": [
    "#### 2.3 문자열 연산 및 포함여부 검사\n",
    "- 덧셈과 곱셈으로 연산 가능\n",
    "- in 명령어로 포함 여부 확인 가능"
   ]
  },
  {
   "cell_type": "code",
   "execution_count": null,
   "metadata": {
    "colab": {
     "base_uri": "https://localhost:8080/"
    },
    "executionInfo": {
     "elapsed": 72,
     "status": "ok",
     "timestamp": 1653275775356,
     "user": {
      "displayName": "Keywoong Bae",
      "userId": "10101473300544846909"
     },
     "user_tz": -540
    },
    "id": "rKoPjVT--qES",
    "outputId": "7e292f3d-ef55-405a-b61e-14fbeed9c15a"
   },
   "outputs": [
    {
     "name": "stdout",
     "output_type": "stream",
     "text": [
      "TEAM INCHEON\n",
      "TEAMTEAM INCHEONINCHEON\n",
      "TEAM\n"
     ]
    }
   ],
   "source": [
    "# 덧셈과 곱셈으로 연산하기\n",
    "a = 'TEAM'\n",
    "b = 'INCHEON'\n",
    "print(a + ' '+ b)\n",
    "print(a*2 + ' '+b*2)\n",
    "\n",
    "# a안에 A가 포함되었는지 확인\n",
    "if 'A' in a:\n",
    "  print(a)\n",
    "else:\n",
    "  print(b)"
   ]
  },
  {
   "cell_type": "markdown",
   "metadata": {
    "id": "LUwk72pk_ELx"
   },
   "source": [
    "## 3. 문자열 함수"
   ]
  },
  {
   "cell_type": "markdown",
   "metadata": {
    "id": "GAEMQxUw0iAy"
   },
   "source": [
    "### 3.1 대표적인 문자열 함수들 소개"
   ]
  },
  {
   "cell_type": "code",
   "execution_count": null,
   "metadata": {
    "colab": {
     "base_uri": "https://localhost:8080/"
    },
    "executionInfo": {
     "elapsed": 71,
     "status": "ok",
     "timestamp": 1653275775356,
     "user": {
      "displayName": "Keywoong Bae",
      "userId": "10101473300544846909"
     },
     "user_tz": -540
    },
    "id": "WGlUkhZp_CHx",
    "outputId": "c339920c-2019-4de5-b36f-e34c36a8f20a"
   },
   "outputs": [
    {
     "name": "stdout",
     "output_type": "stream",
     "text": [
      "11\n"
     ]
    }
   ],
   "source": [
    "#len(a), 문자열의 문자 개수를 반환\n",
    "str1 = \"hello world\"\n",
    "print(len(str1))"
   ]
  },
  {
   "cell_type": "code",
   "execution_count": null,
   "metadata": {
    "colab": {
     "base_uri": "https://localhost:8080/"
    },
    "executionInfo": {
     "elapsed": 70,
     "status": "ok",
     "timestamp": 1653275775357,
     "user": {
      "displayName": "Keywoong Bae",
      "userId": "10101473300544846909"
     },
     "user_tz": -540
    },
    "id": "NDUOsctB_OZR",
    "outputId": "6942e67a-4302-460d-d116-65d407037995"
   },
   "outputs": [
    {
     "name": "stdout",
     "output_type": "stream",
     "text": [
      "HELLO WORLD\n"
     ]
    }
   ],
   "source": [
    "#str.upper(), 대문자로 변환\n",
    "str1 = \"hello world\"\n",
    "print(str1.upper())"
   ]
  },
  {
   "cell_type": "code",
   "execution_count": null,
   "metadata": {
    "colab": {
     "base_uri": "https://localhost:8080/"
    },
    "executionInfo": {
     "elapsed": 69,
     "status": "ok",
     "timestamp": 1653275775357,
     "user": {
      "displayName": "Keywoong Bae",
      "userId": "10101473300544846909"
     },
     "user_tz": -540
    },
    "id": "3GuOPKav_V7E",
    "outputId": "738ba6d7-d915-4f7c-cae6-af37d91d0ecc"
   },
   "outputs": [
    {
     "name": "stdout",
     "output_type": "stream",
     "text": [
      "hello world\n"
     ]
    }
   ],
   "source": [
    "#str.lower(), 소문자로 변환\n",
    "str1 = \"HELLO WORLD\"\n",
    "print(str1.lower())"
   ]
  },
  {
   "cell_type": "code",
   "execution_count": null,
   "metadata": {
    "colab": {
     "base_uri": "https://localhost:8080/"
    },
    "executionInfo": {
     "elapsed": 67,
     "status": "ok",
     "timestamp": 1653275775357,
     "user": {
      "displayName": "Keywoong Bae",
      "userId": "10101473300544846909"
     },
     "user_tz": -540
    },
    "id": "LDcrjdWS_cbp",
    "outputId": "465bee3f-ae09-4e26-ac94-7a0e3ab2f7e4"
   },
   "outputs": [
    {
     "name": "stdout",
     "output_type": "stream",
     "text": [
      "Hello world\n"
     ]
    }
   ],
   "source": [
    "#str.capitalize(), 첫 문자를 대문자로 변환\n",
    "str1 = \"hello world\"\n",
    "print(str1.capitalize())"
   ]
  },
  {
   "cell_type": "code",
   "execution_count": null,
   "metadata": {
    "colab": {
     "base_uri": "https://localhost:8080/"
    },
    "executionInfo": {
     "elapsed": 65,
     "status": "ok",
     "timestamp": 1653275775359,
     "user": {
      "displayName": "Keywoong Bae",
      "userId": "10101473300544846909"
     },
     "user_tz": -540
    },
    "id": "J-v4lWOp_j1N",
    "outputId": "e25f8936-add0-47f1-d280-edd97825f6e2"
   },
   "outputs": [
    {
     "name": "stdout",
     "output_type": "stream",
     "text": [
      "Hello World\n"
     ]
    }
   ],
   "source": [
    "#str.title(), 제목형태로 변환 띄워쓰기 후 첫 글자만 대문자\n",
    "str1 = \"hello world\"\n",
    "print(str1.title())"
   ]
  },
  {
   "cell_type": "code",
   "execution_count": null,
   "metadata": {
    "colab": {
     "base_uri": "https://localhost:8080/"
    },
    "executionInfo": {
     "elapsed": 64,
     "status": "ok",
     "timestamp": 1653275775361,
     "user": {
      "displayName": "Keywoong Bae",
      "userId": "10101473300544846909"
     },
     "user_tz": -540
    },
    "id": "uZi2hgkkmi13",
    "outputId": "c21c4cee-8a57-4d74-ce98-c6fb6c3a6088"
   },
   "outputs": [
    {
     "name": "stdout",
     "output_type": "stream",
     "text": [
      "2\n"
     ]
    }
   ],
   "source": [
    "#str.count('h'), 문자열 str에 'h'가 들어간 횟수 반환\n",
    "# 대문자와 소문자는 다르게 count\n",
    "str1 = \"hello worLd\"\n",
    "print(str1.count('l'))"
   ]
  },
  {
   "cell_type": "code",
   "execution_count": null,
   "metadata": {
    "colab": {
     "base_uri": "https://localhost:8080/"
    },
    "executionInfo": {
     "elapsed": 64,
     "status": "ok",
     "timestamp": 1653275775362,
     "user": {
      "displayName": "Keywoong Bae",
      "userId": "10101473300544846909"
     },
     "user_tz": -540
    },
    "id": "WDhzEaLmyoUd",
    "outputId": "bf024ad1-cccf-4abe-f44a-a2515570955d"
   },
   "outputs": [
    {
     "name": "stdout",
     "output_type": "stream",
     "text": [
      "2\n",
      "9\n"
     ]
    }
   ],
   "source": [
    "# str1.find('abc')# 문자열 str1에 'abc'가 들어간 위치 반환\n",
    "str1 = 'hello world'\n",
    "print(str1.find('l'))\n",
    "print(str1.rfind('l'))"
   ]
  },
  {
   "cell_type": "code",
   "execution_count": null,
   "metadata": {
    "colab": {
     "base_uri": "https://localhost:8080/"
    },
    "executionInfo": {
     "elapsed": 62,
     "status": "ok",
     "timestamp": 1653275775362,
     "user": {
      "displayName": "Keywoong Bae",
      "userId": "10101473300544846909"
     },
     "user_tz": -540
    },
    "id": "d3NBnfVXyxYv",
    "outputId": "c70150cb-2348-4567-acba-29237d1b9431"
   },
   "outputs": [
    {
     "name": "stdout",
     "output_type": "stream",
     "text": [
      "True\n"
     ]
    }
   ],
   "source": [
    "#str1.startswith('abc') # 문자열 str1가 'abc'로 시작하는지\n",
    "str1 = 'hello world'\n",
    "print(str1.startswith('he'))"
   ]
  },
  {
   "cell_type": "code",
   "execution_count": null,
   "metadata": {
    "colab": {
     "base_uri": "https://localhost:8080/"
    },
    "executionInfo": {
     "elapsed": 61,
     "status": "ok",
     "timestamp": 1653275775363,
     "user": {
      "displayName": "Keywoong Bae",
      "userId": "10101473300544846909"
     },
     "user_tz": -540
    },
    "id": "RyEAABGZy-Fq",
    "outputId": "8032a843-97f7-41aa-bee8-f32f69645a45"
   },
   "outputs": [
    {
     "name": "stdout",
     "output_type": "stream",
     "text": [
      "True\n",
      "False\n"
     ]
    }
   ],
   "source": [
    "#str.endswith('abc')\n",
    "str1 = 'hello world'\n",
    "print(str1.endswith('d'))\n",
    "print(str1.endswith('l'))"
   ]
  },
  {
   "cell_type": "code",
   "execution_count": null,
   "metadata": {
    "colab": {
     "base_uri": "https://localhost:8080/"
    },
    "executionInfo": {
     "elapsed": 59,
     "status": "ok",
     "timestamp": 1653275775363,
     "user": {
      "displayName": "Keywoong Bae",
      "userId": "10101473300544846909"
     },
     "user_tz": -540
    },
    "id": "gWea47KjzG6d",
    "outputId": "efaf22e0-f880-4faa-aa52-aeab23acbf23"
   },
   "outputs": [
    {
     "name": "stdout",
     "output_type": "stream",
     "text": [
      " hello world \n",
      "hello world\n"
     ]
    }
   ],
   "source": [
    "#str1.strip(), str1의 좌우 공백을 없앰\n",
    "str1 = ' hello world '\n",
    "print(str1)\n",
    "print(str1.strip())"
   ]
  },
  {
   "cell_type": "code",
   "execution_count": null,
   "metadata": {
    "colab": {
     "base_uri": "https://localhost:8080/"
    },
    "executionInfo": {
     "elapsed": 58,
     "status": "ok",
     "timestamp": 1653275775363,
     "user": {
      "displayName": "Keywoong Bae",
      "userId": "10101473300544846909"
     },
     "user_tz": -540
    },
    "id": "_BH0x1i-zT9t",
    "outputId": "2add6b02-8630-4691-a199-1b007b0e6950"
   },
   "outputs": [
    {
     "name": "stdout",
     "output_type": "stream",
     "text": [
      "hello world \n",
      "hello world\n"
     ]
    }
   ],
   "source": [
    "#str1.rstrip(), str1의 오른쪽 공백 없앰\n",
    "str1 = \"hello world \"\n",
    "print(str1)\n",
    "print(str1.rstrip())"
   ]
  },
  {
   "cell_type": "code",
   "execution_count": null,
   "metadata": {
    "colab": {
     "base_uri": "https://localhost:8080/"
    },
    "executionInfo": {
     "elapsed": 57,
     "status": "ok",
     "timestamp": 1653275775364,
     "user": {
      "displayName": "Keywoong Bae",
      "userId": "10101473300544846909"
     },
     "user_tz": -540
    },
    "id": "KwhEX6hqzoLM",
    "outputId": "5102bdd4-5f3b-4f32-b9a0-2ee6f89052be"
   },
   "outputs": [
    {
     "name": "stdout",
     "output_type": "stream",
     "text": [
      "  hello world\n",
      "hello world\n"
     ]
    }
   ],
   "source": [
    "#str1.lstrip(), str1의 왼쪽 공백을 없앰\n",
    "str1 = \"  hello world\"\n",
    "print(str1)\n",
    "print(str1.lstrip())"
   ]
  },
  {
   "cell_type": "code",
   "execution_count": null,
   "metadata": {
    "colab": {
     "base_uri": "https://localhost:8080/"
    },
    "executionInfo": {
     "elapsed": 53,
     "status": "ok",
     "timestamp": 1653275775364,
     "user": {
      "displayName": "Keywoong Bae",
      "userId": "10101473300544846909"
     },
     "user_tz": -540
    },
    "id": "mzuDEmEozv39",
    "outputId": "1a2f0d8d-6132-4ae1-84b5-3b91dc62f103"
   },
   "outputs": [
    {
     "name": "stdout",
     "output_type": "stream",
     "text": [
      "['hello', 'world']\n",
      "hello\n"
     ]
    }
   ],
   "source": [
    "#str1.split(), str1을 공백을 기준으로 나눠 리스트로 반환\n",
    "str1 = \"hello world\"\n",
    "print(str1.split())\n",
    "print(str1.split()[0])"
   ]
  },
  {
   "cell_type": "code",
   "execution_count": null,
   "metadata": {
    "colab": {
     "base_uri": "https://localhost:8080/"
    },
    "executionInfo": {
     "elapsed": 50,
     "status": "ok",
     "timestamp": 1653275775364,
     "user": {
      "displayName": "Keywoong Bae",
      "userId": "10101473300544846909"
     },
     "user_tz": -540
    },
    "id": "UrK6YNgv0CHm",
    "outputId": "c0d6750c-91bd-4985-d461-b6136d9e69dc"
   },
   "outputs": [
    {
     "name": "stdout",
     "output_type": "stream",
     "text": [
      "False\n",
      "True\n"
     ]
    }
   ],
   "source": [
    "#str1.isdigit(), 문자열이 숫자인지 여부 반환\n",
    "str1 = \"hello world\"\n",
    "str2 = \"12345\"\n",
    "print(str1.isdigit())\n",
    "print(str2.isdigit())"
   ]
  },
  {
   "cell_type": "code",
   "execution_count": null,
   "metadata": {
    "colab": {
     "base_uri": "https://localhost:8080/"
    },
    "executionInfo": {
     "elapsed": 50,
     "status": "ok",
     "timestamp": 1653275775365,
     "user": {
      "displayName": "Keywoong Bae",
      "userId": "10101473300544846909"
     },
     "user_tz": -540
    },
    "id": "EQ5H5KS_0MUQ",
    "outputId": "5da69c3d-70fc-4795-9f54-6fb82a31cedb"
   },
   "outputs": [
    {
     "name": "stdout",
     "output_type": "stream",
     "text": [
      "True\n",
      "False\n"
     ]
    }
   ],
   "source": [
    "#str1.islower(), 문자열이 소문자인지 여부 반환\n",
    "str1 = \"hello world\"\n",
    "str2 = \"Hello world\"\n",
    "print(str1.islower())\n",
    "print(str2.islower())"
   ]
  },
  {
   "cell_type": "code",
   "execution_count": null,
   "metadata": {
    "colab": {
     "base_uri": "https://localhost:8080/"
    },
    "executionInfo": {
     "elapsed": 48,
     "status": "ok",
     "timestamp": 1653275775365,
     "user": {
      "displayName": "Keywoong Bae",
      "userId": "10101473300544846909"
     },
     "user_tz": -540
    },
    "id": "9fI8Fj_a0Ugv",
    "outputId": "4d56959d-0b54-4c76-941c-a41d002803b1"
   },
   "outputs": [
    {
     "name": "stdout",
     "output_type": "stream",
     "text": [
      "True\n",
      "False\n"
     ]
    }
   ],
   "source": [
    "#str1.isupper(), 문자열이 대문자인지 여부 반환\n",
    "str1 = \"HELLO WORLD\"\n",
    "str2 = \"Hello world\"\n",
    "print(str1.isupper())\n",
    "print(str2.isupper())"
   ]
  },
  {
   "cell_type": "markdown",
   "metadata": {
    "id": "EohfW6Ut0kqw"
   },
   "source": [
    "### 3.2 문자열 함수, split()\n",
    "- split()함수는 문자열을 나누고, 나눠진 문자열들을 list로 반환\n",
    "- split()함수에는 부가적인 인수2개를 전달할 수 있다.\n",
    "<br>\n",
    "1) 문자열 분할이 발생하는 문자<br>\n",
    "2) 분할 수행 횟수"
   ]
  },
  {
   "cell_type": "code",
   "execution_count": null,
   "metadata": {
    "colab": {
     "base_uri": "https://localhost:8080/"
    },
    "executionInfo": {
     "elapsed": 47,
     "status": "ok",
     "timestamp": 1653275775365,
     "user": {
      "displayName": "Keywoong Bae",
      "userId": "10101473300544846909"
     },
     "user_tz": -540
    },
    "id": "ZNPCDIX20cXw",
    "outputId": "0e643ff4-bab7-4280-983b-e3d1f094ad16"
   },
   "outputs": [
    {
     "name": "stdout",
     "output_type": "stream",
     "text": [
      "['my', 'name', 'is', 'rossum']\n",
      "['my ', ' is rossum']\n",
      "['my ', ' is Rossum, your ', ' is Kate']\n"
     ]
    }
   ],
   "source": [
    "str1 = \"my name is rossum\"\n",
    "str2 = str1.split()\n",
    "print(str2)\n",
    "str3 = str1.split('name')\n",
    "print(str3)\n",
    "str4 = \"my name is Rossum, your name is Kate\"\n",
    "str5 = str4.split('name')\n",
    "print(str5)"
   ]
  },
  {
   "cell_type": "code",
   "execution_count": null,
   "metadata": {
    "colab": {
     "base_uri": "https://localhost:8080/"
    },
    "executionInfo": {
     "elapsed": 47,
     "status": "ok",
     "timestamp": 1653275775366,
     "user": {
      "displayName": "Keywoong Bae",
      "userId": "10101473300544846909"
     },
     "user_tz": -540
    },
    "id": "td2rPJz-1F-l",
    "outputId": "a0df24c0-e3b5-4a04-df23-9ca5c7b5ba37"
   },
   "outputs": [
    {
     "name": "stdout",
     "output_type": "stream",
     "text": [
      "['My', 'deliverable', 'is', 'due', 'in', 'May']\n",
      "['My', 'deliverable', 'is due in May']\n",
      "['My', 'deliverable', 'is', 'due in May']\n"
     ]
    }
   ],
   "source": [
    "string1 = \"My deliverable is due in May\"\n",
    "string1_list1 = string1.split()\n",
    "print(string1_list1)\n",
    "\n",
    "string1_list2 = string1.split(' ',2)\n",
    "# 2번 분할, (2+1)개의 문자열 생성\n",
    "print(string1_list2)\n",
    "\n",
    "string1_list3 = string1.split(' ',3)\n",
    "# 3번 분할, (3+1)개의 문자열 생성\n",
    "print(string1_list3)"
   ]
  },
  {
   "cell_type": "markdown",
   "metadata": {
    "id": "o3PZgyc31pig"
   },
   "source": [
    "### 3.3 문자열 함수, join()\n",
    "- list에 속한 부분 문자열들을 단일 문자열로 결합해주는 함수\n",
    "- join()함수는 앞에 하나의 인수를 받는데, 이 인수는 부분 문자열들이 결합될 때, 부분 문자열 사이에 입력될 문자를 뜻한다."
   ]
  },
  {
   "cell_type": "code",
   "execution_count": null,
   "metadata": {
    "colab": {
     "base_uri": "https://localhost:8080/"
    },
    "executionInfo": {
     "elapsed": 45,
     "status": "ok",
     "timestamp": 1653275775366,
     "user": {
      "displayName": "Keywoong Bae",
      "userId": "10101473300544846909"
     },
     "user_tz": -540
    },
    "id": "E5sgJDQi1nwE",
    "outputId": "135411dd-014d-4345-a7d2-195088759f6e"
   },
   "outputs": [
    {
     "name": "stdout",
     "output_type": "stream",
     "text": [
      "['My', 'deliverable', 'is', 'due', 'in', 'May']\n",
      "My deliverable is due in May\n",
      "My.deliverable.is.due.in.May\n",
      "My-deliverable-is-due-in-May\n"
     ]
    }
   ],
   "source": [
    "print(string1_list1)\n",
    "print(\" \".join(string1_list1))#\"\"로 연결\n",
    "print(\".\".join(string1_list1))#\".\"으로 연결됨\n",
    "print(\"-\".join(string1_list1))#\"-\"로 연결됨."
   ]
  },
  {
   "cell_type": "markdown",
   "metadata": {
    "id": "seFeKw9O2H5W"
   },
   "source": [
    "### 3.4 문자열 함수, strip()\n",
    "- 문자열의 끝에서 원하지 않는 문자를 지우는 방버\n",
    "- 인수 : 삭제하고 싶은 문자"
   ]
  },
  {
   "cell_type": "code",
   "execution_count": null,
   "metadata": {
    "colab": {
     "base_uri": "https://localhost:8080/"
    },
    "executionInfo": {
     "elapsed": 42,
     "status": "ok",
     "timestamp": 1653275775366,
     "user": {
      "displayName": "Keywoong Bae",
      "userId": "10101473300544846909"
     },
     "user_tz": -540
    },
    "id": "mgpSnrzl2BNL",
    "outputId": "5ce7fb0f-bd33-4382-9b50-6f09a272075d"
   },
   "outputs": [
    {
     "name": "stdout",
     "output_type": "stream",
     "text": [
      " Remove unwanted characters  from this sttring.\t\t \n",
      "\n",
      "Remove unwanted characters  from this sttring.\t\t \n",
      "\n",
      " Remove unwanted characters  from this sttring.\n",
      "Remove unwanted characters  from this sttring.\n"
     ]
    }
   ],
   "source": [
    "string1 = \" Remove unwanted characters  from this sttring.\\t\\t \\n\"\n",
    "print(string1)\n",
    "print(string1.lstrip())# 왼쪽 공백 삭제\n",
    "print(string1.rstrip())#오른쪽 공백 삭제\n",
    "print(string1.strip())#앞 뒤 공백 삭제"
   ]
  },
  {
   "cell_type": "code",
   "execution_count": null,
   "metadata": {
    "colab": {
     "base_uri": "https://localhost:8080/"
    },
    "executionInfo": {
     "elapsed": 37,
     "status": "ok",
     "timestamp": 1653275775366,
     "user": {
      "displayName": "Keywoong Bae",
      "userId": "10101473300544846909"
     },
     "user_tz": -540
    },
    "id": "FztSKMgE2pFL",
    "outputId": "239fa75f-854a-443d-8387-15b4cd07fc7d"
   },
   "outputs": [
    {
     "name": "stdout",
     "output_type": "stream",
     "text": [
      "Here is another string that has unwanted characters.\n"
     ]
    }
   ],
   "source": [
    "string2 = \"$$Here is another string that has unwanted characters.__---++\"\n",
    "print(string2.strip('$_-+'))"
   ]
  },
  {
   "cell_type": "markdown",
   "metadata": {
    "id": "BrwLI8z7233V"
   },
   "source": [
    "### 3.5 문자열 함수, replace()\n",
    "- 문자열 내에 있는 하나의 문자나 문자 집합을 다른 문자 혹은 다른 문자 집합으로 치환하는 함수\n",
    "- 2가지 인수가 필요함.<br>\n",
    "1) 문자열 내에 존재하는 문자 또는 문자 집합\n",
    "2) 첫 번째 인수들을 대상으로 치환하고 싶은 문자 또는 문자집합"
   ]
  },
  {
   "cell_type": "code",
   "execution_count": null,
   "metadata": {
    "colab": {
     "base_uri": "https://localhost:8080/"
    },
    "executionInfo": {
     "elapsed": 36,
     "status": "ok",
     "timestamp": 1653275775367,
     "user": {
      "displayName": "Keywoong Bae",
      "userId": "10101473300544846909"
     },
     "user_tz": -540
    },
    "id": "IBTI6KcI22Fj",
    "outputId": "0d8f8220-e471-4e02-d0c8-eb3a7b5ad254"
   },
   "outputs": [
    {
     "name": "stdout",
     "output_type": "stream",
     "text": [
      "Let's!@!replace!@!the!@!spaces!@!in!@!this!@!sentence!@!with!@!other!@!characters\n",
      "Let's.replace.the.spaces.in.this.sentence.with.other.characters\n"
     ]
    }
   ],
   "source": [
    "string1 = \"Let's replace the spaces in this sentence with other characters\"\n",
    "print(string1.replace(\" \",\"!@!\"))\n",
    "print(string1.replace(\" \",\".\"))"
   ]
  },
  {
   "cell_type": "markdown",
   "metadata": {
    "id": "rS4Y5yOo3Yjb"
   },
   "source": [
    "### 3.6 다양한 문자열 표현, 이스케이프 문자"
   ]
  },
  {
   "cell_type": "code",
   "execution_count": null,
   "metadata": {
    "colab": {
     "base_uri": "https://localhost:8080/"
    },
    "executionInfo": {
     "elapsed": 33,
     "status": "ok",
     "timestamp": 1653275775367,
     "user": {
      "displayName": "Keywoong Bae",
      "userId": "10101473300544846909"
     },
     "user_tz": -540
    },
    "id": "MiNNwxpK3OKb",
    "outputId": "ff7dafdb-ecc5-4a8d-926d-0bca4ba773c3"
   },
   "outputs": [
    {
     "name": "stdout",
     "output_type": "stream",
     "text": [
      "It's Okay\n",
      "It's Okay\n"
     ]
    }
   ],
   "source": [
    "a = \"It\\'s Okay\"\n",
    "print(a)\n",
    "b = \"It's Okay\"\n",
    "print(b)"
   ]
  },
  {
   "cell_type": "code",
   "execution_count": null,
   "metadata": {
    "colab": {
     "base_uri": "https://localhost:8080/"
    },
    "executionInfo": {
     "elapsed": 30,
     "status": "ok",
     "timestamp": 1653275775367,
     "user": {
      "displayName": "Keywoong Bae",
      "userId": "10101473300544846909"
     },
     "user_tz": -540
    },
    "id": "ki92XuVa3g9z",
    "outputId": "0a930e06-8c7a-4a8e-f79e-5c002bf43564"
   },
   "outputs": [
    {
     "name": "stdout",
     "output_type": "stream",
     "text": [
      "i'm Okay\n",
      "I'mhappy\n",
      "See you\n",
      "I'm okay\n",
      "I'm happy\n",
      "See you\n"
     ]
    }
   ],
   "source": [
    "#두줄 이상 표현방법\n",
    "print(\"i'm Okay\\nI'mhappy\\nSee you\")\n",
    "print(\"\"\"I'm okay\n",
    "I'm happy\n",
    "See you\"\"\")"
   ]
  },
  {
   "cell_type": "markdown",
   "metadata": {
    "id": "X97yLObO4Yl6"
   },
   "source": [
    "![image.png](data:image/png;base64,iVBORw0KGgoAAAANSUhEUgAAAxcAAAElCAYAAACWDR+zAAAAAXNSR0IArs4c6QAAAARnQU1BAACxjwv8YQUAAAAJcEhZcwAADsMAAA7DAcdvqGQAAH7PSURBVHhe7d0HeFRFFwbgs+n00HvvvVcpAtIFpYsFEBDEAoh0kaaAIFj4kSIiitIUAVEBBeldeu+99xpC2vz3m9wNm80m2SSbAvne55kHcrO72XJ37pyZMzOWGrXqqE3r1woREREREVFcuJn/EhERERERxQmDCyIiIiIicgkGF0RERERE5BIMLoiIiIiIyCUYXBARERERkUswuCAiIiIiIpdgcEFERERERC7B4IKIiIiIiFyCwQUREREREblEAu/QHSyXdvwtuy4rSVPoOalV3NeMbkLkzuENsunEPZHMZaRBtbzipY8bv7myW1buuCCBKfNL9edLScaowqGQB3J601/y19rdcuLKXQnyySL5y9eTVi3rSP5U5m0icf/YRtl00Vcq1iklmeMr5IrD8yMiIiIiSuoSOLgIkHW9S8gLk05Lmg4L5PzcNhLapn4oC1/NLe3n3Ra34gNkw55xUk1HFyFy8X8vSIHea0Q997kcWdtPCrjrO0QUcl3mv15WOs6/LIHKPKZZJGWhNvLlkp+ke0lv85i9EDk76QUp/uEp6bTskExtkNI87kJxen5ERERERElfAqdFeUnp8iXF2xIiDw7tk+NB5uGgE7L/8AOjiS8SfHq37LmF/0GgHDhwXIKVu+QoU0FyRhZYaAFy/cpNCU6RU8rXbynt27eQKrl8jKa7Er8TC6Vf72/ldLB50wjcJHfrdlLb54L8MX+1PDCPulZcnh8RERERUdKX4HMu0pYrJ4U9jHji5H7Zb23FPzT+fzJI3NyNpxN4SHbuDgw9HnJVDh+9JsEWbylZobRE3a/vKflajJV/jpySXasWyfz5v8uWHbOkXTa8RCUPtq+Trf6ht3TELbvR4K+XWq78OV/+vmsedKm4PT8iIiIioqQuwYMLjyLlpFQ6N1H+h2TvoQB9LODwPjn8yF3yFcwn7sHXZN/u06I78QMPysETxv88Ckr5sun1bSPllkWa9+kr9XNbZ2sYhzIWl6LZzeEOdy/xtIT+1yG3rNKifQNJd3O5zP/rlnnQheL6/IiIiIiIkrgog4uQ2zvk508+kHf7jJQft93UaUtx5l1OyhU3GtTB5+TA/tv6Me/uPyBnQ9JKhReqSUa3IDm6e7f4GcdDLh+WY9eDxS1NKeM+HvruMfFg6xxZfBC5V26SsX5TqeUTejwyGZu2l8YZ78qqBUvlqktebNRi+vyIiIiIiJKyyIMLv83ycf3npeOwr2TK1yPkzbrPy4C1cZyN8Pi+3LzjLQUKZxV3FSiH/9sqV69flm07DkuAe34p+kIxKeiu5OG+rbL1ynW5sn2PHDPa3u6Fikq+Bzfl9kPnJyU82PM/6fDKl3IgQMQrf3v56vMOkjW6cRrfxvJKs6xyf80CWXIlfqOLWD0/IiIiIqIkLNLVoh7/+64UbTRFzoa1590ke9elcum7ZubPMec3r41kfe03eRButSRneUjRfutk3+c1wpapjUzwie+kdZ2esvRSiKQt30NmLPxK2haI7l6h/P5+W4o3+0kKfnFQVvXKF/XQTizF5fkRERERESVVkbadLWnSSupwcwDcJJVxLC68SrWW/h99JEPebyh53I2/4VVCWvdrK6V8LOJRqLl8+NEgebVCarFYvKRk637StpSP8X9vKdlmoHz00WDpWT+XRLlglHZHlowYKn9cChafcn1k0crJMWq4p3y+g7ycL0A2/7pQTsXL6k1xe35ERERERElVpMGFV8W3ZejrRSWVDjAskqJgW/n4vRr6d7HlUbqDDPvkUxn92dtSO72bKJVSytStIOmCLZK5ztvy6aefysetS4qHUpKidD2p6Bssyr2QNO//qfG7UdK7cZ7og4uAw7J1500JMYKS2j0HyvNR7rrngHd1eaVVIQne/qssOBoP0UVcnx8RERERURIVecvWPa+8MmuH7N+4VH5dsk7275wrHQtGP27gFO+yUraY8VhBJ2TP0n1yIthdChYrJp5G6JC/HHbIDpITe/6QA6dDxJK6hJSNyWRujzxStHA68fbykId3bknMM7C8pHL7NlJC7ZaFC/aLdSsOl4nz8yMiIiIiSpqi6TZPLflrNJc2L9WSgunMQ67gnlPKlcom7uqhHNywU25JRilcLIcelfAsV16Ke4o8PLhWtl0LEY9CZaRMTDbMdssp3ZbeEH//+7JhQDEn0qgi8ijbXtqUFTmwcL7sDF0t13Vc8PyIiIiIiJKiRMrJ8ZTS5UqIpyVITh8/LUHuBaU4IgqDW6ayUiaPuwSdPi6ngyySvlQZKRCjFniIXF07Tt6oX0vqvTZG/o3Nqk8exaVd28rifmyRzN/22DzoKi54fkRERERESVAiBRdukr5MGcnnriQwMFAs6QtL0ZxmBOFVSsqV9BEJCpIg5SHFy5SNdnWocIL2yZQPPpafV2+UNXNHyIdT9sUitcldCrVtJzU8T8uSeRvFpRtnu+T5ERERERElPYk2m9irRFkpkTJ0OSr3gsWkWOjAhSG1lC1TWPQsC/ccUrJstpg9SbfsUqp0Nr3btcU9kxQrHsP7m9zztpG2tXzk/NJ58u9D86AruOj5ERERERElNZHuc/FUC74pB9dtlnNpK0r9SjliNvIRJkSufP+yFOu+XVr8elxmt0xjHncBlzw/IiIiIqKk5dkMLlzl5hxpU7iTrGswR44taC/pzcNERERERBQRM3KikvFFeatHbcl397gccfWqUUREREREzxiOXBARERERkUtw5IKIiIiIiFyCwQUREREREbkEg4toBUuAn588fOgn/kFJcMO7kADx93soD/38JSAp7scXfFbWz/1BZs36Uf7cf9c8SEQJL0ge67rCTwKCzUNJSogE+Jt1rQsqs6DHoY/llzRfbIIJex8eJ+/3gYgSTvIKLkIeyJXTp+TUqdNy5b714uUn18+e1scu3QkybnNO5rzbUOrVe0HajN9qXOz+lLfypZHUqX3luU8POLnhXYBsHNNS6terJw3fmyvnXdjoDzk3R95tWE/qvdBGxm8NkMdr+kjRtKkldbpKMnxHdLPOH8o162u96+iVBMvhGV2kgfG8X2g7wTwWR4G75Nv3u0qXLm/Jp39eNv5CbAXL3TP/yarfZsu3UybJV19Nlmnfz5M/1h+QKy7d5ZDo2RR86DOp6WvUFWlyyZtLksCXJviozOzWQNe17SZul4DHa6RP0bRGXZtOSg/cZNSicRB8SD6r6Ws8VhrJ9eYS82BiCpA7F1H34vrjRDl9Rq66Yn+l4JPyZX28D6kl62u/GFc7IqL4l7wmdN+cIU1ydpcVj72k4dTzsvztLOLm/7t0ytNKZl93l0qf7JGtgy3yWY2yMnR7sGQ1LkpnpoRID/P3FYbvkG0jyoRu8BeVkMsytUlBefefR+JeqJesOvC11PE2fxeFO7+9Kw0+2SSB5s/heFaRQcumSdsbY6VG2aGyPTir0UA4I1NT9pUijabKOUtJGbRpl4ytEsWuGX4L5dWc7WTeHQ+p/tkh2TCwkJj7opsCZNvAclJz/GEJyd5Vgi99Zx53QtBOGd+yu8w9bxc+qPty/tBpuRVkkVQ5i0qhTPbPz1OqDflbprXLYP5sz19O/TlBho6aKkt2XpZHIco8bmURj3SF5PnXP5RPRr4l1TJyMI5iIeCWnDnzQHwL5BHfaL/gSUvIzR0yZ9I0+W3DIbny2EeyF68tbd/tLa+UTx+u9yj40KdSrdzHsiM4vbz6yyWZ09rH/E3UHq/oL3UHrxQ/98LS7af58l7x8LWGQ8Gn5c+vZ8nWW456ViziWaKNDG4XICPKPydjD4RIzm5/yMnJXvJBkUYy9ZxFCvVZLQe/rBVxD6CQm7JjziSZ9tsGOXTlsfhkLy61274rvV8pL+nDv1j5tFo5+XhHsKR/9Re5Nae1+Ysngm+ekH2n78Sww8MiPlmLSqncqc2fnRS0V4ZXqSyjdjus3SOypJJWP1+T315NaR4w+e+Q2WOXyLFon7S75GncW7pVvy0T6xSXAZuCJHXrOXJ1YQexe0QiItdDcJFs3PhWNfYWo3XqpRpOvaqCcezREtUxs5txzFNV+uSgCgo6pD6t4mn87KayvrlUPbL5fYXhe1WgfqCo+KvjP7ZX+TwtaAUrcUunqg5Zo27oPxa1G982VkYMEno/++JVT/3vYrAKOvSpquJp/OyWVb259JHyX9VT5XE3fvYoqQZte2w+UiSufauapMDz8lBF+21WEW/9WG0dUFwZbSvllr2recxJj9epXgU9Ij7vaIuXemHKldDPIoJAdXhqM5XdA8/ZoryzlVdN33hPDRg2Sn3yyQj1Ud+3VJvahVU68/cpS/VSy515o7VgdWnXP2r5suVqw5E7Nn8/WN05ssE4vkyt2H4u3HsUfHmPWrl8mVq+7pC65eyfcdoDdXLzCrXM+LsOy/J/1d6rLv+jBI+3qZFV0ik3i7tKX3uc2h39lzzBPb6wQ/1jnHsrNh5X98xj8PjI96pdAW9lsfteWXwKqzd+Phmuvgo6+ImqpOuO9OrVhY/Mo9F7OKeVSmUx7udZSg35z8k3x3+Ner+Ae7jn9KS4q5zdVyj/wO1qcCnUtcbP3ZYpf/9Vqmce3MdDFeqzPmL99PiI+r5dAeWN52L7eBYfVfiNn9XJ8C9WfVIptB5P/+pC82B4Uda3kRZ3VeD9NUYtH0OBe9Sw8ng+jh7TQbGkUq3mPDTvbOPWDNVEX8OiK57qufEnjOvZCTX+Ofxdi0rdeq568oiB6uKulWb9dzuS+peIKHaSaTdvsBz4oae81qGDdOj0lWy6j/o47oKv/yezer0gtbr9ImeC00r5pnUlr8c92Ta2mVRrOVwWHb5v3tKx1DXfk0lTpsgUmzKxU2nxNH8fNwGyf+YPst4frzVITvz8ucw57cIcXK8aMua/K3Lt2rXQcvWcHNq6Spb+8rPM+m66TJ/+rcz8cZ4sWrZe9py8/OR21y7Jwi6ZHefn+f8jEz5dIZeDLJKu1khZf2SX/DX7fzJu5McydOhw+XTit/LrukOyb35HKWhERH4Hp8unM0842RMZJMdmvS0vNm0mL41cJY/MoxgpWTXqJWnWtKm82Pkb2R2WmxEi5+f3lmZNmspLH6+Qe+ZRlwk+K3N7NZemxt91WJq1kwmbudlK9ELk4fm9cuhyDHIRHx6VPUfuSYgKlrv7dsmxpJZmd3edDG1WSxo1e1XG7wiSFOZhCTogX3btJb+eeizik08avj9aJox+Xxrm8zFO4+My5723ZMrRuH7Hg+Tk8bMSgGoj+KIcOx51HRbGs4i0G/VNuLpsytdvSUUfIwwyvu35CxeOfgQ4nCA58GVX6fXrKXksPpKv4fsyesJoeb9hPuMnfzk+5z15a8rRGI1CeOWuLI2aNJEmMSzPl8hoN+IbE0Zd1mqWXAir/8KXK9uGiREARs4zt1RubPN8GlWUnJ6h76lv0To2z7OxVCuQ0vhrkfGQFDeXSt+Xm8rzdV6T6YedS/glInJK8hy5cFQijlxk7vCzOnNmtmqX0fHIRdC9c2r/llVq4bdj1AcdaquCad11D6LFO69qOma9uhH8WJ1e0l/VzuYZetwzgyreoLMa+PkstWTtDnX8WvT9X2G9a3EauQhWV5b3VuVSWZTFPbsqVjS9EVVaVKoSndUP+++bt4E4jFyYgm9sUdPeaaRKZvZWFvseRrNYPNKovNVeUcN/PxF1D+C1aaqR/rw8VdmPd0c+anR/vmrni9ELd5X/Ped7FW9+31z3yHqWG/akt9qmh9GSopGaHjZa4K+Wdcup3GP4N5wW1tNqvF6Ll0qdPr1Kb1syFlJv/+l8b3PyE6TO/NJHNSidTaV0T6vaLXDQ6xupx+rk0rGqV48+avyy05GfZ4nivlrXt4TysliUT8URapfNV/zhiu6h3303X1X/6yNhzzvw8Feqni/qLA9VqPe6sHM1NiMXwTf/VF3zW0cgjDqj+mi1N7JqJhqBu4epcvj77rlUj3+MZxWTkYuHK1R3/Ts35Vv/a3XkyYtVX9XzRS+Z8ijUW6178mKjHbkI82i/WvLNJDVp0jdqyf7w70vwxfVq9mTjd5N/UGsvBJlHYyGsXrEo3/a/2IwghBd0ZKyqhvcospELew9/Ue113eepKo46EPHcjXTkAu6oVe8VUZ7GuZWmxmi12+WVGhElV8l05MJD8tbvJu+++66827OFlEjhqH8nRK7Pe13y5esov9yMpBf02nIZ1KKhtOk+RL6ct15O+aWRoi/2k1mbdskfg2tJRjcvyffSeFm9d4PM+LCFlEp3X46s/EHG9X9TWjZ4Vb7elwBdpAEXZe3EDlKnzSTZ8yiNVPjwJ1m//lcZUDWdPDr8g7xZpaTU6TpKflh5SG7GtZMz+JR8+3pTeWfK33LopqfkqlBfXu7QWbr1eEfeeaendO/6hrRp+pwUSecv57bOl1FtmsqgtVFMMUxfVaqX8hYLei2/7StDF+y0m7wdLHdPrpbJ73wif91FOyKDVH6upNMjPWnLl5NCRiQVdHK/7H9gHnxo/P9EkLi5GV+NgIOya6+ZIx1yWY4cuy7BFm8pWb60ODGFJva8Gsn/zt6SW7dsyo3jMrWZcznyyZOSa7tXydr9V8QvxgsoeEmB5oPk62lfSv8m+WLYox6/go9Ol4+/PSwBlizy8oD3pGzYJIQA2fX3WrlkfGfds7WSPl2Lhj1vj2JdpffLWcXN+N6c/XeF7Ittp3TAMfnhrbflxzPBYkmRWlK5G1+PraOl44C/5VoM3+OgB5dlz5+rBR3kltSV5bmKMfsGBez6W9aGvlhp1aerFH3yYqVr75clq/F1DTr7r6yIzYsN3CEz+/aWXr0+kK9XXzdq/icCD82Vob17Sa8+n8lf9vPJYsn/6O8y/pNP5BMHZfS36yUmg26aUfWF/mv9j7PSSd0hH8mLGS1yf+vnMuC7kzEa+SEiikwyDS7cpGib0TJp8mSZ/EUXqZQ68sHjqLgX7CrffP2ONG/ZVQZOnCtrj52Xg398Lp0qZgj3xrpnqSpdJ/wu+84ck7U/T5DBb7WRlv2/lBF105m3COW3Zbr069NH+tiUoQuPxbLCD5bTC96XOkWKSv3+v8gxVUBe/uwv+Xtsfcmcpb6MXbVWvutWWTIFnZf134+SwZO3SJwXig3cIxu33zUuzm6S+ZVZsm/HKlk8d5bMmPaNfPPNFJn+3Wz59a+NcmDtUKlgRAAq8LRs3nwu8tfnUU4+nPaZNMvjJSFX18i4VypLznS+ki1PQSlUKL/kypRWMhWuL+//dFD8LL5Soed0mdAukhQrBzyKlJNSad1EPTok+w6FphwFHN4vRx65S75C+cQ9+Krs23U+9PkFHpKDJ4z/eRSScmXDf24O3T8giyYOl+Ff/S6HrYGLiz08u1EWTB4jHw8cIIOHj5Gvf/xL9ly1b1yFyN1ja2Xe5LEyfFB/6T94uIyftkh22rQOQx6ek+1/zpavPx0qAwcMlhETZsqyA7cifC5+Z3fK+rVrZe3a9XLgqvFb//Oyae5XMnLIIBk2bqb8fTSyM+iBnFr7s3w1cogMGjJSvpy9Wk44mV1jK9LXG3RZ9q1fJ3svPjLbWcFy8+gm43mulfW7zwniUfvnHnR5s/w0friM/G6z3Azxl/O71+vbr12/Xy5b30K/s7JzPe5jPM6Bq8ajPpRT/86Sz4cPliEjJ8nC3Uawad40nMcXZesv/5NPPhosQ8d8K8uP3pfg64dk4zo81jr575SzL/6xbJn+rWx+oMQ9Tyvp+mJGm3P7oRw7hu+ORTxKV5EqqczDWkqpUrmkDjaCTh+RY49Dj8ZE0JW18lmrBtJz8QUJ9sgnr3y7WZZ9VE18LX6y939tpUH3H2V/ZC8j5Kas+uxNadO0rlQtU0RyZUwlKdLmlMofb5TH6ANIeUNWjzTqtw+/ljU4j5zw8NgxOWfc1OJRWqqEf7GSskplKRn6YuVIbF6seypJqXPNlPg/ehzWVgf1yF90JqkltaRNG/tkqCeMv7FnjowcNkyGOSjDv1guZ517S0L535P7+iUruX/nTrjAyBlu2dvI+6/kF4+QO7Lm6//JxqSWEkhET6ekmBYVfGuXmju6n3q/7ydq9rYbrptsFpYW5a5y1eygOnfurDp3bKCK+IQOK0dIi2r/ozpxYpZq6yAtKvjacjWmq3F/PEZsS5de6rs9TwayYzah21fVHzpXzRvZVGUx2scO06LubVcTmhRVpZr3V7N3O5q0F6Su7ZinRvf5RP1xGb+NY1pU8Fk16+XMOkXB4pZK5SxTWzVp2V693gmvt5N6o0Mb9dILVVXhDGaamE9pNXBj9OkZwXcOqsUTeql2dcurgtnSKW8PN2WxuCvPVBlU7uLVVLMuH6uZGy5GnAAanaCT6vOaxmdt8VGNpoVOKr82o6lK4ZZJte/ZXmV2c1O+7RcoJI4Fn56oahnvu1uGDmrhA33vKNxXv3fOrt8HozWk8r+3Ovo0Ktu0KO/mapbtrN0IbqvN45qpvPq8NW4fVrxU3UkXnnzODw6oH7tXUpmtiwuEFW/10mwkSASrS7+8pUr4ekScEOyRRdUevlbdCn0kQ5A6+EklhZgQ92/2+QLVp6KvcrNJfbP4FFTtZhwK91qDb25QY5vlVT7hUuQsyidvc/XFf1G+SBtRv97Aq1NVQy/b40+KZ7Wx6kiQ3XP/7Hv1Wr7Qc9A9T0+16uFx9Vl163vfWH17I/SvhqURGce9m41Tc3qWUWnwXdOPY7xez3zq1blnjXfmicBT81X3snbvS+rSqnvPRiqdPuahig/Yat46Go/XmoskGPXVW8tVuG9K8Bn1RW0v43cW5fvKrxHSbB7Ob6vS4O95vaC+0d9tm9cTRVrUo3Ob1E/D2qvyGUPPCUvqkurN2UdCP9Pgm2qj8Tnk8cLnYFEp89VT73z1pzp0yz5dKFAd+KSy8tKv16LcvDOpfDnThX4fHJbo0qKC1Zkvaisv47YW31fUrxFfrGqbBs/JS73wzeXQ8z9GaVF/qa7ZzTp+xL5wqUUPF7QL/dy86qpJF8K+WTFn1DWzezZRDRo0cK40bKFGro4+T+nRPz1UbqTGGe+z13Pj1XH7j8ImLcrNO53KnDmzUbKpcv3WmDcwTrMNH6jCHsZjuOdUXf+MtnIjIopW0gsuHm5SQ8qnCmvsWFKUUh+usZ0XEAcxnHMR1WpRQacm6Mam48dyspjzJqzCggvP0qrL5Nlq9mybMmelOmLcNCy4sH8sZ1aLilKwCgx8pLbEcc6FurNX/TywlaqcJ63ysGlgPSkWZfHKqIrW7aI+X3ku3IU8JoLjcJ3XAh+qO3euqt+75tLzKPK89Ye6dvuaWtYzv3L3rKSG/f6JqmG8zx4l+ql1N26rqws7qexGw9Kz6ii15+Yddf9RVPnX99SiN7KajSl3lbvHPzELLjzLq26Tv1XffvukzPhxtTpl/snHmweoEjpgsKgURV5WQ76erqZ+MVL1blNDdZh+MbRxZQR6P7fLGfYZWFLmVOXrvqiaN6yhimdJp17WwQUa3UYjMHUBVfeN/mrM/75V300do7o/l1W5G/ezeBZX/TZZn7ltA90IutL7Ks/0RVXtZi1Ug4o5VQrr30lTS31+0HyiQUfVlMaZ9Ptg8cyp6r43Xk2dPFK9VhYNTYvyLPqBWmvfUHQg2td7bYZq7ptSpfAMnfMkFovy8E6pUqZMqXzrTjAaXLbP3UPlLZjXeF8syt3DQ3nkdS64cPPNoNKnzauqNmqsqudLHdZQ9ijSV220fu0e71afVk9t1l0WlSp3ZdWoRSNVKWeKsPosJsFF4L4RqiL+viW1eunHJ2GeFnxFTXkhNLhI1fInHQDbuvdji9DPxLup+u526LEog4vb/6qP6+VX6ayBqMVb5az1jvp+9x3zBlZB6sr6r1SnipmVp/7MjUZrimyq/Js/qpM2X4ngc0vU6IHj1Pd//qfO3tqjRldLqd8DtwylVePWbVSbNkZp3UCV1HNDog8urkx5ITS4SNVS/RTxxaoWehU8b9X0yYt1PrgIW+nOQ5UctC1cJ8V9431EYGzxaaF+cNFlyHVuq8WdMA8MnwO+Y6XUwC12n2tYcBF6m9BiBKvdV5g3MDxaqjpntc7RcbBKFxFRDCW54ML/33dUXt0TYy1uKnvXP83fxtGDDWrSez1Ujx6Oyjtq7LLLKtjZpWgfnVZbV9gtFxrTsny12mezvKj95G1HwoILi7tKnTmXypUlTWgD0i64CNz1hWpTq4aqUcMo1aupalWrqMqVKqqK5cuqMqVKqGJFCqsC+fKonNmzqAy+qZWPp5vyen6CWtw/jsFFmCB17+JhtWPNGNUwHS78nqpE97lq096T6tqjqCODO9t+UuPGjFFj4lDGTvpTnYii/f9wbmuV2mwQx7xEbITYC765Xc0e1V8NGDNP7bntRCRkG1w4KBbf9uoX3RAPVme/fF43tPCe1pxwKlzPudXDlT1VfrNH07PQa2o2IlOrB6fVycu4V7C6tG6R+vdc+FcSfPk79WLa0M+szEc7zHPetoFuNMzztFc/nTK/DcG31Oo+Jc2eak9VavB2fZ97S99UOfEcjIZqhY//C+t5D2s0u2UyGrnRtdice73oLd8+uFTo87PYT+i2fe7Ge5mipOo295C6Fxyobpw8pW4ERB9cWHzKqwHrQxv4wVcXqA7ZzUnOnjXUOLO7+M7ijjoAxfuTpvoItdUcmAm+uUb1K28NMJwPLh7Mbxvaa+6w4+CR+r1TFh3keJYdqnaFi9ID1X9DSuvX656zm1pmxodRj1wEquMzXlI5vHxV4ec7qhEL9in7sCKcoGtq26xBql3VXCpVmopqyIbIbh2kTs94UWXE+2JJo2p/fujJ5xeDCd2Pfu8UOkLrWVYNDf9iVeB/Q1RpvC73nKrbkxcbTXARpA5Pf0PV1vVjOZUrZWjwmjJnWVUdx8xStUiG0ODYI7MqVj302PP9/1TO9e8b3695PVUdm8eLTan54qdPAlgb/v8NUxURVFl8VKqUCKwtKm3NsWqPbU+GzchFijofqd/1tWe5WnPAPMkh+LSaqEfBRHnVnaTiMkBDRARJLrh4vG2gKoEhWn0hRgntTUkwQafUt6+UUyVLllZ1hq41Lnir1ZBapY2fy6o23xx10LAJUqeWjleDBw5UA50sH323JUJPI8QouIhmtaig4+N0z/uT99GuWNyUu6eX8kmZRqXLkFlly5lXFW37jVrYL6bBRbC68ENHVa5kSeM9clBK5FW+5j4UqbIXcXwbo5SuM1St1RdF4/2cUCusIRjb4pb1TWUzKBRB4J6f1bBBA9WAHvV0A9jiVVy17NNKlfS2KI+CTVXvgf1U2zIplcVoGJds1Ue1LO5l/N9HlWzdz/gMB6svlp1zcC7EgW1w4ZZO5S4R/v0pVa2fWmE2Gm7Paa18dUPeeK456qn+P25WF20bFMpfrX43X2iPpltG1WaOTUMiEv43ThiB4B9q/sxJauxHr6uKukfZTWV78w8zKLBtoJujfPp4KDRcK+vzzaJ8Gk9X14znsKK72avqUUz1mLdJbdmyJbSsn6ia6cc3ApEh/5mPELnoXy84G1y4qxydfw+3V4TxZYk2uPCsOSFs5AgjU7NbmqOrxmvrvxnfO3+16p285nueVb2xOPw3HOl2KfVrcDa4eJIKJF7Pq6/O2tcHweritMY6QEaP9aCtNm+I/1Y1sCTSvowg58Xv1BXzrlEHF/BA3bjhxFBSOEHq9s3bkX4Xgo5PU01154xxXpQZpDbZPnwMgovgi9NU49RoSBvnzKCtNiOB/mrrwJJ6FMWS5kX13ZMXG01wYQRgH4UGYNY6w9ni/eL3UQdeYeKxLruzTg0sj9EgIyCqNEytXNhV5ceokyWFKvXOX8rMhDOeQlSrRVk9VPPbptXns0fxAWqLg0CGiCgmkl5aVNAZNa9zEfNCbFEpCnZQP0bVBR1bwVfU7n/+UEuXLnWy/KnWH3WUI/5YretVUDfIHV0YHBWvF6aEXfBtuTK4UMH31eVTJ9WpU6fV6TNn1blzF9Wls4tVt7yhF+9i/bc46HmPzZwLV19Ag9Wl+e+perVrq9pxKM+/PFbpNl907mMpR6Px41lJjVw2Vj3nGTpS9shofOwfWdF4XZ6qyid/qdFofHqWUR/tCN9r6jK2wUV0cy7ub1DDqoQuvxn6/hkNtxxV1Gtjlquz+jXfVN82MTdW86ypPrfNV7Fzf/9s1euFwmYAaH08a3FTGd9YHDG4sKRRbefbNVPufa9eNFMOPWuMU8eDrqlpDb3tHs++uKs8b680HyAK0b5ecDa4cLBpoxPBhXfzWTYBySO1pGNoupd4FFEfbMCTuK1mNjNfr4P3/NHSN1VWParhbHARpA6PqRr6nL0bqmnXzMM2gq/NU+11OosRuJd9Wy04cl8F3T+iFrxdNnTTO6OOeGX+tbDXGn1w4WJ3Nqph1UM/N0uK8mrIJrv+/pgsRRt8Tc1rH5pqaElVVr294Ii6H3RfHVnwtiqbCueum8r6ynx17cmLjSa4MGq7WxfUqZMn1ckYllOX74c/f6Jw57+5auL48Wq8ozJukGqeD+lYFuVZ5nU1xtFtjPL5N8vCpZyp+7vV101z6BFrt3Q11Zhd+Cxvq7UDK4aOxrqlUWW7/awO4SvgVHCB8zl0rpx7/vfUmgiBOxFRzCTJCd3oGTyxfpGa/9taddSZlJLYCEt3wgXfmRJxn4tQwery5vnqO5v8eMflS9W5dGgDJtrgwj2bqtjCmpfcUr3cvLGqX6uSKlmxt/prj5PBhSP+q9V7es16VwYXxjvw+IG6c/u2un3zmrp8+ZK6dMnZcllduXFL3Tbue+few4jvbfBVtX3xz2r27J/Ub1svOX1Bj5GgI2psNeNzsfiqlj06GA1AT1Xz85NG086aimFRvi+/pV4xGnFuSE2Kr7zrmAQX8PCkWvFFT9W4REYz990oFi9V5N0V6jby8RuEpjmIZ3X12dFIgoubS1VXo3GD3k+vXM+rt0ZMUj/8+pdat+Vnc2+DyIILo/FuF1wEn/tK1TUnVXvVn6wuBRsBTmOzse2eWZVp0Fw1b25fXlJdvtltPkI0onq9+gbOBhfeqrn9mxur4CK0MfYkuLAJprxqq4mnw5+tj357VaWPUXBhO3JRR30ZYeQCgtSJmS1VTjMwtFg8lIfxfx1UGv/P8fJ34VIDEzK4CL65WY1rlF3P3UH6W/2Je8zzyEYMd+gOOjFTtcxpLj6AeTUexv/1uYARrZfVd+FfbLTBRYJyVJcFHVZjquI5GsHyyz9F0vC3Faxu/ved6l4xvV4wwOJVUL0x74yuq7Sgs+q3HqVCA0vjdaer+Zna+8jZkYs05shFf45cEFGcGdfHpCiNFKzVUtq3qiNFfOPpKVq8JU3GzJI5c3TFV3yMmjwqwQF+8uDBg2jKQ/F3dgn24Cuyc+lCWbjQKL8tliV/rJB/N+yQQ4eOy/mHxnUiiXHzSiXpfI33adNAKZczh+TI4WzJI00mnZPUxn3TpUkZcX+BoCPyc7/O0rFjZ+n9/T4xd5xwLfd8UrZkZqN581AObtwptySDFC6WQ+/A61W2nBQ3ntTDgxtk560QcS9WVsqEbY+cyFIWkEYfTJHlBy/IyTVfSdtCXkbzIUBOzPlRVvn7Sr68xmvC7YIOyfp1VxwuUem3ep4sOheE3cfk7Z+Xy7fD35dObZpK7TKpJTCq80w9ktPHz4RbhvXOxk3mfgrukq1IMcnglkpy58pk7mScRmoP/kWWLl1qV5bIzHfK6VtEK6rXG2GrFCUhMV2TM87SSNasaUKXig06Krt32a7TGiD7d+yTBzF6Tm6SKXsW0Rtah1yTy2Hr49pyl4JdZsvymW9LrVzYjTlIgoybWVLklJrdZ8jyn7pKwdAPIBrB8uDaeTl37lwcynm5dMu6jqmfbJ/0gYxeedl45NRS9v3ZMrdPWYnrLi3uBbvI7OUz5e1auSSl8b4Ehb5YyVmzu8xY/pN0de7FJg4X1WXK/6qcvvzAiHYLSrtpf8qMV/Ka3zGDex5pNWWV/DG8vuTMXEP6jn9HyhgRdbSM8+viFX9EJOKWLZfkjlARExHFTBINLhKAd2OZfPiKXLt2Lepy7jtplS6q4CJITi4aLf369pW+UZahMv9w1JeUFGVaS58PP5QPUfr1k/4DBslHwz6RcV/PkDlL18n+U79J1/RRBzqJyZImuxQqWlSKRleK5BJfj6TyOjylbPni4mEJMhrMpyXIvaAUKx56RXbLVk5K53SToNMn5XSQ0dgrWVbyOtl+ebj/R+n9cj2p16qfLDgaw7X31X05v3eH7NhhW3bKvrPYRyJEbm5fIevPWx/TR3LX6Sm9mufTjQyjWW0Ub6nVsonk0Afuyd/DOsvoVedE3yPoluz9eZBMWPlYAu/fl0c6hgiR4GBrqPBYjsyaJstuRNUSDpRdU/rL/3aGrqvvd2yefDjydzHiL6OBk1Mav1TNeAbeUrVRHcmEGib4jPw06CNZesoaBfjJ+Y0zZMjXa0OfU5Sceb2hUqbwDv2PEfzs27hZbhv/9bt9x4m/4QpeUq1ONUljBgO/jRgsv5/FXw6WK2s+kb5TD8W4QeldoqTe5FGCz8nhQ5FtlpJaSnecIuvPXJLT+7bJlu37jMbnWdkwrbMYMaJzjMef3qag5M2bNw4ln1Tot1LvKYJ9NqqNWCnrv31HOg1bLH9/0USyuOhKk7p0R5my/oxcOr1Ptm3ZLvtOX5azG6ZJZ6dfrPHxXPpZulWrJJUqxaFUbigjN4TujRN73pIxr1kn5kzrxMXYTTLWHCJ/rPtdfvlno8x5s1jEzTzdskrd4X/LgaPLZGj1NObBaPjvlX1H8f33kNyly0nm5NsqICJXSZppUUnIo4Xq1fRIn4osLerJnAu39DVUtxGj1KhRUZcxP+9wcrWRiJyec+FIPKVFxdijReq1DKHvaflhexy8p6awJSLdVJaXPlfLVq5UK6Msq9Sa/VdjnD71eH2f0HXe8bqzdFa/h+Vv3FAzXwxdQhMrHoXbQyJKN9WsFtYlSUPTMqJNQrFNi3JY3FS2Llg1LUgd/6y68vLJrso2aKe69HhbdWlVTeXSe0C4qxwdFii9AFnQWTWnQ16bFCIPlTpzDpU5NdJKQve5CNw3SlXyxv0syjNTOdW8czfVsWlplSlFWpVWL+0ZSVoU0jhS+Cg391Qqc86sKk3YPhrG59R8xpOJz4/3qnG1nsyVsLinVBlz5lI50hv3tViUb/tfnEgFcfL1Gh7+1S10dSr9ej1VuqxZVcZaEfe5iJ+0KMO9NeqDEl7m5460FV+VPUd65ePmobLlyam89Wfh/GpRT76vbir7m0tjXWdYRZoWFXxJzen+nKpSpUocSjXVZNQGB3VKFGKYFhUjUaRFxccy4tEKq8tCl4FNsGkNTsy58F/bSxXkPhdE5ELso3AhFXhTzhw+JIcORV32LV8gS0/GZBvW5C5Erv3eX5o2aCANoiktP11n9p46z6tUeSmh80+MS3/BYlIsLJUgnZQtWzA0Xcs9l5Qu6+zu36mkaOmCkgIPaTH+X9J8DBexuLuLPL4se1f+It9PnybfL9oqF0MyScU3vpJFU9qE9hK755FXf1gt8/s1kPypsKtEkDy4fkmuP1SStlgLaVLeSzxK95H/jWokub1FAm/skT9+mClzNilp+tVX8kauqIZovKTu4MnyZgkPuXnpqtwPNNrybmmkaOsJsmR2N8lvvatXGem3cImMblVc0iH5PthPbl68IJfuBIhPzprS4aWyEXteHXDq9RpSNhoiEzqVlDRIY1SBcvfqVbkX7PYkbSS+pXlexi6cIV3Kpxfj5YoKuCOXLz+SrI0/kZ+HVjdfq0U8vZw8G7xrSPuXce4Y5/8/S2RNPO30Lm7Z5dXpG2Xbtm1xKFtk2cc1jTMj6XPP1ED6Tp4iU6bEoXwzTt5wKufIXohc/rGdZM+QQTJEWTJK/m6/x7gui7mHsnbe73ImyAjpCrSRjvXD735ORBQrHLmIRgxGLoy307nizChDJJLXyMUmNbhiJpU+fXonSwaVr+uS6EcJEsQddXTdH+qvzafj3OMc0UN1+dAWteqP39QvC35VS1ZsUoevRd4XGnTvtNq+aqn6beES9c+2U+qO3fzuhxd3q1VLFqrFyzarE3ciG5tx0PsfdFMdMl7josXL1eYTkS9HCg8u7Far/1ikfv3tD7X6v9PqdlQ3jiAmrzdQ3Ti0Xv258Be18M916uC1OPV/x07wPXVq6wq1eNEfas2+y8a3KkgdGVvNnGzurRpMuWzeMHpBR79UdbH7tFt61XymsyNnjiX4alHRSaSRi0QRNnKB748zxdmRvWhEM3IRfGaaaoLV8twyqCbTIttDhogoZiwILjatX2vUZ+TQ4xXSp9o78vsdDynVZ6ks6V3Mric0RO4c3So7z/vpq4JTLKkkX5XqUsjJlNhw/M7I9q0n5J7ylhzlnpNCR0ZIvU4/yUVLYXn7t2UysEwUvaIht+Xoll1y/pFIqnyVpHqhdOYvrIJk72dNpc304xKSpb2c3PaZedzFHv8tH1R/R5bcdpOSvZfK732KJ1zvMsVSsBz6tJqU+3iHBIq3NJ91XZZ2js0J/Czzl7t3LZIuXfjxmJBbq6RXjaYy5WigEU9XlBG7tsqwUs6OZfnJ1qG1pN6Y3RJUtLes3PGl1Ill53LIlRUyceyfcjYklVTuNlo6lXX2OcSX+3Jy63Y5/cAIV3OWk+cKHpER9TrJTxdF8nWZJ39/XDn2IyEhV2TFxLHy59kQSVW5m4zrVNb8RSIJuSNHt+6U837OXiUs4pGttNQulSVuEyNDzsq37RrI2J1BkqrJ17JjSvMnE+tDrsniLpWl7Y8XJN0LX8iG5b2lRGKfEkT0TGBwQUROYHARraC9MrzWy/JvkdekTZ2yUjhnCnlwcrP8OmWKLD54V0KMZmKWlt/LjoWdJHdMWoz+u2V8k/oyeJ2/lBu8StaPriFMXqG4CZFz816Tmh0XyNX8HeXnf7+XtjE6KYmIIsfggoicwOAiWgguqlSWUbsdrAtlcZf0lT+QOb+PkybZYtGI87spF28+lBCPtJI1u+9TMbeBkrIQeXDtomD1YO/02SVrGg5ZEJHruOfOm29E1zc7mz8SETkWcOOsXAjJJsVKlJKqDVtJzXxskITnI6k8/OT2PT/xfxwgIRYvSZUxlxSt3FBe+/Ar+f5/PaSSb+jCATHmmVLSpksn6dL4MIWQXMAiXqmM88k4p1J7c8SCiFyLIxdEREREROQS7LIgIiIiIiKXYHBBREREREQuweCCiIiIiIhcgsEFERERERG5BIMLIiIiIiJyCQYXRERERETkEgwuiIiIiIjIJRhcEBERERGRSzC4ICIiIiIil2BwQURERERELsHggoiIiIiIXILBBRERERERuQSDCyIiIiIicgkGF0RERERE5BKWGrXqqE3r15o/kqt17NhRHj9+LJ6enuYRSkhBQUHi5+cn7u7ukipVKvMoESWUkJAQuXr1qmTNmlUsFosulDAePXokgYGB4uPjI15eXuZRIkpoAQEBkj59ehkwYIAULFjQPPrsYnARz5o0aSKtWrWS7Nmzm0coId25c0e2bt0qvr6+Uq1aNfMoESUUNHAnT54sXbp0kQwZMjC4SECHDh2Ss2fPSsmSJSVPnjzmUSJKaBcuXJA9e/ZInz59pFixYubRZxeDi3j20ksvyfvvvy958+Y1j1BCunHjhqxatUoyZswoDRo0MI8SUUJ5+PChDB06VAYOHBg2ekEJY8eOHXL8+HGpVKmSFC5c2DxKRAnt1KlTsnLlSnnrrbekaNGi5tFnF+dcEBERERGRSzC4ICIiIiIil2BwQURERERELsHggoiIiIiIXILBBRERERERuQSDCyIiIiIicgkGF0RERERE5BLc5yKeJaV9LrZv3643VcJOkZHBJlfYbC5XrlzmkZjx9/fX66qfO3dOmjVrZh5NPNzn4umC3exPnz4t58+fj/Pn9ccff0iRIkWkQIEC3CE/ESWVfS6wmR821ET9FJVs2bJJ3bp1JU2aNOaRmMHGnYcPHxY3NzepWrWqeTRxcJ+Lp8+DBw/0ddrDw0MqVKhgHo2dmTNn6jYIrus4HynxJLd9LhhcxLOkFFxMnDhRNm/erHeHTJEihXn0CTTocAHu3r271KxZ0zwa6vbt23LgwAH9BXEEF+Jy5crpSmzJkiWydu1a+eGHH8zfJh4GF0nP9evX9XmUNm1aKV68uHk01L179+Tvv/+WdevW6V2d7QUGBsrSpUv1BdiRFi1aSPr06fX/X3/9db07PnbJd3S+U8JIKsHFrVu3ZMKECbrhX7FiRfNoeEePHhV3d3cZM2aM5MiRwzwa6sqVK7Jz505dpziCoKRMmTK6g2X+/Pn6cQYMGGD+NnEwuEia0PmGgo4P+/Ps8uXLMnfuXPHx8ZF3333XPPrE1atXdf2Ia7U9b29veeWVV8yfREqVKiW//vqr7mTB+UiJh5vo0TOtdOnSevt5XOztS9u2bfUF0hGMdqBSO3nypC74knz33Xeya9cu/fPZs2fl/v375q2JInfp0iUdQPz333/mEechuJg6daqsXr1aN5qs5+O+ffvkyy+/lNmzZ8u8efN0uXbtmnkvolBeXl5SvXp1h/UfSuPGjSVlypTmrcND0HDhwoWwcw4BxC+//CL79+/XP+O8dtTgI7KHIBadJBiljSmcg+i427RpU9i5iLpw27ZtMnbs2LD6DyU4ONi8F1HCYnBBTkGPY5s2bWTUqFG6oEcYvS69evXSP3/wwQdStmxZ89ZEkbt7964eJcMoBaCnbtmyZbJo0SKdyrRnzx59PDIY3kcgPHLkyLDz8cMPPxRfX185cuSIvj9KZKMbRLGRL18+6dGjR9g5V6VKFR2o9OvXT//85ptv6jqRKDroqLt48WJYMIrRNNR9qAOXL18eaYaAVebMmaVTp05h5+KIESN0j3hQUFBY/YeilDLvQZSwGFwkM6jQkCb0119/RSgYQkfDjyi+YDQBc38OHjwoJ06c0BfVmzdvypYtW2T9+vU6bQ89cbHVt29fGTdunC5s6JE9NL5wfjmq/1CQ+hnVnDSiuDpz5oyu5xBA7N27V1+TkSKFY6gDUT9iFCw2UqVKFVb/oWDeBlFiYHCRjBQsWFDPjdiwYYPDCysquNy5c+t5E1HBpFs/Pz99EUY+NZEzEEwgl/jYsWN6wizygzG8j/No0KBB8tVXX+lh/datW5v3iDkEKUjZQ8E8ISIrTOrHvAPknjuq/1DQuYJ5QMh3jwrqP2s9iHQpImdgzg4mWSNdCQueoC5Eah1GxYYPH67rQPxrP+fRWUgbtdZ/KCEhIeZviBIWg4tk5OWXX5YvvvhCpkyZEmlB3nGJEiXMeziGIV3kiiKtBWko9lChoWFn7YmObAIkJQ8Y+sd5gsBi48aNemL96NGj5bXXXtPnyowZM/QERWdHzTDUj8dDkIxzDAX5xmjkIb0KufAonHNBttCxglQSR/WebUGKXXQdLAiUMUEc6X3oebaHERL8Dufm7t279QpSlHwhRROBxfTp0/XIGRZNwbW2ZcuWui7DXDGcJ8521iGoxVwfa/2HuhBpUAh4rfUfCudcUGJxz50334iub3Y2fyRXwxccyxEiHzyxIN3JehGMSUEPn/1yjOhlRiWJoVtMjkTDEXMtrJMg0cBDysuaNWv0JG8sqYf0lJw5c+rfJzRUwhh+xvPDyA0lPDTC0CuMQAKrn9SuXVsfxzwerDCGcwbpKOi9w/cEDTH0wGFJZHu4WOK2uEBjMQGciyhIr0KDcPz48fLGG2/oVdpw0UUvNHqruRRt4sFniQn46I1NnTp1gq8WhQYbGm6O6rjoSrp06fQImy3UeViQAJ0sqF9wm0KFCoXdDuevtY5EEILb4dxGnnxCQ3oNvn9YkQgr5lHiwLwyBBBYUAXzFK0rd+G8KVmypL5G4XPCqpIYNUOHHOpC+9X0AAun4LqKUQ9r/YfzGx1+eFx01qD+Q0Ew065dO/3ZcynaxIUOV3zOWKkuU6ZM5tFnF5eijWdJYSnajh07Ohy6R2WGCyUqHkdpAOjls9+rAhUaeqBRUSG1BfM3UEFi+Ts04HBh5VK0FBmcb2hsRZWyhHMLy9Tmz5/fPBI7XIo2aUjspWhxQUfanT2MgGF0Cx0m6Pxw1Pj69NNP9TKetpB699NPP8lzzz2nAwoEuwiYUZDjjkYeOpW4FC05glEMBK4ITCODcydLliyRrt7oLC5Fm3SgHkKqGve5IJdISvtcoELDaAP2AcBFEEEAekDat2/vVK8+GoRz5szRAQZ6oPPkyaO/LFhS75133tG9MmhIMLigyGBeDy52GFVwBCMTCISxF4ujfS7socJ2FDhjxO3rr7/WgQUagdHl0FP8SezgwgojKNirApNeMcqFcw357+jdHzx4cIQRCkfQA43RMWwy2qFDBz0SgyW50ZuMnzFKi1FiBhcUGQSjs2bN0qNajuA8RcCLlClH+1zYQhoU6lTcxx6u8++99558/vnnuv3B4CJxMbggl0pKwQVyiTE8jx5dVDwxCS5w8fztt9/03gRYkhajFoAN0RYvXqzX3MbjI+BgcEGRwUUTQWpky8TiOM4lnJeRBRfocbbmtH/00UcOR0FQeWM0DWlXHLVIXEkluMAoBSbL1qhRQ6fOxTS4wEgvAlY05FCHWuemIUUPdR1eF5ajBQYXFBmM3mKFPAQGjuCairlj+K5EFlwgxRQjH0gNxTxK+w4WnIvly5eXrl276hFgpkQlvuQWXPCMS8YwDwH5ws4sV4f8YfSQ2AYWgDxipJ4gJQA9eERRwTwc9KQhoEUla1+wXwpGwhAMRgbBBSpq7HXRqFEjHcyuWLEiXEEaAHZZxsWXkxopMhjhcnY+HM5LjIAhMLFd9AIdMwgqUI9iLgZRVDARG/UcAlRHdeCQIUP0HAr7+Y62EKCgAw97/eA+9vUf9sxAvYfgAp0v3O+CEhqDi2SsYcOGumfEmVGV+vXry7Bhw8IFFlaYnIRKbNKkSeYRosghlQSNMUzydVRwccRFMzK4UGJ1KEyEfPHFFx32OGO+EC7O6FXmZnrkCEYWkMrUp08fp1KiOnfurEc4HE2yRToU6se3337bPEIUOXSeYMU8R/UfCoIDzJWMDDIJMLcHGznWq1fPPPoEzm2cqxhtQxozRnqJEhKDi2QGQ7FYQhbLfkZWkLpCFF8QHGAY39G5Zy24eDrKIwYM8eOCipxlzAFCuov9/a3pK5jQiNE5IsC5h15f+/PFvnC0i+IT0pqQLujo3LMW/D6yoACjbehcwUpR2NXb/r4IKpCSh6AXcyG5Wh4lNAYXyQgqmAULFkjz5s2lVq1akRYsG0oUH5ALjAD3xx9/dHjuWQvSppCK5wgeAxNqsYcKdrvFpG37+6MRiQCjQoUK5r2IQuf8YC6P/fliX3BeEcUHdI6g8wTzxRyde9aCOYyO9pECpOehgwVzhv75558I90WmAZbAX7hwoR4pJkponNAdz5LShO6EYF2KFpuiYUWMxMYJ3USJK6lM6E4oXIqWiOxxQjdRHCAFBRMesZEPEVFygxX5EFSg55mIKDlicEEuhV5J9Ng5swIVEdGzxloHohARJUcMLoiIiIiIyCUYXBARERERkUswuCAiIiIiIpdgcEFERERERC7B4IKIiIiIiFyCwQUREREREbkEN9GLZ40bN9Y7YmfLls08QgkJm/php2fsv4EdS4koYT169EimTp0qnTp1kgwZMjzzm+glJYcPH5Zz585J8eLFJU+ePOZRIkpoFy9elAMHDuj9b5LDJnoMLuIZtuivWLGivqhSwnvw4IEcPHhQUqdOLSVLljSPElFCCQgIkN9++02aNWsmadKkYXCRgM6cOSNXr17VG/thd3QiShzXr1+XK1euyPDhwxlcUNy99NJL8vbbb7PXKJHcuHFD/v33X8mYMaO88MIL5lEiSih+fn7y8ccf612rs2TJwuAiAe3atUuOHz8uFSpUkMKFC5tHiSihnT59WlavXi09evRgcEFx165dOxkzZowUKlTIPEIJCT0FS5Ys0b12LVu2NI8SUULB6GHXrl1l4sSJkjNnTgYXCWjjxo06FaNmzZpSqlQp8ygRJbQjR47IvHnz5NVXX00WwQUndBMRERERkUswuCAiIiIiIpdgcEFERERERC7B4IKIiIiIiFyCwQUREREREbkEgwsiIiIiInIJBhdEREREROQSDC6IiIiIiMgluIlePOMmeokrMTbRu3fvnhw7dkxvFlaxYkXzqGP+/v6yc+dOOXXqlHnkiXr16km2bNnE3d3dPBK9mzdvyt69e+XixYvmkcilTJlSSpQoIcWLFzePxBx2HM2bN6/kzp1bvLy8zKPRO3HihN49+PHjx/pn3P/555/X/wfs6oz38NGjR1K9enXzaNTw2nfs2CFVqlSR9OnTm0fjLiAgQO+uiufcrFkz86hja9as0e+9Uso8EipTpkxSrVo1lz6vuPjzzz+lSJEiki9fvgifG87F69evS548eSR79uzm0djjJnqJh5voxR6+A9u3b5dbt26ZR6LWoEEDvQO9m5tr+mxR72Djtdu3b+s6LUWKFOZvQqHuxO7ru3fvNo+IvlaUKVNG1z979uwxj4aqXLmyFCxYUDw9Pc0jMXP37l1dJ3t4eEj58uXNo+Ss5LaJHoOLeMbgInG5Org4dOiQbmQiKLCHhhoa65cuXZJp06bpSnj8+PHmbyNCELJo0SL5999/wxrZVg8fPtSBSatWraRkyZJOXxBOnjwpv/zyS7gLDhrG+/bt0xc+XBR8fHz08YwZM8qLL74YocGM17Z161a5du2aeSS8VKlSSd26dXVwgvvjHH/ppZckXbp05i2ihkp27ty5OqjCYwUFBenPp3379lK1alV9EcV7OHXqVP35zZgxw7xn1JYuXSoff/yxTJo0SWrUqOH0e3bu3Dk5ePCg3L9/X/+MAACfIxrCcOfOHX1RmDlzpg5eHAkJCdGf5a+//qr/b9+ADg4O1sFimzZt9GuNCfx9vGd4ntHBOYdGJAKHqFSoUEF69Oghr7zySoTP7aeffpItW7bo54rnHFcMLhIPg4vYQ0P6+++/D+v4QT114cIF3SmC8xh1la3hw4frjhpnggtcR/A9QKdK6tSpzaMiZ86c0Z0kOO7t7S3/+9//dJDwzTffRKg3UF/h2oG6FHANQT3/zjvv6CBi/vz5+jjg+zxkyBB5/fXXJU2aNObRUOfPn9f1H65H9tC5hboQnSOog3BdQ72PNg3FDIMLcilXBhe4SKOBgUopLr3NVhs2bNC9Ir6+vlK6dOlE71VFLwwqclSSqLhj2ghzxNXBxSeffCK///67viCkTZvWPBoKDW5UHOjhiS64QK/Utm3bdIO6b9++0q9fP/M3oa5evSpvvPGGDgi+/vprHQjEBt7T7777Tv7++28dpOD5YSQgQ4YM5i0iQmMWzxuNEnuXL1/Wv8eIBS6AMQ0u8LoQNCAI+uCDD3QjF6MTeH6oeJs2barPQ/QWrly5Ul/InAkucMGfMmWKfs516tSRTp06SeHChaMNMHC+4e9u2rRJf16Av4levtatW+uAMbrgAsEEGh34Do0aNUo32q0BnNVvv/0mw4YN03VBkyZNYjTKg+Bw4cKF+vsaHfzd1157TX8etvC88V3AcwW8940aNZLatWvr1wt4/vhM8VqTQ3CB98J6juO7EZMRwqcFgwvXwDXp6NGj+ruBBj2+J927d9ffodjAdQTnG4L7AgUKmEdFfvzxR/3dw3F0BEUVXNi7ceOGvPnmm/o7i++3LVxnGjZsqOtq++AC5wgCFNRhts6ePSvFihXT1ydcjxlcxE1yCy445+IpgsoDvdLomXXUcx5T/fv3l4EDB8qcOXN0w+Pw4cO64vznn3/CChrAGB5OCOjJRsOzY8eOurGYVKFBhkofPeW2BRW6swERRiZw0UAPs31gAXickSNHyrJly/RtYwo9YEjRwcUAjQs0eDFcPn36dH0BQ2PTfrTECsEmLh72rw9l8ODB4XraYgojIjiPcZFDYAEYqUBghvcVF7LJkyfLrFmzdHpXdHDBX7VqlXzxxRf69eB8RmMcF8s//vhDpyihx9ERBDX4PuFi/u6774a9xp49e8rmzZv1+xTZe2QLKQgI4nDRrlWrVliQYguvFQ1rBJ4x/e7mz59ff1et33000m0/kwULFujGCoJI3MY+sAAEb/hu4b1FQc8mRuDQM2s9tn//fh30JhcYTULHw9ChQ536nCn5CQwM1I1sfM/QyYHRDIxQ4LuM+h4dILajxEkBRjxiAoEnOmZs6xQUdNCg7omqI4ooMgwuniLoxUZvrLWH3xXQqPrss8/0SAgaGG+99ZZuQH766ae6/PDDD7oREh00mjAki5GQ2EJvDXpoXDEqk9ShAYpGPIaiEdTZs76fyHmPSY8qzo3169frCyF6ytGwRm86GszdunWTFi1a6AYoPnMELgji0LOcUBAooXcdF2dbGPXA3I2yZcvqoAA9PJGNNKHHGbnQeJ04XxAI4ZxBwxv3wXmMERaMviDFBwEzRkrsG/VoNCCofuGFF8KlhmHUAvnTeHyMtEQHnw/mi+C7iVEmBHW4r23BqAfSJZBiYD/i5SwE+Uh1QMBoC8/xo48+0kFSZPD7v/76S7799lsZMWKEblBbCx4TczDQkEDQiR622AS0Txt8bgjE1q5dG25Uhwh1Ba6x6GBDXYqAHnU1AnTUFbg2IsXIep3Edxx1EgLWxIQ6Bu0Ee3g9jjo9IoOUK7x+jLAiNYoophhcPEUwHIlGFCZa4oIYH+rXr697ja2NIlSmzkyoRc4menL+++8/8whFxdrLjV4mXJwwQmRbkLuPBul7773n9FwGWLx4se7lRsCARjYau9ZJ5UitQoCBoALpTAgwvvzySz2/ISZwwYltagsadLgA2zf00UOI3mM8rqPcX1u4/7hx4/TrxIUUwQgaz4BcZoys4L3DcYxiIMhCKpv9xEwEwuipt6YFWeEzwWPgOWFiuTPwuhBU4PmgZxPPzbYgyEMjpVKlSuY9Yg7vDR4HIz+2cAwBRnQpYAiwEIBhdMf6vJDagZQtpFti5APHEGygsf2sQ0MMo3nlypXT35uYjijRswupkKg/0DGDjgr05GMk09pwRwcB5jBgRBD1K743Y8eOjdHIH75jGJ21rffRoI/teYgRVNShjuoB/C3Mm3A2wMAIMzoYkL5jn0ZF5AwGF08Z9Pii9xOpIEjrSChovKCnF2kmqBBR0FhB4wuNNoxuoEGLyhENPExKQyMQDSHr7a0jG6gEUQkjIMHvcXv83tmG3NMArx0TovG6kLqDi5U95POjoY8eYzTybAvSrmbPnq1HkpxNQ8JFEHMW0DvdpUsXfcz63tsWNCSRz4vbWVOyHF0U0ZOLzws92barH+XIkSPcRQq5uki9wqhJdJ8h7ovHRUqYdQI13iucW+g1R0MfwQ7OicjS8XDxRIMYF2P0vGNSOGDeBIIn66he5syZdRoYbod0K/xtWwjS0UjA+4Hz1QrnOoISNCSimuuC12FtIFgLejMRkOO9tS0dOnTQ3xPbzyCmjQiM+GC0yxF8Hmg8ROXDDz/U5whGhayNGTSYEFTgvf/888/1MYxsIG0qucDcJjQeUX/Znue28Hnhs8Z5gfQxfIaYCMuA5NmDYB2BPEYj8d3t1auX/t5Yv7u2BXU7RjJwO3xvUHehPnMG5q0hQLGt95GmaD9aimsHrpUY4bbvWLCF543z1L6eA9TvSG9yJrhA5w6eG1JzscIdUWwwuHjK4AuPhiEqu/jI9UTFgnx9VJooaOChskQDBKtQoLcbE12RToCfMckUaSdo5OGii154NIiRi4qLMRpaSFVBjj3+ReWJRiWCFFTe6Fnv3Lmz/j2ClWcFAj80WPC60LBFTxCgZwkXAOv7iwAEjRukKtkXXODwnlhvi1SpqFI3MM8AebL4m7YFqVB4r5HqY/87FPRkO1puERcrpMs0b95c/x/Qm2/fAENqEv7uoEGDok2hw2gNJpYiRQcBAl4Xgk6M1GDuD3Ka8ZwwRwSBlz28fjTqrO+JbcE5hffd9vy1LbgwW18HIFDHSCAa1jgvrbfD30UjG+c5ApTIoGGJidb276czBaNKeL7OQA8iXhPeWzQ8cB7Yvi40ePG6EaDh/YvscRGwYW6LbVoWXj+CXDw2Aj48HuqW5DQHoXHjxrrhhoLz2xGsQob0O3xXMGEe3ymMlqHOc7YxSU8HfL9QHzn63r788su6wY1OHEe/x9wnZzv9MLEX9aBtsILrJ9JDbaEuwjUVo9gYKQEEC/ie29YD6NzBMVzDbY+j4JqDegL1A+r6yM5ZPHeM2OA2WBgjOXUykIthtSiKP23btlXGl978yTWOHDmi3n//fTVixAjzSOxUrVpV/e9//1NGRaJ/NoIFlSVLFpU9e3aVJ08eXYwLqrpz544yKj2VIkUK9e677yqjkaYOHjyojEaxMi6yyrggq02bNql69eopo/LTj3X79m01btw4VahQIWVUbMqozJTRUFYpU6ZUS5YsUUYlpzJlyqSL0bDR94ELFy4oo/JWRgPPPBI3RkNJGQGOWrRokXkkbkaNGqU++OADZTSIzSMRGZW5vk3//v3NI0/gszMCs7D3NybFaMiqBw8emI8UOdzm0qVLymiQ6vL7778ro/GvjAAw7JjREFVG4GjewzGjgalmz56tP0PjYqaPGcGgMi6w+n2FZs2aqc8//1wZQZL+2VlG8KTKlSsX9tpwHhkBmPlbpYyLpH6+3bp1M4+E8vPzU0bjLtz74mzB8zQa5+YjPbFmzRr9mqy3MxoOYecx4PzH+4DX6ogR8Cjjohz23kZVjIaLMgIc857OWbt2rWrYsKHKlSuX8vX1VT4+PuFeF76v7u7uKlu2bMpoDCijIWLeM7xevXopI1BUW7ZsCXs+kyZNUlWqVFFGYKq/z3i8jBkz6u/yv//+a94zbu7fv6+MhpcygkL9XiVFRkNPGcGx/qwd6dixozICTTVx4kT9vfnvv//0ZzJkyBB18+ZN81ZJz4YNG3T9ZwRB5hGKCdQ3tt/f1atXq7Jly6oZM2aEO47zJibnNq4jo0eP1tdEWz/88IPq0aOHrpPwmEawolq3bq2uXLli3iLUqVOnVPfu3cPVAyi5c+fW318PD48Iv7OWadOm6euzPdRhRrCjjGBbffHFFxG+C0bwrXr37q0GDx5sHqGYwPs3bNgw3QZIDjhy8RTC6AV6HFesWOHyHkb0yOFx0QuKgsnd1px/o8Ghl7pDqggKejXQe+sofQW9J+vWrdPpOcjRx22Qy44l7dAzbO0hxMiGo2HcZxVyWLFCDXqRkEqESYDRFaT54LNAT7o1BSgqGNLGaAg2XkJBr9fy5cv10D1+Rt6/NU84prCyE849Z/eQiAxGvnB+IOUKrw1zIuzXjXcEf//nn38OOz9jUpACZs2ZtoXVUrBwgfX9xigGJpZjlAAF5ziWcUQKkSMYTcHEeMxNsr7njgomfOOx0TMaE+hBRI8lRioxOoTRH9vXhRRJ1Al4DzECgc/ZEYwSPvfcc3qUyfqc0FOK0UikbRkBlH48zMNJDksl2sJiEhhpxGdjXBfNo+G1bdtWp8Ag/Qy9yxjVwijss5TOSeFhkQTb7zDOE4zsYdQKP2PxB6QpI/0S9UBCQSot/qZtPYCC0QtMPsfS97jG2P8eBaPC9umVSAlEBsJXX32ll8rG0tExmetHZI/BxVMIFQMah2hoYjWLxIDc+MjyvwHpJ0jDwIQ4NFRQsJY8GmH2ewA8bTAkjUbFnTt3IhQ0NJxJk0CKDpaaxXrp1vfHviB4w2pRzqbPWCHNAxNU7YfGrQUTj3HxiA0EKkgPiWougjMwPwINZaQfxBbShdAYdPQ52JbIUl2skCrw/vvv6/QgR5+DdSfryNa0x8RgNDSQVuPo/bYW68T6xISAEmlgmCeDtEUET0iVSu6Q+of5RWhMOpPWgsCCE12ffQjkHX2XrQUBPzbsjA10DKITzraucvb64UqoR9HBgDoQ1wXMMYntinZEVgwunlJYHg65nxgFiKynLaHheVifC3q2sQoLKi3byhMFPaj2K/Q8LbAqEHJSMYqDz8C+vP322zo/3hkIDtFjbP/+WAvmrUQVwEUGPdiYY4FeekfPESMX6PWyn9yHzw69b+iptxY0zO2PWUt899ThvY5qAiJGZzBvwtFrRMHrxyRGjNpEJ0+ePDJhwgSHnwN6+7CPRmTwPiBYQsCFEQRHzwUFDRG8pphAQ8P6fqMxgqDd/vPAcXx2CHptjzuqFxBUYM+NqEY9ESzhfY/timBPK+yvg1E/9OISAXrzUYdEVpeiAwgBaUy/17g9RktxDbd9PKy4iDllCfndwwZ7mPeGOXD4P5ErMLh4SmFoHo13LBdrv7NmYkHjBj2hgPQV9PhiydBnCdLEEDygd9NRQeqM7Y6riQU96YsWLXL4HFEwYc8+fQaBBJY4xmeHgmFx9GQhLQs9Wdbj1oIe//iCERss6YrNnSKDiyFGkBy9PhT00Mdl6deYQqoC3ldHz8VaMCkzJjvh4zOyvt+5cuXSCyegwWP7OSBYQKoGelmtx+KS0oCJpugAQICanCBVDyN+OKeIrJAiiXRJR99nFJwvWLQDQbmzorqOoDMEG4omFHSWoUMK7QkiV2Fw8ZRCAwK572jQIFfaVbBKEfJIrY0UrAOPpSujg7QRpFdgKVD8H/nLAwYM0L2B1seyFvQO2q7a8zRBj5IzJbE5ek6Oii2MNiG/H0PzzhQEj/Elsudoy/Y2UZWE4OjvRlWchTQ0R+99dAUjLrEVm+f5LMCcH/REoz6NaslPSl5svw/RFWc5uq99SSiJ8Tfp2cfg4imFigB5v7ggxiVv3RbWuUcKCHKxsV43ysaNG/VEYqyRj8210IsD2HsBE8PQe2xNBcGa3Ri5wJJ6WK4Rw8nofbY+lrWghxVBESafYgL50z4HI7aQ64rADT3ZjgomEce2kYjNDDHE7ehxrQUbJmL9dCucUxiutw8GIysx6alzBHMUsHO4o+dmLVh2GWkC8Q1LNWI+gqPngGAZ539UkIKEnkgsTuDoMawFaXCYi+QspCc5eu+dKVE1FvA88J119BytBYstJCc4n/GdQaqp/aR7jKChfsREWStMnEXaZ3JakCI5QsoQrlmOviMouM5h9DC6uV1EyQmDi6cYUqNeeOEFwQZgyM+PK+skbduKE+kwWO0JAQACCmsOPBou1mO4KKOgQYP7ICUDK0PhNtZjtgU95GjE4nZx2e35aYb8fOwcjUYtGtmOClb+QDCGeQUxgd23MbSO4M3R41oLRqnic/QhKpgEiT0isI+Ho+dmLViwIL4bb3gPsHM10r8cPQesaIXfYZ6CIzj3sVIUPkvc1tFjWAsaqVg1KrHgXNq8ebM+N6J7rhh1TG6wUg72nkFKHYJ/K8yPQv1om1uPn1HiGmRT0oXReKQdIwXU0XcEBZ0FWM0tqvlhRMmNBftcbFq/1vyRXA0b62B1HdseL1fCpExcDNFYjekkaUwmQwMW/2LzH/S+JCY0vLBZH3rTsVwrLvRxhVEYPBZGV7CJX0JAD5Y1bxu9Ws8yjFRZg8yYTmqMb5gDhPQWBMwx/W6Q62CCNObuoKcfwU1S7kxAuibmr6AT5FkIHDDyjCWvsdwyNq+kpwcWbsBqUqjHcH13pn7FCKp1FT10yrjyu2a9ruEx8f2gmEFnDjIVMKcNqxA+69jl8pTDCAGWM41N4wlpTljlBjssY/5GYkNKAnrTkVaFYeinFUZmEFQ864EFIGjDCFRSCywAo2K4wDKwIGeh9xn1qXVEliix4PxDxwhWqnK2fkXDH+dufATx1usaAwtyBmvPZAy55MWKFdP/In0psaF3BiM8eE6oIImIiIjo6cLggoiIiIiIXILBBRERERERuQSDCyIiIiIicgkGF0RERERE5BIMLoiIiIiIyCW4z0U8a9y4sd6vAUt2UsLDet/YrRrLpVauXNk8SkQJxd/fX6ZPn6435cPSmkl5n4tnzdGjR/UO91iBL1euXOZRIkpo2BAXe3gNGDAgWexzweAinjVq1EgaNGig16qmhIfgYteuXXqn8YoVK5pHiSihILiYOXOm3jyKwUXCws7S2GEau9AzuCBKPAguEOwPGjSIwQXFXatWraRv3756LwlKeNevX5e///5bMmXKpEeRiChhYcfgfv36ybBhwyRbtmwMLhLQ9u3bdYOmSpUqyaJBQ5RUnThxQpYtWyZdu3ZlcEFx165dOxkzZozeHI4S3pUrV2TJkiU6La1ly5bmUSJKKA8ePNAX1IkTJ8bLzsEUuY0bN8qBAwekZs2aUqpUKfMoESW0I0eOyLx58/QIbnIILjihm4iIiIiIXILBBRERERERuQSDCyIiIiIicgkGF0RERERE5BIMLoiIiIiIyCUYXBARERERkUswuCAiIiIiIpdgcEFEcYIdgFevXi1//vlnpOWff/6RM2fOmPeIueDgYLl69aqsWLHCPOI6jx490nsBoEQlICBAzp49K3v37jWPhMJzw2ZlFy9e1BvGYdPG27dvS0hIiHkLIqKk4dy5c7Jz5065f/++eYTI9biJXjzjJnqJi5voxb/Zs2frDdJ8fHwkTZo05tEn7t27J3fv3pVevXrJu+++ax4N9fjxYx2cnD592jwSnoeHh+TOnVty5colK1eulA4dOjh9UcTmbYcOHdJ/35F06dJJ/vz5dXAxbtw4fWzy5Mn6X0du3bolCxYskB07dsjMmTPNo6Gv4eWXX5Y33nhDKleurAuCoIoVK4qnp6d5q+SLm+glHm6ilzyg4+P48eNy+fJl80h4xYoVk+zZs4u7u7uuu5YvXy6jRo2SEiVKmLeg+MZN9OiZd+Synxy74if+gcHmkahduRsghy89lBsPAs0j9DRCI/vEiRM64HI1XLymTZsmq1atilCmTp0q1atXN28ZHnr6165dKyNGjNClb9++0qZNG+nTp4/++bPPPtOjIrGBkY4ZM2aEPXanTp10GThwoP4Zvzt27Jh5a8cCAwPl0qVLupG2detW/f7hcfHzpk2b5PDhw+Yt6WmklBJ/f3/ZvHmzDlrxM9HTxs/PTxYtWhRW19kWdHygYwbnOVFCYXCRDE38+7x8vOi0nL/52DwStb8P3JIhC0/L3/tvmkfoaYSG9Ndffy1z5swxjyS+DBky6F5tNNZRpkyZonv8v/jiC/0zRgDeeust89YxU7BgQR1AWB/7lVde0SMf8+fP1z9/++23UqNGDfPWjuGivW7dOh3sfPTRR/Lrr7/K+vXr9c/9+vWTWbNmmbekp9WNGzd0QIvUNgSTRLF18OBBPbLpqKAjAvUJIG0Stz158mTYMcD/ccz2fkjDjGxEwsrX11c+/vjjsLrOWlB/YuQXI7QcRaWExOAiGWpQMr0cv/pILt15LEHB0eeFl8iRUlJ6u8uhi37iF+DcaAclPfny5ZNs2bLJli1b9IiBK+GiiF5969wF24LjkaUmJXVInUJAgov8v//+q0dWqlSpon/G+zh+/HjzlvQ0QooWUu4aNmyoG2JIkYsMAg/MG0Iwgnk2RPbQwO/SpYt07txZGjRooM+r119/Xf+MNCTM2QLMQ8MxdFDs27dPHwPUlYMHD5YmTZro31sLOoUiq0Mxtwtpp47q3sWLF+v7If3Jy8vLvAdR/GNwkQy1q5xFUhnBwor9t+Xaveh76irnTyvl86SWvRceys4znAT2tMqUKZOUK1dO/x+9Wq6CeRZIKRkyZIie12Jfhg4dqicRoqEeFVwk0YBD/jDmMbhSUFCQfmykBuD/sYGUmdjel5K29u3by19//aXn1UQ2Ef/mzZvSs2dP+emnn8L1NhNZITUJwQIa9i1atJBWrVrp1FD8jHz74sWL67oN9S/+j6AAIxr29cqbb74ZFiB88MEHumMDi2I4gsdDiqZ9vfviiy9Kx44ddXCTMmVK89ZECYPBRTJVq0g6OXDR+XkUhbKkEG8PNzlgBBj09EKqUIECBfQ8B1f1vuJChsfDhMLICnr6cZGLCib+IiUABauZOIKG3/nz53VBj5yzOfKYN4Few927d+tVnRzB38fjYk6Fox5sBD2Yr4KGAP6PhgFujwnpCFqYr//0Qk8xRvMwGuXos8fne/36df27O3fu6HMI/zLYpJhCwIC6CwFt4cKF9c+R1Umo75A6ioUQIhu5SJEihTRt2jRcfXv06FG9+ARGqtHpkzp1avPWRAmDwUUyVaeor5y89kiu3g2Q4JDoG0WFs/lIGm93OXjJTwKCuMTm0wopIEiPQuM9sguas9C4QoMrpgWjHPa9w2iY4/ngeeFCiAmIjnqHcaxChQq6fPfdd7qRHx38LUzYRTCFwAUrSDm6Hy7GeFys5oFgyR4amEhbQGoMHgPzQ3D7atWq6cenpxtW+0IPMYJMewiO33//ff05Y9UrrL705Zdf6vOZKCYwZytjxoy64V+7dm1dH9ovLIF6DucW6pr//vtPz9FwdmUn1KUYZcPoB9KpEHwQJTQGF8lUo9IZpFi2lLJ41w05fSPyPGOrkjlTS43CaeXUNX89wZueTmi4ly5dWi/Ni6H0uMDKS1glCiMhtiVv3ry6pw3/2v8OBT1puFjawigAGvSYvDhhwgQ9qfvzzz+PMLqC528NUjD/wdvb2/xN5DC6gFQWLBGLfGYsCYgVqOwDHEwsx+OigYmebFu4LUYt/vjjD/2crLnRuD1GLurVq8clVp9ySGNBLjyCZvtRKAQTWAigfv368sknn+ilk0eOHKmX9yRyFka60HFirR+LFCmizyWMXtjWdVhsAnVl2bJl9Sp8+BclOjhvkdqHdCjM98CoMudaUGJgcJGM1SicTi9Je/1+oFMpHQUyp5BU3m6y/8JDp25PSZO10Y/N3uLyOf7++++6hwyNMRQM26MXDrnBaKhjfxH8bF/+97//6Z47KzTcEegsXLhQr8KERt5rr70mc+fO1T3G9kFATOCCPXr0aMmTJ49eEah3797i5uamG5GYB+LM68dtEEDg+VWqVElfuNEjaB/40NMNE/WRpoLGH4JdIlfDynOoz8qUKSNp06bVAQPqY6RrIpXJCvWgtb5EPYoOEdSJkdVXOI7HRX2M9FMELRhZ4wpRlFgYXCRjWDXqzqNg2X7qvtz2iz53uFj2FJIng7fsOP1ATlzjmtlPKyxNWL58eT2RED1mcYU0EWyQZ3txjAlccLF5HZaFbdu2rT6GyY4DBgzQy8dGNv/CGcOHD9dBBB7HmlaA54oRB2ych1GN6CAdatu2bXrllWHDhunVYDDygqVp6dmClcEwATey/HaiuEDgivoMHShIV0L5/vvvdeoTlqZ1pGTJknokFSMSSMd0BJO60dmDQAUbtCGwIEpMDC6SsdK5UkmFvKll15n7cul29Kvz5EjvLZULpJWA4BDZdpI9e08rpO/gIoSVo9asWWMejT30mjkzAuAIGu1IWapatapextGaWoQVqFq3bq2PYQ6EM0GAPYyQ4GKM9CWktVgfG7vlI6UFvYKTJk3SF+2o4Dm+99570qhRI12QCoPUrunTp8s333xj3oqeBY0bN5Y9e/boQNnVK5ZR8oa9KjBCi1EJpEIhgEXB+YbOFIxeYATYHuqtqFIuMX8Me7RgJTPMQ8Py2Bidjeo+RPGNwUUy5uZmkWoF08rJa/5y1Yklad2MyipfJh9Jm8Jd9p6POOmRnh7I+cXKUUgPcjUECpg38fzzz5tHIocJ0WjgY5TCNjcYF0YsXYtUAFw4c+TIYf7Ged26dZMff/xRj4i4u7ubR3Heu+n0F+QyI8jABlSRQToCNsrDY+A1eXh46N5G9CRiiV2kXNGzA4sdPPfcc3o39shSo9AA5FK0FFMbNmzQ9RrS77CwRqpUqXTByATqN4wiOxr9xQgzghKMSKDYQ+pT9erVdUcKOmQ4x4KSAgYXydwrVbNIam83+eW/63pjvehgpOO5gulk8/F7snw/J3Y/rbDnBRr2WFrzt99+M4+6Bi52uGg6c5HDbTFJ29E67LgQY8J2+vTpwwUHzkIQgBEQR3nHeDz8XTxPBBuRQQCGFIOZM2fq24I18Hn77bfjlLJFSQ/Oi5deekmPptnvipw5c2YdVCIHHrny2BQtup2Tiax27dql535lyZIlXJ2Dcw4dMghYrRvqTZ06VXcAobRr106vLIU0TnRu2EN9hDoOS9YysKCkgsFFMpfSy13K50sjJ/SO3dHPo/DycJP8mX0kpY+77DjNvOSnFS5uuNCVKlVKli5dah6NPUzixo60tqtC2ZdPP/3U4bB/Uma9aKPYwvuHYIOrBT17mjVrpj9frF5mmzKHRiB2S8aKYViS9t1339UBB5EjWO1u7NixOjCA/v37yxdffKFToOxhVafZs2frOV1I58SqeRjpQEHqKuaORTXCSpTUMLggnRp1zz9Idp95KLceRp8elSejt+RK7y07zzyQU9ejH+2gpAkXPSz5iuF4DL3HFlaGWrZsmV59CmlWkRWkKWEkgSgpQ9CIAAMBBFbfsYUVfhCUI1jGimeOepKJACMUCD6t5wjOFxxzNLqAUVSkRuH2WCbctlMmf/78eqSZ6GliqVGrjtq0PuKGUeQaGNIcM2aMnkSaVLSbckjO3HgySnH/UZBcvBMg6VN6SMbUnuLhHvVEsMeBIXL1XoAEBCnJlcFbfDwjxqh5jeO/vlfS/CnxYG8CpDGgwkbvED2BpQsxkoD3CLnmjlKTkgo8V0zAxkRITER3JUyIxK7cgJW0YgrP7dSpU3p0A+8h8qbxfcf/kbKQ3GFTOgSgWFUMaR5Pw3uCdCekqeD5+vj4mEefPhs3btSdB1jQAKOURDdu3NATyTHqyg32Eg7m782bN08vUOJo7syzhsFFPEuKwcWecw/kUUD87rKdwstNyuVJbf6UeBhcECWupzG4eFYwuCBKGpJbcMG0qGQIjf7qhdLGa0kKgQURERERJSwGF0RERERE5BIMLoiIiIiIyCUYXBARERERkUswuCAiIiIiIpdgcEFERERERC7B4CIBYB18lsQrSildHP2OhYUl/gvwO5g4hfUfC0vSKMkJ97mIZ/Xr15datWpxh81Ego3X9u7dq3eGLlu2rHmUiBLK48ePZe7cudKqVSu9wzX3uUg4J0+e1BsCFixYUG+aRkSJAxu1YrPVfv36Sfny5c2jzy4GF/GsQYMGUrduXb3tPyW8u3fvyp49e3RwUaFCBfMoESUUf39/+fHHH/WGor6+vgwuEtDx48fl4sWLUrhwYb2BIRElDgT5x44dkw8//FDKlStnHn12MbiIZ0lxh+7khDt0EyUu7tCdeLhDN1HSwB26iYiIiIiIYoHBBRERERERuQSDCyIiIiIicgkGF0RERERE5BIMLoiIiIiIyCUYXBARERERkUswuCAiIiIiIpdgcEFERERERC7B4IKIEhx2bT579qzs2rUrynLo0CHzHrF38uRJvTtqYGCgeYSIiIjiC4MLIkpwCCxGjx4tDRs2lNdffz1CwS6mL774orRu3dq8R0SHDx/WwYejcuzYMfHz89O3++CDD+S7776T27dv65+JiIgo/jC4oDABAQG6h/fevXvmkfDu3Lmjf49eZ6KoBAUFyZUrV+TmzZv6/46kTp1aunbt6jA4+O+//3TwEZVWrVrpAATlueeek2rVqkmTJk30z507d5ajR4+atyQiIqKEwuCCwqA3GY29efPmOWwQ/vTTT/LWW2/J9u3bzSNEjmGUoH///jJmzBi5cOGCedS1MHJx6tQpXd555x094rFlyxb98+bNm6V8+fLmLYmIiCihMLigMIULF5aSJUvqlBLkqdtr1KiRFC1aVFasWMH8dYpS5syZpWPHjnq0a8eOHRIcHGz+5omQkBB59OiRHt2wL7du3ZIHDx6YtyQiIqKnBYMLCuf555/XjbsjR46IUso8GqpIkSJSt25dnT61e/du8yiRYw0aNJA8efLocwkpUrYsFos+j2bOnKlvY19KlCghgwYNEh8fH/MeUUPwgmJ/zhIREVHCYnBB4VSuXFkePnwoe/fulbt375pHn0A++4QJE6RKlSrmEaLIDR8+XIYOHSo5c+Y0j4RCoDplyhR9rkVVnAliEVBs3LhRVq1apUc7HAUYGCVhAEJERBT/GFxQOEhnqVq1qh69OHHihHmUKOnC5O/jx4/reUJ79uzRQYm9UaNG6RGRihUryl9//WUeJSIiIldjcEHhIF2lRo0acv36db1qD5Er/fLLL3qidZo0aWJU8uXLF+lCAv369ZM333xTPv74Yz0agoUJ7A0ePFivHrVp0yZp3LixeZSIiIhcjcEFRYDUKDTo0At86dIl8yhR3LVo0UL+/fffsFWerAWTvj/66CNp2rRphN+h7Ny50+HqTwgoUqZMGbZaVKFChWTx4sV6yWRb3t7eeunbVKlSiYeHh3mUiIiIXI3BBUXg6ekp1atX1/tZYDIukatggnaGDBl00Dp58mRZtGiRTsXLmDGjbvzj9/jZvuD3OC9tTZ8+XaZOnSpffvmlntOB+37++eeybNky+frrr+XixYvmLYmIiCihMLgghypVqqSXA8XEbiJXw1LGWKY2NsvNYlL2n3/+KSNGjJCVK1fqJZTd3d317xC4zJ8/X7Zu3ar3a7l27Zo+TkRERAmDwQU5hAZbwYIF5cyZM3qyLFF88vX1lQ4dOkS7Kze4ublJzZo1dWBRpkyZCGlOmLiNJW7feOMNSZ8+vXmUiIiIEgKDC3IIOepYbhb7E2ASLFF8QoCA1KdcuXKZRyKHRQcQjJQqVSpsxMIeAuOsWbNGSKUiIiKi+MXggiJVrlw5PQEWew3YT5AliqurV6/qeRcYhYistGnTRg4fPmzeg4iIiJI6BhcUqezZs+ve4Rs3brCBRy6FTfSGDBkiM2bM0HMnIit9+vSRHDlymPciIiKipI7BBUXKy8tL9xx/+OGHUrJkSfMoUdylTZtWz5d44YUXoiwYvUiXLp15r9jBcrWvvPJKnB+HiIiIosfggqKEybEVKlTQ+etETyPs24IFCjCPiIiIiOIXgwsiIiIiInIJBhdEREREROQSDC6IiIiIiMglGFwQEREREZFLMLggIiIiIiKXYHBBREREREQuYalRq47atH6t+SO5WsuWLfVGYHnz5jWPUEK6fv26/PPPP5IpUyZp1KiReZSIEoqfn58MGDBAhg4dqpe0tlgs5m8ovu3YsUOOHj2ql2PGxpVElDhOnjwpK1askG7duknRokXNo88uBhfxrGHDhlK/fn3JkiWLeYQS0t27d2XXrl1607aKFSuaR4koofj7+8usWbP0Roa+vr4MLhLQ8ePH5eLFi3qfl5w5c5pHiSihXb58WX8fBw0axOCC4q5x48bSokULyZ49u3mEEtLt27dl27ZtulFTrVo18ygRJRQEF5MnT5bOnTtLxowZGVwkoMOHD8u5c+ekePHiekNUIkocCPL37dsnH374IYMLirt27drJmDFjpFChQuYRSkhXrlyRJUuW6HQMpKgRUcJ68OCBdO3aVSZOnKh7zxlcJJyNGzfKgQMHpGbNmlKqVCnzKBEltCNHjsi8efPk1VdfTRbBBSd0ExERERGRSzC4ICIiIiIil2BwQURERERELsHggoiIiIiIXILBBRERERERuQSDCyIiIiIicgkGF0RERERE5BIMLoiIiIiIyCUYXBBRosIOzteuXdMbHkZWrl69Kg8fPjTvETv4O3fv3tX/EhERUfxgcEFEieqff/6R8uXLS+HChaV48eIRCnYzxb/ff/+9eY/wHj9+LHfu3JHbt287LI8ePZKQkBBZtWqV9OnTR1auXGnek4iIiFyNwUUyh0YXGmfBwcHmEccCAwMlICBA3976f6WU+VuiUEFBQfr8sD1P8P/oVKxYUf766y+HwcGRI0ekZs2a5i0jQtCBACRHjhySPXt2yZgxo2TNmlX/jDJy5Ei5cOGCeWsiIiKKTwwukrkDBw5IrVq1ZNmyZeYRx8aPHy+dOnWSzZs3y0cffSQdOnTQqSxEtqZPny69e/eWnTt36vOke/fusnv3bvO38aNnz546bQojFMePH5cSJUrI3Llz5datW/rYZ599Jnny5DFvTURERPGJwUUyV6pUKd3ru2vXLjl//rx5NHqpUqWSLFmymD8ROZY+fXpJnTq1+RMRERE96xhcJHNubm7SuHFjOXHihJw9e9Y8GlG6dOl0QzFlypSSNm1asVgsuhDZypw5s6RIkSLs/zhvnDlPMNLRtGlT8fX1jVAQ/G7cuNG8JRERESVlDC5I57NjRZ6DBw/KgwcPzKPhIQhBDzQCizRp0kimTJnM3xA9gfMEQQWCUPwfwQH+H5VGjRrJnj175OTJk3L06NEIBalOmHfRtWtX8x6RO3z4sF5VCve7f/++eZSIiIgSCoMLkpw5c0qFChXk1KlTcvHiRfNoeG+88YYMHjxY8ubNK2+++aYMHTrU/A3RE02aNNFzILDy01tvvSVdunSRbNmymb91zNvbWwckmIQdWUEKXnRBCmDukI+Pj6xfv17Pw7B37NgxHaTgPB4yZEik5zsRERHFDoMLEg8PD3n++ed1zzECDEcwWoG0KE9PTz16gf8T2cNcHKRCeXl56fMEBeeXPTT8x40bp1OeYlKwJG2PHj0crlS2Zs0aWbFihUyYMEEHIqtXr46w6ACCilGjRunlbzHxnPOGiIiIXIvBBWlYMQoNNqSn3Lx50zxKFD8yZMigR8N++eWXCGX06NFSqFAh3fi3/92CBQtk0KBB5qM8cenSJb06FUZKqlWrpkdPFi9erNOkbGGUBCN1CFQwIoJgmYiIiFyHwQVpmE+BRtnly5flzJkz5lGi+IFGPfagKFu2rJ7vM3XqVD06hp/R8MfIWIECBfTPtqVMmTKSP3/+CJPEkaqHUY1WrVrpeR6YR9SiRQv59NNPdYoUERERJQwGFxQGoxcILJCXTpRQMFKGCdvYkyI2kCaFdKdevXrpf93d3XVa1Ouvvy4NGjSQGTNmyJYtW8xbExERUXxicEFhsOcFUkWw0g4nulJiyZcvnwwcOFAqVapkHokaUqEGDBigN8+zTXPCfIqOHTvq9CqkWREREVH8Y3BBYZAaVb16dZ2nvnfvXvMoUcJCelTp0qWdXu64atWqOnhwNH8CK1UhSMFqVERERBT/GFxQOAguAgIC9I7dt27dMo8Sxa9Dhw5J3759pV27dg7Lq6++Kl988YV5ayIiIkqqGFxQOEhJKVasmJ57EdmytESuhIB24sSJeo5E8+bNHZZmzZo5nSZFREREiYfBBYWTIkUK6dChg7z22muSPXt28yhR/MHqT1iWNqqC87F27drmPWIHqVadO3fWK04RERFR/GBwQRGg8VW3bl29HwDRswIrSdWpU0f/S0RERPGDwQUREREREbkEgwsiIiIiInIJBhdEREREROQSDC6IiIiIiMglGFwQEREREZFLMLggIiIiIiKXsNSoVUdtWr/W/JFcrUWLFtKtWzfJkyePeYQS0o0bN2TNmjWSMWNGqVevnnmUiBKKn5+fjBgxQj788EPJkiWLWCwW8zcU33bv3i0nTpyQ8uXLS6FChcyjRJTQTp8+LevWrZOePXtK0aJFzaPPLgYX8ax+/fp6B+JMmTKZRygh3bt3T/bv3y9p0qTh5mlEieDx48cyf/58eemllyRdunQMLhLQqVOn5PLly1KgQAFuikqUiK5evSrnz5+Xjz/+mMEFxZ115CJ37tzmEUpIGLlYu3atZMiQgSMXRIkAIxcjR46Uvn37cuQigWHk4uTJk3rkomDBguZRIkpoZ86c4cgFuU67du1kzJgxHJJOJFeuXJElS5ZI1qxZpWXLluZRIkooDx48kK5du8rEiRP1rv8MLhLOxo0b5cCBA1KzZk0pVaqUeZSIEtqRI0dk3rx58uqrryaL4IITuomIiIiIyCUYXBARERERkUswuCAiIiIiIpdgcEFERERERC7B4IKIiIiIiFyCwQUREREREbkEgwsiIiIiInIJBhdEFI5SSgICAiQkJEQX7LCMYyhJgfW5WJ9jcHCwBAYGxun54XGCgoL0v0RERBR7DC6IKJzz589L9uzZZcuWLXrjn5QpU8qxY8eSTHABp0+flnTp0sm+fftk8eLFUr16dTl79qz525jDY7z99tvyzz//mEeIiIgoNhhcECUzK1askFatWsn69evNIyIHDx6UunXryrJly/TPtoGEK4KKCRMmyPvvvy/79+83j0Rux44dekd7BDX2JWPGjDrowXNy9jkePnxYGjduHPYY7du313/DXkxe582bN6V3794yaNAg8wgREREBg4tkDA2jUaNGRdvjO2XKFOncubNs2LDBPEJPM6T+WFOKrNCwRvpTfKUFXbt2Ta5fv+5UA75cuXK68X/hwoUI5cSJE1K5cmXzltHbuHGj9OjRQxo2bKhHYfAY6dOnl3Hjxsl///1n3irmkEJ16tQpnY5FRERETzC4SMaee+453Qt88eJF84hjaHQ+fPhQN6jo2YB0otatW0uOHDl0wahFdOdBbOFvIa1q7969To1ceHh4yL1792T8+PEya9Ys8fb21iMqr776qg4M8HuLxWLeOmpz587VKVMvvvii5MqVSzJkyKDTn3D/P/74Q+7cuWPe0nkIzE6ePCkrV66UefPmmUeJiIgIGFwkYy+88IL4+fnJrl27YtXIoqdX0aJFZfLkybJp0yZdfvrpJ8maNav5W5G7d+9K27ZtdY9/XM2fP1+yZMkiLVq0kO3bt8vWrVvN30QOk7QRYDx48ECPduA8RSpSTFy9elWPVlSqVEkKFCggbm6h1V3JkiWlePHi+vEuX76sj8XEjRs3ZOrUqdKnTx95/fXXpVu3buZviIiIiMFFMpYiRQqpV6+eHD9+PFaNLHp6YTQAk7bz58+vC3r1MSJglTp1avn8889l2rRp5pHYGT58uFy5ckU6deok/fv3l9KlS8vChQv1iFlUPD09JXPmzOZPsYPgIVWqVHrit+1rw2Mj2EHQEtOgGmlVeE0IxPB6MO8C72P37t05skdERGRgcJHMYfRiz549cu7cOfNI5BYtWqTTZ8qXL69TVNauXWv+hp42hw4dkrfeekt/ligYpUAQYOXu7i758uXTPf6xsW7dOn2O3L9/X9555x2pWLGiZMqUSU8kr1KlikycOFE+/fRT89YRYZQBQYAVfkZAgKCkQoUKOs0J6UlRwegHXod1xMKWNbXK2TkmGEHB+d+hQwc96tO3b189uRyBBdKsypQpo18XRmU4D4OIiJIzBhfJHCbPotGGvHikkUQGE2yRDoKeWjQKkfuOtBoEJvR0wRyEX3/9VWbPnq0n66N8//33+hjm4cTF6tWrdVCB0QkELDhf0PD28fHRv8ecB6RajRgxQo+c4blgBODWrVv695FBIIDbI53pm2++kU8++STcaIQjadOm1eld/v7+5pEnMGKBkQuMbEQF91+wYIFO6dq2bZt8+eWX8sYbb+h5KoDABf9/5ZVX9PuIOSIIwBGIIJWLiIgouWFwkcyhcYXUqKNHj0Y5elGwYEHdW9yoUSM92lGnTh3daHNmgi4lLQgMMZKAhr1twTH8DsHm0qVLpVSpUpI3b14dMOTOndupSdS4D+Yi9OzZUxo0aKDv7+XlZf42lK+vr74dGuRjxoyRjh076jSs6KAhj/viuWK0xdGIhK1s2bLp9CUsRWsbOGPiOs53BDy4TVSwdC0CrpEjR+q5FZi/YTs3BfC+YFSmWrVq8t5778no0aOlatWqEV43ERFRcsDggqR27dq6wYVUmch6W9HoRA8teo+Rr4//o5HF3tmnF1Zw6tWrl94Dwra8/PLLenQK+0FgRSks24r5C84sI4vABOlBJUqUiDZgyJkzp+7lxzyM+GiI4zx97bXX9BLKf/75Z9j8ijlz5ujXg/MeqU1RQWoW5qPUqlVLChcubB6NHF4LAm+8tuhGVoiIiJ5FDC5Ij0qgYHnNqFKjbCGv/NGjR+ZP9DTChGnMgcCcAUcFk5SbNWsmf//9d4IFkbdv39bLu3bp0kUHAfg/RjisK1vh+SLwcSbQATT0ESRh40DMl0DghNXR2rRpo4ML23kdREREFHeWGrXqqE3rOTE3vrRr106nfmDH4aQM+fZLliyRrl276jQpW8gz//bbb3XDDrssI53khx9+0I1ObMSHBlxShUnKeF0YZWnZsqV5lJyBCdFIH0IKE1KL0HMfVSoS0upmzJihVx+LCaQ6IYUKoyQIWLFRHnYMdwQpSEhlwmgClpTFBGrcfuzYsfLbb7/pSej2MG9i586deiM/wH0xd8N21AL3xV4amCeC0RsrzCn67LPPzJ9iZtKkSXokJ7nDZHjUK5jEjxEdZ9LryDWwieSBAwekZs2a+ntMRIkDy6KjswxzErEoyLOOwUU8e1qCCzTCsaoPcsqRW27bKEJwgYYXerqxoR7SPbDKzvPPP6/TTtA4TKoYXMReTIMLjDpgNSdrI95ZSLUrVqyYlC1b1jwSNYxanD59WqdeORNcOCOy4AJLz65atcr8KWYQLKVJk8b8KflicJF4GFwQJQ0MLsilnpbgAoYNG6YbbQgyMGnWCitJYTUfNDatvdKYc4Hc+ugmxCY2BhexF9PgIqEkZHBBccfgIvEwuCBKGpJbcME5FxQGOejofcbEbtvlO7GUKEYp6tevH5aPj6U5k3pgQUREREQJi8EFhcGeF1jDH7ns7F0knANIj8OoAJZaTUrnBPbLwMRubGKHHlnMBcKKZrGFx0AaU5EiRcwjREREFBsMLigMGpBYWQfr9WMZT0rekAKFc2LgwIF68nNSCS7wPDDPp1+/fjrdDfM1OnfuLOnSpTNvEXMYpm7atGmsdyQnIiKiUAwuiIiIiIjIJRhcEBERERGRSzC4ICIiIiIil2BwQURERERELsHggoiIiIiIXILBBRERERERuQSDCyIiIiIicglLjVp11Kb1a80fydWwk3WXLl0kV65c5hFKSDdv3pR169bpTdewyzgRJSw/Pz+94eEHH3yQ5DZjfNbt3btXTp48KWXLlpWCBQuaR4kooZ05c0Y2bNggPXv21HszPesYXMSzHj16SEBAgHh6eppHKCEFBQXpxo27u7ukSpXKPEpECSUkJESuXLki2bJl04EFg4uE8+jRI339SZEihXh5eZlHiSih4XuYNm1a3cmSP39+8+izi8FFAggODjb/R0RERETJETo6kwMGF0RERERE5BKc0E1ERERERC7B4IKIiIiIiFyCwQUREREREbkEgwsiIiIiInIJBhdEREREROQSDC6IiIiIiMglGFwQEREREZELiPwfgvPhdZtLBxIAAAAASUVORK5CYII=)"
   ]
  },
  {
   "cell_type": "code",
   "execution_count": null,
   "metadata": {
    "colab": {
     "base_uri": "https://localhost:8080/"
    },
    "executionInfo": {
     "elapsed": 28,
     "status": "ok",
     "timestamp": 1653275775368,
     "user": {
      "displayName": "Keywoong Bae",
      "userId": "10101473300544846909"
     },
     "user_tz": -540
    },
    "id": "p7iFsmv64UEe",
    "outputId": "ffd0727b-a71c-4c14-d603-219818507369"
   },
   "outputs": [
    {
     "name": "stdout",
     "output_type": "stream",
     "text": [
      "Hellomy name is Rossum\n",
      "\n",
      "1000\\\n",
      "0            2 1\b\n",
      "1\n",
      "2\n",
      "3\n",
      "\n",
      "tab\ttab\n"
     ]
    }
   ],
   "source": [
    "print(\"\"\"Hello\\\n",
    "my name is Rossum\n",
    "\"\"\")\n",
    "print(\"1000\\\\\")#이스케이프 문자가 아닌 \\자체를 문자열로 사용\n",
    "print(\"0            2 1\\b\")# b:백스페이스\n",
    "print(\"1\\n2\\n3\\n\")#\\n:줄바꿈\n",
    "print(\"tab\\ttab\")#\\t:탭키"
   ]
  },
  {
   "cell_type": "markdown",
   "metadata": {
    "id": "1e0lA7Lk50Le"
   },
   "source": [
    "### 3.7 txt파일 불러오기"
   ]
  },
  {
   "cell_type": "code",
   "execution_count": null,
   "metadata": {
    "id": "SZaXrmH75wCB"
   },
   "outputs": [],
   "source": [
    "import os\n",
    "os.chdir('/content/drive/MyDrive/Study/python_studying/basic/datasets')"
   ]
  },
  {
   "cell_type": "code",
   "execution_count": null,
   "metadata": {
    "colab": {
     "base_uri": "https://localhost:8080/"
    },
    "executionInfo": {
     "elapsed": 22,
     "status": "ok",
     "timestamp": 1653275775368,
     "user": {
      "displayName": "Keywoong Bae",
      "userId": "10101473300544846909"
     },
     "user_tz": -540
    },
    "id": "vdV0SQ856NQj",
    "outputId": "efa86f94-2820-47f2-fd55-28c9e7e76ec9"
   },
   "outputs": [
    {
     "name": "stdout",
     "output_type": "stream",
     "text": [
      "Yesterday\n",
      "All my troubles seemed so far away\n",
      "Now it looks as though they're here to stay\n",
      "Oh, I believe in yesterday\n",
      "Suddenly\n",
      "I'm not half the man I used to be\n",
      "There's a shadow hanging over me\n",
      "Oh, yesterday came suddenly\n",
      "Why she had to go\n",
      "I don't know, she wouldn't say\n",
      "I said something wrong\n",
      "Now I long for yesterday\n",
      "Yesterday\n",
      "Love was such an easy game to play\n",
      "Now I need a place to hide away\n",
      "Oh, I believe in yesterday\n",
      "Why she had to go\n",
      "I don't know, she wouldn't say\n",
      "I said something wrong\n",
      "Now I long for yesterday\n",
      "Yesterday\n",
      "Love was such an easy game to play\n",
      "Now I need a place to hide away\n",
      "Oh, I believe in yesterday\n",
      "Mm, mm, mm, mm, mm, mm, mm\n",
      "\n"
     ]
    }
   ],
   "source": [
    "f = open('yesterday.txt','r')\n",
    "\n",
    "yesterday_lyric = ''\n",
    "while 1:\n",
    "  line = f.readline()\n",
    "  if not line:\n",
    "    break\n",
    "  yesterday_lyric = yesterday_lyric + line.strip() + '\\n'\n",
    "f.close()\n",
    "\n",
    "print(yesterday_lyric)"
   ]
  }
 ],
 "metadata": {
  "colab": {
   "authorship_tag": "ABX9TyM5APGs9c9C/viuLfn5plnn",
   "collapsed_sections": [],
   "mount_file_id": "1MhF-z5qEFLIMoAekTKhGPR7B93H6FyXT",
   "name": "About String.ipynb",
   "provenance": []
  },
  "kernelspec": {
   "display_name": "Python 3 (ipykernel)",
   "language": "python",
   "name": "python3"
  },
  "language_info": {
   "codemirror_mode": {
    "name": "ipython",
    "version": 3
   },
   "file_extension": ".py",
   "mimetype": "text/x-python",
   "name": "python",
   "nbconvert_exporter": "python",
   "pygments_lexer": "ipython3",
   "version": "3.9.7"
  }
 },
 "nbformat": 4,
 "nbformat_minor": 1
}
