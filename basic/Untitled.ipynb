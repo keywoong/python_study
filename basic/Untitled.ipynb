{
 "cells": [
  {
   "cell_type": "code",
   "execution_count": 1,
   "id": "5b271e5b",
   "metadata": {},
   "outputs": [
    {
     "ename": "TypeError",
     "evalue": "print_string() missing 1 required keyword-only argument: 'count'",
     "output_type": "error",
     "traceback": [
      "\u001b[1;31m---------------------------------------------------------------------------\u001b[0m",
      "\u001b[1;31mTypeError\u001b[0m                                 Traceback (most recent call last)",
      "Input \u001b[1;32mIn [1]\u001b[0m, in \u001b[0;36m<cell line: 5>\u001b[1;34m()\u001b[0m\n\u001b[0;32m      3\u001b[0m \t\t\u001b[38;5;28;01mfor\u001b[39;00m t \u001b[38;5;129;01min\u001b[39;00m text:\n\u001b[0;32m      4\u001b[0m \t\t\t\u001b[38;5;28mprint\u001b[39m(t)\n\u001b[1;32m----> 5\u001b[0m \u001b[43mprint_string\u001b[49m\u001b[43m(\u001b[49m\u001b[38;5;124;43m\"\u001b[39;49m\u001b[38;5;124;43m파이썬\u001b[39;49m\u001b[38;5;124;43m\"\u001b[39;49m\u001b[43m,\u001b[49m\u001b[38;5;124;43m\"\u001b[39;49m\u001b[38;5;124;43m수업\u001b[39;49m\u001b[38;5;124;43m\"\u001b[39;49m\u001b[43m,\u001b[49m\u001b[38;5;124;43m\"\u001b[39;49m\u001b[38;5;124;43m입니다.\u001b[39;49m\u001b[38;5;124;43m\"\u001b[39;49m\u001b[43m,\u001b[49m\u001b[38;5;241;43m3\u001b[39;49m\u001b[43m \u001b[49m\u001b[43m)\u001b[49m\n",
      "\u001b[1;31mTypeError\u001b[0m: print_string() missing 1 required keyword-only argument: 'count'"
     ]
    }
   ],
   "source": [
    "def print_string(*text, count):\n",
    "\tfor i in range(count):\n",
    "\t\tfor t in text:\n",
    "\t\t\tprint(t)\n",
    "print_string(\"파이썬\",\"수업\",\"입니다.\",3 )"
   ]
  },
  {
   "cell_type": "code",
   "execution_count": 5,
   "id": "36823e80",
   "metadata": {},
   "outputs": [
    {
     "ename": "TypeError",
     "evalue": "print_string() got multiple values for argument 'count'",
     "output_type": "error",
     "traceback": [
      "\u001b[1;31m---------------------------------------------------------------------------\u001b[0m",
      "\u001b[1;31mTypeError\u001b[0m                                 Traceback (most recent call last)",
      "Input \u001b[1;32mIn [5]\u001b[0m, in \u001b[0;36m<cell line: 5>\u001b[1;34m()\u001b[0m\n\u001b[0;32m      3\u001b[0m \t\t\u001b[38;5;28;01mfor\u001b[39;00m t \u001b[38;5;129;01min\u001b[39;00m text:\n\u001b[0;32m      4\u001b[0m \t\t\t\u001b[38;5;28mprint\u001b[39m(t)\n\u001b[1;32m----> 5\u001b[0m \u001b[43mprint_string\u001b[49m\u001b[43m(\u001b[49m\u001b[38;5;124;43m\"\u001b[39;49m\u001b[38;5;124;43m파이썬\u001b[39;49m\u001b[38;5;124;43m\"\u001b[39;49m\u001b[43m,\u001b[49m\u001b[38;5;124;43m\"\u001b[39;49m\u001b[38;5;124;43m수업\u001b[39;49m\u001b[38;5;124;43m\"\u001b[39;49m\u001b[43m,\u001b[49m\u001b[38;5;124;43m\"\u001b[39;49m\u001b[38;5;124;43m입니다.\u001b[39;49m\u001b[38;5;124;43m\"\u001b[39;49m\u001b[43m,\u001b[49m\u001b[43m \u001b[49m\u001b[43mcount\u001b[49m\u001b[38;5;241;43m=\u001b[39;49m\u001b[38;5;241;43m2\u001b[39;49m\u001b[43m)\u001b[49m\n",
      "\u001b[1;31mTypeError\u001b[0m: print_string() got multiple values for argument 'count'"
     ]
    }
   ],
   "source": [
    "def print_string(count=3, *text):\n",
    "\tfor i in range(count):\n",
    "\t\tfor t in text:\n",
    "\t\t\tprint(t)\n",
    "print_string(\"파이썬\",\"수업\",\"입니다.\", count=2)"
   ]
  },
  {
   "cell_type": "code",
   "execution_count": 9,
   "id": "f4af068a",
   "metadata": {},
   "outputs": [
    {
     "name": "stdout",
     "output_type": "stream",
     "text": [
      "파이썬\n",
      "프로그래밍\n",
      "수업입니다.\n",
      "파이썬\n",
      "프로그래밍\n",
      "수업입니다.\n",
      "파이썬\n",
      "프로그래밍\n",
      "수업입니다.\n"
     ]
    }
   ],
   "source": [
    "def print_string(count = 3, *text):\n",
    "    for i in range(count):\n",
    "        for t in text:\n",
    "            print(t)\n",
    "print_string(3,\"파이썬\",\"프로그래밍\",\"수업입니다.\")"
   ]
  },
  {
   "cell_type": "code",
   "execution_count": 10,
   "id": "615c1a08",
   "metadata": {},
   "outputs": [
    {
     "name": "stdout",
     "output_type": "stream",
     "text": [
      "파이썬\n",
      "프로그래밍\n",
      "수업입니다.\n",
      "파이썬\n",
      "프로그래밍\n",
      "수업입니다.\n",
      "파이썬\n",
      "프로그래밍\n",
      "수업입니다.\n"
     ]
    }
   ],
   "source": [
    "def print_string(*text,count = 3):\n",
    "    for i in range(count):\n",
    "        for t in text:\n",
    "            print(t)\n",
    "print_string(\"파이썬\",\"프로그래밍\",\"수업입니다.\")"
   ]
  },
  {
   "cell_type": "code",
   "execution_count": 13,
   "id": "325ea557",
   "metadata": {},
   "outputs": [
    {
     "name": "stdout",
     "output_type": "stream",
     "text": [
      "파이썬\n",
      "프로그래밍\n",
      "수업입니다.\n",
      "12\n",
      "파이썬\n",
      "프로그래밍\n",
      "수업입니다.\n",
      "12\n",
      "파이썬\n",
      "프로그래밍\n",
      "수업입니다.\n",
      "12\n"
     ]
    }
   ],
   "source": [
    "def print_string(*text,count = 3):\n",
    "    for i in range(count):\n",
    "        for t in text:\n",
    "            print(t)\n",
    "print_string(\"파이썬\",\"프로그래밍\",\"수업입니다.\",12)"
   ]
  },
  {
   "cell_type": "code",
   "execution_count": 14,
   "id": "aef33b51",
   "metadata": {},
   "outputs": [
    {
     "name": "stdout",
     "output_type": "stream",
     "text": [
      "파이썬\n",
      "프로그래밍\n",
      "수업입니다.\n",
      "파이썬\n",
      "프로그래밍\n",
      "수업입니다.\n",
      "파이썬\n",
      "프로그래밍\n",
      "수업입니다.\n",
      "파이썬\n",
      "프로그래밍\n",
      "수업입니다.\n",
      "파이썬\n",
      "프로그래밍\n",
      "수업입니다.\n",
      "파이썬\n",
      "프로그래밍\n",
      "수업입니다.\n",
      "파이썬\n",
      "프로그래밍\n",
      "수업입니다.\n",
      "파이썬\n",
      "프로그래밍\n",
      "수업입니다.\n",
      "파이썬\n",
      "프로그래밍\n",
      "수업입니다.\n",
      "파이썬\n",
      "프로그래밍\n",
      "수업입니다.\n",
      "파이썬\n",
      "프로그래밍\n",
      "수업입니다.\n",
      "파이썬\n",
      "프로그래밍\n",
      "수업입니다.\n"
     ]
    }
   ],
   "source": [
    "def print_string(count = 3, *text):\n",
    "    for i in range(count):\n",
    "        for t in text:\n",
    "            print(t)\n",
    "print_string(12,\"파이썬\",\"프로그래밍\",\"수업입니다.\")"
   ]
  },
  {
   "cell_type": "code",
   "execution_count": 15,
   "id": "2f0d9275",
   "metadata": {},
   "outputs": [
    {
     "name": "stdout",
     "output_type": "stream",
     "text": [
      "파이썬\n",
      "프로그래밍\n",
      "수업입니다.\n"
     ]
    }
   ],
   "source": [
    "def print_string(*text, count=2):\n",
    "\tfor i in range(count):\n",
    "\t\tfor t in text:\n",
    "\t\t\tprint(t)\n",
    "print_string(\"파이썬\",\"프로그래밍\",\"수업입니다.\", count=1)"
   ]
  },
  {
   "cell_type": "code",
   "execution_count": 16,
   "id": "dc72ff29",
   "metadata": {},
   "outputs": [
    {
     "name": "stdout",
     "output_type": "stream",
     "text": [
      "파이썬\n",
      "프로그래밍\n",
      "수업입니다.\n",
      "13\n",
      "파이썬\n",
      "프로그래밍\n",
      "수업입니다.\n",
      "13\n"
     ]
    }
   ],
   "source": [
    "def print_string(*text, count=2):\n",
    "\tfor i in range(count):\n",
    "\t\tfor t in text:\n",
    "\t\t\tprint(t)\n",
    "print_string(\"파이썬\",\"프로그래밍\",\"수업입니다.\", 13)"
   ]
  },
  {
   "cell_type": "code",
   "execution_count": 18,
   "id": "ec995cde",
   "metadata": {},
   "outputs": [
    {
     "name": "stdout",
     "output_type": "stream",
     "text": [
      "파이썬\n",
      "프로그래밍\n",
      "수업입니다.\n",
      "13\n"
     ]
    }
   ],
   "source": [
    "def print_string(*text, count=2):\n",
    "\tfor i in range(count):\n",
    "\t\tfor t in text:\n",
    "\t\t\tprint(t)\n",
    "print_string(\"파이썬\",\"프로그래밍\",\"수업입니다.\", 13, count = 1)"
   ]
  },
  {
   "cell_type": "code",
   "execution_count": 20,
   "id": "e536f736",
   "metadata": {},
   "outputs": [
    {
     "ename": "SyntaxError",
     "evalue": "positional argument follows keyword argument (2653195201.py, line 5)",
     "output_type": "error",
     "traceback": [
      "\u001b[1;36m  Input \u001b[1;32mIn [20]\u001b[1;36m\u001b[0m\n\u001b[1;33m    print_string(count=1, \"파이썬\",\"프로그래밍\")\u001b[0m\n\u001b[1;37m                                       ^\u001b[0m\n\u001b[1;31mSyntaxError\u001b[0m\u001b[1;31m:\u001b[0m positional argument follows keyword argument\n"
     ]
    }
   ],
   "source": [
    "def print_string(count=2, *text):\n",
    "\tfor i in range(count):\n",
    "\t\tfor t in text:\n",
    "\t\t\tprint(t)\n",
    "print_string(count=1, \"파이썬\",\"프로그래밍\",\"수업입니다.\")"
   ]
  },
  {
   "cell_type": "code",
   "execution_count": 29,
   "id": "7a6ad14f",
   "metadata": {},
   "outputs": [
    {
     "ename": "SyntaxError",
     "evalue": "positional argument follows keyword argument (2884948466.py, line 5)",
     "output_type": "error",
     "traceback": [
      "\u001b[1;36m  Input \u001b[1;32mIn [29]\u001b[1;36m\u001b[0m\n\u001b[1;33m    print_string(count=1, \"파이썬\",\"프로그래밍\",\"수업입니다.\")\u001b[0m\n\u001b[1;37m                                                ^\u001b[0m\n\u001b[1;31mSyntaxError\u001b[0m\u001b[1;31m:\u001b[0m positional argument follows keyword argument\n"
     ]
    }
   ],
   "source": [
    "def print_string(count=2, *text):\n",
    "\tfor i in range(count):\n",
    "\t\tfor t in text:\n",
    "\t\t\tprint(t)\n",
    "print_string(count=1, \"파이썬\",\"프로그래밍\",\"수업입니다.\")"
   ]
  },
  {
   "cell_type": "code",
   "execution_count": 26,
   "id": "1e226ed1",
   "metadata": {},
   "outputs": [
    {
     "name": "stdout",
     "output_type": "stream",
     "text": [
      "파이썬\n",
      "프로그래밍\n",
      "수업입니다.\n"
     ]
    }
   ],
   "source": [
    "def print_string(*text,count=3):\n",
    "\tfor i in range(count):\n",
    "\t\tfor t in text:\n",
    "\t\t\tprint(t)\n",
    "print_string(\"파이썬\",\"프로그래밍\",\"수업입니다.\",count=1)"
   ]
  },
  {
   "cell_type": "code",
   "execution_count": 30,
   "id": "561947dd",
   "metadata": {},
   "outputs": [
    {
     "ename": "TypeError",
     "evalue": "'str' object cannot be interpreted as an integer",
     "output_type": "error",
     "traceback": [
      "\u001b[1;31m---------------------------------------------------------------------------\u001b[0m",
      "\u001b[1;31mTypeError\u001b[0m                                 Traceback (most recent call last)",
      "Input \u001b[1;32mIn [30]\u001b[0m, in \u001b[0;36m<cell line: 5>\u001b[1;34m()\u001b[0m\n\u001b[0;32m      3\u001b[0m \t\t\u001b[38;5;28;01mfor\u001b[39;00m t \u001b[38;5;129;01min\u001b[39;00m text:\n\u001b[0;32m      4\u001b[0m \t\t\t\u001b[38;5;28mprint\u001b[39m(t)\n\u001b[1;32m----> 5\u001b[0m \u001b[43mprint_string\u001b[49m\u001b[43m(\u001b[49m\u001b[38;5;124;43m\"\u001b[39;49m\u001b[38;5;124;43m파이썬\u001b[39;49m\u001b[38;5;124;43m\"\u001b[39;49m\u001b[43m,\u001b[49m\u001b[38;5;124;43m\"\u001b[39;49m\u001b[38;5;124;43m프로그래밍\u001b[39;49m\u001b[38;5;124;43m\"\u001b[39;49m\u001b[43m,\u001b[49m\u001b[38;5;124;43m\"\u001b[39;49m\u001b[38;5;124;43m수업입니다.\u001b[39;49m\u001b[38;5;124;43m\"\u001b[39;49m\u001b[43m)\u001b[49m\n",
      "Input \u001b[1;32mIn [30]\u001b[0m, in \u001b[0;36mprint_string\u001b[1;34m(count, *text)\u001b[0m\n\u001b[0;32m      1\u001b[0m \u001b[38;5;28;01mdef\u001b[39;00m \u001b[38;5;21mprint_string\u001b[39m(count\u001b[38;5;241m=\u001b[39m\u001b[38;5;241m2\u001b[39m, \u001b[38;5;241m*\u001b[39mtext):\n\u001b[1;32m----> 2\u001b[0m \t\u001b[38;5;28;01mfor\u001b[39;00m i \u001b[38;5;129;01min\u001b[39;00m \u001b[38;5;28;43mrange\u001b[39;49m\u001b[43m(\u001b[49m\u001b[43mcount\u001b[49m\u001b[43m)\u001b[49m:\n\u001b[0;32m      3\u001b[0m \t\t\u001b[38;5;28;01mfor\u001b[39;00m t \u001b[38;5;129;01min\u001b[39;00m text:\n\u001b[0;32m      4\u001b[0m \t\t\t\u001b[38;5;28mprint\u001b[39m(t)\n",
      "\u001b[1;31mTypeError\u001b[0m: 'str' object cannot be interpreted as an integer"
     ]
    }
   ],
   "source": [
    "def print_string(count=2, *text):\n",
    "\tfor i in range(count):\n",
    "\t\tfor t in text:\n",
    "\t\t\tprint(t)\n",
    "print_string(\"파이썬\",\"프로그래밍\",\"수업입니다.\")"
   ]
  },
  {
   "cell_type": "code",
   "execution_count": 32,
   "id": "bde42180",
   "metadata": {},
   "outputs": [
    {
     "ename": "ValueError",
     "evalue": "Invalid format specifier",
     "output_type": "error",
     "traceback": [
      "\u001b[1;31m---------------------------------------------------------------------------\u001b[0m",
      "\u001b[1;31mValueError\u001b[0m                                Traceback (most recent call last)",
      "Input \u001b[1;32mIn [32]\u001b[0m, in \u001b[0;36m<cell line: 5>\u001b[1;34m()\u001b[0m\n\u001b[0;32m      2\u001b[0m \t\u001b[38;5;28;01mfor\u001b[39;00m key \u001b[38;5;129;01min\u001b[39;00m person\u001b[38;5;241m.\u001b[39mkeys():\n\u001b[0;32m      3\u001b[0m \t\t\u001b[38;5;28mprint\u001b[39m(\u001b[38;5;124m\"\u001b[39m\u001b[38;5;132;01m{}\u001b[39;00m\u001b[38;5;124m:\u001b[39m\u001b[38;5;132;01m{}\u001b[39;00m\u001b[38;5;124m\"\u001b[39m,\u001b[38;5;28mformat\u001b[39m(key, person[key]))\n\u001b[1;32m----> 5\u001b[0m \u001b[43mperson_info\u001b[49m\u001b[43m(\u001b[49m\u001b[43mname\u001b[49m\u001b[43m \u001b[49m\u001b[38;5;241;43m=\u001b[39;49m\u001b[43m \u001b[49m\u001b[38;5;124;43m\"\u001b[39;49m\u001b[38;5;124;43m홍길동\u001b[39;49m\u001b[38;5;124;43m\"\u001b[39;49m\u001b[43m,\u001b[49m\u001b[43mage\u001b[49m\u001b[43m \u001b[49m\u001b[38;5;241;43m=\u001b[39;49m\u001b[43m \u001b[49m\u001b[38;5;241;43m30\u001b[39;49m\u001b[43m,\u001b[49m\u001b[43m \u001b[49m\u001b[43maddress\u001b[49m\u001b[43m \u001b[49m\u001b[38;5;241;43m=\u001b[39;49m\u001b[43m \u001b[49m\u001b[38;5;124;43m\"\u001b[39;49m\u001b[38;5;124;43m인천광역시 미추홀구\u001b[39;49m\u001b[38;5;124;43m\"\u001b[39;49m\u001b[43m)\u001b[49m\n",
      "Input \u001b[1;32mIn [32]\u001b[0m, in \u001b[0;36mperson_info\u001b[1;34m(**person)\u001b[0m\n\u001b[0;32m      1\u001b[0m \u001b[38;5;28;01mdef\u001b[39;00m \u001b[38;5;21mperson_info\u001b[39m(\u001b[38;5;241m*\u001b[39m\u001b[38;5;241m*\u001b[39mperson):\n\u001b[0;32m      2\u001b[0m \t\u001b[38;5;28;01mfor\u001b[39;00m key \u001b[38;5;129;01min\u001b[39;00m person\u001b[38;5;241m.\u001b[39mkeys():\n\u001b[1;32m----> 3\u001b[0m \t\t\u001b[38;5;28mprint\u001b[39m(\u001b[38;5;124m\"\u001b[39m\u001b[38;5;132;01m{}\u001b[39;00m\u001b[38;5;124m:\u001b[39m\u001b[38;5;132;01m{}\u001b[39;00m\u001b[38;5;124m\"\u001b[39m,\u001b[38;5;28;43mformat\u001b[39;49m\u001b[43m(\u001b[49m\u001b[43mkey\u001b[49m\u001b[43m,\u001b[49m\u001b[43m \u001b[49m\u001b[43mperson\u001b[49m\u001b[43m[\u001b[49m\u001b[43mkey\u001b[49m\u001b[43m]\u001b[49m\u001b[43m)\u001b[49m)\n",
      "\u001b[1;31mValueError\u001b[0m: Invalid format specifier"
     ]
    }
   ],
   "source": [
    "def person_info(**person):\n",
    "\tfor key in person.keys():\n",
    "\t\tprint(\"{}:{}\",format(key, person[key]))\n",
    "\t\t\n",
    "person_info(name = \"홍길동\",age = 30, address = \"인천광역시 미추홀구\")"
   ]
  },
  {
   "cell_type": "code",
   "execution_count": 33,
   "id": "309375ba",
   "metadata": {},
   "outputs": [
    {
     "name": "stdout",
     "output_type": "stream",
     "text": [
      "name:홍길동\n",
      "age:30\n",
      "address:인천광역시 미추홀구\n"
     ]
    }
   ],
   "source": [
    "def person_info(**person):\n",
    "\tfor key in person.keys():\n",
    "\t\tprint(\"{}:{}\".format(key, person[key]))\n",
    "\t\t\n",
    "person_info(name = \"홍길동\",age = 30, address = \"인천광역시 미추홀구\")"
   ]
  },
  {
   "cell_type": "code",
   "execution_count": 42,
   "id": "c93a431c",
   "metadata": {},
   "outputs": [
    {
     "name": "stdout",
     "output_type": "stream",
     "text": [
      "파이썬\n",
      "수업\n",
      "입니다.\n"
     ]
    }
   ],
   "source": [
    "#예제1 튜플을 이용한 가변매개변수\n",
    "def print_string(count, *text):\n",
    "    for i in range(count):\n",
    "        for t in text:\n",
    "            print(t)\n",
    "print_string(1, \"파이썬\",\"수업\",\"입니다.\")"
   ]
  },
  {
   "cell_type": "code",
   "execution_count": 43,
   "id": "40032d17",
   "metadata": {},
   "outputs": [
    {
     "name": "stdout",
     "output_type": "stream",
     "text": [
      "파이썬\n",
      "프로그래밍\n",
      "수업입니다.\n",
      "1\n",
      "파이썬\n",
      "프로그래밍\n",
      "수업입니다.\n",
      "1\n"
     ]
    }
   ],
   "source": [
    "def print_string(*text, count=2):\n",
    "\tfor i in range(count):\n",
    "\t\tfor t in text:\n",
    "\t\t\tprint(t)\n",
    "print_string(\"파이썬\",\"프로그래밍\",\"수업입니다.\", 1)"
   ]
  },
  {
   "cell_type": "code",
   "execution_count": 44,
   "id": "4696c7d5",
   "metadata": {},
   "outputs": [
    {
     "ename": "TypeError",
     "evalue": "'str' object cannot be interpreted as an integer",
     "output_type": "error",
     "traceback": [
      "\u001b[1;31m---------------------------------------------------------------------------\u001b[0m",
      "\u001b[1;31mTypeError\u001b[0m                                 Traceback (most recent call last)",
      "Input \u001b[1;32mIn [44]\u001b[0m, in \u001b[0;36m<cell line: 5>\u001b[1;34m()\u001b[0m\n\u001b[0;32m      3\u001b[0m \t\t\u001b[38;5;28;01mfor\u001b[39;00m t \u001b[38;5;129;01min\u001b[39;00m text:\n\u001b[0;32m      4\u001b[0m \t\t\t\u001b[38;5;28mprint\u001b[39m(t)\n\u001b[1;32m----> 5\u001b[0m \u001b[43mprint_string\u001b[49m\u001b[43m(\u001b[49m\u001b[38;5;124;43m\"\u001b[39;49m\u001b[38;5;124;43m파이썬\u001b[39;49m\u001b[38;5;124;43m\"\u001b[39;49m\u001b[43m,\u001b[49m\u001b[38;5;124;43m\"\u001b[39;49m\u001b[38;5;124;43m프로그래밍\u001b[39;49m\u001b[38;5;124;43m\"\u001b[39;49m\u001b[43m,\u001b[49m\u001b[38;5;124;43m\"\u001b[39;49m\u001b[38;5;124;43m수업입니다.\u001b[39;49m\u001b[38;5;124;43m\"\u001b[39;49m\u001b[43m)\u001b[49m\n",
      "Input \u001b[1;32mIn [44]\u001b[0m, in \u001b[0;36mprint_string\u001b[1;34m(count, *text)\u001b[0m\n\u001b[0;32m      1\u001b[0m \u001b[38;5;28;01mdef\u001b[39;00m \u001b[38;5;21mprint_string\u001b[39m(count\u001b[38;5;241m=\u001b[39m\u001b[38;5;241m2\u001b[39m, \u001b[38;5;241m*\u001b[39mtext):\n\u001b[1;32m----> 2\u001b[0m \t\u001b[38;5;28;01mfor\u001b[39;00m i \u001b[38;5;129;01min\u001b[39;00m \u001b[38;5;28;43mrange\u001b[39;49m\u001b[43m(\u001b[49m\u001b[43mcount\u001b[49m\u001b[43m)\u001b[49m:\n\u001b[0;32m      3\u001b[0m \t\t\u001b[38;5;28;01mfor\u001b[39;00m t \u001b[38;5;129;01min\u001b[39;00m text:\n\u001b[0;32m      4\u001b[0m \t\t\t\u001b[38;5;28mprint\u001b[39m(t)\n",
      "\u001b[1;31mTypeError\u001b[0m: 'str' object cannot be interpreted as an integer"
     ]
    }
   ],
   "source": [
    "def print_string(count=2, *text):\n",
    "\tfor i in range(count):\n",
    "\t\tfor t in text:\n",
    "\t\t\tprint(t)\n",
    "print_string(\"파이썬\",\"프로그래밍\",\"수업입니다.\")"
   ]
  },
  {
   "cell_type": "code",
   "execution_count": 46,
   "id": "0ca7f254",
   "metadata": {},
   "outputs": [
    {
     "name": "stdout",
     "output_type": "stream",
     "text": [
      "파이썬\n",
      "프로그래밍\n",
      "수업입니다.\n"
     ]
    }
   ],
   "source": [
    "def print_string(count=2, *text):\n",
    "\tfor i in range(count):\n",
    "\t\tfor t in text:\n",
    "\t\t\tprint(t)\n",
    "print_string(1, \"파이썬\",\"프로그래밍\",\"수업입니다.\")"
   ]
  },
  {
   "cell_type": "code",
   "execution_count": 47,
   "id": "08dae34a",
   "metadata": {},
   "outputs": [
    {
     "name": "stdout",
     "output_type": "stream",
     "text": [
      "341\n",
      "261\n",
      "341\n",
      "81\n"
     ]
    }
   ],
   "source": [
    "def sum(a,b = 10, c = 100):\n",
    "\treturn a+2*b+3*c\n",
    "\n",
    "print(sum(1,20,100)) #(1,20,100), 341\n",
    "print(sum(1,c=20,b=100)) #(1,100,20), 261 \n",
    "print(sum(1,20)) #(1,20,100), 341\n",
    "print(sum(1,c=20)) #(1,10,20), 81"
   ]
  },
  {
   "cell_type": "code",
   "execution_count": 49,
   "id": "9aa1551f",
   "metadata": {},
   "outputs": [
    {
     "name": "stdout",
     "output_type": "stream",
     "text": [
      "파이썬\n",
      "프로그래밍\n",
      "수업입니다.\n"
     ]
    }
   ],
   "source": [
    "def print_string(count=2, *text):\n",
    "\tfor i in range(count):\n",
    "\t\tfor t in text:\n",
    "\t\t\tprint(t)\n",
    "print_string(1, \"파이썬\",\"프로그래밍\",\"수업입니다.\")"
   ]
  },
  {
   "cell_type": "code",
   "execution_count": 50,
   "id": "7e66b993",
   "metadata": {},
   "outputs": [],
   "source": [
    "def get_int():\n",
    "    while 1:\n",
    "        print(\"정수를 입력하세요\")\n",
    "        n = input()\n",
    "        print(\"입력받은 숫자\",n)\n",
    "        if n.isdecimal():\n",
    "            break\n",
    "    return int(n)"
   ]
  },
  {
   "cell_type": "code",
   "execution_count": 51,
   "id": "32234448",
   "metadata": {},
   "outputs": [
    {
     "name": "stdout",
     "output_type": "stream",
     "text": [
      "정수를 입력하세요\n",
      "3.2\n",
      "입력받은 숫자 3.2\n",
      "정수를 입력하세요\n",
      "2\n",
      "입력받은 숫자 2\n",
      "변수 a=2\n"
     ]
    }
   ],
   "source": [
    "a = get_int()\n",
    "print(\"변수 a={}\".format(a))"
   ]
  },
  {
   "cell_type": "code",
   "execution_count": 52,
   "id": "f19dd33c",
   "metadata": {},
   "outputs": [
    {
     "name": "stdout",
     "output_type": "stream",
     "text": [
      "10과 20의 합은 30이고, 차는 -10입니다.\n"
     ]
    }
   ],
   "source": [
    "def add_sub(a,b):\n",
    "\treturn a+b, a-b\n",
    "x,y = add_sub(10,20)\n",
    "print(\"10과 20의 합은 {}이고, 차는 {}입니다.\".format(x,y))"
   ]
  },
  {
   "cell_type": "code",
   "execution_count": 54,
   "id": "e15ced97",
   "metadata": {},
   "outputs": [
    {
     "data": {
      "text/plain": [
       "tuple"
      ]
     },
     "execution_count": 54,
     "metadata": {},
     "output_type": "execute_result"
    }
   ],
   "source": [
    "type(add_sub(10,20))"
   ]
  },
  {
   "cell_type": "code",
   "execution_count": 55,
   "id": "d0223d09",
   "metadata": {},
   "outputs": [
    {
     "name": "stdout",
     "output_type": "stream",
     "text": [
      "[2, 4, 6, 8, 10]\n"
     ]
    }
   ],
   "source": [
    "def twice_list(objlist):\n",
    "\tresult = [2*i for i in objlist]\n",
    "\treturn result\n",
    "list1 = [1,2,3,4,5]\n",
    "list2 = twice_list(list1)\n",
    "print(list2) #[2,4,6,8,10]"
   ]
  },
  {
   "cell_type": "code",
   "execution_count": 57,
   "id": "e7b4dedc",
   "metadata": {},
   "outputs": [
    {
     "name": "stdout",
     "output_type": "stream",
     "text": [
      "<class 'list'>\n"
     ]
    }
   ],
   "source": [
    "print(type(twice_list(list1)))"
   ]
  },
  {
   "cell_type": "code",
   "execution_count": 59,
   "id": "0522b9d5",
   "metadata": {},
   "outputs": [
    {
     "name": "stdout",
     "output_type": "stream",
     "text": [
      "2!:2\n",
      "3!:6\n"
     ]
    }
   ],
   "source": [
    "def factorial(n):\n",
    "\tresult = 1\n",
    "\tfor i in range(1,n+1):\n",
    "\t\tresult *= i\t\n",
    "\treturn result\n",
    "print(\"2!:{}\".format(factorial(2))) # 2\n",
    "print(\"3!:{}\".format(factorial(3))) # 6"
   ]
  },
  {
   "cell_type": "code",
   "execution_count": 60,
   "id": "292517bc",
   "metadata": {},
   "outputs": [
    {
     "name": "stdout",
     "output_type": "stream",
     "text": [
      "2!:2\n",
      "3!:6\n"
     ]
    }
   ],
   "source": [
    "def factorial(n):\n",
    "\tif n==0:\n",
    "\t\treturn 1\n",
    "\telse:\n",
    "\t\treturn n*factorial(n-1)\n",
    "print(\"2!:{}\".format(factorial(2))) # 2\n",
    "print(\"3!:{}\".format(factorial(3))) # 6\t"
   ]
  },
  {
   "cell_type": "code",
   "execution_count": 62,
   "id": "37900bc5",
   "metadata": {},
   "outputs": [
    {
     "name": "stdout",
     "output_type": "stream",
     "text": [
      "fibonacci(1):1\n",
      "fibonacci(2):1\n",
      "fibonacci(3):2\n",
      "fibonacci(4):3\n",
      "fibonacci(5):5\n",
      "fibonacci(6):8\n"
     ]
    }
   ],
   "source": [
    "def fibonacci(n):\n",
    "\tif n==1:\n",
    "\t\treturn 1\n",
    "\telif n==2:\n",
    "\t\treturn 1\n",
    "\telse:\n",
    "\t\treturn fibonacci(n-1) + fibonacci(n-2)\n",
    "\t\t\n",
    "print(\"fibonacci(1):{}\".format(fibonacci(1))) #1\n",
    "print(\"fibonacci(2):{}\".format(fibonacci(2))) #1\n",
    "print(\"fibonacci(3):{}\".format(fibonacci(3))) #2\n",
    "print(\"fibonacci(4):{}\".format(fibonacci(4))) #3\n",
    "print(\"fibonacci(5):{}\".format(fibonacci(5))) #5\n",
    "print(\"fibonacci(6):{}\".format(fibonacci(6))) #8"
   ]
  },
  {
   "cell_type": "code",
   "execution_count": 63,
   "id": "f74ab256",
   "metadata": {},
   "outputs": [
    {
     "name": "stdout",
     "output_type": "stream",
     "text": [
      "fibonacci(40) : 102334155\n"
     ]
    }
   ],
   "source": [
    "dict1 = {\n",
    "\t1:1, \n",
    "\t2:1\n",
    "}\n",
    "def fibonacci(n):\n",
    "\tif n in dict1:\n",
    "\t\treturn dict1[n]\n",
    "\telse:\n",
    "\t\tresult = fibonacci(n-1) + fibonacci(n-2)\n",
    "\t\tdict1[n] = result\n",
    "\t\treturn result\n",
    "\t\t\n",
    "print(\"fibonacci(40) : {}\".format(fibonacci(40)))"
   ]
  },
  {
   "cell_type": "code",
   "execution_count": 64,
   "id": "aacef81e",
   "metadata": {},
   "outputs": [],
   "source": [
    "list1 = [\n",
    "82,39,90,40,20,89,69,79,80,98,\n",
    "79,88,38,58,68,80,78,73,89,93,\n",
    "52,74,77,78,87,99,85,79,77,100,\n",
    "85,49,68,74,80,92,88,49,80,64\n",
    "]"
   ]
  },
  {
   "cell_type": "code",
   "execution_count": 65,
   "id": "15f890e0",
   "metadata": {},
   "outputs": [
    {
     "name": "stdout",
     "output_type": "stream",
     "text": [
      "40\n"
     ]
    }
   ],
   "source": [
    "# 표본 개수 세기\n",
    "import numpy as np\n",
    "\n",
    "data = np.array(list1)\n",
    "print(len(data)) # 40"
   ]
  },
  {
   "cell_type": "code",
   "execution_count": 66,
   "id": "803a03f2",
   "metadata": {},
   "outputs": [
    {
     "name": "stdout",
     "output_type": "stream",
     "text": [
      "74.175\n"
     ]
    }
   ],
   "source": [
    "# 2. 표본 평균 구하기\n",
    "print(np.mean(data)) "
   ]
  },
  {
   "cell_type": "code",
   "execution_count": 67,
   "id": "38d9e2e1",
   "metadata": {},
   "outputs": [
    {
     "name": "stdout",
     "output_type": "stream",
     "text": [
      "338.0455128205128\n",
      "18.386014054724118\n"
     ]
    }
   ],
   "source": [
    "print(np.var(data,ddof = 1))\n",
    "print(np.std(data,ddof = 1))"
   ]
  },
  {
   "cell_type": "code",
   "execution_count": 68,
   "id": "676762ef",
   "metadata": {},
   "outputs": [
    {
     "name": "stdout",
     "output_type": "stream",
     "text": [
      "79.0\n"
     ]
    }
   ],
   "source": [
    "print(np.median(data)) #"
   ]
  },
  {
   "cell_type": "code",
   "execution_count": 81,
   "id": "6bfc8851",
   "metadata": {},
   "outputs": [
    {
     "name": "stdout",
     "output_type": "stream",
     "text": [
      "74.0\n"
     ]
    }
   ],
   "source": [
    "print(np.median(data[4:8]))"
   ]
  },
  {
   "cell_type": "code",
   "execution_count": 87,
   "id": "15d24c61",
   "metadata": {},
   "outputs": [
    {
     "name": "stdout",
     "output_type": "stream",
     "text": [
      "[ 20  38  39  40  49  49  52  58  64  68  68  69  73  74  74  77  77  78\n",
      "  78  79  79  79  80  80  80  80  82  85  85  87  88  88  89  89  90  92\n",
      "  93  98  99 100]\n"
     ]
    }
   ],
   "source": [
    "print(data)"
   ]
  },
  {
   "cell_type": "code",
   "execution_count": 89,
   "id": "7e23c656",
   "metadata": {},
   "outputs": [
    {
     "name": "stdout",
     "output_type": "stream",
     "text": [
      "79.0\n",
      "38.0\n"
     ]
    }
   ],
   "source": [
    "# 4. 중앙값 구하기\n",
    "print(np.median(data)) #79.0\n",
    "\n",
    "print(np.median(data[0:3]))"
   ]
  },
  {
   "cell_type": "code",
   "execution_count": 90,
   "id": "b2f44c55",
   "metadata": {},
   "outputs": [
    {
     "name": "stdout",
     "output_type": "stream",
     "text": [
      "68.0\n",
      "79.0\n",
      "87.25\n"
     ]
    }
   ],
   "source": [
    "print(np.percentile(data, 25)) # 1분위수\n",
    "print(np.percentile(data, 50)) # 2분위수, 중앙값\n",
    "print(np.percentile(data, 75)) # 3분위수"
   ]
  },
  {
   "cell_type": "code",
   "execution_count": 91,
   "id": "f1e7f450",
   "metadata": {},
   "outputs": [
    {
     "name": "stdout",
     "output_type": "stream",
     "text": [
      "100\n",
      "20\n"
     ]
    }
   ],
   "source": [
    "# 6. 최대값과 최소값\n",
    "print(np.max(data)) #20\n",
    "print(np.min(data)) #100"
   ]
  },
  {
   "cell_type": "code",
   "execution_count": 92,
   "id": "70e5e7cb",
   "metadata": {},
   "outputs": [],
   "source": [
    "import pandas as pd\n",
    "url = \"https://raw.githubusercontent.com/sesillim/ai/main/New_Fish.csv\"\n",
    "data = pd.read_csv(url)"
   ]
  },
  {
   "cell_type": "code",
   "execution_count": 93,
   "id": "b0e9871e",
   "metadata": {},
   "outputs": [
    {
     "data": {
      "text/html": [
       "<div>\n",
       "<style scoped>\n",
       "    .dataframe tbody tr th:only-of-type {\n",
       "        vertical-align: middle;\n",
       "    }\n",
       "\n",
       "    .dataframe tbody tr th {\n",
       "        vertical-align: top;\n",
       "    }\n",
       "\n",
       "    .dataframe thead th {\n",
       "        text-align: right;\n",
       "    }\n",
       "</style>\n",
       "<table border=\"1\" class=\"dataframe\">\n",
       "  <thead>\n",
       "    <tr style=\"text-align: right;\">\n",
       "      <th></th>\n",
       "      <th>Weight</th>\n",
       "      <th>Length1</th>\n",
       "      <th>Length2</th>\n",
       "      <th>Length3</th>\n",
       "      <th>Height</th>\n",
       "      <th>Width</th>\n",
       "    </tr>\n",
       "  </thead>\n",
       "  <tbody>\n",
       "    <tr>\n",
       "      <th>0</th>\n",
       "      <td>242.0</td>\n",
       "      <td>23.2</td>\n",
       "      <td>25.4</td>\n",
       "      <td>30.0</td>\n",
       "      <td>11.5200</td>\n",
       "      <td>4.0200</td>\n",
       "    </tr>\n",
       "    <tr>\n",
       "      <th>1</th>\n",
       "      <td>290.0</td>\n",
       "      <td>24.0</td>\n",
       "      <td>26.3</td>\n",
       "      <td>31.2</td>\n",
       "      <td>12.4800</td>\n",
       "      <td>4.3056</td>\n",
       "    </tr>\n",
       "    <tr>\n",
       "      <th>2</th>\n",
       "      <td>340.0</td>\n",
       "      <td>23.9</td>\n",
       "      <td>26.5</td>\n",
       "      <td>31.1</td>\n",
       "      <td>12.3778</td>\n",
       "      <td>4.6961</td>\n",
       "    </tr>\n",
       "    <tr>\n",
       "      <th>3</th>\n",
       "      <td>363.0</td>\n",
       "      <td>26.3</td>\n",
       "      <td>29.0</td>\n",
       "      <td>33.5</td>\n",
       "      <td>12.7300</td>\n",
       "      <td>4.4555</td>\n",
       "    </tr>\n",
       "    <tr>\n",
       "      <th>4</th>\n",
       "      <td>430.0</td>\n",
       "      <td>26.5</td>\n",
       "      <td>29.0</td>\n",
       "      <td>34.0</td>\n",
       "      <td>12.4440</td>\n",
       "      <td>5.1340</td>\n",
       "    </tr>\n",
       "  </tbody>\n",
       "</table>\n",
       "</div>"
      ],
      "text/plain": [
       "   Weight  Length1  Length2  Length3   Height   Width\n",
       "0   242.0     23.2     25.4     30.0  11.5200  4.0200\n",
       "1   290.0     24.0     26.3     31.2  12.4800  4.3056\n",
       "2   340.0     23.9     26.5     31.1  12.3778  4.6961\n",
       "3   363.0     26.3     29.0     33.5  12.7300  4.4555\n",
       "4   430.0     26.5     29.0     34.0  12.4440  5.1340"
      ]
     },
     "execution_count": 93,
     "metadata": {},
     "output_type": "execute_result"
    }
   ],
   "source": [
    "data.head()"
   ]
  },
  {
   "cell_type": "code",
   "execution_count": 95,
   "id": "9e4882b2",
   "metadata": {},
   "outputs": [
    {
     "data": {
      "text/html": [
       "<div>\n",
       "<style scoped>\n",
       "    .dataframe tbody tr th:only-of-type {\n",
       "        vertical-align: middle;\n",
       "    }\n",
       "\n",
       "    .dataframe tbody tr th {\n",
       "        vertical-align: top;\n",
       "    }\n",
       "\n",
       "    .dataframe thead th {\n",
       "        text-align: right;\n",
       "    }\n",
       "</style>\n",
       "<table border=\"1\" class=\"dataframe\">\n",
       "  <thead>\n",
       "    <tr style=\"text-align: right;\">\n",
       "      <th></th>\n",
       "      <th>Weight</th>\n",
       "      <th>Length1</th>\n",
       "      <th>Length2</th>\n",
       "      <th>Length3</th>\n",
       "      <th>Height</th>\n",
       "      <th>Width</th>\n",
       "    </tr>\n",
       "  </thead>\n",
       "  <tbody>\n",
       "    <tr>\n",
       "      <th>count</th>\n",
       "      <td>159.000000</td>\n",
       "      <td>159.000000</td>\n",
       "      <td>159.000000</td>\n",
       "      <td>159.000000</td>\n",
       "      <td>159.000000</td>\n",
       "      <td>159.000000</td>\n",
       "    </tr>\n",
       "    <tr>\n",
       "      <th>mean</th>\n",
       "      <td>398.326415</td>\n",
       "      <td>26.247170</td>\n",
       "      <td>28.415723</td>\n",
       "      <td>31.227044</td>\n",
       "      <td>8.970994</td>\n",
       "      <td>4.417486</td>\n",
       "    </tr>\n",
       "    <tr>\n",
       "      <th>std</th>\n",
       "      <td>357.978317</td>\n",
       "      <td>9.996441</td>\n",
       "      <td>10.716328</td>\n",
       "      <td>11.610246</td>\n",
       "      <td>4.286208</td>\n",
       "      <td>1.685804</td>\n",
       "    </tr>\n",
       "    <tr>\n",
       "      <th>min</th>\n",
       "      <td>0.000000</td>\n",
       "      <td>7.500000</td>\n",
       "      <td>8.400000</td>\n",
       "      <td>8.800000</td>\n",
       "      <td>1.728400</td>\n",
       "      <td>1.047600</td>\n",
       "    </tr>\n",
       "    <tr>\n",
       "      <th>25%</th>\n",
       "      <td>120.000000</td>\n",
       "      <td>19.050000</td>\n",
       "      <td>21.000000</td>\n",
       "      <td>23.150000</td>\n",
       "      <td>5.944800</td>\n",
       "      <td>3.385650</td>\n",
       "    </tr>\n",
       "    <tr>\n",
       "      <th>50%</th>\n",
       "      <td>273.000000</td>\n",
       "      <td>25.200000</td>\n",
       "      <td>27.300000</td>\n",
       "      <td>29.400000</td>\n",
       "      <td>7.786000</td>\n",
       "      <td>4.248500</td>\n",
       "    </tr>\n",
       "    <tr>\n",
       "      <th>75%</th>\n",
       "      <td>650.000000</td>\n",
       "      <td>32.700000</td>\n",
       "      <td>35.500000</td>\n",
       "      <td>39.650000</td>\n",
       "      <td>12.365900</td>\n",
       "      <td>5.584500</td>\n",
       "    </tr>\n",
       "    <tr>\n",
       "      <th>max</th>\n",
       "      <td>1650.000000</td>\n",
       "      <td>59.000000</td>\n",
       "      <td>63.400000</td>\n",
       "      <td>68.000000</td>\n",
       "      <td>18.957000</td>\n",
       "      <td>8.142000</td>\n",
       "    </tr>\n",
       "  </tbody>\n",
       "</table>\n",
       "</div>"
      ],
      "text/plain": [
       "            Weight     Length1     Length2     Length3      Height       Width\n",
       "count   159.000000  159.000000  159.000000  159.000000  159.000000  159.000000\n",
       "mean    398.326415   26.247170   28.415723   31.227044    8.970994    4.417486\n",
       "std     357.978317    9.996441   10.716328   11.610246    4.286208    1.685804\n",
       "min       0.000000    7.500000    8.400000    8.800000    1.728400    1.047600\n",
       "25%     120.000000   19.050000   21.000000   23.150000    5.944800    3.385650\n",
       "50%     273.000000   25.200000   27.300000   29.400000    7.786000    4.248500\n",
       "75%     650.000000   32.700000   35.500000   39.650000   12.365900    5.584500\n",
       "max    1650.000000   59.000000   63.400000   68.000000   18.957000    8.142000"
      ]
     },
     "execution_count": 95,
     "metadata": {},
     "output_type": "execute_result"
    }
   ],
   "source": [
    "data.describe()"
   ]
  },
  {
   "cell_type": "code",
   "execution_count": 96,
   "id": "90a4df07",
   "metadata": {},
   "outputs": [
    {
     "data": {
      "text/html": [
       "<div>\n",
       "<style scoped>\n",
       "    .dataframe tbody tr th:only-of-type {\n",
       "        vertical-align: middle;\n",
       "    }\n",
       "\n",
       "    .dataframe tbody tr th {\n",
       "        vertical-align: top;\n",
       "    }\n",
       "\n",
       "    .dataframe thead th {\n",
       "        text-align: right;\n",
       "    }\n",
       "</style>\n",
       "<table border=\"1\" class=\"dataframe\">\n",
       "  <thead>\n",
       "    <tr style=\"text-align: right;\">\n",
       "      <th></th>\n",
       "      <th>Weight</th>\n",
       "      <th>Length1</th>\n",
       "      <th>Length2</th>\n",
       "      <th>Length3</th>\n",
       "      <th>Height</th>\n",
       "      <th>Width</th>\n",
       "    </tr>\n",
       "  </thead>\n",
       "  <tbody>\n",
       "    <tr>\n",
       "      <th>Weight</th>\n",
       "      <td>128148.475121</td>\n",
       "      <td>3276.882797</td>\n",
       "      <td>3524.013253</td>\n",
       "      <td>3836.368648</td>\n",
       "      <td>1111.413300</td>\n",
       "      <td>534.990098</td>\n",
       "    </tr>\n",
       "    <tr>\n",
       "      <th>Length1</th>\n",
       "      <td>3276.882797</td>\n",
       "      <td>99.928837</td>\n",
       "      <td>107.073431</td>\n",
       "      <td>115.136248</td>\n",
       "      <td>26.795457</td>\n",
       "      <td>14.611556</td>\n",
       "    </tr>\n",
       "    <tr>\n",
       "      <th>Length2</th>\n",
       "      <td>3524.013253</td>\n",
       "      <td>107.073431</td>\n",
       "      <td>114.839688</td>\n",
       "      <td>123.685458</td>\n",
       "      <td>29.416988</td>\n",
       "      <td>15.781169</td>\n",
       "    </tr>\n",
       "    <tr>\n",
       "      <th>Length3</th>\n",
       "      <td>3836.368648</td>\n",
       "      <td>115.136248</td>\n",
       "      <td>123.685458</td>\n",
       "      <td>134.797808</td>\n",
       "      <td>35.004389</td>\n",
       "      <td>17.194921</td>\n",
       "    </tr>\n",
       "    <tr>\n",
       "      <th>Height</th>\n",
       "      <td>1111.413300</td>\n",
       "      <td>26.795457</td>\n",
       "      <td>29.416988</td>\n",
       "      <td>35.004389</td>\n",
       "      <td>18.371576</td>\n",
       "      <td>5.729125</td>\n",
       "    </tr>\n",
       "    <tr>\n",
       "      <th>Width</th>\n",
       "      <td>534.990098</td>\n",
       "      <td>14.611556</td>\n",
       "      <td>15.781169</td>\n",
       "      <td>17.194921</td>\n",
       "      <td>5.729125</td>\n",
       "      <td>2.841935</td>\n",
       "    </tr>\n",
       "  </tbody>\n",
       "</table>\n",
       "</div>"
      ],
      "text/plain": [
       "                Weight      Length1      Length2      Length3       Height  \\\n",
       "Weight   128148.475121  3276.882797  3524.013253  3836.368648  1111.413300   \n",
       "Length1    3276.882797    99.928837   107.073431   115.136248    26.795457   \n",
       "Length2    3524.013253   107.073431   114.839688   123.685458    29.416988   \n",
       "Length3    3836.368648   115.136248   123.685458   134.797808    35.004389   \n",
       "Height     1111.413300    26.795457    29.416988    35.004389    18.371576   \n",
       "Width       534.990098    14.611556    15.781169    17.194921     5.729125   \n",
       "\n",
       "              Width  \n",
       "Weight   534.990098  \n",
       "Length1   14.611556  \n",
       "Length2   15.781169  \n",
       "Length3   17.194921  \n",
       "Height     5.729125  \n",
       "Width      2.841935  "
      ]
     },
     "execution_count": 96,
     "metadata": {},
     "output_type": "execute_result"
    }
   ],
   "source": [
    "data.cov(ddof=1)"
   ]
  },
  {
   "cell_type": "code",
   "execution_count": 98,
   "id": "da2366c9",
   "metadata": {},
   "outputs": [
    {
     "data": {
      "text/html": [
       "<div>\n",
       "<style scoped>\n",
       "    .dataframe tbody tr th:only-of-type {\n",
       "        vertical-align: middle;\n",
       "    }\n",
       "\n",
       "    .dataframe tbody tr th {\n",
       "        vertical-align: top;\n",
       "    }\n",
       "\n",
       "    .dataframe thead th {\n",
       "        text-align: right;\n",
       "    }\n",
       "</style>\n",
       "<table border=\"1\" class=\"dataframe\">\n",
       "  <thead>\n",
       "    <tr style=\"text-align: right;\">\n",
       "      <th></th>\n",
       "      <th>Weight</th>\n",
       "      <th>Length1</th>\n",
       "      <th>Length2</th>\n",
       "      <th>Length3</th>\n",
       "      <th>Height</th>\n",
       "      <th>Width</th>\n",
       "    </tr>\n",
       "  </thead>\n",
       "  <tbody>\n",
       "    <tr>\n",
       "      <th>Weight</th>\n",
       "      <td>1.000000</td>\n",
       "      <td>0.915712</td>\n",
       "      <td>0.918618</td>\n",
       "      <td>0.923044</td>\n",
       "      <td>0.724345</td>\n",
       "      <td>0.886507</td>\n",
       "    </tr>\n",
       "    <tr>\n",
       "      <th>Length1</th>\n",
       "      <td>0.915712</td>\n",
       "      <td>1.000000</td>\n",
       "      <td>0.999517</td>\n",
       "      <td>0.992031</td>\n",
       "      <td>0.625378</td>\n",
       "      <td>0.867050</td>\n",
       "    </tr>\n",
       "    <tr>\n",
       "      <th>Length2</th>\n",
       "      <td>0.918618</td>\n",
       "      <td>0.999517</td>\n",
       "      <td>1.000000</td>\n",
       "      <td>0.994103</td>\n",
       "      <td>0.640441</td>\n",
       "      <td>0.873547</td>\n",
       "    </tr>\n",
       "    <tr>\n",
       "      <th>Length3</th>\n",
       "      <td>0.923044</td>\n",
       "      <td>0.992031</td>\n",
       "      <td>0.994103</td>\n",
       "      <td>1.000000</td>\n",
       "      <td>0.703409</td>\n",
       "      <td>0.878520</td>\n",
       "    </tr>\n",
       "    <tr>\n",
       "      <th>Height</th>\n",
       "      <td>0.724345</td>\n",
       "      <td>0.625378</td>\n",
       "      <td>0.640441</td>\n",
       "      <td>0.703409</td>\n",
       "      <td>1.000000</td>\n",
       "      <td>0.792881</td>\n",
       "    </tr>\n",
       "    <tr>\n",
       "      <th>Width</th>\n",
       "      <td>0.886507</td>\n",
       "      <td>0.867050</td>\n",
       "      <td>0.873547</td>\n",
       "      <td>0.878520</td>\n",
       "      <td>0.792881</td>\n",
       "      <td>1.000000</td>\n",
       "    </tr>\n",
       "  </tbody>\n",
       "</table>\n",
       "</div>"
      ],
      "text/plain": [
       "           Weight   Length1   Length2   Length3    Height     Width\n",
       "Weight   1.000000  0.915712  0.918618  0.923044  0.724345  0.886507\n",
       "Length1  0.915712  1.000000  0.999517  0.992031  0.625378  0.867050\n",
       "Length2  0.918618  0.999517  1.000000  0.994103  0.640441  0.873547\n",
       "Length3  0.923044  0.992031  0.994103  1.000000  0.703409  0.878520\n",
       "Height   0.724345  0.625378  0.640441  0.703409  1.000000  0.792881\n",
       "Width    0.886507  0.867050  0.873547  0.878520  0.792881  1.000000"
      ]
     },
     "execution_count": 98,
     "metadata": {},
     "output_type": "execute_result"
    }
   ],
   "source": [
    "data.corr(method = 'pearson')"
   ]
  },
  {
   "cell_type": "code",
   "execution_count": 99,
   "id": "afa368a5",
   "metadata": {},
   "outputs": [],
   "source": [
    "import matplotlib.pyplot as plt\n",
    "%matplotlib inline\n",
    "\n",
    "list1 = [\n",
    "82,39,90,40,20,89,69,79,80,98,\n",
    "79,88,38,58,68,80,78,73,89,93,\n",
    "52,74,77,78,87,99,85,79,77,100,\n",
    "85,49,68,74,80,92,88,49,80,64\n",
    "]"
   ]
  },
  {
   "cell_type": "code",
   "execution_count": 100,
   "id": "c565f72b",
   "metadata": {},
   "outputs": [
    {
     "data": {
      "image/png": "[encoded data removed]",
      "text/plain": [
       "<Figure size 432x288 with 1 Axes>"
      ]
     },
     "metadata": {
      "needs_background": "light"
     },
     "output_type": "display_data"
    }
   ],
   "source": [
    "data = np.array(list1)\n",
    "\n",
    "plt.hist(data)\n",
    "plt.show()"
   ]
  },
  {
   "cell_type": "code",
   "execution_count": 101,
   "id": "23fc0bde",
   "metadata": {},
   "outputs": [
    {
     "data": {
      "image/png": "[encoded data removed]",
      "text/plain": [
       "<Figure size 432x288 with 1 Axes>"
      ]
     },
     "metadata": {
      "needs_background": "light"
     },
     "output_type": "display_data"
    }
   ],
   "source": [
    "plt.hist(data, bins = 20)\n",
    "plt.show()"
   ]
  },
  {
   "cell_type": "code",
   "execution_count": 102,
   "id": "016a7202",
   "metadata": {},
   "outputs": [
    {
     "data": {
      "image/png": "[encoded data removed]",
      "text/plain": [
       "<Figure size 432x288 with 1 Axes>"
      ]
     },
     "metadata": {
      "needs_background": "light"
     },
     "output_type": "display_data"
    }
   ],
   "source": [
    "plt.hist(data, bins = 5)\n",
    "plt.show()"
   ]
  },
  {
   "cell_type": "code",
   "execution_count": 103,
   "id": "8fd41c03",
   "metadata": {},
   "outputs": [
    {
     "data": {
      "image/png": "[encoded data removed]",
      "text/plain": [
       "<Figure size 432x288 with 1 Axes>"
      ]
     },
     "metadata": {
      "needs_background": "light"
     },
     "output_type": "display_data"
    }
   ],
   "source": [
    "plt.hist(data, bins = [0,17,34,51,68,85,102])\n",
    "plt.show()"
   ]
  },
  {
   "cell_type": "code",
   "execution_count": 104,
   "id": "ccac1bfa",
   "metadata": {},
   "outputs": [
    {
     "data": {
      "image/png": "[encoded data removed]",
      "text/plain": [
       "<Figure size 432x288 with 1 Axes>"
      ]
     },
     "metadata": {
      "needs_background": "light"
     },
     "output_type": "display_data"
    }
   ],
   "source": [
    "plt.hist(data, bins = [0,17,34,51,68,85,102], edgecolor = 'black')\n",
    "plt.show()"
   ]
  },
  {
   "cell_type": "code",
   "execution_count": 105,
   "id": "456e8806",
   "metadata": {},
   "outputs": [
    {
     "data": {
      "image/png": "[encoded data removed]",
      "text/plain": [
       "<Figure size 432x288 with 1 Axes>"
      ]
     },
     "metadata": {
      "needs_background": "light"
     },
     "output_type": "display_data"
    }
   ],
   "source": [
    "gender = [\"Male\", \"Female\"]\n",
    "frequency = [28,12]\n",
    "# 둘다 리스트로 저장\n",
    "plt.bar(gender, frequency)\n",
    "plt.show()"
   ]
  },
  {
   "cell_type": "code",
   "execution_count": 106,
   "id": "c6d60d9a",
   "metadata": {},
   "outputs": [
    {
     "data": {
      "image/png": "[encoded data removed]",
      "text/plain": [
       "<Figure size 432x288 with 1 Axes>"
      ]
     },
     "metadata": {
      "needs_background": "light"
     },
     "output_type": "display_data"
    }
   ],
   "source": [
    "plt.hist(data, bins = [0,17,34,51,68,85,102], edgecolor = 'red')\n",
    "plt.show()"
   ]
  },
  {
   "cell_type": "code",
   "execution_count": 107,
   "id": "a59ce9ff",
   "metadata": {},
   "outputs": [
    {
     "data": {
      "text/plain": [
       "Text(0, 0.5, 'Frequency')"
      ]
     },
     "execution_count": 107,
     "metadata": {},
     "output_type": "execute_result"
    },
    {
     "data": {
      "image/png": "[encoded data removed]",
      "text/plain": [
       "<Figure size 432x288 with 1 Axes>"
      ]
     },
     "metadata": {
      "needs_background": "light"
     },
     "output_type": "display_data"
    }
   ],
   "source": [
    "plt.bar(gender, frequency, width = 0.5)\n",
    "plt.xlabel(\"Gender\")\n",
    "plt.ylabel(\"Frequency\")"
   ]
  },
  {
   "cell_type": "code",
   "execution_count": 108,
   "id": "07dcbb83",
   "metadata": {},
   "outputs": [
    {
     "data": {
      "text/plain": [
       "Text(0, 0.5, 'Frequency')"
      ]
     },
     "execution_count": 108,
     "metadata": {},
     "output_type": "execute_result"
    },
    {
     "data": {
      "image/png": "[encoded data removed]",
      "text/plain": [
       "<Figure size 432x288 with 1 Axes>"
      ]
     },
     "metadata": {
      "needs_background": "light"
     },
     "output_type": "display_data"
    }
   ],
   "source": [
    "plt.bar(gender, frequency, width = 0.2)\n",
    "plt.xlabel(\"Gender\")\n",
    "plt.ylabel(\"Frequency\")"
   ]
  },
  {
   "cell_type": "code",
   "execution_count": 110,
   "id": "4bd18bd3",
   "metadata": {},
   "outputs": [
    {
     "data": {
      "image/png": "[encoded data removed]",
      "text/plain": [
       "<Figure size 432x288 with 1 Axes>"
      ]
     },
     "metadata": {
      "needs_background": "light"
     },
     "output_type": "display_data"
    }
   ],
   "source": [
    "plt.bar(gender, frequency, width = 2.0)\n",
    "plt.show()"
   ]
  },
  {
   "cell_type": "code",
   "execution_count": 111,
   "id": "1877a987",
   "metadata": {},
   "outputs": [
    {
     "data": {
      "image/png": "[encoded data removed]",
      "text/plain": [
       "<Figure size 432x288 with 1 Axes>"
      ]
     },
     "metadata": {},
     "output_type": "display_data"
    }
   ],
   "source": [
    "data = [28,12]\n",
    "plt.pie(data)\n",
    "plt.show()"
   ]
  },
  {
   "cell_type": "code",
   "execution_count": 113,
   "id": "1b7f183c",
   "metadata": {},
   "outputs": [
    {
     "data": {
      "image/png": "[encoded data removed]",
      "text/plain": [
       "<Figure size 432x288 with 1 Axes>"
      ]
     },
     "metadata": {},
     "output_type": "display_data"
    }
   ],
   "source": [
    "data=[28,12]\n",
    "label = ['Male','Female']\n",
    "plt.pie(data, labels = label, autopct = '%.1f%%')\n",
    "plt.legend('upper right')\n",
    "plt.show()"
   ]
  },
  {
   "cell_type": "code",
   "execution_count": 114,
   "id": "0c623294",
   "metadata": {},
   "outputs": [
    {
     "data": {
      "image/png": "[encoded data removed]",
      "text/plain": [
       "<Figure size 432x288 with 1 Axes>"
      ]
     },
     "metadata": {
      "needs_background": "light"
     },
     "output_type": "display_data"
    }
   ],
   "source": [
    "url = \"https://raw.githubusercontent.com/sesillim/ai/main/New_Fish.csv\"\n",
    "data = pd.read_csv(url)\n",
    "plt.plot('Length1', 'Width', data = data, ls = 'none', marker = 'o', markersize = 5, color = 'blue', alpha = 0.5)\n",
    "plt.xlabel('Length1')\n",
    "plt.ylabel('Width')\n",
    "plt.show()"
   ]
  },
  {
   "cell_type": "code",
   "execution_count": 115,
   "id": "cca12c1c",
   "metadata": {},
   "outputs": [
    {
     "data": {
      "image/png": "[encoded data removed]",
      "text/plain": [
       "<Figure size 432x288 with 1 Axes>"
      ]
     },
     "metadata": {
      "needs_background": "light"
     },
     "output_type": "display_data"
    }
   ],
   "source": [
    "url = \"https://raw.githubusercontent.com/sesillim/ai/main/New_Fish.csv\"\n",
    "data = pd.read_csv(url)\n",
    "data.plot.scatter(x = 'Length1', y = 'Width', s = 25, c = 'blue', alpha = 0.3)\n",
    "plt.xlabel('Length1')\n",
    "plt.ylabel('Width')\n",
    "plt.show()"
   ]
  },
  {
   "cell_type": "code",
   "execution_count": 116,
   "id": "bd4dce61",
   "metadata": {},
   "outputs": [
    {
     "name": "stdout",
     "output_type": "stream",
     "text": [
      "2\n",
      "6\n",
      "int32\n",
      "(2, 3)\n"
     ]
    }
   ],
   "source": [
    "import numpy as np\n",
    "\n",
    "a = np.array([\n",
    "    [1,2,3],\n",
    "    [4,5,6]\n",
    "])\n",
    "print(a.ndim) # 2\n",
    "print(a.size) # 6\n",
    "print(a.dtype) # int\n",
    "print(a.shape) #(2,3)"
   ]
  },
  {
   "cell_type": "code",
   "execution_count": 117,
   "id": "1d59f4f4",
   "metadata": {},
   "outputs": [
    {
     "name": "stdout",
     "output_type": "stream",
     "text": [
      "<class 'numpy.ndarray'>\n"
     ]
    }
   ],
   "source": [
    "print(type(a)) #numpy.ndarray"
   ]
  },
  {
   "cell_type": "code",
   "execution_count": 118,
   "id": "9be14799",
   "metadata": {},
   "outputs": [
    {
     "name": "stdout",
     "output_type": "stream",
     "text": [
      "1\n",
      "3\n",
      "int32\n",
      "(3,)\n",
      "2\n",
      "6\n",
      "int32\n",
      "(2, 3)\n",
      "<class 'numpy.ndarray'>\n"
     ]
    }
   ],
   "source": [
    "import numpy as np\n",
    "list1 = [1,2,3]\n",
    "list2 = [[1,2,3],[4,5,6]]\n",
    "a = np.array(list1)\n",
    "b = np.array(list2)\n",
    "\n",
    "print(a.ndim) # 1\n",
    "print(a.size) # 3\n",
    "print(a.dtype) # int\n",
    "print(a.shape) #(3)\n",
    "\n",
    "print(b.ndim) # 2\n",
    "print(b.size) # 6\n",
    "print(b.dtype) # int\n",
    "print(b.shape) #(2,3)\n",
    "print(type(a)) #numpy.ndarray"
   ]
  },
  {
   "cell_type": "code",
   "execution_count": 119,
   "id": "cbf80725",
   "metadata": {},
   "outputs": [
    {
     "name": "stdout",
     "output_type": "stream",
     "text": [
      "[[0. 0. 0.]\n",
      " [0. 0. 0.]]\n",
      "[[1. 1.]\n",
      " [1. 1.]]\n",
      "[[4 4 4]\n",
      " [4 4 4]]\n"
     ]
    },
    {
     "data": {
      "text/plain": [
       "'\\n[\\n[4,4,4],\\n[4,4,4]\\n]\\n'"
      ]
     },
     "execution_count": 119,
     "metadata": {},
     "output_type": "execute_result"
    }
   ],
   "source": [
    "a = np.zeros((2,3))\n",
    "b = np.ones((2,2))\n",
    "c = np.full((2,3),4)\n",
    "\n",
    "print(a)\n",
    "'''\n",
    "[\n",
    "[0,0,0],\n",
    "[0,0,0]\n",
    "]\n",
    "'''\n",
    "\n",
    "print(b)\n",
    "'''\n",
    "[\n",
    "[1,1],\n",
    "[1,1]\n",
    "]\n",
    "'''\n",
    "\n",
    "print(c)\n",
    "'''\n",
    "[\n",
    "[4,4,4],\n",
    "[4,4,4]\n",
    "]\n",
    "'''"
   ]
  },
  {
   "cell_type": "code",
   "execution_count": 121,
   "id": "16331c4d",
   "metadata": {},
   "outputs": [
    {
     "data": {
      "text/plain": [
       "numpy.float64"
      ]
     },
     "execution_count": 121,
     "metadata": {},
     "output_type": "execute_result"
    }
   ],
   "source": [
    "type(a[0][0])"
   ]
  },
  {
   "cell_type": "code",
   "execution_count": 122,
   "id": "164caa2c",
   "metadata": {},
   "outputs": [
    {
     "name": "stdout",
     "output_type": "stream",
     "text": [
      "[[1. 0.]\n",
      " [0. 1.]]\n",
      "[0 1 2 3 4 5 6 7 8 9]\n",
      "[  0.  25.  50.  75. 100.]\n"
     ]
    },
    {
     "data": {
      "text/plain": [
       "'\\n[0.,25.,50.,75.,100.]\\n'"
      ]
     },
     "execution_count": 122,
     "metadata": {},
     "output_type": "execute_result"
    }
   ],
   "source": [
    "a = np.eye(2)\n",
    "b = np.arange(10)\n",
    "c = np.linspace(0,100,5)\n",
    "\n",
    "print(a)\n",
    "'''\n",
    "[[1.,0.],\n",
    "[0.,1.]]\n",
    "'''\n",
    "\n",
    "print(b)\n",
    "'''\n",
    "[0,1,2,3,4,5,6,7,8,9]\n",
    "'''\n",
    "\n",
    "print(c)\n",
    "'''\n",
    "[0.,25.,50.,75.,100.]\n",
    "'''"
   ]
  },
  {
   "cell_type": "code",
   "execution_count": 128,
   "id": "0d8ff798",
   "metadata": {},
   "outputs": [],
   "source": [
    "d = np.arange(((3)))"
   ]
  },
  {
   "cell_type": "code",
   "execution_count": 129,
   "id": "f5a77ca7",
   "metadata": {},
   "outputs": [
    {
     "data": {
      "text/plain": [
       "array([0, 1, 2])"
      ]
     },
     "execution_count": 129,
     "metadata": {},
     "output_type": "execute_result"
    }
   ],
   "source": [
    "d"
   ]
  },
  {
   "cell_type": "code",
   "execution_count": 130,
   "id": "cdaef430",
   "metadata": {},
   "outputs": [
    {
     "name": "stdout",
     "output_type": "stream",
     "text": [
      "[[1. 0.]\n",
      " [0. 1.]]\n",
      "[0 1 2 3 4 5 6 7 8 9]\n",
      "[  0.  25.  50.  75. 100.]\n",
      "[10. 15. 20.]\n"
     ]
    },
    {
     "data": {
      "text/plain": [
       "'\\n[10.15.20]\\n'"
      ]
     },
     "execution_count": 130,
     "metadata": {},
     "output_type": "execute_result"
    }
   ],
   "source": [
    "a = np.eye(2)\n",
    "b = np.arange(10)\n",
    "c = np.linspace(0,100,5)\n",
    "d = np.linspace(10,20,3)\n",
    "print(a)\n",
    "'''\n",
    "[[1.,0.],\n",
    "[0.,1.]]\n",
    "'''\n",
    "\n",
    "print(b)\n",
    "'''\n",
    "[0,1,2,3,4,5,6,7,8,9]\n",
    "'''\n",
    "\n",
    "print(c)\n",
    "'''\n",
    "[0.,25.,50.,75.,100.]\n",
    "'''\n",
    "\n",
    "print(d)\n",
    "'''\n",
    "[10.15.20]\n",
    "'''\n"
   ]
  },
  {
   "cell_type": "code",
   "execution_count": 131,
   "id": "8190287f",
   "metadata": {},
   "outputs": [
    {
     "name": "stdout",
     "output_type": "stream",
     "text": [
      "3\n",
      "2\n",
      "2\n"
     ]
    }
   ],
   "source": [
    "a = np.array([\n",
    "[0,1,2,3],\n",
    "[2,3,4,5]\n",
    "])\n",
    "\n",
    "print(a[0][3]) #3\n",
    "print(a[1][0]) #2\n",
    "print(a[0][2]) #2"
   ]
  },
  {
   "cell_type": "code",
   "execution_count": 132,
   "id": "8d439f4a",
   "metadata": {},
   "outputs": [
    {
     "name": "stdout",
     "output_type": "stream",
     "text": [
      "[0 1 2 3]\n",
      "[1 5]\n",
      "[5 6 7]\n",
      "[[0 1]\n",
      " [4 5]]\n"
     ]
    }
   ],
   "source": [
    "a = np.array([\n",
    "[0,1,2,3],\n",
    "[4,5,6,7]\n",
    "])\n",
    "\n",
    "print(a[0,:]) # [0,1,2,3]\n",
    "print(a[:,1]) #[1, 5]\n",
    "print(a[1,1:]) # [5,6,7]\n",
    "print(a[:2,:2]) # [[0,1], [4,5]]"
   ]
  },
  {
   "cell_type": "code",
   "execution_count": 135,
   "id": "5672b2e6",
   "metadata": {},
   "outputs": [
    {
     "name": "stdout",
     "output_type": "stream",
     "text": [
      "[1, 2, 3, 4, 1, 2, 3, 4]\n",
      "<class 'list'>\n"
     ]
    }
   ],
   "source": [
    "list1 = [1,2,3,4]\n",
    "print(2*list1) # [1,2,3,4,1,2,3,4]\n",
    "print(type(2*list1))"
   ]
  },
  {
   "cell_type": "code",
   "execution_count": 136,
   "id": "61500b30",
   "metadata": {},
   "outputs": [
    {
     "name": "stdout",
     "output_type": "stream",
     "text": [
      "[2 4 6 8]\n",
      "<class 'numpy.ndarray'>\n"
     ]
    }
   ],
   "source": [
    "list_matrix = np.array(list1)\n",
    "print(2*list_matrix)\n",
    "print(type(2*list_matrix))"
   ]
  },
  {
   "cell_type": "code",
   "execution_count": 137,
   "id": "cb1fe98d",
   "metadata": {},
   "outputs": [
    {
     "name": "stdout",
     "output_type": "stream",
     "text": [
      "0     192\n",
      "1    3924\n",
      "2    5932\n",
      "dtype: int64\n"
     ]
    }
   ],
   "source": [
    "values = [192, 3924, 5932]\n",
    "a = pd.Series(values)\n",
    "print(a)"
   ]
  },
  {
   "cell_type": "code",
   "execution_count": 138,
   "id": "e39846b5",
   "metadata": {},
   "outputs": [
    {
     "name": "stdout",
     "output_type": "stream",
     "text": [
      "서울    1192\n",
      "부산    3924\n",
      "대전    5832\n",
      "dtype: int64\n"
     ]
    }
   ],
   "source": [
    "# 인덱스를 지정했을 경우\n",
    "values = [1192, 3924, 5832]\n",
    "indexes = ['서울','부산','대전']\n",
    "a = pd.Series(values, index = indexes)\n",
    "print(a)"
   ]
  },
  {
   "cell_type": "code",
   "execution_count": 139,
   "id": "99782fa4",
   "metadata": {},
   "outputs": [
    {
     "data": {
      "text/html": [
       "<div>\n",
       "<style scoped>\n",
       "    .dataframe tbody tr th:only-of-type {\n",
       "        vertical-align: middle;\n",
       "    }\n",
       "\n",
       "    .dataframe tbody tr th {\n",
       "        vertical-align: top;\n",
       "    }\n",
       "\n",
       "    .dataframe thead th {\n",
       "        text-align: right;\n",
       "    }\n",
       "</style>\n",
       "<table border=\"1\" class=\"dataframe\">\n",
       "  <thead>\n",
       "    <tr style=\"text-align: right;\">\n",
       "      <th></th>\n",
       "      <th>지역</th>\n",
       "      <th>2015</th>\n",
       "      <th>2010</th>\n",
       "      <th>2005</th>\n",
       "      <th>2000</th>\n",
       "    </tr>\n",
       "  </thead>\n",
       "  <tbody>\n",
       "    <tr>\n",
       "      <th>서울</th>\n",
       "      <td>수도권</td>\n",
       "      <td>9904212</td>\n",
       "      <td>8631482</td>\n",
       "      <td>9762546</td>\n",
       "      <td>9853972</td>\n",
       "    </tr>\n",
       "    <tr>\n",
       "      <th>부산</th>\n",
       "      <td>경상권</td>\n",
       "      <td>3448737</td>\n",
       "      <td>3393191</td>\n",
       "      <td>3512547</td>\n",
       "      <td>3655437</td>\n",
       "    </tr>\n",
       "    <tr>\n",
       "      <th>인천</th>\n",
       "      <td>수도권</td>\n",
       "      <td>2890451</td>\n",
       "      <td>2632035</td>\n",
       "      <td>2517680</td>\n",
       "      <td>2466338</td>\n",
       "    </tr>\n",
       "    <tr>\n",
       "      <th>대구</th>\n",
       "      <td>경상권</td>\n",
       "      <td>2466052</td>\n",
       "      <td>2431774</td>\n",
       "      <td>2456016</td>\n",
       "      <td>2473990</td>\n",
       "    </tr>\n",
       "  </tbody>\n",
       "</table>\n",
       "</div>"
      ],
      "text/plain": [
       "     지역     2015     2010     2005     2000\n",
       "서울  수도권  9904212  8631482  9762546  9853972\n",
       "부산  경상권  3448737  3393191  3512547  3655437\n",
       "인천  수도권  2890451  2632035  2517680  2466338\n",
       "대구  경상권  2466052  2431774  2456016  2473990"
      ]
     },
     "execution_count": 139,
     "metadata": {},
     "output_type": "execute_result"
    }
   ],
   "source": [
    "y2015 = [9904212, 3448737, 2890451, 2466052]\n",
    "y2010 = [8631482, 3393191, 2632035, 2431774]\n",
    "y2005 = [9762546, 3512547, 2517680, 2456016]\n",
    "y2000 = [9853972, 3655437, 2466338, 2473990]\n",
    "ratio = [0.0283, 0.0163, 0.0982, 0.0141]\n",
    "region = [\"수도권\", \"경상권\", \"수도권\", \"경상권\"]\n",
    "\n",
    "# 각 열의 이름을 딕셔너리로 만들어줌\n",
    "table = {\n",
    "\t\"지역\":region,\n",
    "\t\"2015\": y2015,\n",
    "\t\"2010\": y2010,\n",
    "\t\"2005\": y2005,\n",
    "\t\"2000\": y2000,\n",
    "}\n",
    "index = [\"서울\",\"부산\",\"인천\",\"대구\"]\n",
    "df = pd.DataFrame(table, index = index)\n",
    "df"
   ]
  },
  {
   "cell_type": "code",
   "execution_count": 140,
   "id": "5a1f4abd",
   "metadata": {},
   "outputs": [
    {
     "data": {
      "image/png": "[encoded data removed]",
      "text/plain": [
       "<Figure size 432x288 with 1 Axes>"
      ]
     },
     "metadata": {
      "needs_background": "light"
     },
     "output_type": "display_data"
    }
   ],
   "source": [
    "plt.title('Line plot')\n",
    "x = [10,20,30,40]\n",
    "y = [1,4,9,16]\n",
    "plt.plot(x,y)\n",
    "plt.xlabel('X axis')\n",
    "plt.ylabel('Y axis')\n",
    "plt.show()"
   ]
  },
  {
   "cell_type": "code",
   "execution_count": 142,
   "id": "48978eb7",
   "metadata": {},
   "outputs": [
    {
     "data": {
      "image/png": "[encoded data removed]",
      "text/plain": [
       "<Figure size 432x288 with 1 Axes>"
      ]
     },
     "metadata": {
      "needs_background": "light"
     },
     "output_type": "display_data"
    }
   ],
   "source": [
    "import matplotlib.pyplot as plt\n",
    "x = [i for i in range(9)]\n",
    "y = [2*i for i in range(9)]\n",
    "plt.scatter(x,y)\n",
    "plt.show()"
   ]
  },
  {
   "cell_type": "code",
   "execution_count": 144,
   "id": "300a63fc",
   "metadata": {},
   "outputs": [],
   "source": [
    "index = [\"England\",\"Belgium\"]\n",
    "city = [\"London\",\"Brussels\"]\n",
    "\n",
    "table = {\n",
    "    \"city\" : city\n",
    "}\n",
    "\n",
    "a = pd.DataFrame(table, index= index)"
   ]
  },
  {
   "cell_type": "code",
   "execution_count": 145,
   "id": "9da32cf1",
   "metadata": {},
   "outputs": [
    {
     "data": {
      "text/html": [
       "<div>\n",
       "<style scoped>\n",
       "    .dataframe tbody tr th:only-of-type {\n",
       "        vertical-align: middle;\n",
       "    }\n",
       "\n",
       "    .dataframe tbody tr th {\n",
       "        vertical-align: top;\n",
       "    }\n",
       "\n",
       "    .dataframe thead th {\n",
       "        text-align: right;\n",
       "    }\n",
       "</style>\n",
       "<table border=\"1\" class=\"dataframe\">\n",
       "  <thead>\n",
       "    <tr style=\"text-align: right;\">\n",
       "      <th></th>\n",
       "      <th>city</th>\n",
       "    </tr>\n",
       "  </thead>\n",
       "  <tbody>\n",
       "    <tr>\n",
       "      <th>England</th>\n",
       "      <td>London</td>\n",
       "    </tr>\n",
       "    <tr>\n",
       "      <th>Belgium</th>\n",
       "      <td>Brussels</td>\n",
       "    </tr>\n",
       "  </tbody>\n",
       "</table>\n",
       "</div>"
      ],
      "text/plain": [
       "             city\n",
       "England    London\n",
       "Belgium  Brussels"
      ]
     },
     "execution_count": 145,
     "metadata": {},
     "output_type": "execute_result"
    }
   ],
   "source": [
    "a"
   ]
  },
  {
   "cell_type": "code",
   "execution_count": 146,
   "id": "431c508d",
   "metadata": {},
   "outputs": [
    {
     "name": "stdout",
     "output_type": "stream",
     "text": [
      "6\n"
     ]
    }
   ],
   "source": [
    "a = 3\n",
    "def f():\n",
    "\tglobal a\n",
    "\ta += 3\n",
    "f()\n",
    "print(a) #6"
   ]
  },
  {
   "cell_type": "code",
   "execution_count": 147,
   "id": "352138da",
   "metadata": {},
   "outputs": [
    {
     "name": "stdout",
     "output_type": "stream",
     "text": [
      "3\n"
     ]
    }
   ],
   "source": [
    "a = 3\n",
    "def f():\n",
    "\tglobal a\n",
    "\ta += 3\n",
    "\n",
    "print(a) #6"
   ]
  },
  {
   "cell_type": "code",
   "execution_count": 148,
   "id": "3f09992b",
   "metadata": {},
   "outputs": [
    {
     "name": "stdout",
     "output_type": "stream",
     "text": [
      "4\n",
      "2\n"
     ]
    }
   ],
   "source": [
    "def plus(a,b):\n",
    "\treturn a+b\n",
    "def minus(a,b):\n",
    "\treturn a-b\n",
    "\n",
    "whole = [plus, minus]\n",
    "\n",
    "print(whole[0](1,3)) # 4\n",
    "print(whole[1](4,2)) # 2"
   ]
  },
  {
   "cell_type": "code",
   "execution_count": 150,
   "id": "94252fde",
   "metadata": {},
   "outputs": [
    {
     "ename": "TypeError",
     "evalue": "can't multiply sequence by non-int of type 'list'",
     "output_type": "error",
     "traceback": [
      "\u001b[1;31m---------------------------------------------------------------------------\u001b[0m",
      "\u001b[1;31mTypeError\u001b[0m                                 Traceback (most recent call last)",
      "Input \u001b[1;32mIn [150]\u001b[0m, in \u001b[0;36m<cell line: 2>\u001b[1;34m()\u001b[0m\n\u001b[0;32m      1\u001b[0m lsit \u001b[38;5;241m=\u001b[39m [\u001b[38;5;241m1\u001b[39m,\u001b[38;5;241m2\u001b[39m,\u001b[38;5;241m3\u001b[39m]\n\u001b[1;32m----> 2\u001b[0m \u001b[38;5;28mprint\u001b[39m(\u001b[43mlsit\u001b[49m\u001b[38;5;241;43m*\u001b[39;49m\u001b[43mlsit\u001b[49m)\n",
      "\u001b[1;31mTypeError\u001b[0m: can't multiply sequence by non-int of type 'list'"
     ]
    }
   ],
   "source": [
    "lsit = [1,2,3]\n",
    "print(lsit*lsit)"
   ]
  },
  {
   "cell_type": "code",
   "execution_count": 152,
   "id": "39c8aa49",
   "metadata": {},
   "outputs": [
    {
     "name": "stdout",
     "output_type": "stream",
     "text": [
      "[1, 4, 9, 16, 25]\n"
     ]
    }
   ],
   "source": [
    "def power(item):\n",
    "\t# 리스트끼리 곱하기는 불가능..\n",
    "\treturn item*item\n",
    "\n",
    "list1 = [1,2,3,4,5]\n",
    "list2 = map(power,list1)\n",
    "print(list(list2))"
   ]
  },
  {
   "cell_type": "code",
   "execution_count": 153,
   "id": "8544a488",
   "metadata": {},
   "outputs": [
    {
     "name": "stdout",
     "output_type": "stream",
     "text": [
      "<map object at 0x000001AC08D67310>\n"
     ]
    }
   ],
   "source": [
    "def power(item):\n",
    "\t# 리스트끼리 곱하기는 불가능..\n",
    "\treturn item*item\n",
    "\n",
    "list1 = [1,2,3,4,5]\n",
    "list2 = map(power,list1)\n",
    "print(list2)"
   ]
  },
  {
   "cell_type": "code",
   "execution_count": 154,
   "id": "1a88f47f",
   "metadata": {},
   "outputs": [
    {
     "name": "stdout",
     "output_type": "stream",
     "text": [
      "<map object at 0x000001AC08E17580>\n",
      "[1, 4, 9, 16, 25]\n"
     ]
    }
   ],
   "source": [
    "def power(item):\n",
    "\t# 리스트끼리 곱하기는 불가능..\n",
    "\treturn item*item\n",
    "\n",
    "list1 = [1,2,3,4,5]\n",
    "list2 = map(power,list1)\n",
    "print(list2) # <map object at 0x000001AC08D67310>\n",
    "print(list(list2)) # [1,4,9,16,25]"
   ]
  },
  {
   "cell_type": "code",
   "execution_count": 155,
   "id": "261efbdb",
   "metadata": {},
   "outputs": [
    {
     "name": "stdout",
     "output_type": "stream",
     "text": [
      "[1, 2]\n"
     ]
    }
   ],
   "source": [
    "def under_3(item):\n",
    "\treturn item < 3\n",
    "\n",
    "list1 = [1,2,3,4,5]\n",
    "list2 = filter(under_3, list1)\n",
    "print(list(list2))"
   ]
  },
  {
   "cell_type": "code",
   "execution_count": 156,
   "id": "52ac0f48",
   "metadata": {},
   "outputs": [
    {
     "name": "stdout",
     "output_type": "stream",
     "text": [
      "[1, 4, 9, 16, 25]\n"
     ]
    }
   ],
   "source": [
    "# map함수를 사용하는 경우\n",
    "def power(item):\n",
    "\treturn item*item\n",
    "list1 = [1,2,3,4,5]\n",
    "list2 = map(power, list1)\n",
    "print(list(list2))"
   ]
  },
  {
   "cell_type": "code",
   "execution_count": 157,
   "id": "dcabb507",
   "metadata": {},
   "outputs": [
    {
     "name": "stdout",
     "output_type": "stream",
     "text": [
      "[1, 4, 9, 16, 25]\n"
     ]
    }
   ],
   "source": [
    "# lambda를 사용하는 경우\n",
    "power = lambda x: x*x\n",
    "list1 = [1,2,3,4,5]\n",
    "list2 = map(power,list1)\n",
    "print(list(list2))"
   ]
  },
  {
   "cell_type": "code",
   "execution_count": 159,
   "id": "7454df19",
   "metadata": {},
   "outputs": [
    {
     "name": "stdout",
     "output_type": "stream",
     "text": [
      "[1, 4, 9, 16, 25]\n"
     ]
    }
   ],
   "source": [
    "# lambda를 사용하는 경우\n",
    "list1 = [1,2,3,4,5]\n",
    "list2 = map(lambda x:x**2, list1)\n",
    "print(list(list2))"
   ]
  },
  {
   "cell_type": "code",
   "execution_count": 160,
   "id": "103b76f7",
   "metadata": {},
   "outputs": [],
   "source": [
    "def add(a,b):\n",
    "    return a+b\n",
    "def sub(a,b):\n",
    "    return a-b"
   ]
  },
  {
   "cell_type": "code",
   "execution_count": 164,
   "id": "6a592d27",
   "metadata": {},
   "outputs": [
    {
     "name": "stdout",
     "output_type": "stream",
     "text": [
      "Writing cal.py\n"
     ]
    }
   ],
   "source": [
    "%%writefile cal.py\n",
    "def add(a,b):\n",
    "\treturn a+b\n",
    "def sub(a,b):\n",
    "\treturn a-b"
   ]
  },
  {
   "cell_type": "code",
   "execution_count": 165,
   "id": "6be0bff9",
   "metadata": {},
   "outputs": [
    {
     "name": "stdout",
     "output_type": "stream",
     "text": [
      "4\n"
     ]
    }
   ],
   "source": [
    "import cal\n",
    "print(cal.add(1,3)) #4"
   ]
  },
  {
   "cell_type": "code",
   "execution_count": 166,
   "id": "8501295f",
   "metadata": {},
   "outputs": [
    {
     "name": "stdout",
     "output_type": "stream",
     "text": [
      "4\n"
     ]
    }
   ],
   "source": [
    "# 2\n",
    "from cal import add\n",
    "print(add(1,3)) # 4"
   ]
  },
  {
   "cell_type": "code",
   "execution_count": 167,
   "id": "bfb28b63",
   "metadata": {},
   "outputs": [
    {
     "name": "stdout",
     "output_type": "stream",
     "text": [
      "4\n"
     ]
    }
   ],
   "source": [
    "# 3 as\n",
    "import cal as c\n",
    "print(c.add(1,3)) #4"
   ]
  },
  {
   "cell_type": "code",
   "execution_count": 168,
   "id": "eb9466d7",
   "metadata": {},
   "outputs": [
    {
     "name": "stdout",
     "output_type": "stream",
     "text": [
      "Writing test_module.py\n"
     ]
    }
   ],
   "source": [
    "%%writefile test_module.py\n",
    "\n",
    "print(\"모듈의 __name__ 출력하기\")\n",
    "print(__name__) # __main__"
   ]
  },
  {
   "cell_type": "code",
   "execution_count": 169,
   "id": "782d287f",
   "metadata": {},
   "outputs": [
    {
     "name": "stdout",
     "output_type": "stream",
     "text": [
      "모듈의 __name__ 출력하기\n",
      "test_module\n",
      "메인의 __name__ 출력하기\n",
      "__main__\n"
     ]
    }
   ],
   "source": [
    "import test_module\n",
    "\n",
    "print(\"메인의 __name__ 출력하기\")\n",
    "print(__name__)"
   ]
  },
  {
   "cell_type": "code",
   "execution_count": 173,
   "id": "99b1f60b",
   "metadata": {},
   "outputs": [
    {
     "name": "stdout",
     "output_type": "stream",
     "text": [
      "Overwriting subfile.py\n"
     ]
    }
   ],
   "source": [
    "%%writefile subfile.py\n",
    "\n",
    "def helloworld():\n",
    "\tprint(\"This is subfile\")\n",
    "    \n",
    "print(helloworld())"
   ]
  },
  {
   "cell_type": "code",
   "execution_count": 174,
   "id": "0ae0d756",
   "metadata": {},
   "outputs": [
    {
     "name": "stdout",
     "output_type": "stream",
     "text": [
      "This is subfile\n",
      "None\n"
     ]
    }
   ],
   "source": [
    "import subfile\n",
    "\n",
    "print(subfile.helloworld())"
   ]
  },
  {
   "cell_type": "code",
   "execution_count": 175,
   "id": "4d6afcfd",
   "metadata": {},
   "outputs": [
    {
     "name": "stdout",
     "output_type": "stream",
     "text": [
      "Writing call.py\n"
     ]
    }
   ],
   "source": [
    "%%writefile call.py\n",
    "def add(a,b):\n",
    "    return a+b\n",
    "def sub(a,b):\n",
    "    return a-b\n",
    "print(\"add(1,3):\", add(1,3))\n",
    "print(\"sub(1,3):\", sub(1,3))"
   ]
  },
  {
   "cell_type": "code",
   "execution_count": 177,
   "id": "133f4b10",
   "metadata": {},
   "outputs": [
    {
     "name": "stdout",
     "output_type": "stream",
     "text": [
      "add(1,3): 4\n",
      "sub(1,3): -2\n",
      "3\n",
      "-1\n"
     ]
    }
   ],
   "source": [
    "import call as c\n",
    "print(c.add(1,2))\n",
    "print(c.sub(1,2))"
   ]
  },
  {
   "cell_type": "code",
   "execution_count": 178,
   "id": "61568643",
   "metadata": {},
   "outputs": [
    {
     "data": {
      "text/plain": [
       "0.8339188396964027"
      ]
     },
     "execution_count": 178,
     "metadata": {},
     "output_type": "execute_result"
    }
   ],
   "source": [
    "import random\n",
    "random.random()\n",
    "# 0.0과 1.0 사이의 랜덤한 float "
   ]
  },
  {
   "cell_type": "code",
   "execution_count": 179,
   "id": "b3bfe79c",
   "metadata": {},
   "outputs": [
    {
     "data": {
      "text/plain": [
       "1.339443625971149"
      ]
     },
     "execution_count": 179,
     "metadata": {},
     "output_type": "execute_result"
    }
   ],
   "source": [
    "random.uniform(0,2)\n",
    "# 0.0과 1.0사이의 랜덤한 float 반환"
   ]
  },
  {
   "cell_type": "code",
   "execution_count": 183,
   "id": "056b1fea",
   "metadata": {},
   "outputs": [
    {
     "ename": "TypeError",
     "evalue": "choice() takes 2 positional arguments but 3 were given",
     "output_type": "error",
     "traceback": [
      "\u001b[1;31m---------------------------------------------------------------------------\u001b[0m",
      "\u001b[1;31mTypeError\u001b[0m                                 Traceback (most recent call last)",
      "Input \u001b[1;32mIn [183]\u001b[0m, in \u001b[0;36m<cell line: 2>\u001b[1;34m()\u001b[0m\n\u001b[0;32m      1\u001b[0m list1 \u001b[38;5;241m=\u001b[39m [\u001b[38;5;241m3\u001b[39m,\u001b[38;5;241m2\u001b[39m,\u001b[38;5;241m4\u001b[39m,\u001b[38;5;241m1\u001b[39m,\u001b[38;5;241m5\u001b[39m]\n\u001b[1;32m----> 2\u001b[0m \u001b[43mrandom\u001b[49m\u001b[38;5;241;43m.\u001b[39;49m\u001b[43mchoice\u001b[49m\u001b[43m(\u001b[49m\u001b[43mlist1\u001b[49m\u001b[43m,\u001b[49m\u001b[38;5;241;43m2.3\u001b[39;49m\u001b[43m)\u001b[49m\n",
      "\u001b[1;31mTypeError\u001b[0m: choice() takes 2 positional arguments but 3 were given"
     ]
    }
   ],
   "source": [
    "list1 = [3,2,4,1,5]\n",
    "random.choice(list1,2.3)"
   ]
  },
  {
   "cell_type": "code",
   "execution_count": 186,
   "id": "9c904f23",
   "metadata": {},
   "outputs": [
    {
     "data": {
      "text/plain": [
       "[3, 6, 1, 5, 2, 7, 4]"
      ]
     },
     "execution_count": 186,
     "metadata": {},
     "output_type": "execute_result"
    }
   ],
   "source": [
    "list1 = [1,2,3,4,5,6,7]\n",
    "random.shuffle(list1)\n",
    "#list1을 섞는다.\n",
    "list1"
   ]
  },
  {
   "cell_type": "code",
   "execution_count": 187,
   "id": "c50b5072",
   "metadata": {},
   "outputs": [
    {
     "data": {
      "text/plain": [
       "[3, 65, 1, 3, 2]"
      ]
     },
     "execution_count": 187,
     "metadata": {},
     "output_type": "execute_result"
    }
   ],
   "source": [
    "list1 = [1,2,3,45,1,3,65,]\n",
    "random.sample(list1, 5)\n",
    "# list1에서 5개를 뽑는다."
   ]
  },
  {
   "cell_type": "code",
   "execution_count": 189,
   "id": "fab74b7e",
   "metadata": {},
   "outputs": [
    {
     "name": "stdout",
     "output_type": "stream",
     "text": [
      "Writing testing/first.py\n"
     ]
    }
   ],
   "source": [
    "%%writefile testing/first.py\n",
    "var_a = \"a입니다.\""
   ]
  },
  {
   "cell_type": "code",
   "execution_count": 190,
   "id": "4c565b65",
   "metadata": {},
   "outputs": [
    {
     "name": "stdout",
     "output_type": "stream",
     "text": [
      "Writing testing/second.py\n"
     ]
    }
   ],
   "source": [
    "%%writefile testing/second.py\n",
    "var_b = \"b입니다.\""
   ]
  },
  {
   "cell_type": "code",
   "execution_count": 191,
   "id": "00fc6a5c",
   "metadata": {},
   "outputs": [
    {
     "name": "stdout",
     "output_type": "stream",
     "text": [
      "Writing testing/third.py\n"
     ]
    }
   ],
   "source": [
    "%%writefile testing/third.py\n",
    "var_c = \"c입니다.\""
   ]
  },
  {
   "cell_type": "code",
   "execution_count": 192,
   "id": "49ad3cb4",
   "metadata": {},
   "outputs": [
    {
     "name": "stdout",
     "output_type": "stream",
     "text": [
      "a입니다.\n",
      "b입니다.\n",
      "c입니다.\n"
     ]
    }
   ],
   "source": [
    "import testing.first as a\n",
    "import testing.second as b\n",
    "import testing.third as c\n",
    "\n",
    "print(a.var_a)\n",
    "print(b.var_b)\n",
    "print(c.var_c)"
   ]
  },
  {
   "cell_type": "code",
   "execution_count": 7,
   "id": "03a7c6b5",
   "metadata": {},
   "outputs": [
    {
     "name": "stdout",
     "output_type": "stream",
     "text": [
      "Overwriting testing/__init__.py\n"
     ]
    }
   ],
   "source": [
    "%%writefile testing/__init__.py\n",
    "\n",
    "__all__ = [\"first\", \"second\"]"
   ]
  },
  {
   "cell_type": "code",
   "execution_count": 9,
   "id": "87daa86a",
   "metadata": {},
   "outputs": [
    {
     "name": "stdout",
     "output_type": "stream",
     "text": [
      "a입니다.\n",
      "b입니다.\n"
     ]
    },
    {
     "ename": "NameError",
     "evalue": "name 'third' is not defined",
     "output_type": "error",
     "traceback": [
      "\u001b[1;31m---------------------------------------------------------------------------\u001b[0m",
      "\u001b[1;31mNameError\u001b[0m                                 Traceback (most recent call last)",
      "Input \u001b[1;32mIn [9]\u001b[0m, in \u001b[0;36m<cell line: 6>\u001b[1;34m()\u001b[0m\n\u001b[0;32m      4\u001b[0m \u001b[38;5;28mprint\u001b[39m(first\u001b[38;5;241m.\u001b[39mvar_a)\n\u001b[0;32m      5\u001b[0m \u001b[38;5;28mprint\u001b[39m(second\u001b[38;5;241m.\u001b[39mvar_b)\n\u001b[1;32m----> 6\u001b[0m \u001b[38;5;28mprint\u001b[39m(\u001b[43mthird\u001b[49m\u001b[38;5;241m.\u001b[39mvar_c)\n",
      "\u001b[1;31mNameError\u001b[0m: name 'third' is not defined"
     ]
    }
   ],
   "source": [
    "import testing\n",
    "from testing import *\n",
    "\n",
    "print(first.var_a)\n",
    "print(second.var_b)\n",
    "print(third.var_c)"
   ]
  },
  {
   "cell_type": "code",
   "execution_count": 6,
   "id": "905b9e4d",
   "metadata": {},
   "outputs": [
    {
     "ename": "NameError",
     "evalue": "name 'first' is not defined",
     "output_type": "error",
     "traceback": [
      "\u001b[1;31m---------------------------------------------------------------------------\u001b[0m",
      "\u001b[1;31mNameError\u001b[0m                                 Traceback (most recent call last)",
      "Input \u001b[1;32mIn [6]\u001b[0m, in \u001b[0;36m<cell line: 1>\u001b[1;34m()\u001b[0m\n\u001b[1;32m----> 1\u001b[0m \u001b[38;5;28;01mfrom\u001b[39;00m \u001b[38;5;21;01mtesting\u001b[39;00m \u001b[38;5;28;01mimport\u001b[39;00m first\n\u001b[0;32m      2\u001b[0m testing\u001b[38;5;241m.\u001b[39mfirst\u001b[38;5;241m.\u001b[39ma\n",
      "File \u001b[1;32mH:\\내 드라이브\\Study\\python_studying\\basic\\testing\\__init__.py:2\u001b[0m, in \u001b[0;36m<module>\u001b[1;34m\u001b[0m\n\u001b[1;32m----> 2\u001b[0m __all__ \u001b[38;5;241m=\u001b[39m [\u001b[43mfirst\u001b[49m, second]\n",
      "\u001b[1;31mNameError\u001b[0m: name 'first' is not defined"
     ]
    }
   ],
   "source": [
    "from testing import first\n",
    "testing.first.a"
   ]
  },
  {
   "cell_type": "code",
   "execution_count": 11,
   "id": "685f4e30",
   "metadata": {},
   "outputs": [
    {
     "name": "stdout",
     "output_type": "stream",
     "text": [
      "a입니다.\n"
     ]
    }
   ],
   "source": [
    "from testing import first as a\n",
    "print(a.var_a)"
   ]
  },
  {
   "cell_type": "code",
   "execution_count": null,
   "id": "750127b0",
   "metadata": {},
   "outputs": [],
   "source": []
  }
 ],
 "metadata": {
  "kernelspec": {
   "display_name": "Python 3 (ipykernel)",
   "language": "python",
   "name": "python3"
  },
  "language_info": {
   "codemirror_mode": {
    "name": "ipython",
    "version": 3
   },
   "file_extension": ".py",
   "mimetype": "text/x-python",
   "name": "python",
   "nbconvert_exporter": "python",
   "pygments_lexer": "ipython3",
   "version": "3.9.12"
  }
 },
 "nbformat": 4,
 "nbformat_minor": 5
}
